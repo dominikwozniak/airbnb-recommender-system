{
  "nbformat": 4,
  "nbformat_minor": 0,
  "metadata": {
    "colab": {
      "name": "Ottawa-airbnb-scaler.ipynb",
      "provenance": []
    },
    "kernelspec": {
      "name": "python3",
      "display_name": "Python 3"
    }
  },
  "cells": [
    {
      "cell_type": "code",
      "metadata": {
        "id": "UtrYdHjJZR48"
      },
      "source": [
        "import numpy as np\n",
        "import pandas as pd\n",
        "import plotly.express as px\n",
        "import plotly.graph_objects as go\n",
        "from matplotlib import pyplot as plt\n",
        "import re\n",
        "from IPython.display import Image\n",
        "\n",
        "plt.style.use('fivethirtyeight')"
      ],
      "execution_count": null,
      "outputs": []
    },
    {
      "cell_type": "code",
      "metadata": {
        "id": "yJPRyhoBZcP1"
      },
      "source": [
        "DATA_URL = 'https://ids-storage-football-prediction.s3-eu-west-1.amazonaws.com/data_mmwd/listings_polarity_distance.csv'"
      ],
      "execution_count": null,
      "outputs": []
    },
    {
      "cell_type": "code",
      "metadata": {
        "id": "jfa-P6nxZdvy"
      },
      "source": [
        "df = pd.read_csv(DATA_URL, index_col='Unnamed: 0')"
      ],
      "execution_count": null,
      "outputs": []
    },
    {
      "cell_type": "code",
      "metadata": {
        "colab": {
          "base_uri": "https://localhost:8080/",
          "height": 293
        },
        "id": "_w14wFJeZeyE",
        "outputId": "28ef0a3d-41e9-403e-ae64-3b69b68bb98b"
      },
      "source": [
        "df.head()"
      ],
      "execution_count": null,
      "outputs": [
        {
          "output_type": "execute_result",
          "data": {
            "text/html": [
              "<div>\n",
              "<style scoped>\n",
              "    .dataframe tbody tr th:only-of-type {\n",
              "        vertical-align: middle;\n",
              "    }\n",
              "\n",
              "    .dataframe tbody tr th {\n",
              "        vertical-align: top;\n",
              "    }\n",
              "\n",
              "    .dataframe thead th {\n",
              "        text-align: right;\n",
              "    }\n",
              "</style>\n",
              "<table border=\"1\" class=\"dataframe\">\n",
              "  <thead>\n",
              "    <tr style=\"text-align: right;\">\n",
              "      <th></th>\n",
              "      <th>id</th>\n",
              "      <th>name</th>\n",
              "      <th>description</th>\n",
              "      <th>latitude</th>\n",
              "      <th>longitude</th>\n",
              "      <th>room_type</th>\n",
              "      <th>accommodates</th>\n",
              "      <th>bathrooms</th>\n",
              "      <th>bedrooms</th>\n",
              "      <th>beds</th>\n",
              "      <th>price</th>\n",
              "      <th>number_of_reviews</th>\n",
              "      <th>polarity</th>\n",
              "      <th>distance</th>\n",
              "    </tr>\n",
              "  </thead>\n",
              "  <tbody>\n",
              "    <tr>\n",
              "      <th>0</th>\n",
              "      <td>36642</td>\n",
              "      <td>City Conveniences A Country Setting</td>\n",
              "      <td>&lt;b&gt;The space&lt;/b&gt;&lt;br /&gt;Are you planning a vacat...</td>\n",
              "      <td>45.40159</td>\n",
              "      <td>-75.74679</td>\n",
              "      <td>Private room</td>\n",
              "      <td>2</td>\n",
              "      <td>2</td>\n",
              "      <td>1</td>\n",
              "      <td>1</td>\n",
              "      <td>65.0</td>\n",
              "      <td>87</td>\n",
              "      <td>0.8070</td>\n",
              "      <td>3.177358</td>\n",
              "    </tr>\n",
              "    <tr>\n",
              "      <th>1</th>\n",
              "      <td>59258</td>\n",
              "      <td>Lower level of my house to rent</td>\n",
              "      <td>Lower 1/2 of bungalow, a separate entrance, 10...</td>\n",
              "      <td>45.35900</td>\n",
              "      <td>-75.80314</td>\n",
              "      <td>Entire home/apt</td>\n",
              "      <td>4</td>\n",
              "      <td>1</td>\n",
              "      <td>1</td>\n",
              "      <td>1</td>\n",
              "      <td>200.0</td>\n",
              "      <td>1</td>\n",
              "      <td>0.9850</td>\n",
              "      <td>9.620935</td>\n",
              "    </tr>\n",
              "    <tr>\n",
              "      <th>2</th>\n",
              "      <td>158824</td>\n",
              "      <td>DOWNTOWN/GLEBE HOUSE WITH BACKYARD</td>\n",
              "      <td>Big 3 bedroom house with backyard in desirable...</td>\n",
              "      <td>45.40248</td>\n",
              "      <td>-75.69941</td>\n",
              "      <td>Entire home/apt</td>\n",
              "      <td>3</td>\n",
              "      <td>1</td>\n",
              "      <td>2</td>\n",
              "      <td>2</td>\n",
              "      <td>140.0</td>\n",
              "      <td>7</td>\n",
              "      <td>0.7430</td>\n",
              "      <td>2.194104</td>\n",
              "    </tr>\n",
              "    <tr>\n",
              "      <th>3</th>\n",
              "      <td>261065</td>\n",
              "      <td>Westboro Village Executive Suite</td>\n",
              "      <td>A tastefully decorated and well equipped upper...</td>\n",
              "      <td>45.38972</td>\n",
              "      <td>-75.75496</td>\n",
              "      <td>Entire home/apt</td>\n",
              "      <td>4</td>\n",
              "      <td>1</td>\n",
              "      <td>1</td>\n",
              "      <td>1</td>\n",
              "      <td>150.0</td>\n",
              "      <td>64</td>\n",
              "      <td>0.8304</td>\n",
              "      <td>4.537074</td>\n",
              "    </tr>\n",
              "    <tr>\n",
              "      <th>4</th>\n",
              "      <td>336692</td>\n",
              "      <td>Quiet Room with a view in the Ottawa Downtown</td>\n",
              "      <td>Renting only to females. Modern condo with pan...</td>\n",
              "      <td>45.41557</td>\n",
              "      <td>-75.70551</td>\n",
              "      <td>Private room</td>\n",
              "      <td>5</td>\n",
              "      <td>1</td>\n",
              "      <td>1</td>\n",
              "      <td>1</td>\n",
              "      <td>69.0</td>\n",
              "      <td>9</td>\n",
              "      <td>0.9537</td>\n",
              "      <td>0.813145</td>\n",
              "    </tr>\n",
              "  </tbody>\n",
              "</table>\n",
              "</div>"
            ],
            "text/plain": [
              "       id                                           name  ... polarity  distance\n",
              "0   36642            City Conveniences A Country Setting  ...   0.8070  3.177358\n",
              "1   59258                Lower level of my house to rent  ...   0.9850  9.620935\n",
              "2  158824             DOWNTOWN/GLEBE HOUSE WITH BACKYARD  ...   0.7430  2.194104\n",
              "3  261065               Westboro Village Executive Suite  ...   0.8304  4.537074\n",
              "4  336692  Quiet Room with a view in the Ottawa Downtown  ...   0.9537  0.813145\n",
              "\n",
              "[5 rows x 14 columns]"
            ]
          },
          "metadata": {
            "tags": []
          },
          "execution_count": 13
        }
      ]
    },
    {
      "cell_type": "code",
      "metadata": {
        "id": "McJK0OmkZfuz"
      },
      "source": [
        "from sklearn.preprocessing import MinMaxScaler\n",
        "\n",
        "scaler = MinMaxScaler()\n",
        "df['scaled_distance'] = scaler.fit_transform(1 / df[['distance']])\n",
        "\n",
        "scaler = MinMaxScaler()\n",
        "df['scaled_number_of_reviews'] = scaler.fit_transform(df[['number_of_reviews']])\n",
        "\n",
        "scaler = MinMaxScaler()\n",
        "df['scaled_polarity'] = scaler.fit_transform(df[['polarity']])"
      ],
      "execution_count": null,
      "outputs": []
    },
    {
      "cell_type": "code",
      "metadata": {
        "colab": {
          "base_uri": "https://localhost:8080/",
          "height": 504
        },
        "id": "Hts5yAeuZhzX",
        "outputId": "a39feb0f-5bcf-4bd5-c746-044c5485dd7e"
      },
      "source": [
        "df.head()"
      ],
      "execution_count": null,
      "outputs": [
        {
          "output_type": "execute_result",
          "data": {
            "text/html": [
              "<div>\n",
              "<style scoped>\n",
              "    .dataframe tbody tr th:only-of-type {\n",
              "        vertical-align: middle;\n",
              "    }\n",
              "\n",
              "    .dataframe tbody tr th {\n",
              "        vertical-align: top;\n",
              "    }\n",
              "\n",
              "    .dataframe thead th {\n",
              "        text-align: right;\n",
              "    }\n",
              "</style>\n",
              "<table border=\"1\" class=\"dataframe\">\n",
              "  <thead>\n",
              "    <tr style=\"text-align: right;\">\n",
              "      <th></th>\n",
              "      <th>id</th>\n",
              "      <th>name</th>\n",
              "      <th>description</th>\n",
              "      <th>latitude</th>\n",
              "      <th>longitude</th>\n",
              "      <th>room_type</th>\n",
              "      <th>accommodates</th>\n",
              "      <th>bathrooms</th>\n",
              "      <th>bedrooms</th>\n",
              "      <th>beds</th>\n",
              "      <th>price</th>\n",
              "      <th>number_of_reviews</th>\n",
              "      <th>polarity</th>\n",
              "      <th>distance</th>\n",
              "      <th>scaled_distance</th>\n",
              "      <th>scaled_number_of_reviews</th>\n",
              "      <th>scaled_polarity</th>\n",
              "    </tr>\n",
              "  </thead>\n",
              "  <tbody>\n",
              "    <tr>\n",
              "      <th>0</th>\n",
              "      <td>36642</td>\n",
              "      <td>City Conveniences A Country Setting</td>\n",
              "      <td>&lt;b&gt;The space&lt;/b&gt;&lt;br /&gt;Are you planning a vacat...</td>\n",
              "      <td>45.40159</td>\n",
              "      <td>-75.74679</td>\n",
              "      <td>Private room</td>\n",
              "      <td>2</td>\n",
              "      <td>2</td>\n",
              "      <td>1</td>\n",
              "      <td>1</td>\n",
              "      <td>65.0</td>\n",
              "      <td>87</td>\n",
              "      <td>0.8070</td>\n",
              "      <td>3.177358</td>\n",
              "      <td>0.099113</td>\n",
              "      <td>0.182979</td>\n",
              "      <td>0.892230</td>\n",
              "    </tr>\n",
              "    <tr>\n",
              "      <th>1</th>\n",
              "      <td>59258</td>\n",
              "      <td>Lower level of my house to rent</td>\n",
              "      <td>Lower 1/2 of bungalow, a separate entrance, 10...</td>\n",
              "      <td>45.35900</td>\n",
              "      <td>-75.80314</td>\n",
              "      <td>Entire home/apt</td>\n",
              "      <td>4</td>\n",
              "      <td>1</td>\n",
              "      <td>1</td>\n",
              "      <td>1</td>\n",
              "      <td>200.0</td>\n",
              "      <td>1</td>\n",
              "      <td>0.9850</td>\n",
              "      <td>9.620935</td>\n",
              "      <td>0.028027</td>\n",
              "      <td>0.000000</td>\n",
              "      <td>0.992090</td>\n",
              "    </tr>\n",
              "    <tr>\n",
              "      <th>2</th>\n",
              "      <td>158824</td>\n",
              "      <td>DOWNTOWN/GLEBE HOUSE WITH BACKYARD</td>\n",
              "      <td>Big 3 bedroom house with backyard in desirable...</td>\n",
              "      <td>45.40248</td>\n",
              "      <td>-75.69941</td>\n",
              "      <td>Entire home/apt</td>\n",
              "      <td>3</td>\n",
              "      <td>1</td>\n",
              "      <td>2</td>\n",
              "      <td>2</td>\n",
              "      <td>140.0</td>\n",
              "      <td>7</td>\n",
              "      <td>0.7430</td>\n",
              "      <td>2.194104</td>\n",
              "      <td>0.146677</td>\n",
              "      <td>0.012766</td>\n",
              "      <td>0.856325</td>\n",
              "    </tr>\n",
              "    <tr>\n",
              "      <th>3</th>\n",
              "      <td>261065</td>\n",
              "      <td>Westboro Village Executive Suite</td>\n",
              "      <td>A tastefully decorated and well equipped upper...</td>\n",
              "      <td>45.38972</td>\n",
              "      <td>-75.75496</td>\n",
              "      <td>Entire home/apt</td>\n",
              "      <td>4</td>\n",
              "      <td>1</td>\n",
              "      <td>1</td>\n",
              "      <td>1</td>\n",
              "      <td>150.0</td>\n",
              "      <td>64</td>\n",
              "      <td>0.8304</td>\n",
              "      <td>4.537074</td>\n",
              "      <td>0.067304</td>\n",
              "      <td>0.134043</td>\n",
              "      <td>0.905358</td>\n",
              "    </tr>\n",
              "    <tr>\n",
              "      <th>4</th>\n",
              "      <td>336692</td>\n",
              "      <td>Quiet Room with a view in the Ottawa Downtown</td>\n",
              "      <td>Renting only to females. Modern condo with pan...</td>\n",
              "      <td>45.41557</td>\n",
              "      <td>-75.70551</td>\n",
              "      <td>Private room</td>\n",
              "      <td>5</td>\n",
              "      <td>1</td>\n",
              "      <td>1</td>\n",
              "      <td>1</td>\n",
              "      <td>69.0</td>\n",
              "      <td>9</td>\n",
              "      <td>0.9537</td>\n",
              "      <td>0.813145</td>\n",
              "      <td>0.407711</td>\n",
              "      <td>0.017021</td>\n",
              "      <td>0.974530</td>\n",
              "    </tr>\n",
              "  </tbody>\n",
              "</table>\n",
              "</div>"
            ],
            "text/plain": [
              "       id  ... scaled_polarity\n",
              "0   36642  ...        0.892230\n",
              "1   59258  ...        0.992090\n",
              "2  158824  ...        0.856325\n",
              "3  261065  ...        0.905358\n",
              "4  336692  ...        0.974530\n",
              "\n",
              "[5 rows x 17 columns]"
            ]
          },
          "metadata": {
            "tags": []
          },
          "execution_count": 7
        }
      ]
    },
    {
      "cell_type": "code",
      "metadata": {
        "id": "imwElgEoZnwe"
      },
      "source": [
        "df.to_csv('listings_scalled.csv')"
      ],
      "execution_count": null,
      "outputs": []
    },
    {
      "cell_type": "code",
      "metadata": {
        "id": "zHGWVApaZ2kV"
      },
      "source": [
        ""
      ],
      "execution_count": null,
      "outputs": []
    }
  ]
}