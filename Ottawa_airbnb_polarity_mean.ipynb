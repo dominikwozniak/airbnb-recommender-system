{
  "nbformat": 4,
  "nbformat_minor": 0,
  "metadata": {
    "colab": {
      "name": "Ottawa-airbnb-polarity-mean.ipynb",
      "provenance": [],
      "collapsed_sections": []
    },
    "kernelspec": {
      "name": "python3",
      "display_name": "Python 3"
    }
  },
  "cells": [
    {
      "cell_type": "code",
      "metadata": {
        "id": "eLXWL5IlMJkE"
      },
      "source": [
        "import numpy as np\n",
        "import pandas as pd\n",
        "import matplotlib.pyplot as plt\n",
        "from collections import Counter\n",
        "from scipy import stats\n",
        "import seaborn as sns\n",
        "from scipy.linalg import sqrtm\n",
        "from sklearn.metrics import mean_squared_error\n",
        "from math import sqrt\n",
        "\n",
        "plt.style.use('fivethirtyeight')"
      ],
      "execution_count": null,
      "outputs": []
    },
    {
      "cell_type": "code",
      "metadata": {
        "id": "ect6Sy3NMOSA"
      },
      "source": [
        "REVIEWS_URL = 'https://ids-storage-football-prediction.s3-eu-west-1.amazonaws.com/data_mmwd/reviews.csv'\n",
        "REVIEWS_AND_POLARITY_URL = 'https://ids-storage-football-prediction.s3-eu-west-1.amazonaws.com/data_mmwd/reviews_en_polarity.csv'\n",
        "CALENDAR_URL = 'https://ids-storage-football-prediction.s3-eu-west-1.amazonaws.com/data_mmwd/calendar.csv'\n",
        "LISTINGS_URL = 'https://ids-storage-football-prediction.s3-eu-west-1.amazonaws.com/data_mmwd/listings.csv'"
      ],
      "execution_count": null,
      "outputs": []
    },
    {
      "cell_type": "code",
      "metadata": {
        "id": "whKvK5S_MP1Z"
      },
      "source": [
        "reviews = pd.read_csv(REVIEWS_AND_POLARITY_URL)"
      ],
      "execution_count": null,
      "outputs": []
    },
    {
      "cell_type": "code",
      "metadata": {
        "colab": {
          "base_uri": "https://localhost:8080/",
          "height": 206
        },
        "id": "Pznra2xMMRCa",
        "outputId": "048c3367-f1cd-4c30-b64e-2a5aa64f8aac"
      },
      "source": [
        "reviews.head()"
      ],
      "execution_count": null,
      "outputs": [
        {
          "output_type": "execute_result",
          "data": {
            "text/html": [
              "<div>\n",
              "<style scoped>\n",
              "    .dataframe tbody tr th:only-of-type {\n",
              "        vertical-align: middle;\n",
              "    }\n",
              "\n",
              "    .dataframe tbody tr th {\n",
              "        vertical-align: top;\n",
              "    }\n",
              "\n",
              "    .dataframe thead th {\n",
              "        text-align: right;\n",
              "    }\n",
              "</style>\n",
              "<table border=\"1\" class=\"dataframe\">\n",
              "  <thead>\n",
              "    <tr style=\"text-align: right;\">\n",
              "      <th></th>\n",
              "      <th>listing_id</th>\n",
              "      <th>id</th>\n",
              "      <th>date</th>\n",
              "      <th>reviewer_id</th>\n",
              "      <th>reviewer_name</th>\n",
              "      <th>comments</th>\n",
              "      <th>language</th>\n",
              "      <th>polarity</th>\n",
              "    </tr>\n",
              "  </thead>\n",
              "  <tbody>\n",
              "    <tr>\n",
              "      <th>0</th>\n",
              "      <td>36642</td>\n",
              "      <td>63694</td>\n",
              "      <td>2010-07-11</td>\n",
              "      <td>126491</td>\n",
              "      <td>Robert</td>\n",
              "      <td>I gave Donna   stars only because she is new t...</td>\n",
              "      <td>en</td>\n",
              "      <td>0.8070</td>\n",
              "    </tr>\n",
              "    <tr>\n",
              "      <th>1</th>\n",
              "      <td>36642</td>\n",
              "      <td>92464</td>\n",
              "      <td>2010-09-07</td>\n",
              "      <td>204008</td>\n",
              "      <td>Eduardo</td>\n",
              "      <td>Donna is a nice and pleasant person. We enjoye...</td>\n",
              "      <td>en</td>\n",
              "      <td>0.9850</td>\n",
              "    </tr>\n",
              "    <tr>\n",
              "      <th>2</th>\n",
              "      <td>36642</td>\n",
              "      <td>100164</td>\n",
              "      <td>2010-09-19</td>\n",
              "      <td>164372</td>\n",
              "      <td>Asha</td>\n",
              "      <td>Our trip was too short in Ottawa, we really wi...</td>\n",
              "      <td>en</td>\n",
              "      <td>0.7430</td>\n",
              "    </tr>\n",
              "    <tr>\n",
              "      <th>3</th>\n",
              "      <td>36642</td>\n",
              "      <td>262662</td>\n",
              "      <td>2011-05-14</td>\n",
              "      <td>414166</td>\n",
              "      <td>Emie</td>\n",
              "      <td>Donna is a nice person. I had a short stay at ...</td>\n",
              "      <td>en</td>\n",
              "      <td>0.8304</td>\n",
              "    </tr>\n",
              "    <tr>\n",
              "      <th>4</th>\n",
              "      <td>36642</td>\n",
              "      <td>266613</td>\n",
              "      <td>2011-05-16</td>\n",
              "      <td>562356</td>\n",
              "      <td>Deepak</td>\n",
              "      <td>Our stay at Donna's home was very pleasant. Sh...</td>\n",
              "      <td>en</td>\n",
              "      <td>0.9537</td>\n",
              "    </tr>\n",
              "  </tbody>\n",
              "</table>\n",
              "</div>"
            ],
            "text/plain": [
              "   listing_id      id  ... language  polarity\n",
              "0       36642   63694  ...       en    0.8070\n",
              "1       36642   92464  ...       en    0.9850\n",
              "2       36642  100164  ...       en    0.7430\n",
              "3       36642  262662  ...       en    0.8304\n",
              "4       36642  266613  ...       en    0.9537\n",
              "\n",
              "[5 rows x 8 columns]"
            ]
          },
          "metadata": {
            "tags": []
          },
          "execution_count": 4
        }
      ]
    },
    {
      "cell_type": "code",
      "metadata": {
        "colab": {
          "base_uri": "https://localhost:8080/",
          "height": 206
        },
        "id": "XPDVrHObMSHR",
        "outputId": "939dbdb5-06aa-4868-c5c5-a6ba0b7dcef6"
      },
      "source": [
        "df = reviews\n",
        "list_listings_ids = df['listing_id']\n",
        "cleaned_ids = []\n",
        "for elem in list_listings_ids:\n",
        "  if elem not in cleaned_ids:\n",
        "    cleaned_ids.append(elem)\n",
        "\n",
        "new_df = pd.DataFrame(data={'listing_id': cleaned_ids})\n",
        "\n",
        "new_df['polarity'] = 0\n",
        "\n",
        "for elem in cleaned_ids:\n",
        "     help_df = df\n",
        "     mean = help_df.loc[help_df['listing_id'] == elem]\n",
        "     new_df.loc[new_df.listing_id == elem, 'polarity'] = help_df[['polarity']].mean(axis=1)\n",
        "\n",
        "\n",
        "new_df.head()"
      ],
      "execution_count": null,
      "outputs": [
        {
          "output_type": "execute_result",
          "data": {
            "text/html": [
              "<div>\n",
              "<style scoped>\n",
              "    .dataframe tbody tr th:only-of-type {\n",
              "        vertical-align: middle;\n",
              "    }\n",
              "\n",
              "    .dataframe tbody tr th {\n",
              "        vertical-align: top;\n",
              "    }\n",
              "\n",
              "    .dataframe thead th {\n",
              "        text-align: right;\n",
              "    }\n",
              "</style>\n",
              "<table border=\"1\" class=\"dataframe\">\n",
              "  <thead>\n",
              "    <tr style=\"text-align: right;\">\n",
              "      <th></th>\n",
              "      <th>listing_id</th>\n",
              "      <th>polarity</th>\n",
              "    </tr>\n",
              "  </thead>\n",
              "  <tbody>\n",
              "    <tr>\n",
              "      <th>0</th>\n",
              "      <td>36642</td>\n",
              "      <td>0.8070</td>\n",
              "    </tr>\n",
              "    <tr>\n",
              "      <th>1</th>\n",
              "      <td>59258</td>\n",
              "      <td>0.9850</td>\n",
              "    </tr>\n",
              "    <tr>\n",
              "      <th>2</th>\n",
              "      <td>158824</td>\n",
              "      <td>0.7430</td>\n",
              "    </tr>\n",
              "    <tr>\n",
              "      <th>3</th>\n",
              "      <td>261065</td>\n",
              "      <td>0.8304</td>\n",
              "    </tr>\n",
              "    <tr>\n",
              "      <th>4</th>\n",
              "      <td>336692</td>\n",
              "      <td>0.9537</td>\n",
              "    </tr>\n",
              "  </tbody>\n",
              "</table>\n",
              "</div>"
            ],
            "text/plain": [
              "   listing_id  polarity\n",
              "0       36642    0.8070\n",
              "1       59258    0.9850\n",
              "2      158824    0.7430\n",
              "3      261065    0.8304\n",
              "4      336692    0.9537"
            ]
          },
          "metadata": {
            "tags": []
          },
          "execution_count": 5
        }
      ]
    },
    {
      "cell_type": "code",
      "metadata": {
        "colab": {
          "base_uri": "https://localhost:8080/"
        },
        "id": "R75MlkLSMVkG",
        "outputId": "d6002228-766f-4fca-9821-4d3e15c52a84"
      },
      "source": [
        "new_df.shape"
      ],
      "execution_count": null,
      "outputs": [
        {
          "output_type": "execute_result",
          "data": {
            "text/plain": [
              "(2183, 2)"
            ]
          },
          "metadata": {
            "tags": []
          },
          "execution_count": 6
        }
      ]
    },
    {
      "cell_type": "code",
      "metadata": {
        "colab": {
          "base_uri": "https://localhost:8080/",
          "height": 206
        },
        "id": "buQ7isFdMYz8",
        "outputId": "df074db0-9c33-4e60-c82b-00dfb53b59e8"
      },
      "source": [
        "new_df.tail()"
      ],
      "execution_count": null,
      "outputs": [
        {
          "output_type": "execute_result",
          "data": {
            "text/html": [
              "<div>\n",
              "<style scoped>\n",
              "    .dataframe tbody tr th:only-of-type {\n",
              "        vertical-align: middle;\n",
              "    }\n",
              "\n",
              "    .dataframe tbody tr th {\n",
              "        vertical-align: top;\n",
              "    }\n",
              "\n",
              "    .dataframe thead th {\n",
              "        text-align: right;\n",
              "    }\n",
              "</style>\n",
              "<table border=\"1\" class=\"dataframe\">\n",
              "  <thead>\n",
              "    <tr style=\"text-align: right;\">\n",
              "      <th></th>\n",
              "      <th>listing_id</th>\n",
              "      <th>polarity</th>\n",
              "    </tr>\n",
              "  </thead>\n",
              "  <tbody>\n",
              "    <tr>\n",
              "      <th>2178</th>\n",
              "      <td>45714208</td>\n",
              "      <td>0.9622</td>\n",
              "    </tr>\n",
              "    <tr>\n",
              "      <th>2179</th>\n",
              "      <td>45725137</td>\n",
              "      <td>0.9701</td>\n",
              "    </tr>\n",
              "    <tr>\n",
              "      <th>2180</th>\n",
              "      <td>45768503</td>\n",
              "      <td>0.9501</td>\n",
              "    </tr>\n",
              "    <tr>\n",
              "      <th>2181</th>\n",
              "      <td>45774987</td>\n",
              "      <td>0.8601</td>\n",
              "    </tr>\n",
              "    <tr>\n",
              "      <th>2182</th>\n",
              "      <td>45796523</td>\n",
              "      <td>0.9343</td>\n",
              "    </tr>\n",
              "  </tbody>\n",
              "</table>\n",
              "</div>"
            ],
            "text/plain": [
              "      listing_id  polarity\n",
              "2178    45714208    0.9622\n",
              "2179    45725137    0.9701\n",
              "2180    45768503    0.9501\n",
              "2181    45774987    0.8601\n",
              "2182    45796523    0.9343"
            ]
          },
          "metadata": {
            "tags": []
          },
          "execution_count": 7
        }
      ]
    },
    {
      "cell_type": "code",
      "metadata": {
        "id": "-YqMJecpMZui"
      },
      "source": [
        "new_df.to_csv('polarity_mean.csv')"
      ],
      "execution_count": null,
      "outputs": []
    },
    {
      "cell_type": "code",
      "metadata": {
        "id": "26BBL6tLMczl"
      },
      "source": [
        ""
      ],
      "execution_count": null,
      "outputs": []
    }
  ]
}