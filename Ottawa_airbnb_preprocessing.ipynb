{
  "nbformat": 4,
  "nbformat_minor": 0,
  "metadata": {
    "colab": {
      "name": "Ottawa-airbnb-preprocessing.ipynb",
      "provenance": []
    },
    "kernelspec": {
      "display_name": "Python 3",
      "name": "python3"
    }
  },
  "cells": [
    {
      "cell_type": "code",
      "metadata": {
        "id": "BVMnmPhwElid"
      },
      "source": [
        "import numpy as np\n",
        "import pandas as pd\n",
        "import plotly.express as px\n",
        "import plotly.graph_objects as go\n",
        "from matplotlib import pyplot as plt\n",
        "import re\n",
        "from IPython.display import Image\n",
        "\n",
        "plt.style.use('fivethirtyeight')"
      ],
      "execution_count": null,
      "outputs": []
    },
    {
      "cell_type": "code",
      "metadata": {
        "id": "HqocVNYDEmvE"
      },
      "source": [
        "REVIEWS_URL = 'https://ids-storage-football-prediction.s3-eu-west-1.amazonaws.com/data_mmwd/reviews.csv'\n",
        "REVIEWS_AND_POLARITY_URL = 'https://ids-storage-football-prediction.s3-eu-west-1.amazonaws.com/data_mmwd/reviews_en_polarity.csv'\n",
        "CALENDAR_URL = 'https://ids-storage-football-prediction.s3-eu-west-1.amazonaws.com/data_mmwd/calendar.csv'\n",
        "LISTINGS_URL = 'https://ids-storage-football-prediction.s3-eu-west-1.amazonaws.com/data_mmwd/listings.csv'"
      ],
      "execution_count": null,
      "outputs": []
    },
    {
      "cell_type": "code",
      "metadata": {
        "id": "QUHeFIeaE-y5"
      },
      "source": [
        "listings = pd.read_csv(LISTINGS_URL)\n",
        "reviews = pd.read_csv(REVIEWS_URL)"
      ],
      "execution_count": null,
      "outputs": []
    },
    {
      "cell_type": "code",
      "metadata": {
        "colab": {
          "base_uri": "https://localhost:8080/",
          "height": 372
        },
        "id": "nOngTMGgFEAl",
        "outputId": "08741ce0-43b5-490e-e093-1bde6f183531"
      },
      "source": [
        "listings.head(3)"
      ],
      "execution_count": null,
      "outputs": [
        {
          "output_type": "execute_result",
          "data": {
            "text/html": [
              "<div>\n",
              "<style scoped>\n",
              "    .dataframe tbody tr th:only-of-type {\n",
              "        vertical-align: middle;\n",
              "    }\n",
              "\n",
              "    .dataframe tbody tr th {\n",
              "        vertical-align: top;\n",
              "    }\n",
              "\n",
              "    .dataframe thead th {\n",
              "        text-align: right;\n",
              "    }\n",
              "</style>\n",
              "<table border=\"1\" class=\"dataframe\">\n",
              "  <thead>\n",
              "    <tr style=\"text-align: right;\">\n",
              "      <th></th>\n",
              "      <th>id</th>\n",
              "      <th>listing_url</th>\n",
              "      <th>scrape_id</th>\n",
              "      <th>last_scraped</th>\n",
              "      <th>name</th>\n",
              "      <th>description</th>\n",
              "      <th>neighborhood_overview</th>\n",
              "      <th>picture_url</th>\n",
              "      <th>host_id</th>\n",
              "      <th>host_url</th>\n",
              "      <th>host_name</th>\n",
              "      <th>host_since</th>\n",
              "      <th>host_location</th>\n",
              "      <th>host_about</th>\n",
              "      <th>host_response_time</th>\n",
              "      <th>host_response_rate</th>\n",
              "      <th>host_acceptance_rate</th>\n",
              "      <th>host_is_superhost</th>\n",
              "      <th>host_thumbnail_url</th>\n",
              "      <th>host_picture_url</th>\n",
              "      <th>host_neighbourhood</th>\n",
              "      <th>host_listings_count</th>\n",
              "      <th>host_total_listings_count</th>\n",
              "      <th>host_verifications</th>\n",
              "      <th>host_has_profile_pic</th>\n",
              "      <th>host_identity_verified</th>\n",
              "      <th>neighbourhood</th>\n",
              "      <th>neighbourhood_cleansed</th>\n",
              "      <th>neighbourhood_group_cleansed</th>\n",
              "      <th>latitude</th>\n",
              "      <th>longitude</th>\n",
              "      <th>property_type</th>\n",
              "      <th>room_type</th>\n",
              "      <th>accommodates</th>\n",
              "      <th>bathrooms</th>\n",
              "      <th>bathrooms_text</th>\n",
              "      <th>bedrooms</th>\n",
              "      <th>beds</th>\n",
              "      <th>amenities</th>\n",
              "      <th>price</th>\n",
              "      <th>minimum_nights</th>\n",
              "      <th>maximum_nights</th>\n",
              "      <th>minimum_minimum_nights</th>\n",
              "      <th>maximum_minimum_nights</th>\n",
              "      <th>minimum_maximum_nights</th>\n",
              "      <th>maximum_maximum_nights</th>\n",
              "      <th>minimum_nights_avg_ntm</th>\n",
              "      <th>maximum_nights_avg_ntm</th>\n",
              "      <th>calendar_updated</th>\n",
              "      <th>has_availability</th>\n",
              "      <th>availability_30</th>\n",
              "      <th>availability_60</th>\n",
              "      <th>availability_90</th>\n",
              "      <th>availability_365</th>\n",
              "      <th>calendar_last_scraped</th>\n",
              "      <th>number_of_reviews</th>\n",
              "      <th>number_of_reviews_ltm</th>\n",
              "      <th>number_of_reviews_l30d</th>\n",
              "      <th>first_review</th>\n",
              "      <th>last_review</th>\n",
              "      <th>review_scores_rating</th>\n",
              "      <th>review_scores_accuracy</th>\n",
              "      <th>review_scores_cleanliness</th>\n",
              "      <th>review_scores_checkin</th>\n",
              "      <th>review_scores_communication</th>\n",
              "      <th>review_scores_location</th>\n",
              "      <th>review_scores_value</th>\n",
              "      <th>license</th>\n",
              "      <th>instant_bookable</th>\n",
              "      <th>calculated_host_listings_count</th>\n",
              "      <th>calculated_host_listings_count_entire_homes</th>\n",
              "      <th>calculated_host_listings_count_private_rooms</th>\n",
              "      <th>calculated_host_listings_count_shared_rooms</th>\n",
              "      <th>reviews_per_month</th>\n",
              "    </tr>\n",
              "  </thead>\n",
              "  <tbody>\n",
              "    <tr>\n",
              "      <th>0</th>\n",
              "      <td>34220</td>\n",
              "      <td>https://www.airbnb.com/rooms/34220</td>\n",
              "      <td>20201021220716</td>\n",
              "      <td>2020-10-23</td>\n",
              "      <td>Room available</td>\n",
              "      <td>&lt;b&gt;The space&lt;/b&gt;&lt;br /&gt;This room is part of a t...</td>\n",
              "      <td>NaN</td>\n",
              "      <td>https://a0.muscache.com/pictures/192935/3bf5a8...</td>\n",
              "      <td>147438</td>\n",
              "      <td>https://www.airbnb.com/users/show/147438</td>\n",
              "      <td>Mark</td>\n",
              "      <td>2010-06-18</td>\n",
              "      <td>CA</td>\n",
              "      <td>NaN</td>\n",
              "      <td>NaN</td>\n",
              "      <td>NaN</td>\n",
              "      <td>NaN</td>\n",
              "      <td>f</td>\n",
              "      <td>https://a0.muscache.com/defaults/user_pic-50x5...</td>\n",
              "      <td>https://a0.muscache.com/defaults/user_pic-225x...</td>\n",
              "      <td>NaN</td>\n",
              "      <td>1</td>\n",
              "      <td>1</td>\n",
              "      <td>[]</td>\n",
              "      <td>f</td>\n",
              "      <td>f</td>\n",
              "      <td>NaN</td>\n",
              "      <td>Capital</td>\n",
              "      <td>NaN</td>\n",
              "      <td>45.40924</td>\n",
              "      <td>-75.67900</td>\n",
              "      <td>Private room in apartment</td>\n",
              "      <td>Private room</td>\n",
              "      <td>2</td>\n",
              "      <td>NaN</td>\n",
              "      <td>1 bath</td>\n",
              "      <td>1.0</td>\n",
              "      <td>1.0</td>\n",
              "      <td>[\"Wifi\", \"Heating\", \"Free parking on premises\"...</td>\n",
              "      <td>$202.00</td>\n",
              "      <td>7</td>\n",
              "      <td>31</td>\n",
              "      <td>7</td>\n",
              "      <td>7</td>\n",
              "      <td>31</td>\n",
              "      <td>31</td>\n",
              "      <td>7.0</td>\n",
              "      <td>31.0</td>\n",
              "      <td>NaN</td>\n",
              "      <td>t</td>\n",
              "      <td>1</td>\n",
              "      <td>1</td>\n",
              "      <td>1</td>\n",
              "      <td>1</td>\n",
              "      <td>2020-10-23</td>\n",
              "      <td>0</td>\n",
              "      <td>0</td>\n",
              "      <td>0</td>\n",
              "      <td>NaN</td>\n",
              "      <td>NaN</td>\n",
              "      <td>NaN</td>\n",
              "      <td>NaN</td>\n",
              "      <td>NaN</td>\n",
              "      <td>NaN</td>\n",
              "      <td>NaN</td>\n",
              "      <td>NaN</td>\n",
              "      <td>NaN</td>\n",
              "      <td>NaN</td>\n",
              "      <td>f</td>\n",
              "      <td>1</td>\n",
              "      <td>0</td>\n",
              "      <td>1</td>\n",
              "      <td>0</td>\n",
              "      <td>NaN</td>\n",
              "    </tr>\n",
              "    <tr>\n",
              "      <th>1</th>\n",
              "      <td>36642</td>\n",
              "      <td>https://www.airbnb.com/rooms/36642</td>\n",
              "      <td>20201021220716</td>\n",
              "      <td>2020-10-22</td>\n",
              "      <td>City Conveniences A Country Setting</td>\n",
              "      <td>&lt;b&gt;The space&lt;/b&gt;&lt;br /&gt;Are you planning a vacat...</td>\n",
              "      <td>NaN</td>\n",
              "      <td>https://a0.muscache.com/pictures/7542487/52136...</td>\n",
              "      <td>157787</td>\n",
              "      <td>https://www.airbnb.com/users/show/157787</td>\n",
              "      <td>Donna</td>\n",
              "      <td>2010-07-04</td>\n",
              "      <td>Ottawa, Ontario, Canada</td>\n",
              "      <td>I am originally from Nova Scotia but I have li...</td>\n",
              "      <td>NaN</td>\n",
              "      <td>NaN</td>\n",
              "      <td>100%</td>\n",
              "      <td>f</td>\n",
              "      <td>https://a0.muscache.com/im/users/157787/profil...</td>\n",
              "      <td>https://a0.muscache.com/im/users/157787/profil...</td>\n",
              "      <td>NaN</td>\n",
              "      <td>1</td>\n",
              "      <td>1</td>\n",
              "      <td>['email', 'phone', 'facebook', 'reviews']</td>\n",
              "      <td>t</td>\n",
              "      <td>f</td>\n",
              "      <td>NaN</td>\n",
              "      <td>Kitchissippi</td>\n",
              "      <td>NaN</td>\n",
              "      <td>45.40159</td>\n",
              "      <td>-75.74679</td>\n",
              "      <td>Private room in house</td>\n",
              "      <td>Private room</td>\n",
              "      <td>2</td>\n",
              "      <td>NaN</td>\n",
              "      <td>2 baths</td>\n",
              "      <td>1.0</td>\n",
              "      <td>1.0</td>\n",
              "      <td>[\"Essentials\", \"Hot water\", \"Dryer\", \"Extra pi...</td>\n",
              "      <td>$65.00</td>\n",
              "      <td>3</td>\n",
              "      <td>14</td>\n",
              "      <td>3</td>\n",
              "      <td>3</td>\n",
              "      <td>14</td>\n",
              "      <td>14</td>\n",
              "      <td>3.0</td>\n",
              "      <td>14.0</td>\n",
              "      <td>NaN</td>\n",
              "      <td>t</td>\n",
              "      <td>29</td>\n",
              "      <td>59</td>\n",
              "      <td>89</td>\n",
              "      <td>364</td>\n",
              "      <td>2020-10-22</td>\n",
              "      <td>87</td>\n",
              "      <td>1</td>\n",
              "      <td>0</td>\n",
              "      <td>2010-07-11</td>\n",
              "      <td>2020-02-17</td>\n",
              "      <td>94.0</td>\n",
              "      <td>10.0</td>\n",
              "      <td>10.0</td>\n",
              "      <td>10.0</td>\n",
              "      <td>10.0</td>\n",
              "      <td>10.0</td>\n",
              "      <td>9.0</td>\n",
              "      <td>NaN</td>\n",
              "      <td>f</td>\n",
              "      <td>1</td>\n",
              "      <td>0</td>\n",
              "      <td>1</td>\n",
              "      <td>0</td>\n",
              "      <td>0.69</td>\n",
              "    </tr>\n",
              "    <tr>\n",
              "      <th>2</th>\n",
              "      <td>59258</td>\n",
              "      <td>https://www.airbnb.com/rooms/59258</td>\n",
              "      <td>20201021220716</td>\n",
              "      <td>2020-10-22</td>\n",
              "      <td>Lower level of my house to rent</td>\n",
              "      <td>Lower 1/2 of bungalow, a separate entrance, 10...</td>\n",
              "      <td>NaN</td>\n",
              "      <td>https://a0.muscache.com/pictures/359337/5d90d6...</td>\n",
              "      <td>284351</td>\n",
              "      <td>https://www.airbnb.com/users/show/284351</td>\n",
              "      <td>Elena</td>\n",
              "      <td>2010-11-11</td>\n",
              "      <td>Ottawa, Ontario, Canada</td>\n",
              "      <td>Canada rocks!</td>\n",
              "      <td>NaN</td>\n",
              "      <td>NaN</td>\n",
              "      <td>NaN</td>\n",
              "      <td>f</td>\n",
              "      <td>https://a0.muscache.com/im/users/284351/profil...</td>\n",
              "      <td>https://a0.muscache.com/im/users/284351/profil...</td>\n",
              "      <td>NaN</td>\n",
              "      <td>1</td>\n",
              "      <td>1</td>\n",
              "      <td>['email', 'phone', 'reviews', 'offline_governm...</td>\n",
              "      <td>t</td>\n",
              "      <td>t</td>\n",
              "      <td>NaN</td>\n",
              "      <td>Bay</td>\n",
              "      <td>NaN</td>\n",
              "      <td>45.35900</td>\n",
              "      <td>-75.80314</td>\n",
              "      <td>Entire apartment</td>\n",
              "      <td>Entire home/apt</td>\n",
              "      <td>4</td>\n",
              "      <td>NaN</td>\n",
              "      <td>1 bath</td>\n",
              "      <td>1.0</td>\n",
              "      <td>1.0</td>\n",
              "      <td>[\"Wifi\", \"Washer\", \"Dryer\", \"Heating\", \"Free p...</td>\n",
              "      <td>$200.00</td>\n",
              "      <td>3</td>\n",
              "      <td>730</td>\n",
              "      <td>3</td>\n",
              "      <td>3</td>\n",
              "      <td>730</td>\n",
              "      <td>730</td>\n",
              "      <td>3.0</td>\n",
              "      <td>730.0</td>\n",
              "      <td>NaN</td>\n",
              "      <td>t</td>\n",
              "      <td>0</td>\n",
              "      <td>0</td>\n",
              "      <td>0</td>\n",
              "      <td>0</td>\n",
              "      <td>2020-10-22</td>\n",
              "      <td>1</td>\n",
              "      <td>0</td>\n",
              "      <td>0</td>\n",
              "      <td>2011-07-04</td>\n",
              "      <td>2011-07-04</td>\n",
              "      <td>100.0</td>\n",
              "      <td>10.0</td>\n",
              "      <td>8.0</td>\n",
              "      <td>10.0</td>\n",
              "      <td>10.0</td>\n",
              "      <td>10.0</td>\n",
              "      <td>10.0</td>\n",
              "      <td>NaN</td>\n",
              "      <td>f</td>\n",
              "      <td>1</td>\n",
              "      <td>1</td>\n",
              "      <td>0</td>\n",
              "      <td>0</td>\n",
              "      <td>0.01</td>\n",
              "    </tr>\n",
              "  </tbody>\n",
              "</table>\n",
              "</div>"
            ],
            "text/plain": [
              "      id  ... reviews_per_month\n",
              "0  34220  ...               NaN\n",
              "1  36642  ...              0.69\n",
              "2  59258  ...              0.01\n",
              "\n",
              "[3 rows x 74 columns]"
            ]
          },
          "metadata": {
            "tags": []
          },
          "execution_count": 20
        }
      ]
    },
    {
      "cell_type": "code",
      "metadata": {
        "colab": {
          "base_uri": "https://localhost:8080/"
        },
        "id": "7OhxJo-mGKNX",
        "outputId": "3eb78931-a8e1-4403-f904-5d4a8aeeec98"
      },
      "source": [
        "listings.shape"
      ],
      "execution_count": null,
      "outputs": [
        {
          "output_type": "execute_result",
          "data": {
            "text/plain": [
              "(2613, 74)"
            ]
          },
          "metadata": {
            "tags": []
          },
          "execution_count": 21
        }
      ]
    },
    {
      "cell_type": "code",
      "metadata": {
        "colab": {
          "base_uri": "https://localhost:8080/"
        },
        "id": "xI9PJjpckJCh",
        "outputId": "41d08555-c084-474b-81c6-fef68bf6febd"
      },
      "source": [
        "listings.info()"
      ],
      "execution_count": null,
      "outputs": [
        {
          "output_type": "stream",
          "text": [
            "<class 'pandas.core.frame.DataFrame'>\n",
            "RangeIndex: 2613 entries, 0 to 2612\n",
            "Data columns (total 74 columns):\n",
            " #   Column                                        Non-Null Count  Dtype  \n",
            "---  ------                                        --------------  -----  \n",
            " 0   id                                            2613 non-null   int64  \n",
            " 1   listing_url                                   2613 non-null   object \n",
            " 2   scrape_id                                     2613 non-null   int64  \n",
            " 3   last_scraped                                  2613 non-null   object \n",
            " 4   name                                          2613 non-null   object \n",
            " 5   description                                   2523 non-null   object \n",
            " 6   neighborhood_overview                         1800 non-null   object \n",
            " 7   picture_url                                   2613 non-null   object \n",
            " 8   host_id                                       2613 non-null   int64  \n",
            " 9   host_url                                      2613 non-null   object \n",
            " 10  host_name                                     2613 non-null   object \n",
            " 11  host_since                                    2613 non-null   object \n",
            " 12  host_location                                 2611 non-null   object \n",
            " 13  host_about                                    1583 non-null   object \n",
            " 14  host_response_time                            1892 non-null   object \n",
            " 15  host_response_rate                            1892 non-null   object \n",
            " 16  host_acceptance_rate                          2167 non-null   object \n",
            " 17  host_is_superhost                             2613 non-null   object \n",
            " 18  host_thumbnail_url                            2613 non-null   object \n",
            " 19  host_picture_url                              2613 non-null   object \n",
            " 20  host_neighbourhood                            591 non-null    object \n",
            " 21  host_listings_count                           2613 non-null   int64  \n",
            " 22  host_total_listings_count                     2613 non-null   int64  \n",
            " 23  host_verifications                            2613 non-null   object \n",
            " 24  host_has_profile_pic                          2613 non-null   object \n",
            " 25  host_identity_verified                        2613 non-null   object \n",
            " 26  neighbourhood                                 1800 non-null   object \n",
            " 27  neighbourhood_cleansed                        2613 non-null   object \n",
            " 28  neighbourhood_group_cleansed                  0 non-null      float64\n",
            " 29  latitude                                      2613 non-null   float64\n",
            " 30  longitude                                     2613 non-null   float64\n",
            " 31  property_type                                 2613 non-null   object \n",
            " 32  room_type                                     2613 non-null   object \n",
            " 33  accommodates                                  2613 non-null   int64  \n",
            " 34  bathrooms                                     0 non-null      float64\n",
            " 35  bathrooms_text                                2610 non-null   object \n",
            " 36  bedrooms                                      2413 non-null   float64\n",
            " 37  beds                                          2594 non-null   float64\n",
            " 38  amenities                                     2613 non-null   object \n",
            " 39  price                                         2613 non-null   object \n",
            " 40  minimum_nights                                2613 non-null   int64  \n",
            " 41  maximum_nights                                2613 non-null   int64  \n",
            " 42  minimum_minimum_nights                        2613 non-null   int64  \n",
            " 43  maximum_minimum_nights                        2613 non-null   int64  \n",
            " 44  minimum_maximum_nights                        2613 non-null   int64  \n",
            " 45  maximum_maximum_nights                        2613 non-null   int64  \n",
            " 46  minimum_nights_avg_ntm                        2613 non-null   float64\n",
            " 47  maximum_nights_avg_ntm                        2613 non-null   float64\n",
            " 48  calendar_updated                              0 non-null      float64\n",
            " 49  has_availability                              2613 non-null   object \n",
            " 50  availability_30                               2613 non-null   int64  \n",
            " 51  availability_60                               2613 non-null   int64  \n",
            " 52  availability_90                               2613 non-null   int64  \n",
            " 53  availability_365                              2613 non-null   int64  \n",
            " 54  calendar_last_scraped                         2613 non-null   object \n",
            " 55  number_of_reviews                             2613 non-null   int64  \n",
            " 56  number_of_reviews_ltm                         2613 non-null   int64  \n",
            " 57  number_of_reviews_l30d                        2613 non-null   int64  \n",
            " 58  first_review                                  2227 non-null   object \n",
            " 59  last_review                                   2227 non-null   object \n",
            " 60  review_scores_rating                          2197 non-null   float64\n",
            " 61  review_scores_accuracy                        2194 non-null   float64\n",
            " 62  review_scores_cleanliness                     2195 non-null   float64\n",
            " 63  review_scores_checkin                         2193 non-null   float64\n",
            " 64  review_scores_communication                   2193 non-null   float64\n",
            " 65  review_scores_location                        2193 non-null   float64\n",
            " 66  review_scores_value                           2193 non-null   float64\n",
            " 67  license                                       0 non-null      float64\n",
            " 68  instant_bookable                              2613 non-null   object \n",
            " 69  calculated_host_listings_count                2613 non-null   int64  \n",
            " 70  calculated_host_listings_count_entire_homes   2613 non-null   int64  \n",
            " 71  calculated_host_listings_count_private_rooms  2613 non-null   int64  \n",
            " 72  calculated_host_listings_count_shared_rooms   2613 non-null   int64  \n",
            " 73  reviews_per_month                             2227 non-null   float64\n",
            "dtypes: float64(18), int64(23), object(33)\n",
            "memory usage: 1.5+ MB\n"
          ],
          "name": "stdout"
        }
      ]
    },
    {
      "cell_type": "code",
      "metadata": {
        "colab": {
          "base_uri": "https://localhost:8080/",
          "height": 206
        },
        "id": "xrTThrveFFrC",
        "outputId": "df11eeeb-35fd-4ba5-de59-4c4434da9941"
      },
      "source": [
        "reviews.head()"
      ],
      "execution_count": null,
      "outputs": [
        {
          "output_type": "execute_result",
          "data": {
            "text/html": [
              "<div>\n",
              "<style scoped>\n",
              "    .dataframe tbody tr th:only-of-type {\n",
              "        vertical-align: middle;\n",
              "    }\n",
              "\n",
              "    .dataframe tbody tr th {\n",
              "        vertical-align: top;\n",
              "    }\n",
              "\n",
              "    .dataframe thead th {\n",
              "        text-align: right;\n",
              "    }\n",
              "</style>\n",
              "<table border=\"1\" class=\"dataframe\">\n",
              "  <thead>\n",
              "    <tr style=\"text-align: right;\">\n",
              "      <th></th>\n",
              "      <th>listing_id</th>\n",
              "      <th>id</th>\n",
              "      <th>date</th>\n",
              "      <th>reviewer_id</th>\n",
              "      <th>reviewer_name</th>\n",
              "      <th>comments</th>\n",
              "    </tr>\n",
              "  </thead>\n",
              "  <tbody>\n",
              "    <tr>\n",
              "      <th>0</th>\n",
              "      <td>36642</td>\n",
              "      <td>63694</td>\n",
              "      <td>2010-07-11</td>\n",
              "      <td>126491</td>\n",
              "      <td>Robert</td>\n",
              "      <td>I gave Donna 4 stars only because she is new t...</td>\n",
              "    </tr>\n",
              "    <tr>\n",
              "      <th>1</th>\n",
              "      <td>36642</td>\n",
              "      <td>92464</td>\n",
              "      <td>2010-09-07</td>\n",
              "      <td>204008</td>\n",
              "      <td>Eduardo</td>\n",
              "      <td>Donna is a nice and pleasant person. We enjoye...</td>\n",
              "    </tr>\n",
              "    <tr>\n",
              "      <th>2</th>\n",
              "      <td>36642</td>\n",
              "      <td>100164</td>\n",
              "      <td>2010-09-19</td>\n",
              "      <td>164372</td>\n",
              "      <td>Asha</td>\n",
              "      <td>Our trip was too short in Ottawa, we really wi...</td>\n",
              "    </tr>\n",
              "    <tr>\n",
              "      <th>3</th>\n",
              "      <td>36642</td>\n",
              "      <td>262662</td>\n",
              "      <td>2011-05-14</td>\n",
              "      <td>414166</td>\n",
              "      <td>Emie</td>\n",
              "      <td>Donna is a nice person. I had a short stay at ...</td>\n",
              "    </tr>\n",
              "    <tr>\n",
              "      <th>4</th>\n",
              "      <td>36642</td>\n",
              "      <td>266613</td>\n",
              "      <td>2011-05-16</td>\n",
              "      <td>562356</td>\n",
              "      <td>Deepak</td>\n",
              "      <td>Our stay at Donna's home was very pleasant. Sh...</td>\n",
              "    </tr>\n",
              "  </tbody>\n",
              "</table>\n",
              "</div>"
            ],
            "text/plain": [
              "   listing_id  ...                                           comments\n",
              "0       36642  ...  I gave Donna 4 stars only because she is new t...\n",
              "1       36642  ...  Donna is a nice and pleasant person. We enjoye...\n",
              "2       36642  ...  Our trip was too short in Ottawa, we really wi...\n",
              "3       36642  ...  Donna is a nice person. I had a short stay at ...\n",
              "4       36642  ...  Our stay at Donna's home was very pleasant. Sh...\n",
              "\n",
              "[5 rows x 6 columns]"
            ]
          },
          "metadata": {
            "tags": []
          },
          "execution_count": 6
        }
      ]
    },
    {
      "cell_type": "code",
      "metadata": {
        "colab": {
          "base_uri": "https://localhost:8080/"
        },
        "id": "i9tRqb1FF8rt",
        "outputId": "dc3b3133-7f30-4d7d-efa5-cd5451f850d9"
      },
      "source": [
        "reviews.shape"
      ],
      "execution_count": null,
      "outputs": [
        {
          "output_type": "execute_result",
          "data": {
            "text/plain": [
              "(99694, 6)"
            ]
          },
          "metadata": {
            "tags": []
          },
          "execution_count": 7
        }
      ]
    },
    {
      "cell_type": "code",
      "metadata": {
        "colab": {
          "base_uri": "https://localhost:8080/",
          "height": 170
        },
        "id": "XqewWOdkkVBn",
        "outputId": "10b46916-da11-4dcb-f5ab-80de82c1c93d"
      },
      "source": [
        "listings.loc[listings['id'] == 45796523]"
      ],
      "execution_count": null,
      "outputs": [
        {
          "output_type": "execute_result",
          "data": {
            "text/html": [
              "<div>\n",
              "<style scoped>\n",
              "    .dataframe tbody tr th:only-of-type {\n",
              "        vertical-align: middle;\n",
              "    }\n",
              "\n",
              "    .dataframe tbody tr th {\n",
              "        vertical-align: top;\n",
              "    }\n",
              "\n",
              "    .dataframe thead th {\n",
              "        text-align: right;\n",
              "    }\n",
              "</style>\n",
              "<table border=\"1\" class=\"dataframe\">\n",
              "  <thead>\n",
              "    <tr style=\"text-align: right;\">\n",
              "      <th></th>\n",
              "      <th>id</th>\n",
              "      <th>listing_url</th>\n",
              "      <th>scrape_id</th>\n",
              "      <th>last_scraped</th>\n",
              "      <th>name</th>\n",
              "      <th>description</th>\n",
              "      <th>neighborhood_overview</th>\n",
              "      <th>picture_url</th>\n",
              "      <th>host_id</th>\n",
              "      <th>host_url</th>\n",
              "      <th>host_name</th>\n",
              "      <th>host_since</th>\n",
              "      <th>host_location</th>\n",
              "      <th>host_about</th>\n",
              "      <th>host_response_time</th>\n",
              "      <th>host_response_rate</th>\n",
              "      <th>host_acceptance_rate</th>\n",
              "      <th>host_is_superhost</th>\n",
              "      <th>host_thumbnail_url</th>\n",
              "      <th>host_picture_url</th>\n",
              "      <th>host_neighbourhood</th>\n",
              "      <th>host_listings_count</th>\n",
              "      <th>host_total_listings_count</th>\n",
              "      <th>host_verifications</th>\n",
              "      <th>host_has_profile_pic</th>\n",
              "      <th>host_identity_verified</th>\n",
              "      <th>neighbourhood</th>\n",
              "      <th>neighbourhood_cleansed</th>\n",
              "      <th>neighbourhood_group_cleansed</th>\n",
              "      <th>latitude</th>\n",
              "      <th>longitude</th>\n",
              "      <th>property_type</th>\n",
              "      <th>room_type</th>\n",
              "      <th>accommodates</th>\n",
              "      <th>bathrooms</th>\n",
              "      <th>bathrooms_text</th>\n",
              "      <th>bedrooms</th>\n",
              "      <th>beds</th>\n",
              "      <th>amenities</th>\n",
              "      <th>price</th>\n",
              "      <th>minimum_nights</th>\n",
              "      <th>maximum_nights</th>\n",
              "      <th>minimum_minimum_nights</th>\n",
              "      <th>maximum_minimum_nights</th>\n",
              "      <th>minimum_maximum_nights</th>\n",
              "      <th>maximum_maximum_nights</th>\n",
              "      <th>minimum_nights_avg_ntm</th>\n",
              "      <th>maximum_nights_avg_ntm</th>\n",
              "      <th>calendar_updated</th>\n",
              "      <th>has_availability</th>\n",
              "      <th>availability_30</th>\n",
              "      <th>availability_60</th>\n",
              "      <th>availability_90</th>\n",
              "      <th>availability_365</th>\n",
              "      <th>calendar_last_scraped</th>\n",
              "      <th>number_of_reviews</th>\n",
              "      <th>number_of_reviews_ltm</th>\n",
              "      <th>number_of_reviews_l30d</th>\n",
              "      <th>first_review</th>\n",
              "      <th>last_review</th>\n",
              "      <th>review_scores_rating</th>\n",
              "      <th>review_scores_accuracy</th>\n",
              "      <th>review_scores_cleanliness</th>\n",
              "      <th>review_scores_checkin</th>\n",
              "      <th>review_scores_communication</th>\n",
              "      <th>review_scores_location</th>\n",
              "      <th>review_scores_value</th>\n",
              "      <th>license</th>\n",
              "      <th>instant_bookable</th>\n",
              "      <th>calculated_host_listings_count</th>\n",
              "      <th>calculated_host_listings_count_entire_homes</th>\n",
              "      <th>calculated_host_listings_count_private_rooms</th>\n",
              "      <th>calculated_host_listings_count_shared_rooms</th>\n",
              "      <th>reviews_per_month</th>\n",
              "    </tr>\n",
              "  </thead>\n",
              "  <tbody>\n",
              "    <tr>\n",
              "      <th>2587</th>\n",
              "      <td>45796523</td>\n",
              "      <td>https://www.airbnb.com/rooms/45796523</td>\n",
              "      <td>20201021220716</td>\n",
              "      <td>2020-10-23</td>\n",
              "      <td>Budget bedroom, downtown Ottawa</td>\n",
              "      <td>You get your own private bedroom in my downtow...</td>\n",
              "      <td>The apartment is right downtown, in a neighbor...</td>\n",
              "      <td>https://a0.muscache.com/pictures/f11eb5b3-c0fc...</td>\n",
              "      <td>371266353</td>\n",
              "      <td>https://www.airbnb.com/users/show/371266353</td>\n",
              "      <td>Francis</td>\n",
              "      <td>2020-10-09</td>\n",
              "      <td>CA</td>\n",
              "      <td>NaN</td>\n",
              "      <td>within an hour</td>\n",
              "      <td>100%</td>\n",
              "      <td>90%</td>\n",
              "      <td>f</td>\n",
              "      <td>https://a0.muscache.com/im/pictures/user/61ea0...</td>\n",
              "      <td>https://a0.muscache.com/im/pictures/user/61ea0...</td>\n",
              "      <td>Centretown</td>\n",
              "      <td>1</td>\n",
              "      <td>1</td>\n",
              "      <td>['email', 'phone']</td>\n",
              "      <td>t</td>\n",
              "      <td>f</td>\n",
              "      <td>Ottawa, Ontario, Canada</td>\n",
              "      <td>Somerset</td>\n",
              "      <td>NaN</td>\n",
              "      <td>45.4158</td>\n",
              "      <td>-75.69869</td>\n",
              "      <td>Private room in apartment</td>\n",
              "      <td>Private room</td>\n",
              "      <td>2</td>\n",
              "      <td>NaN</td>\n",
              "      <td>1 shared bath</td>\n",
              "      <td>1.0</td>\n",
              "      <td>1.0</td>\n",
              "      <td>[\"Wifi\", \"Hair dryer\", \"Iron\", \"Essentials\", \"...</td>\n",
              "      <td>$49.00</td>\n",
              "      <td>1</td>\n",
              "      <td>1125</td>\n",
              "      <td>1</td>\n",
              "      <td>1</td>\n",
              "      <td>1125</td>\n",
              "      <td>1125</td>\n",
              "      <td>1.0</td>\n",
              "      <td>1125.0</td>\n",
              "      <td>NaN</td>\n",
              "      <td>t</td>\n",
              "      <td>0</td>\n",
              "      <td>0</td>\n",
              "      <td>0</td>\n",
              "      <td>0</td>\n",
              "      <td>2020-10-23</td>\n",
              "      <td>2</td>\n",
              "      <td>2</td>\n",
              "      <td>2</td>\n",
              "      <td>2020-10-14</td>\n",
              "      <td>2020-10-18</td>\n",
              "      <td>100.0</td>\n",
              "      <td>10.0</td>\n",
              "      <td>10.0</td>\n",
              "      <td>10.0</td>\n",
              "      <td>10.0</td>\n",
              "      <td>10.0</td>\n",
              "      <td>10.0</td>\n",
              "      <td>NaN</td>\n",
              "      <td>t</td>\n",
              "      <td>1</td>\n",
              "      <td>0</td>\n",
              "      <td>1</td>\n",
              "      <td>0</td>\n",
              "      <td>2.0</td>\n",
              "    </tr>\n",
              "  </tbody>\n",
              "</table>\n",
              "</div>"
            ],
            "text/plain": [
              "            id  ... reviews_per_month\n",
              "2587  45796523  ...               2.0\n",
              "\n",
              "[1 rows x 74 columns]"
            ]
          },
          "metadata": {
            "tags": []
          },
          "execution_count": 32
        }
      ]
    },
    {
      "cell_type": "code",
      "metadata": {
        "colab": {
          "base_uri": "https://localhost:8080/",
          "height": 35
        },
        "id": "-l4tucV8FG-Z",
        "outputId": "3692faf2-e9d1-44b9-eeb0-6cb013a464dd"
      },
      "source": [
        "reviews['comments'][4574]"
      ],
      "execution_count": null,
      "outputs": [
        {
          "output_type": "execute_result",
          "data": {
            "application/vnd.google.colaboratory.intrinsic+json": {
              "type": "string"
            },
            "text/plain": [
              "'Very clean and amazing location!'"
            ]
          },
          "metadata": {
            "tags": []
          },
          "execution_count": 27
        }
      ]
    },
    {
      "cell_type": "code",
      "metadata": {
        "colab": {
          "base_uri": "https://localhost:8080/",
          "height": 35
        },
        "id": "M27abQF0Fdk7",
        "outputId": "bfb41d9a-cc7a-42aa-e79a-b9a8d99d0c65"
      },
      "source": [
        "#@title Wybierz komentarz:\n",
        "\n",
        "idx = 5301 #@param {type:'slider', min:0, max:99693}\n",
        "reviews['comments'][idx]"
      ],
      "execution_count": null,
      "outputs": [
        {
          "output_type": "execute_result",
          "data": {
            "application/vnd.google.colaboratory.intrinsic+json": {
              "type": "string"
            },
            "text/plain": [
              "'A very nice host and a very nice house!'"
            ]
          },
          "metadata": {
            "tags": []
          },
          "execution_count": 9
        }
      ]
    },
    {
      "cell_type": "code",
      "metadata": {
        "colab": {
          "base_uri": "https://localhost:8080/",
          "height": 497
        },
        "id": "eJ6Mk8nxGzNd",
        "outputId": "f825db84-11bf-4374-a206-3a072bed958d"
      },
      "source": [
        "#@title Wybierz zdjęcie:\n",
        "\n",
        "idx = 0 #@param {type:'slider', min:0, max:99693}\n",
        "Image(listings['picture_url'][idx])"
      ],
      "execution_count": null,
      "outputs": [
        {
          "output_type": "execute_result",
          "data": {
            "image/jpeg": "[encoded data removed]",
            "text/plain": [
              "<IPython.core.display.Image object>"
            ]
          },
          "metadata": {
            "tags": []
          },
          "execution_count": 10
        }
      ]
    },
    {
      "cell_type": "code",
      "metadata": {
        "colab": {
          "base_uri": "https://localhost:8080/"
        },
        "id": "CR_Tj7T4GCdT",
        "outputId": "9591f3b0-a3dd-4bf4-d1f3-93c420f2bfa4"
      },
      "source": [
        "listings.columns"
      ],
      "execution_count": null,
      "outputs": [
        {
          "output_type": "execute_result",
          "data": {
            "text/plain": [
              "Index(['id', 'listing_url', 'scrape_id', 'last_scraped', 'name', 'description',\n",
              "       'neighborhood_overview', 'picture_url', 'host_id', 'host_url',\n",
              "       'host_name', 'host_since', 'host_location', 'host_about',\n",
              "       'host_response_time', 'host_response_rate', 'host_acceptance_rate',\n",
              "       'host_is_superhost', 'host_thumbnail_url', 'host_picture_url',\n",
              "       'host_neighbourhood', 'host_listings_count',\n",
              "       'host_total_listings_count', 'host_verifications',\n",
              "       'host_has_profile_pic', 'host_identity_verified', 'neighbourhood',\n",
              "       'neighbourhood_cleansed', 'neighbourhood_group_cleansed', 'latitude',\n",
              "       'longitude', 'property_type', 'room_type', 'accommodates', 'bathrooms',\n",
              "       'bathrooms_text', 'bedrooms', 'beds', 'amenities', 'price',\n",
              "       'minimum_nights', 'maximum_nights', 'minimum_minimum_nights',\n",
              "       'maximum_minimum_nights', 'minimum_maximum_nights',\n",
              "       'maximum_maximum_nights', 'minimum_nights_avg_ntm',\n",
              "       'maximum_nights_avg_ntm', 'calendar_updated', 'has_availability',\n",
              "       'availability_30', 'availability_60', 'availability_90',\n",
              "       'availability_365', 'calendar_last_scraped', 'number_of_reviews',\n",
              "       'number_of_reviews_ltm', 'number_of_reviews_l30d', 'first_review',\n",
              "       'last_review', 'review_scores_rating', 'review_scores_accuracy',\n",
              "       'review_scores_cleanliness', 'review_scores_checkin',\n",
              "       'review_scores_communication', 'review_scores_location',\n",
              "       'review_scores_value', 'license', 'instant_bookable',\n",
              "       'calculated_host_listings_count',\n",
              "       'calculated_host_listings_count_entire_homes',\n",
              "       'calculated_host_listings_count_private_rooms',\n",
              "       'calculated_host_listings_count_shared_rooms', 'reviews_per_month'],\n",
              "      dtype='object')"
            ]
          },
          "metadata": {
            "tags": []
          },
          "execution_count": 11
        }
      ]
    },
    {
      "cell_type": "code",
      "metadata": {
        "id": "0lQUvXtbGiCo"
      },
      "source": [
        "listings = listings.drop(['picture_url', 'host_id', 'host_url',\n",
        "       'host_name', 'host_since', 'host_location', 'host_about',\n",
        "       'host_response_time', 'host_response_rate', 'host_acceptance_rate',\n",
        "       'host_is_superhost', 'host_thumbnail_url', 'host_picture_url',\n",
        "       'host_neighbourhood', 'host_listings_count',\n",
        "       'host_total_listings_count', 'host_verifications',\n",
        "       'host_has_profile_pic', 'host_identity_verified', 'neighbourhood',\n",
        "       'neighbourhood_cleansed', 'neighbourhood_group_cleansed', 'minimum_nights', 'maximum_nights', 'minimum_minimum_nights',\n",
        "       'maximum_minimum_nights', 'minimum_maximum_nights',\n",
        "       'maximum_maximum_nights', 'minimum_nights_avg_ntm',\n",
        "       'maximum_nights_avg_ntm', 'calendar_updated', 'has_availability',\n",
        "       'availability_30', 'availability_60', 'availability_90', 'availability_365', 'calendar_last_scraped', 'license', 'instant_bookable',\n",
        "       'calculated_host_listings_count',\n",
        "       'calculated_host_listings_count_entire_homes',\n",
        "       'calculated_host_listings_count_private_rooms',\n",
        "       'calculated_host_listings_count_shared_rooms', 'neighborhood_overview', 'bathrooms',\n",
        "       'first_review',\n",
        "       'last_review', 'review_scores_rating', 'review_scores_accuracy',\n",
        "       'review_scores_cleanliness', 'review_scores_checkin',\n",
        "       'review_scores_communication', 'review_scores_location',\n",
        "       'review_scores_value', 'reviews_per_month'\n",
        "       ], axis=1)"
      ],
      "execution_count": null,
      "outputs": []
    },
    {
      "cell_type": "code",
      "metadata": {
        "colab": {
          "base_uri": "https://localhost:8080/",
          "height": 556
        },
        "id": "FAzrw2gKGxfy",
        "outputId": "2b4dc6b6-f81f-455f-ade0-a99c6b785482"
      },
      "source": [
        "listings.head()"
      ],
      "execution_count": null,
      "outputs": [
        {
          "output_type": "execute_result",
          "data": {
            "text/html": [
              "<div>\n",
              "<style scoped>\n",
              "    .dataframe tbody tr th:only-of-type {\n",
              "        vertical-align: middle;\n",
              "    }\n",
              "\n",
              "    .dataframe tbody tr th {\n",
              "        vertical-align: top;\n",
              "    }\n",
              "\n",
              "    .dataframe thead th {\n",
              "        text-align: right;\n",
              "    }\n",
              "</style>\n",
              "<table border=\"1\" class=\"dataframe\">\n",
              "  <thead>\n",
              "    <tr style=\"text-align: right;\">\n",
              "      <th></th>\n",
              "      <th>id</th>\n",
              "      <th>listing_url</th>\n",
              "      <th>scrape_id</th>\n",
              "      <th>last_scraped</th>\n",
              "      <th>name</th>\n",
              "      <th>description</th>\n",
              "      <th>latitude</th>\n",
              "      <th>longitude</th>\n",
              "      <th>property_type</th>\n",
              "      <th>room_type</th>\n",
              "      <th>accommodates</th>\n",
              "      <th>bathrooms_text</th>\n",
              "      <th>bedrooms</th>\n",
              "      <th>beds</th>\n",
              "      <th>amenities</th>\n",
              "      <th>price</th>\n",
              "      <th>number_of_reviews</th>\n",
              "      <th>number_of_reviews_ltm</th>\n",
              "      <th>number_of_reviews_l30d</th>\n",
              "    </tr>\n",
              "  </thead>\n",
              "  <tbody>\n",
              "    <tr>\n",
              "      <th>0</th>\n",
              "      <td>34220</td>\n",
              "      <td>https://www.airbnb.com/rooms/34220</td>\n",
              "      <td>20201021220716</td>\n",
              "      <td>2020-10-23</td>\n",
              "      <td>Room available</td>\n",
              "      <td>&lt;b&gt;The space&lt;/b&gt;&lt;br /&gt;This room is part of a t...</td>\n",
              "      <td>45.40924</td>\n",
              "      <td>-75.67900</td>\n",
              "      <td>Private room in apartment</td>\n",
              "      <td>Private room</td>\n",
              "      <td>2</td>\n",
              "      <td>1 bath</td>\n",
              "      <td>1.0</td>\n",
              "      <td>1.0</td>\n",
              "      <td>[\"Wifi\", \"Heating\", \"Free parking on premises\"...</td>\n",
              "      <td>$202.00</td>\n",
              "      <td>0</td>\n",
              "      <td>0</td>\n",
              "      <td>0</td>\n",
              "    </tr>\n",
              "    <tr>\n",
              "      <th>1</th>\n",
              "      <td>36642</td>\n",
              "      <td>https://www.airbnb.com/rooms/36642</td>\n",
              "      <td>20201021220716</td>\n",
              "      <td>2020-10-22</td>\n",
              "      <td>City Conveniences A Country Setting</td>\n",
              "      <td>&lt;b&gt;The space&lt;/b&gt;&lt;br /&gt;Are you planning a vacat...</td>\n",
              "      <td>45.40159</td>\n",
              "      <td>-75.74679</td>\n",
              "      <td>Private room in house</td>\n",
              "      <td>Private room</td>\n",
              "      <td>2</td>\n",
              "      <td>2 baths</td>\n",
              "      <td>1.0</td>\n",
              "      <td>1.0</td>\n",
              "      <td>[\"Essentials\", \"Hot water\", \"Dryer\", \"Extra pi...</td>\n",
              "      <td>$65.00</td>\n",
              "      <td>87</td>\n",
              "      <td>1</td>\n",
              "      <td>0</td>\n",
              "    </tr>\n",
              "    <tr>\n",
              "      <th>2</th>\n",
              "      <td>59258</td>\n",
              "      <td>https://www.airbnb.com/rooms/59258</td>\n",
              "      <td>20201021220716</td>\n",
              "      <td>2020-10-22</td>\n",
              "      <td>Lower level of my house to rent</td>\n",
              "      <td>Lower 1/2 of bungalow, a separate entrance, 10...</td>\n",
              "      <td>45.35900</td>\n",
              "      <td>-75.80314</td>\n",
              "      <td>Entire apartment</td>\n",
              "      <td>Entire home/apt</td>\n",
              "      <td>4</td>\n",
              "      <td>1 bath</td>\n",
              "      <td>1.0</td>\n",
              "      <td>1.0</td>\n",
              "      <td>[\"Wifi\", \"Washer\", \"Dryer\", \"Heating\", \"Free p...</td>\n",
              "      <td>$200.00</td>\n",
              "      <td>1</td>\n",
              "      <td>0</td>\n",
              "      <td>0</td>\n",
              "    </tr>\n",
              "    <tr>\n",
              "      <th>3</th>\n",
              "      <td>158824</td>\n",
              "      <td>https://www.airbnb.com/rooms/158824</td>\n",
              "      <td>20201021220716</td>\n",
              "      <td>2020-10-23</td>\n",
              "      <td>DOWNTOWN/GLEBE HOUSE WITH BACKYARD</td>\n",
              "      <td>Big 3 bedroom house with backyard in desirable...</td>\n",
              "      <td>45.40248</td>\n",
              "      <td>-75.69941</td>\n",
              "      <td>Entire house</td>\n",
              "      <td>Entire home/apt</td>\n",
              "      <td>3</td>\n",
              "      <td>1 bath</td>\n",
              "      <td>2.0</td>\n",
              "      <td>2.0</td>\n",
              "      <td>[\"Wifi\", \"Essentials\", \"Smoke alarm\", \"Washer\"...</td>\n",
              "      <td>$140.00</td>\n",
              "      <td>7</td>\n",
              "      <td>0</td>\n",
              "      <td>0</td>\n",
              "    </tr>\n",
              "    <tr>\n",
              "      <th>4</th>\n",
              "      <td>261065</td>\n",
              "      <td>https://www.airbnb.com/rooms/261065</td>\n",
              "      <td>20201021220716</td>\n",
              "      <td>2020-10-23</td>\n",
              "      <td>Westboro Village Executive Suite</td>\n",
              "      <td>A tastefully decorated and well equipped upper...</td>\n",
              "      <td>45.38972</td>\n",
              "      <td>-75.75496</td>\n",
              "      <td>Entire apartment</td>\n",
              "      <td>Entire home/apt</td>\n",
              "      <td>4</td>\n",
              "      <td>1 bath</td>\n",
              "      <td>1.0</td>\n",
              "      <td>1.0</td>\n",
              "      <td>[\"Essentials\", \"Hot water\", \"Dryer\", \"Stove\", ...</td>\n",
              "      <td>$150.00</td>\n",
              "      <td>64</td>\n",
              "      <td>6</td>\n",
              "      <td>1</td>\n",
              "    </tr>\n",
              "  </tbody>\n",
              "</table>\n",
              "</div>"
            ],
            "text/plain": [
              "       id  ... number_of_reviews_l30d\n",
              "0   34220  ...                      0\n",
              "1   36642  ...                      0\n",
              "2   59258  ...                      0\n",
              "3  158824  ...                      0\n",
              "4  261065  ...                      1\n",
              "\n",
              "[5 rows x 19 columns]"
            ]
          },
          "metadata": {
            "tags": []
          },
          "execution_count": 13
        }
      ]
    },
    {
      "cell_type": "code",
      "metadata": {
        "id": "pwSa0TujWVrG"
      },
      "source": [
        "listings['last_scraped'] = pd.to_datetime(listings['last_scraped'])"
      ],
      "execution_count": null,
      "outputs": []
    },
    {
      "cell_type": "code",
      "metadata": {
        "colab": {
          "base_uri": "https://localhost:8080/"
        },
        "id": "eSKmu8ViHF_O",
        "outputId": "b36f9e5f-bdf7-4a68-808d-3524a5d5d794"
      },
      "source": [
        "listings.info()"
      ],
      "execution_count": null,
      "outputs": [
        {
          "output_type": "stream",
          "text": [
            "<class 'pandas.core.frame.DataFrame'>\n",
            "RangeIndex: 2613 entries, 0 to 2612\n",
            "Data columns (total 19 columns):\n",
            " #   Column                  Non-Null Count  Dtype         \n",
            "---  ------                  --------------  -----         \n",
            " 0   id                      2613 non-null   int64         \n",
            " 1   listing_url             2613 non-null   object        \n",
            " 2   scrape_id               2613 non-null   int64         \n",
            " 3   last_scraped            2613 non-null   datetime64[ns]\n",
            " 4   name                    2613 non-null   object        \n",
            " 5   description             2523 non-null   object        \n",
            " 6   latitude                2613 non-null   float64       \n",
            " 7   longitude               2613 non-null   float64       \n",
            " 8   property_type           2613 non-null   object        \n",
            " 9   room_type               2613 non-null   object        \n",
            " 10  accommodates            2613 non-null   int64         \n",
            " 11  bathrooms_text          2610 non-null   object        \n",
            " 12  bedrooms                2413 non-null   float64       \n",
            " 13  beds                    2594 non-null   float64       \n",
            " 14  amenities               2613 non-null   object        \n",
            " 15  price                   2613 non-null   object        \n",
            " 16  number_of_reviews       2613 non-null   int64         \n",
            " 17  number_of_reviews_ltm   2613 non-null   int64         \n",
            " 18  number_of_reviews_l30d  2613 non-null   int64         \n",
            "dtypes: datetime64[ns](1), float64(4), int64(6), object(8)\n",
            "memory usage: 388.0+ KB\n"
          ],
          "name": "stdout"
        }
      ]
    },
    {
      "cell_type": "code",
      "metadata": {
        "id": "y5-iqDGWV_mq"
      },
      "source": [
        "listings.dropna(inplace=True)"
      ],
      "execution_count": null,
      "outputs": []
    },
    {
      "cell_type": "code",
      "metadata": {
        "colab": {
          "base_uri": "https://localhost:8080/"
        },
        "id": "QbPK0ESgX9US",
        "outputId": "55d44571-9f44-4ea4-c3fd-8629dc2e6b5d"
      },
      "source": [
        "listings.info()"
      ],
      "execution_count": null,
      "outputs": [
        {
          "output_type": "stream",
          "text": [
            "<class 'pandas.core.frame.DataFrame'>\n",
            "Int64Index: 2328 entries, 0 to 2612\n",
            "Data columns (total 19 columns):\n",
            " #   Column                  Non-Null Count  Dtype         \n",
            "---  ------                  --------------  -----         \n",
            " 0   id                      2328 non-null   int64         \n",
            " 1   listing_url             2328 non-null   object        \n",
            " 2   scrape_id               2328 non-null   int64         \n",
            " 3   last_scraped            2328 non-null   datetime64[ns]\n",
            " 4   name                    2328 non-null   object        \n",
            " 5   description             2328 non-null   object        \n",
            " 6   latitude                2328 non-null   float64       \n",
            " 7   longitude               2328 non-null   float64       \n",
            " 8   property_type           2328 non-null   object        \n",
            " 9   room_type               2328 non-null   object        \n",
            " 10  accommodates            2328 non-null   int64         \n",
            " 11  bathrooms_text          2328 non-null   object        \n",
            " 12  bedrooms                2328 non-null   float64       \n",
            " 13  beds                    2328 non-null   float64       \n",
            " 14  amenities               2328 non-null   object        \n",
            " 15  price                   2328 non-null   object        \n",
            " 16  number_of_reviews       2328 non-null   int64         \n",
            " 17  number_of_reviews_ltm   2328 non-null   int64         \n",
            " 18  number_of_reviews_l30d  2328 non-null   int64         \n",
            "dtypes: datetime64[ns](1), float64(4), int64(6), object(8)\n",
            "memory usage: 363.8+ KB\n"
          ],
          "name": "stdout"
        }
      ]
    },
    {
      "cell_type": "code",
      "metadata": {
        "colab": {
          "base_uri": "https://localhost:8080/"
        },
        "id": "hA0KAS_fX-0J",
        "outputId": "5fb5e67f-6c85-4c1e-c51d-0c1c4ad24202"
      },
      "source": [
        "listings.shape"
      ],
      "execution_count": null,
      "outputs": [
        {
          "output_type": "execute_result",
          "data": {
            "text/plain": [
              "(2328, 19)"
            ]
          },
          "metadata": {
            "tags": []
          },
          "execution_count": 18
        }
      ]
    },
    {
      "cell_type": "code",
      "metadata": {
        "id": "yePvMEzDj-KW"
      },
      "source": [
        ""
      ],
      "execution_count": null,
      "outputs": []
    }
  ]
}