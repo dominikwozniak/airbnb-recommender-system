{
  "nbformat": 4,
  "nbformat_minor": 0,
  "metadata": {
    "colab": {
      "name": "Ottawa-airbnb-recomemender-systems.ipynb",
      "provenance": []
    },
    "kernelspec": {
      "name": "python3",
      "display_name": "Python 3"
    },
    "accelerator": "GPU"
  },
  "cells": [
    {
      "cell_type": "code",
      "metadata": {
        "colab": {
          "base_uri": "https://localhost:8080/"
        },
        "id": "7qg6Es8Q2JSe",
        "outputId": "810256fb-7dcf-4b15-d500-7fb9d6b38380"
      },
      "source": [
        "!pip install langdetect\n",
        "!pip install geopandas"
      ],
      "execution_count": null,
      "outputs": [
        {
          "output_type": "stream",
          "text": [
            "Collecting langdetect\n",
            "\u001b[?25l  Downloading https://files.pythonhosted.org/packages/56/a3/8407c1e62d5980188b4acc45ef3d94b933d14a2ebc9ef3505f22cf772570/langdetect-1.0.8.tar.gz (981kB)\n",
            "\r\u001b[K     |▍                               | 10kB 23.5MB/s eta 0:00:01\r\u001b[K     |▊                               | 20kB 18.3MB/s eta 0:00:01\r\u001b[K     |█                               | 30kB 16.3MB/s eta 0:00:01\r\u001b[K     |█▍                              | 40kB 15.7MB/s eta 0:00:01\r\u001b[K     |█▊                              | 51kB 12.7MB/s eta 0:00:01\r\u001b[K     |██                              | 61kB 12.8MB/s eta 0:00:01\r\u001b[K     |██▍                             | 71kB 12.6MB/s eta 0:00:01\r\u001b[K     |██▊                             | 81kB 13.0MB/s eta 0:00:01\r\u001b[K     |███                             | 92kB 12.7MB/s eta 0:00:01\r\u001b[K     |███▍                            | 102kB 13.7MB/s eta 0:00:01\r\u001b[K     |███▊                            | 112kB 13.7MB/s eta 0:00:01\r\u001b[K     |████                            | 122kB 13.7MB/s eta 0:00:01\r\u001b[K     |████▍                           | 133kB 13.7MB/s eta 0:00:01\r\u001b[K     |████▊                           | 143kB 13.7MB/s eta 0:00:01\r\u001b[K     |█████                           | 153kB 13.7MB/s eta 0:00:01\r\u001b[K     |█████▍                          | 163kB 13.7MB/s eta 0:00:01\r\u001b[K     |█████▊                          | 174kB 13.7MB/s eta 0:00:01\r\u001b[K     |██████                          | 184kB 13.7MB/s eta 0:00:01\r\u001b[K     |██████▍                         | 194kB 13.7MB/s eta 0:00:01\r\u001b[K     |██████▊                         | 204kB 13.7MB/s eta 0:00:01\r\u001b[K     |███████                         | 215kB 13.7MB/s eta 0:00:01\r\u001b[K     |███████▍                        | 225kB 13.7MB/s eta 0:00:01\r\u001b[K     |███████▊                        | 235kB 13.7MB/s eta 0:00:01\r\u001b[K     |████████                        | 245kB 13.7MB/s eta 0:00:01\r\u001b[K     |████████▍                       | 256kB 13.7MB/s eta 0:00:01\r\u001b[K     |████████▊                       | 266kB 13.7MB/s eta 0:00:01\r\u001b[K     |█████████                       | 276kB 13.7MB/s eta 0:00:01\r\u001b[K     |█████████▍                      | 286kB 13.7MB/s eta 0:00:01\r\u001b[K     |█████████▊                      | 296kB 13.7MB/s eta 0:00:01\r\u001b[K     |██████████                      | 307kB 13.7MB/s eta 0:00:01\r\u001b[K     |██████████▍                     | 317kB 13.7MB/s eta 0:00:01\r\u001b[K     |██████████▊                     | 327kB 13.7MB/s eta 0:00:01\r\u001b[K     |███████████                     | 337kB 13.7MB/s eta 0:00:01\r\u001b[K     |███████████▍                    | 348kB 13.7MB/s eta 0:00:01\r\u001b[K     |███████████▊                    | 358kB 13.7MB/s eta 0:00:01\r\u001b[K     |████████████                    | 368kB 13.7MB/s eta 0:00:01\r\u001b[K     |████████████▍                   | 378kB 13.7MB/s eta 0:00:01\r\u001b[K     |████████████▊                   | 389kB 13.7MB/s eta 0:00:01\r\u001b[K     |█████████████                   | 399kB 13.7MB/s eta 0:00:01\r\u001b[K     |█████████████▍                  | 409kB 13.7MB/s eta 0:00:01\r\u001b[K     |█████████████▊                  | 419kB 13.7MB/s eta 0:00:01\r\u001b[K     |██████████████                  | 430kB 13.7MB/s eta 0:00:01\r\u001b[K     |██████████████▍                 | 440kB 13.7MB/s eta 0:00:01\r\u001b[K     |██████████████▊                 | 450kB 13.7MB/s eta 0:00:01\r\u001b[K     |███████████████                 | 460kB 13.7MB/s eta 0:00:01\r\u001b[K     |███████████████▍                | 471kB 13.7MB/s eta 0:00:01\r\u001b[K     |███████████████▊                | 481kB 13.7MB/s eta 0:00:01\r\u001b[K     |████████████████                | 491kB 13.7MB/s eta 0:00:01\r\u001b[K     |████████████████▍               | 501kB 13.7MB/s eta 0:00:01\r\u001b[K     |████████████████▊               | 512kB 13.7MB/s eta 0:00:01\r\u001b[K     |█████████████████               | 522kB 13.7MB/s eta 0:00:01\r\u001b[K     |█████████████████▍              | 532kB 13.7MB/s eta 0:00:01\r\u001b[K     |█████████████████▊              | 542kB 13.7MB/s eta 0:00:01\r\u001b[K     |██████████████████              | 552kB 13.7MB/s eta 0:00:01\r\u001b[K     |██████████████████▍             | 563kB 13.7MB/s eta 0:00:01\r\u001b[K     |██████████████████▊             | 573kB 13.7MB/s eta 0:00:01\r\u001b[K     |███████████████████             | 583kB 13.7MB/s eta 0:00:01\r\u001b[K     |███████████████████▍            | 593kB 13.7MB/s eta 0:00:01\r\u001b[K     |███████████████████▊            | 604kB 13.7MB/s eta 0:00:01\r\u001b[K     |████████████████████            | 614kB 13.7MB/s eta 0:00:01\r\u001b[K     |████████████████████▍           | 624kB 13.7MB/s eta 0:00:01\r\u001b[K     |████████████████████▊           | 634kB 13.7MB/s eta 0:00:01\r\u001b[K     |█████████████████████           | 645kB 13.7MB/s eta 0:00:01\r\u001b[K     |█████████████████████▍          | 655kB 13.7MB/s eta 0:00:01\r\u001b[K     |█████████████████████▊          | 665kB 13.7MB/s eta 0:00:01\r\u001b[K     |██████████████████████          | 675kB 13.7MB/s eta 0:00:01\r\u001b[K     |██████████████████████▍         | 686kB 13.7MB/s eta 0:00:01\r\u001b[K     |██████████████████████▊         | 696kB 13.7MB/s eta 0:00:01\r\u001b[K     |███████████████████████         | 706kB 13.7MB/s eta 0:00:01\r\u001b[K     |███████████████████████▍        | 716kB 13.7MB/s eta 0:00:01\r\u001b[K     |███████████████████████▊        | 727kB 13.7MB/s eta 0:00:01\r\u001b[K     |████████████████████████        | 737kB 13.7MB/s eta 0:00:01\r\u001b[K     |████████████████████████▍       | 747kB 13.7MB/s eta 0:00:01\r\u001b[K     |████████████████████████▊       | 757kB 13.7MB/s eta 0:00:01\r\u001b[K     |█████████████████████████       | 768kB 13.7MB/s eta 0:00:01\r\u001b[K     |█████████████████████████▍      | 778kB 13.7MB/s eta 0:00:01\r\u001b[K     |█████████████████████████▊      | 788kB 13.7MB/s eta 0:00:01\r\u001b[K     |██████████████████████████      | 798kB 13.7MB/s eta 0:00:01\r\u001b[K     |██████████████████████████▍     | 808kB 13.7MB/s eta 0:00:01\r\u001b[K     |██████████████████████████▊     | 819kB 13.7MB/s eta 0:00:01\r\u001b[K     |███████████████████████████     | 829kB 13.7MB/s eta 0:00:01\r\u001b[K     |███████████████████████████▍    | 839kB 13.7MB/s eta 0:00:01\r\u001b[K     |███████████████████████████▊    | 849kB 13.7MB/s eta 0:00:01\r\u001b[K     |████████████████████████████    | 860kB 13.7MB/s eta 0:00:01\r\u001b[K     |████████████████████████████▍   | 870kB 13.7MB/s eta 0:00:01\r\u001b[K     |████████████████████████████▊   | 880kB 13.7MB/s eta 0:00:01\r\u001b[K     |█████████████████████████████   | 890kB 13.7MB/s eta 0:00:01\r\u001b[K     |█████████████████████████████▍  | 901kB 13.7MB/s eta 0:00:01\r\u001b[K     |█████████████████████████████▊  | 911kB 13.7MB/s eta 0:00:01\r\u001b[K     |██████████████████████████████  | 921kB 13.7MB/s eta 0:00:01\r\u001b[K     |██████████████████████████████▍ | 931kB 13.7MB/s eta 0:00:01\r\u001b[K     |██████████████████████████████▊ | 942kB 13.7MB/s eta 0:00:01\r\u001b[K     |███████████████████████████████ | 952kB 13.7MB/s eta 0:00:01\r\u001b[K     |███████████████████████████████▍| 962kB 13.7MB/s eta 0:00:01\r\u001b[K     |███████████████████████████████▊| 972kB 13.7MB/s eta 0:00:01\r\u001b[K     |████████████████████████████████| 983kB 13.7MB/s \n",
            "\u001b[?25hRequirement already satisfied: six in /usr/local/lib/python3.6/dist-packages (from langdetect) (1.15.0)\n",
            "Building wheels for collected packages: langdetect\n",
            "  Building wheel for langdetect (setup.py) ... \u001b[?25l\u001b[?25hdone\n",
            "  Created wheel for langdetect: filename=langdetect-1.0.8-cp36-none-any.whl size=993195 sha256=1f985143667c702a009197ae64119e10f26a44d46bb26495186794a3aac62c46\n",
            "  Stored in directory: /root/.cache/pip/wheels/8d/b3/aa/6d99de9f3841d7d3d40a60ea06e6d669e8e5012e6c8b947a57\n",
            "Successfully built langdetect\n",
            "Installing collected packages: langdetect\n",
            "Successfully installed langdetect-1.0.8\n",
            "Collecting geopandas\n",
            "\u001b[?25l  Downloading https://files.pythonhosted.org/packages/f7/a4/e66aafbefcbb717813bf3a355c8c4fc3ed04ea1dd7feb2920f2f4f868921/geopandas-0.8.1-py2.py3-none-any.whl (962kB)\n",
            "\u001b[K     |████████████████████████████████| 972kB 15.6MB/s \n",
            "\u001b[?25hRequirement already satisfied: pandas>=0.23.0 in /usr/local/lib/python3.6/dist-packages (from geopandas) (1.1.4)\n",
            "Collecting pyproj>=2.2.0\n",
            "\u001b[?25l  Downloading https://files.pythonhosted.org/packages/e4/ab/280e80a67cfc109d15428c0ec56391fc03a65857b7727cf4e6e6f99a4204/pyproj-3.0.0.post1-cp36-cp36m-manylinux2010_x86_64.whl (6.4MB)\n",
            "\u001b[K     |████████████████████████████████| 6.5MB 52.1MB/s \n",
            "\u001b[?25hRequirement already satisfied: shapely in /usr/local/lib/python3.6/dist-packages (from geopandas) (1.7.1)\n",
            "Collecting fiona\n",
            "\u001b[?25l  Downloading https://files.pythonhosted.org/packages/37/94/4910fd55246c1d963727b03885ead6ef1cd3748a465f7b0239ab25dfc9a3/Fiona-1.8.18-cp36-cp36m-manylinux1_x86_64.whl (14.8MB)\n",
            "\u001b[K     |████████████████████████████████| 14.8MB 208kB/s \n",
            "\u001b[?25hRequirement already satisfied: python-dateutil>=2.7.3 in /usr/local/lib/python3.6/dist-packages (from pandas>=0.23.0->geopandas) (2.8.1)\n",
            "Requirement already satisfied: numpy>=1.15.4 in /usr/local/lib/python3.6/dist-packages (from pandas>=0.23.0->geopandas) (1.18.5)\n",
            "Requirement already satisfied: pytz>=2017.2 in /usr/local/lib/python3.6/dist-packages (from pandas>=0.23.0->geopandas) (2018.9)\n",
            "Requirement already satisfied: certifi in /usr/local/lib/python3.6/dist-packages (from pyproj>=2.2.0->geopandas) (2020.11.8)\n",
            "Collecting munch\n",
            "  Downloading https://files.pythonhosted.org/packages/cc/ab/85d8da5c9a45e072301beb37ad7f833cd344e04c817d97e0cc75681d248f/munch-2.5.0-py2.py3-none-any.whl\n",
            "Collecting click-plugins>=1.0\n",
            "  Downloading https://files.pythonhosted.org/packages/e9/da/824b92d9942f4e472702488857914bdd50f73021efea15b4cad9aca8ecef/click_plugins-1.1.1-py2.py3-none-any.whl\n",
            "Requirement already satisfied: six>=1.7 in /usr/local/lib/python3.6/dist-packages (from fiona->geopandas) (1.15.0)\n",
            "Collecting cligj>=0.5\n",
            "  Downloading https://files.pythonhosted.org/packages/42/1e/947eadf10d6804bf276eb8a038bd5307996dceaaa41cfd21b7a15ec62f5d/cligj-0.7.1-py3-none-any.whl\n",
            "Requirement already satisfied: attrs>=17 in /usr/local/lib/python3.6/dist-packages (from fiona->geopandas) (20.3.0)\n",
            "Requirement already satisfied: click<8,>=4.0 in /usr/local/lib/python3.6/dist-packages (from fiona->geopandas) (7.1.2)\n",
            "Installing collected packages: pyproj, munch, click-plugins, cligj, fiona, geopandas\n",
            "Successfully installed click-plugins-1.1.1 cligj-0.7.1 fiona-1.8.18 geopandas-0.8.1 munch-2.5.0 pyproj-3.0.0.post1\n"
          ],
          "name": "stdout"
        }
      ]
    },
    {
      "cell_type": "code",
      "metadata": {
        "id": "kFu8REfXeaGO"
      },
      "source": [
        "import numpy as np\n",
        "import pandas as pd\n",
        "import plotly.express as px\n",
        "import plotly.graph_objects as go\n",
        "from matplotlib import pyplot as plt\n",
        "import re\n",
        "\n",
        "plt.style.use('fivethirtyeight')"
      ],
      "execution_count": null,
      "outputs": []
    },
    {
      "cell_type": "code",
      "metadata": {
        "colab": {
          "base_uri": "https://localhost:8080/"
        },
        "id": "cel76hYZ2HBl",
        "outputId": "446d3959-bede-406d-f599-1f825e304a59"
      },
      "source": [
        "import numpy as np\n",
        "import pandas as pd\n",
        "import matplotlib.pyplot as plt\n",
        "import re\n",
        "import string\n",
        "\n",
        "from langdetect import detect\n",
        "\n",
        "from sklearn.feature_extraction.text import TfidfVectorizer\n",
        "\n",
        "from nltk.sentiment.vader import SentimentIntensityAnalyzer\n",
        "from collections import Counter\n",
        "from scipy import stats\n",
        "from dateutil import parser\n",
        "\n",
        "import seaborn as sns\n",
        "\n",
        "import shapely\n",
        "from shapely.geometry import Point\n",
        "import geopandas as gpd"
      ],
      "execution_count": null,
      "outputs": [
        {
          "output_type": "stream",
          "text": [
            "/usr/local/lib/python3.6/dist-packages/nltk/twitter/__init__.py:20: UserWarning:\n",
            "\n",
            "The twython library has not been installed. Some functionality from the twitter package will not be available.\n",
            "\n"
          ],
          "name": "stderr"
        }
      ]
    },
    {
      "cell_type": "code",
      "metadata": {
        "id": "s2B20oVAmVSC"
      },
      "source": [
        "REVIEWS_URL = 'https://ids-storage-football-prediction.s3-eu-west-1.amazonaws.com/data_mmwd/reviews.csv'\n",
        "REVIEWS_AND_POLARITY_URL = 'https://ids-storage-football-prediction.s3-eu-west-1.amazonaws.com/data_mmwd/reviews_en_polarity.csv'\n",
        "CALENDAR_URL = 'https://ids-storage-football-prediction.s3-eu-west-1.amazonaws.com/data_mmwd/calendar.csv'\n",
        "LISTINGS_URL = 'https://ids-storage-football-prediction.s3-eu-west-1.amazonaws.com/data_mmwd/listings.csv'"
      ],
      "execution_count": null,
      "outputs": []
    },
    {
      "cell_type": "markdown",
      "metadata": {
        "id": "4_r65mMYf-bt"
      },
      "source": [
        "**Wczytywanie danych**"
      ]
    },
    {
      "cell_type": "code",
      "metadata": {
        "id": "P5IUHt9KefEq"
      },
      "source": [
        "df = pd.read_csv(LISTINGS_URL)"
      ],
      "execution_count": null,
      "outputs": []
    },
    {
      "cell_type": "code",
      "metadata": {
        "colab": {
          "base_uri": "https://localhost:8080/",
          "height": 591
        },
        "id": "xxYlCf5Qe_1_",
        "outputId": "05d004da-d4b6-4261-cac0-8167664994b3"
      },
      "source": [
        "df.head()"
      ],
      "execution_count": null,
      "outputs": [
        {
          "output_type": "execute_result",
          "data": {
            "text/html": [
              "<div>\n",
              "<style scoped>\n",
              "    .dataframe tbody tr th:only-of-type {\n",
              "        vertical-align: middle;\n",
              "    }\n",
              "\n",
              "    .dataframe tbody tr th {\n",
              "        vertical-align: top;\n",
              "    }\n",
              "\n",
              "    .dataframe thead th {\n",
              "        text-align: right;\n",
              "    }\n",
              "</style>\n",
              "<table border=\"1\" class=\"dataframe\">\n",
              "  <thead>\n",
              "    <tr style=\"text-align: right;\">\n",
              "      <th></th>\n",
              "      <th>id</th>\n",
              "      <th>listing_url</th>\n",
              "      <th>scrape_id</th>\n",
              "      <th>last_scraped</th>\n",
              "      <th>name</th>\n",
              "      <th>description</th>\n",
              "      <th>neighborhood_overview</th>\n",
              "      <th>picture_url</th>\n",
              "      <th>host_id</th>\n",
              "      <th>host_url</th>\n",
              "      <th>host_name</th>\n",
              "      <th>host_since</th>\n",
              "      <th>host_location</th>\n",
              "      <th>host_about</th>\n",
              "      <th>host_response_time</th>\n",
              "      <th>host_response_rate</th>\n",
              "      <th>host_acceptance_rate</th>\n",
              "      <th>host_is_superhost</th>\n",
              "      <th>host_thumbnail_url</th>\n",
              "      <th>host_picture_url</th>\n",
              "      <th>host_neighbourhood</th>\n",
              "      <th>host_listings_count</th>\n",
              "      <th>host_total_listings_count</th>\n",
              "      <th>host_verifications</th>\n",
              "      <th>host_has_profile_pic</th>\n",
              "      <th>host_identity_verified</th>\n",
              "      <th>neighbourhood</th>\n",
              "      <th>neighbourhood_cleansed</th>\n",
              "      <th>neighbourhood_group_cleansed</th>\n",
              "      <th>latitude</th>\n",
              "      <th>longitude</th>\n",
              "      <th>property_type</th>\n",
              "      <th>room_type</th>\n",
              "      <th>accommodates</th>\n",
              "      <th>bathrooms</th>\n",
              "      <th>bathrooms_text</th>\n",
              "      <th>bedrooms</th>\n",
              "      <th>beds</th>\n",
              "      <th>amenities</th>\n",
              "      <th>price</th>\n",
              "      <th>minimum_nights</th>\n",
              "      <th>maximum_nights</th>\n",
              "      <th>minimum_minimum_nights</th>\n",
              "      <th>maximum_minimum_nights</th>\n",
              "      <th>minimum_maximum_nights</th>\n",
              "      <th>maximum_maximum_nights</th>\n",
              "      <th>minimum_nights_avg_ntm</th>\n",
              "      <th>maximum_nights_avg_ntm</th>\n",
              "      <th>calendar_updated</th>\n",
              "      <th>has_availability</th>\n",
              "      <th>availability_30</th>\n",
              "      <th>availability_60</th>\n",
              "      <th>availability_90</th>\n",
              "      <th>availability_365</th>\n",
              "      <th>calendar_last_scraped</th>\n",
              "      <th>number_of_reviews</th>\n",
              "      <th>number_of_reviews_ltm</th>\n",
              "      <th>number_of_reviews_l30d</th>\n",
              "      <th>first_review</th>\n",
              "      <th>last_review</th>\n",
              "      <th>review_scores_rating</th>\n",
              "      <th>review_scores_accuracy</th>\n",
              "      <th>review_scores_cleanliness</th>\n",
              "      <th>review_scores_checkin</th>\n",
              "      <th>review_scores_communication</th>\n",
              "      <th>review_scores_location</th>\n",
              "      <th>review_scores_value</th>\n",
              "      <th>license</th>\n",
              "      <th>instant_bookable</th>\n",
              "      <th>calculated_host_listings_count</th>\n",
              "      <th>calculated_host_listings_count_entire_homes</th>\n",
              "      <th>calculated_host_listings_count_private_rooms</th>\n",
              "      <th>calculated_host_listings_count_shared_rooms</th>\n",
              "      <th>reviews_per_month</th>\n",
              "    </tr>\n",
              "  </thead>\n",
              "  <tbody>\n",
              "    <tr>\n",
              "      <th>0</th>\n",
              "      <td>34220</td>\n",
              "      <td>https://www.airbnb.com/rooms/34220</td>\n",
              "      <td>20201021220716</td>\n",
              "      <td>2020-10-23</td>\n",
              "      <td>Room available</td>\n",
              "      <td>&lt;b&gt;The space&lt;/b&gt;&lt;br /&gt;This room is part of a t...</td>\n",
              "      <td>NaN</td>\n",
              "      <td>https://a0.muscache.com/pictures/192935/3bf5a8...</td>\n",
              "      <td>147438</td>\n",
              "      <td>https://www.airbnb.com/users/show/147438</td>\n",
              "      <td>Mark</td>\n",
              "      <td>2010-06-18</td>\n",
              "      <td>CA</td>\n",
              "      <td>NaN</td>\n",
              "      <td>NaN</td>\n",
              "      <td>NaN</td>\n",
              "      <td>NaN</td>\n",
              "      <td>f</td>\n",
              "      <td>https://a0.muscache.com/defaults/user_pic-50x5...</td>\n",
              "      <td>https://a0.muscache.com/defaults/user_pic-225x...</td>\n",
              "      <td>NaN</td>\n",
              "      <td>1</td>\n",
              "      <td>1</td>\n",
              "      <td>[]</td>\n",
              "      <td>f</td>\n",
              "      <td>f</td>\n",
              "      <td>NaN</td>\n",
              "      <td>Capital</td>\n",
              "      <td>NaN</td>\n",
              "      <td>45.40924</td>\n",
              "      <td>-75.67900</td>\n",
              "      <td>Private room in apartment</td>\n",
              "      <td>Private room</td>\n",
              "      <td>2</td>\n",
              "      <td>NaN</td>\n",
              "      <td>1 bath</td>\n",
              "      <td>1.0</td>\n",
              "      <td>1.0</td>\n",
              "      <td>[\"Wifi\", \"Heating\", \"Free parking on premises\"...</td>\n",
              "      <td>$202.00</td>\n",
              "      <td>7</td>\n",
              "      <td>31</td>\n",
              "      <td>7</td>\n",
              "      <td>7</td>\n",
              "      <td>31</td>\n",
              "      <td>31</td>\n",
              "      <td>7.0</td>\n",
              "      <td>31.0</td>\n",
              "      <td>NaN</td>\n",
              "      <td>t</td>\n",
              "      <td>1</td>\n",
              "      <td>1</td>\n",
              "      <td>1</td>\n",
              "      <td>1</td>\n",
              "      <td>2020-10-23</td>\n",
              "      <td>0</td>\n",
              "      <td>0</td>\n",
              "      <td>0</td>\n",
              "      <td>NaN</td>\n",
              "      <td>NaN</td>\n",
              "      <td>NaN</td>\n",
              "      <td>NaN</td>\n",
              "      <td>NaN</td>\n",
              "      <td>NaN</td>\n",
              "      <td>NaN</td>\n",
              "      <td>NaN</td>\n",
              "      <td>NaN</td>\n",
              "      <td>NaN</td>\n",
              "      <td>f</td>\n",
              "      <td>1</td>\n",
              "      <td>0</td>\n",
              "      <td>1</td>\n",
              "      <td>0</td>\n",
              "      <td>NaN</td>\n",
              "    </tr>\n",
              "    <tr>\n",
              "      <th>1</th>\n",
              "      <td>36642</td>\n",
              "      <td>https://www.airbnb.com/rooms/36642</td>\n",
              "      <td>20201021220716</td>\n",
              "      <td>2020-10-22</td>\n",
              "      <td>City Conveniences A Country Setting</td>\n",
              "      <td>&lt;b&gt;The space&lt;/b&gt;&lt;br /&gt;Are you planning a vacat...</td>\n",
              "      <td>NaN</td>\n",
              "      <td>https://a0.muscache.com/pictures/7542487/52136...</td>\n",
              "      <td>157787</td>\n",
              "      <td>https://www.airbnb.com/users/show/157787</td>\n",
              "      <td>Donna</td>\n",
              "      <td>2010-07-04</td>\n",
              "      <td>Ottawa, Ontario, Canada</td>\n",
              "      <td>I am originally from Nova Scotia but I have li...</td>\n",
              "      <td>NaN</td>\n",
              "      <td>NaN</td>\n",
              "      <td>100%</td>\n",
              "      <td>f</td>\n",
              "      <td>https://a0.muscache.com/im/users/157787/profil...</td>\n",
              "      <td>https://a0.muscache.com/im/users/157787/profil...</td>\n",
              "      <td>NaN</td>\n",
              "      <td>1</td>\n",
              "      <td>1</td>\n",
              "      <td>['email', 'phone', 'facebook', 'reviews']</td>\n",
              "      <td>t</td>\n",
              "      <td>f</td>\n",
              "      <td>NaN</td>\n",
              "      <td>Kitchissippi</td>\n",
              "      <td>NaN</td>\n",
              "      <td>45.40159</td>\n",
              "      <td>-75.74679</td>\n",
              "      <td>Private room in house</td>\n",
              "      <td>Private room</td>\n",
              "      <td>2</td>\n",
              "      <td>NaN</td>\n",
              "      <td>2 baths</td>\n",
              "      <td>1.0</td>\n",
              "      <td>1.0</td>\n",
              "      <td>[\"Essentials\", \"Hot water\", \"Dryer\", \"Extra pi...</td>\n",
              "      <td>$65.00</td>\n",
              "      <td>3</td>\n",
              "      <td>14</td>\n",
              "      <td>3</td>\n",
              "      <td>3</td>\n",
              "      <td>14</td>\n",
              "      <td>14</td>\n",
              "      <td>3.0</td>\n",
              "      <td>14.0</td>\n",
              "      <td>NaN</td>\n",
              "      <td>t</td>\n",
              "      <td>29</td>\n",
              "      <td>59</td>\n",
              "      <td>89</td>\n",
              "      <td>364</td>\n",
              "      <td>2020-10-22</td>\n",
              "      <td>87</td>\n",
              "      <td>1</td>\n",
              "      <td>0</td>\n",
              "      <td>2010-07-11</td>\n",
              "      <td>2020-02-17</td>\n",
              "      <td>94.0</td>\n",
              "      <td>10.0</td>\n",
              "      <td>10.0</td>\n",
              "      <td>10.0</td>\n",
              "      <td>10.0</td>\n",
              "      <td>10.0</td>\n",
              "      <td>9.0</td>\n",
              "      <td>NaN</td>\n",
              "      <td>f</td>\n",
              "      <td>1</td>\n",
              "      <td>0</td>\n",
              "      <td>1</td>\n",
              "      <td>0</td>\n",
              "      <td>0.69</td>\n",
              "    </tr>\n",
              "    <tr>\n",
              "      <th>2</th>\n",
              "      <td>59258</td>\n",
              "      <td>https://www.airbnb.com/rooms/59258</td>\n",
              "      <td>20201021220716</td>\n",
              "      <td>2020-10-22</td>\n",
              "      <td>Lower level of my house to rent</td>\n",
              "      <td>Lower 1/2 of bungalow, a separate entrance, 10...</td>\n",
              "      <td>NaN</td>\n",
              "      <td>https://a0.muscache.com/pictures/359337/5d90d6...</td>\n",
              "      <td>284351</td>\n",
              "      <td>https://www.airbnb.com/users/show/284351</td>\n",
              "      <td>Elena</td>\n",
              "      <td>2010-11-11</td>\n",
              "      <td>Ottawa, Ontario, Canada</td>\n",
              "      <td>Canada rocks!</td>\n",
              "      <td>NaN</td>\n",
              "      <td>NaN</td>\n",
              "      <td>NaN</td>\n",
              "      <td>f</td>\n",
              "      <td>https://a0.muscache.com/im/users/284351/profil...</td>\n",
              "      <td>https://a0.muscache.com/im/users/284351/profil...</td>\n",
              "      <td>NaN</td>\n",
              "      <td>1</td>\n",
              "      <td>1</td>\n",
              "      <td>['email', 'phone', 'reviews', 'offline_governm...</td>\n",
              "      <td>t</td>\n",
              "      <td>t</td>\n",
              "      <td>NaN</td>\n",
              "      <td>Bay</td>\n",
              "      <td>NaN</td>\n",
              "      <td>45.35900</td>\n",
              "      <td>-75.80314</td>\n",
              "      <td>Entire apartment</td>\n",
              "      <td>Entire home/apt</td>\n",
              "      <td>4</td>\n",
              "      <td>NaN</td>\n",
              "      <td>1 bath</td>\n",
              "      <td>1.0</td>\n",
              "      <td>1.0</td>\n",
              "      <td>[\"Wifi\", \"Washer\", \"Dryer\", \"Heating\", \"Free p...</td>\n",
              "      <td>$200.00</td>\n",
              "      <td>3</td>\n",
              "      <td>730</td>\n",
              "      <td>3</td>\n",
              "      <td>3</td>\n",
              "      <td>730</td>\n",
              "      <td>730</td>\n",
              "      <td>3.0</td>\n",
              "      <td>730.0</td>\n",
              "      <td>NaN</td>\n",
              "      <td>t</td>\n",
              "      <td>0</td>\n",
              "      <td>0</td>\n",
              "      <td>0</td>\n",
              "      <td>0</td>\n",
              "      <td>2020-10-22</td>\n",
              "      <td>1</td>\n",
              "      <td>0</td>\n",
              "      <td>0</td>\n",
              "      <td>2011-07-04</td>\n",
              "      <td>2011-07-04</td>\n",
              "      <td>100.0</td>\n",
              "      <td>10.0</td>\n",
              "      <td>8.0</td>\n",
              "      <td>10.0</td>\n",
              "      <td>10.0</td>\n",
              "      <td>10.0</td>\n",
              "      <td>10.0</td>\n",
              "      <td>NaN</td>\n",
              "      <td>f</td>\n",
              "      <td>1</td>\n",
              "      <td>1</td>\n",
              "      <td>0</td>\n",
              "      <td>0</td>\n",
              "      <td>0.01</td>\n",
              "    </tr>\n",
              "    <tr>\n",
              "      <th>3</th>\n",
              "      <td>158824</td>\n",
              "      <td>https://www.airbnb.com/rooms/158824</td>\n",
              "      <td>20201021220716</td>\n",
              "      <td>2020-10-23</td>\n",
              "      <td>DOWNTOWN/GLEBE HOUSE WITH BACKYARD</td>\n",
              "      <td>Big 3 bedroom house with backyard in desirable...</td>\n",
              "      <td>Very popular neighbourhood surrounded by milli...</td>\n",
              "      <td>https://a0.muscache.com/pictures/82249081/0a7b...</td>\n",
              "      <td>87296</td>\n",
              "      <td>https://www.airbnb.com/users/show/87296</td>\n",
              "      <td>Luc</td>\n",
              "      <td>2010-03-02</td>\n",
              "      <td>Ottawa, Ontario, Canada</td>\n",
              "      <td>World Traveler always interested to meet new p...</td>\n",
              "      <td>within a day</td>\n",
              "      <td>100%</td>\n",
              "      <td>100%</td>\n",
              "      <td>f</td>\n",
              "      <td>https://a0.muscache.com/im/pictures/user/576b9...</td>\n",
              "      <td>https://a0.muscache.com/im/pictures/user/576b9...</td>\n",
              "      <td>NaN</td>\n",
              "      <td>2</td>\n",
              "      <td>2</td>\n",
              "      <td>['email', 'phone', 'reviews', 'jumio', 'offlin...</td>\n",
              "      <td>t</td>\n",
              "      <td>t</td>\n",
              "      <td>Ottawa, Ontario, Canada</td>\n",
              "      <td>Capital</td>\n",
              "      <td>NaN</td>\n",
              "      <td>45.40248</td>\n",
              "      <td>-75.69941</td>\n",
              "      <td>Entire house</td>\n",
              "      <td>Entire home/apt</td>\n",
              "      <td>3</td>\n",
              "      <td>NaN</td>\n",
              "      <td>1 bath</td>\n",
              "      <td>2.0</td>\n",
              "      <td>2.0</td>\n",
              "      <td>[\"Wifi\", \"Essentials\", \"Smoke alarm\", \"Washer\"...</td>\n",
              "      <td>$140.00</td>\n",
              "      <td>3</td>\n",
              "      <td>365</td>\n",
              "      <td>3</td>\n",
              "      <td>3</td>\n",
              "      <td>365</td>\n",
              "      <td>365</td>\n",
              "      <td>3.0</td>\n",
              "      <td>365.0</td>\n",
              "      <td>NaN</td>\n",
              "      <td>t</td>\n",
              "      <td>0</td>\n",
              "      <td>0</td>\n",
              "      <td>0</td>\n",
              "      <td>0</td>\n",
              "      <td>2020-10-23</td>\n",
              "      <td>7</td>\n",
              "      <td>0</td>\n",
              "      <td>0</td>\n",
              "      <td>2011-09-22</td>\n",
              "      <td>2015-08-30</td>\n",
              "      <td>95.0</td>\n",
              "      <td>10.0</td>\n",
              "      <td>9.0</td>\n",
              "      <td>10.0</td>\n",
              "      <td>10.0</td>\n",
              "      <td>10.0</td>\n",
              "      <td>10.0</td>\n",
              "      <td>NaN</td>\n",
              "      <td>f</td>\n",
              "      <td>1</td>\n",
              "      <td>1</td>\n",
              "      <td>0</td>\n",
              "      <td>0</td>\n",
              "      <td>0.06</td>\n",
              "    </tr>\n",
              "    <tr>\n",
              "      <th>4</th>\n",
              "      <td>261065</td>\n",
              "      <td>https://www.airbnb.com/rooms/261065</td>\n",
              "      <td>20201021220716</td>\n",
              "      <td>2020-10-23</td>\n",
              "      <td>Westboro Village Executive Suite</td>\n",
              "      <td>A tastefully decorated and well equipped upper...</td>\n",
              "      <td>Westboro Village is a century-old community, a...</td>\n",
              "      <td>https://a0.muscache.com/pictures/2561680/6c684...</td>\n",
              "      <td>1369632</td>\n",
              "      <td>https://www.airbnb.com/users/show/1369632</td>\n",
              "      <td>Glenn</td>\n",
              "      <td>2011-11-04</td>\n",
              "      <td>Ottawa, Ontario, Canada</td>\n",
              "      <td>My adventurous spirit was awakened when I went...</td>\n",
              "      <td>within a few hours</td>\n",
              "      <td>100%</td>\n",
              "      <td>71%</td>\n",
              "      <td>t</td>\n",
              "      <td>https://a0.muscache.com/im/users/1369632/profi...</td>\n",
              "      <td>https://a0.muscache.com/im/users/1369632/profi...</td>\n",
              "      <td>NaN</td>\n",
              "      <td>1</td>\n",
              "      <td>1</td>\n",
              "      <td>['email', 'phone', 'facebook', 'reviews', 'jum...</td>\n",
              "      <td>t</td>\n",
              "      <td>t</td>\n",
              "      <td>Ottawa, Ontario, Canada</td>\n",
              "      <td>Kitchissippi</td>\n",
              "      <td>NaN</td>\n",
              "      <td>45.38972</td>\n",
              "      <td>-75.75496</td>\n",
              "      <td>Entire apartment</td>\n",
              "      <td>Entire home/apt</td>\n",
              "      <td>4</td>\n",
              "      <td>NaN</td>\n",
              "      <td>1 bath</td>\n",
              "      <td>1.0</td>\n",
              "      <td>1.0</td>\n",
              "      <td>[\"Essentials\", \"Hot water\", \"Dryer\", \"Stove\", ...</td>\n",
              "      <td>$150.00</td>\n",
              "      <td>3</td>\n",
              "      <td>180</td>\n",
              "      <td>3</td>\n",
              "      <td>3</td>\n",
              "      <td>180</td>\n",
              "      <td>180</td>\n",
              "      <td>3.0</td>\n",
              "      <td>180.0</td>\n",
              "      <td>NaN</td>\n",
              "      <td>t</td>\n",
              "      <td>19</td>\n",
              "      <td>49</td>\n",
              "      <td>79</td>\n",
              "      <td>354</td>\n",
              "      <td>2020-10-23</td>\n",
              "      <td>64</td>\n",
              "      <td>6</td>\n",
              "      <td>1</td>\n",
              "      <td>2011-12-24</td>\n",
              "      <td>2020-09-15</td>\n",
              "      <td>99.0</td>\n",
              "      <td>10.0</td>\n",
              "      <td>10.0</td>\n",
              "      <td>10.0</td>\n",
              "      <td>10.0</td>\n",
              "      <td>10.0</td>\n",
              "      <td>10.0</td>\n",
              "      <td>NaN</td>\n",
              "      <td>f</td>\n",
              "      <td>1</td>\n",
              "      <td>1</td>\n",
              "      <td>0</td>\n",
              "      <td>0</td>\n",
              "      <td>0.59</td>\n",
              "    </tr>\n",
              "  </tbody>\n",
              "</table>\n",
              "</div>"
            ],
            "text/plain": [
              "       id  ... reviews_per_month\n",
              "0   34220  ...               NaN\n",
              "1   36642  ...              0.69\n",
              "2   59258  ...              0.01\n",
              "3  158824  ...              0.06\n",
              "4  261065  ...              0.59\n",
              "\n",
              "[5 rows x 74 columns]"
            ]
          },
          "metadata": {
            "tags": []
          },
          "execution_count": 6
        }
      ]
    },
    {
      "cell_type": "code",
      "metadata": {
        "colab": {
          "base_uri": "https://localhost:8080/"
        },
        "id": "8p0SgEoWfA8L",
        "outputId": "9e577c60-de2d-47da-ef6f-9e35a44d118f"
      },
      "source": [
        "df.info()"
      ],
      "execution_count": null,
      "outputs": [
        {
          "output_type": "stream",
          "text": [
            "<class 'pandas.core.frame.DataFrame'>\n",
            "RangeIndex: 2613 entries, 0 to 2612\n",
            "Data columns (total 74 columns):\n",
            " #   Column                                        Non-Null Count  Dtype  \n",
            "---  ------                                        --------------  -----  \n",
            " 0   id                                            2613 non-null   int64  \n",
            " 1   listing_url                                   2613 non-null   object \n",
            " 2   scrape_id                                     2613 non-null   int64  \n",
            " 3   last_scraped                                  2613 non-null   object \n",
            " 4   name                                          2613 non-null   object \n",
            " 5   description                                   2523 non-null   object \n",
            " 6   neighborhood_overview                         1800 non-null   object \n",
            " 7   picture_url                                   2613 non-null   object \n",
            " 8   host_id                                       2613 non-null   int64  \n",
            " 9   host_url                                      2613 non-null   object \n",
            " 10  host_name                                     2613 non-null   object \n",
            " 11  host_since                                    2613 non-null   object \n",
            " 12  host_location                                 2611 non-null   object \n",
            " 13  host_about                                    1583 non-null   object \n",
            " 14  host_response_time                            1892 non-null   object \n",
            " 15  host_response_rate                            1892 non-null   object \n",
            " 16  host_acceptance_rate                          2167 non-null   object \n",
            " 17  host_is_superhost                             2613 non-null   object \n",
            " 18  host_thumbnail_url                            2613 non-null   object \n",
            " 19  host_picture_url                              2613 non-null   object \n",
            " 20  host_neighbourhood                            591 non-null    object \n",
            " 21  host_listings_count                           2613 non-null   int64  \n",
            " 22  host_total_listings_count                     2613 non-null   int64  \n",
            " 23  host_verifications                            2613 non-null   object \n",
            " 24  host_has_profile_pic                          2613 non-null   object \n",
            " 25  host_identity_verified                        2613 non-null   object \n",
            " 26  neighbourhood                                 1800 non-null   object \n",
            " 27  neighbourhood_cleansed                        2613 non-null   object \n",
            " 28  neighbourhood_group_cleansed                  0 non-null      float64\n",
            " 29  latitude                                      2613 non-null   float64\n",
            " 30  longitude                                     2613 non-null   float64\n",
            " 31  property_type                                 2613 non-null   object \n",
            " 32  room_type                                     2613 non-null   object \n",
            " 33  accommodates                                  2613 non-null   int64  \n",
            " 34  bathrooms                                     0 non-null      float64\n",
            " 35  bathrooms_text                                2610 non-null   object \n",
            " 36  bedrooms                                      2413 non-null   float64\n",
            " 37  beds                                          2594 non-null   float64\n",
            " 38  amenities                                     2613 non-null   object \n",
            " 39  price                                         2613 non-null   object \n",
            " 40  minimum_nights                                2613 non-null   int64  \n",
            " 41  maximum_nights                                2613 non-null   int64  \n",
            " 42  minimum_minimum_nights                        2613 non-null   int64  \n",
            " 43  maximum_minimum_nights                        2613 non-null   int64  \n",
            " 44  minimum_maximum_nights                        2613 non-null   int64  \n",
            " 45  maximum_maximum_nights                        2613 non-null   int64  \n",
            " 46  minimum_nights_avg_ntm                        2613 non-null   float64\n",
            " 47  maximum_nights_avg_ntm                        2613 non-null   float64\n",
            " 48  calendar_updated                              0 non-null      float64\n",
            " 49  has_availability                              2613 non-null   object \n",
            " 50  availability_30                               2613 non-null   int64  \n",
            " 51  availability_60                               2613 non-null   int64  \n",
            " 52  availability_90                               2613 non-null   int64  \n",
            " 53  availability_365                              2613 non-null   int64  \n",
            " 54  calendar_last_scraped                         2613 non-null   object \n",
            " 55  number_of_reviews                             2613 non-null   int64  \n",
            " 56  number_of_reviews_ltm                         2613 non-null   int64  \n",
            " 57  number_of_reviews_l30d                        2613 non-null   int64  \n",
            " 58  first_review                                  2227 non-null   object \n",
            " 59  last_review                                   2227 non-null   object \n",
            " 60  review_scores_rating                          2197 non-null   float64\n",
            " 61  review_scores_accuracy                        2194 non-null   float64\n",
            " 62  review_scores_cleanliness                     2195 non-null   float64\n",
            " 63  review_scores_checkin                         2193 non-null   float64\n",
            " 64  review_scores_communication                   2193 non-null   float64\n",
            " 65  review_scores_location                        2193 non-null   float64\n",
            " 66  review_scores_value                           2193 non-null   float64\n",
            " 67  license                                       0 non-null      float64\n",
            " 68  instant_bookable                              2613 non-null   object \n",
            " 69  calculated_host_listings_count                2613 non-null   int64  \n",
            " 70  calculated_host_listings_count_entire_homes   2613 non-null   int64  \n",
            " 71  calculated_host_listings_count_private_rooms  2613 non-null   int64  \n",
            " 72  calculated_host_listings_count_shared_rooms   2613 non-null   int64  \n",
            " 73  reviews_per_month                             2227 non-null   float64\n",
            "dtypes: float64(18), int64(23), object(33)\n",
            "memory usage: 1.5+ MB\n"
          ],
          "name": "stdout"
        }
      ]
    },
    {
      "cell_type": "code",
      "metadata": {
        "colab": {
          "base_uri": "https://localhost:8080/",
          "height": 206
        },
        "id": "VQWmAxZ-lY6z",
        "outputId": "45cf8dad-6ede-456d-bb23-fc0a2da34f97"
      },
      "source": [
        "coords = df.loc[:, ['longitude', 'latitude']]\n",
        "coords.head()"
      ],
      "execution_count": null,
      "outputs": [
        {
          "output_type": "execute_result",
          "data": {
            "text/html": [
              "<div>\n",
              "<style scoped>\n",
              "    .dataframe tbody tr th:only-of-type {\n",
              "        vertical-align: middle;\n",
              "    }\n",
              "\n",
              "    .dataframe tbody tr th {\n",
              "        vertical-align: top;\n",
              "    }\n",
              "\n",
              "    .dataframe thead th {\n",
              "        text-align: right;\n",
              "    }\n",
              "</style>\n",
              "<table border=\"1\" class=\"dataframe\">\n",
              "  <thead>\n",
              "    <tr style=\"text-align: right;\">\n",
              "      <th></th>\n",
              "      <th>longitude</th>\n",
              "      <th>latitude</th>\n",
              "    </tr>\n",
              "  </thead>\n",
              "  <tbody>\n",
              "    <tr>\n",
              "      <th>0</th>\n",
              "      <td>-75.67900</td>\n",
              "      <td>45.40924</td>\n",
              "    </tr>\n",
              "    <tr>\n",
              "      <th>1</th>\n",
              "      <td>-75.74679</td>\n",
              "      <td>45.40159</td>\n",
              "    </tr>\n",
              "    <tr>\n",
              "      <th>2</th>\n",
              "      <td>-75.80314</td>\n",
              "      <td>45.35900</td>\n",
              "    </tr>\n",
              "    <tr>\n",
              "      <th>3</th>\n",
              "      <td>-75.69941</td>\n",
              "      <td>45.40248</td>\n",
              "    </tr>\n",
              "    <tr>\n",
              "      <th>4</th>\n",
              "      <td>-75.75496</td>\n",
              "      <td>45.38972</td>\n",
              "    </tr>\n",
              "  </tbody>\n",
              "</table>\n",
              "</div>"
            ],
            "text/plain": [
              "   longitude  latitude\n",
              "0  -75.67900  45.40924\n",
              "1  -75.74679  45.40159\n",
              "2  -75.80314  45.35900\n",
              "3  -75.69941  45.40248\n",
              "4  -75.75496  45.38972"
            ]
          },
          "metadata": {
            "tags": []
          },
          "execution_count": 8
        }
      ]
    },
    {
      "cell_type": "code",
      "metadata": {
        "id": "9tETRaArliSA"
      },
      "source": [
        "px.set_mapbox_access_token('pk.eyJ1IjoiZG9taW5pa3dvem5pYWsiLCJhIjoiY2thdHQ2NjJvMHdueTJ4b2M3dWNuMWZtNSJ9.MehJGwwh4PZUIVDKZ5xsiQ')\n",
        "\n",
        "def plot_map(mapbox_style):\n",
        "  fig = px.scatter_mapbox(coords, lat='latitude', lon='longitude', zoom=3)\n",
        "  # fig = px.scatter_mapbox([-78.6803989,45.1152827])\n",
        "  fig.update_layout(mapbox_style=mapbox_style,\n",
        "                  margin={'r':10,'t':10,'l':10,'b':10}) # zmniejsza ramki\n",
        "  fig.show()"
      ],
      "execution_count": null,
      "outputs": []
    },
    {
      "cell_type": "markdown",
      "metadata": {
        "id": "jgi4MCyUgcVv"
      },
      "source": [
        "**Wyświetlenie danych na mapie**"
      ]
    },
    {
      "cell_type": "code",
      "metadata": {
        "colab": {
          "base_uri": "https://localhost:8080/",
          "height": 542
        },
        "id": "JnXCDpMdlkYd",
        "outputId": "c946f2f4-168d-4920-c1b8-424696790c60"
      },
      "source": [
        "plot_map('open-street-map')"
      ],
      "execution_count": null,
      "outputs": [
        {
          "output_type": "display_data",
          "data": {
            "text/html": [
              "<html>\n",
              "<head><meta charset=\"utf-8\" /></head>\n",
              "<body>\n",
              "    <div>\n",
              "            <script src=\"https://cdnjs.cloudflare.com/ajax/libs/mathjax/2.7.5/MathJax.js?config=TeX-AMS-MML_SVG\"></script><script type=\"text/javascript\">if (window.MathJax) {MathJax.Hub.Config({SVG: {font: \"STIX-Web\"}});}</script>\n",
              "                <script type=\"text/javascript\">window.PlotlyConfig = {MathJaxConfig: 'local'};</script>\n",
              "        <script src=\"https://cdn.plot.ly/plotly-latest.min.js\"></script>    \n",
              "            <div id=\"13cce123-bd1f-40f3-ba44-5cb5154dcaa1\" class=\"plotly-graph-div\" style=\"height:525px; width:100%;\"></div>\n",
              "            <script type=\"text/javascript\">\n",
              "                \n",
              "                    window.PLOTLYENV=window.PLOTLYENV || {};\n",
              "                    \n",
              "                if (document.getElementById(\"13cce123-bd1f-40f3-ba44-5cb5154dcaa1\")) {\n",
              "                    Plotly.newPlot(\n",
              "                        '13cce123-bd1f-40f3-ba44-5cb5154dcaa1',\n",
              "                        [{\"hoverlabel\": {\"namelength\": 0}, \"hovertemplate\": \"latitude=%{lat}<br>longitude=%{lon}\", \"lat\": [45.409240000000004, 45.40159, 45.358999999999995, 45.40248, 45.389720000000004, 45.41557, 45.40546, 45.43399, 45.40453, 45.26725, 45.4082, 45.40269, 45.40097, 45.39946, 45.429109999999994, 45.432179999999995, 45.40469, 45.41938, 45.41127, 45.411609999999996, 45.45578, 45.41195, 45.40953, 45.40703, 45.429320000000004, 45.3475, 45.400259999999996, 45.40464, 45.42951, 45.40011, 45.40268, 45.40128, 45.35164, 45.358309999999996, 45.39723, 45.32437, 45.28461, 45.32336, 45.40266, 45.274429999999995, 45.25203, 45.41577, 45.39533, 45.428979999999996, 45.28155, 45.34359, 45.424929999999996, 45.44036, 45.27901, 45.416709999999995, 45.40387, 45.431909999999995, 45.41073, 45.40896, 45.35755, 45.452529999999996, 45.44123, 45.403040000000004, 45.391490000000005, 45.439370000000004, 45.42208, 45.37295, 45.4317, 45.42964, 45.43938, 45.433479999999996, 45.40907, 45.35625, 45.43472, 45.43115, 45.44764, 45.36999, 45.346470000000004, 45.43137, 45.44095, 45.43342, 45.41498, 45.39143, 45.47531, 45.12899, 45.431290000000004, 45.380390000000006, 45.465579999999996, 45.35412, 45.38616, 45.43031, 45.39705, 45.35269, 45.35326, 45.46445, 45.39983, 45.38033, 45.42864, 45.40036, 45.38644, 45.43121, 45.400290000000005, 45.413779999999996, 45.46569, 45.4044, 45.4044, 45.4189, 45.43497, 45.429429999999996, 45.407059999999994, 45.44833, 45.42737, 45.41041, 45.35991, 45.418929999999996, 45.42942, 45.446259999999995, 45.40874, 45.35348, 45.35497, 45.42685, 45.3856, 45.346779999999995, 45.436609999999995, 45.41323, 45.39933, 45.320890000000006, 45.40152, 45.34857, 45.413340000000005, 45.413779999999996, 45.449870000000004, 45.39694, 45.36295, 45.39868, 45.425709999999995, 45.43685, 45.39524, 45.39513, 45.43391, 45.428940000000004, 45.44267, 45.431740000000005, 45.48233, 45.42483, 45.38299, 45.27588, 45.368109999999994, 45.40555, 45.38953, 45.3433, 45.42539, 45.426520000000004, 45.39669, 45.41646, 45.41758, 45.39847, 45.410959999999996, 45.47204, 45.37409, 45.44342, 45.412040000000005, 45.41243, 45.28246, 45.42958, 45.41796, 45.4295, 45.41271, 45.41063, 45.436170000000004, 45.41615, 45.41656, 45.25752, 45.401540000000004, 45.38915, 45.2845, 45.40125, 45.41517, 45.44511, 45.3609, 45.41062, 45.48193, 45.40765, 45.415009999999995, 45.42565, 45.369640000000004, 45.37063, 45.370870000000004, 45.43105, 45.2768, 45.41642, 45.492129999999996, 45.39822, 45.24585, 45.141420000000004, 45.48153, 45.2793, 45.34939, 45.37146, 45.27469, 45.22983, 45.44978, 45.43853, 45.39986, 45.43425, 45.40589, 45.3207, 45.4557, 45.45763, 45.462140000000005, 45.40469, 45.442679999999996, 45.2758, 45.36813, 45.41117, 45.473729999999996, 45.42223, 45.41287, 45.415209999999995, 45.31876, 45.378859999999996, 45.45302, 45.43752, 45.41218, 45.260040000000004, 45.41287, 45.26305, 45.373540000000006, 45.425290000000004, 45.39744, 45.35479, 45.39745, 45.400859999999994, 45.43101, 45.4553, 45.33763, 45.43209, 45.42575, 45.39624, 45.42938, 45.31389, 45.413740000000004, 45.41287, 45.42048, 45.39152, 45.38997, 45.41451, 45.44373, 45.42452, 45.420190000000005, 45.40965, 45.33775, 45.43465, 45.43168, 45.47022, 45.39504, 45.4716, 45.40488, 45.443659999999994, 45.425909999999995, 45.42544, 45.41093, 45.36015, 45.40895, 45.26399, 45.42713, 45.43008, 45.50335, 45.29637, 45.40613, 45.417609999999996, 45.49861, 45.42678, 45.34988, 45.434490000000004, 45.37583, 45.437509999999996, 45.35443, 45.45431, 45.42805, 45.271409999999996, 45.30453, 45.41887, 45.349070000000005, 45.45393, 45.433840000000004, 45.4393, 45.42153, 45.364259999999994, 45.34398, 45.38816, 45.43425, 45.229209999999995, 45.39678, 45.40368, 45.42047, 45.39994, 45.51027, 45.2452, 45.26749, 45.38434, 45.35689, 45.47948, 45.420970000000004, 45.43763, 45.42126, 45.36162, 45.38913, 45.40964, 45.410540000000005, 45.41375, 45.40092, 45.42846, 45.36589, 45.42986, 45.433170000000004, 45.39805, 45.41565, 45.3741, 45.48406, 45.258309999999994, 45.38942, 45.40108, 45.434329999999996, 45.36763, 45.41287, 45.44494, 45.40064, 45.42257, 45.34155, 45.39085, 45.38854, 45.27709, 45.387440000000005, 45.391659999999995, 45.42705, 45.40315, 45.44236, 45.38447, 45.38695, 45.41985, 45.28852, 45.3607, 45.39156, 45.50521, 45.39215, 45.39198, 45.39622, 45.365990000000004, 45.30384, 45.37733, 45.42521, 45.35942, 45.37243, 45.36878, 45.342690000000005, 45.4284, 45.40118, 45.42968, 45.43524, 45.434709999999995, 45.189640000000004, 45.35501, 45.42484, 45.3185, 45.35418, 45.33934, 45.395590000000006, 45.47829, 45.41536, 45.47902, 45.43166, 45.43656, 45.41052, 45.41138, 45.397940000000006, 45.42194, 45.36692, 45.47224, 45.25088, 45.431290000000004, 45.4339, 45.405390000000004, 45.34297, 45.391940000000005, 45.41236, 45.380790000000005, 45.36939, 45.37696, 45.4109, 45.389340000000004, 45.3947, 45.40189, 45.43616, 45.41558, 45.42415, 45.44232, 45.2602, 45.41465, 45.430859999999996, 45.283390000000004, 45.398579999999995, 45.51423, 45.37022, 45.28759, 45.37664, 45.34626, 45.38272, 45.40614, 45.41968, 45.42137, 45.35924, 45.27175, 45.38077, 45.40526, 45.36007, 45.43275, 45.3999, 45.35181, 45.28196, 45.28203, 45.2805, 45.43023, 45.430690000000006, 45.40743, 45.44222, 45.429809999999996, 45.42528, 45.36748, 45.42987, 45.41682, 45.278059999999996, 45.344559999999994, 45.43867, 45.39208, 45.4093, 45.41024, 45.43422, 45.3842, 45.39348, 45.40984, 45.42454, 45.42501, 45.4264, 45.41287, 45.32754, 45.35889, 45.4052, 45.405159999999995, 45.499590000000005, 45.40675, 45.39353, 45.425090000000004, 45.4126, 45.40133, 45.36414, 45.42187, 45.41216, 45.40752, 45.48583, 45.27707, 45.4427, 45.41865, 45.34233, 45.35342, 45.42954, 45.27088, 45.41046, 45.37853, 45.294270000000004, 45.35996, 45.42842, 45.35772, 45.26849, 45.2768, 45.38485, 45.434509999999996, 45.399390000000004, 45.40508, 45.42096, 45.39307, 45.43969, 45.427890000000005, 45.39541, 45.4247, 45.41806, 45.30085, 45.41556, 45.23729, 45.41887, 45.41088, 45.35561, 45.41507, 45.45098, 45.413000000000004, 45.447829999999996, 45.44035, 45.413000000000004, 45.413000000000004, 45.41823, 45.41825, 45.35026, 45.42348, 45.40357, 45.27074, 45.417120000000004, 45.4125, 45.271570000000004, 45.42971, 45.39012, 45.412690000000005, 45.42504, 45.4196, 45.42094, 45.43354, 45.44317, 45.443940000000005, 45.41222, 45.420190000000005, 45.420770000000005, 45.36187, 45.47875, 45.47797, 45.47797, 45.3913, 45.37231, 45.35638, 45.398590000000006, 45.39925, 45.41985, 45.39682, 45.44228, 45.39886, 45.40846, 45.38978, 45.34754, 45.43542, 45.412890000000004, 45.39946, 45.24367, 45.24408, 45.40613, 45.38264, 45.42197, 45.402609999999996, 45.42109, 45.48255, 45.432159999999996, 45.46006, 45.40332, 45.42934, 45.36417, 45.48279, 45.4289, 45.35787, 45.41322, 45.40173, 45.4555, 45.39293, 45.31707, 45.34362, 45.264109999999995, 45.399770000000004, 45.39387, 45.34429, 45.48557, 45.49933, 45.32762, 45.35315, 45.39999, 45.42836, 45.4288, 45.357409999999994, 45.40829, 45.37307, 45.40385, 45.394259999999996, 45.44327, 45.40887, 45.27612, 45.39761, 45.31145, 45.43155, 45.44923, 45.38864, 45.434329999999996, 45.40644, 45.28572, 45.38126, 45.39454, 45.22002, 45.3994, 45.42518, 45.40445, 45.267990000000005, 45.29168, 45.35859, 45.39711, 45.473459999999996, 45.39905, 45.274879999999996, 45.4702, 45.44149, 45.43309, 45.419290000000004, 45.36804, 45.43627, 45.273999999999994, 45.4193, 45.4221, 45.440709999999996, 45.41785, 45.47643, 45.43288, 45.43755, 45.47511, 45.41113, 45.41131, 45.408590000000004, 45.34664, 45.43457, 45.40809, 45.37209, 45.31675, 45.42938, 45.42982, 45.42995, 45.39045, 45.33331, 45.27429, 45.40379, 45.4119, 45.43372, 45.41868, 45.50385, 45.43081, 45.27833, 45.49256, 45.42498, 45.334070000000004, 45.37209, 45.4248, 45.408640000000005, 45.41265, 45.422, 45.38982, 45.43562, 45.36938, 45.42853, 45.38205, 45.40522, 45.158609999999996, 45.497890000000005, 45.339040000000004, 45.29505, 45.49973, 45.37205, 45.48379, 45.41265, 45.42675, 45.42966, 45.426970000000004, 45.40905, 45.35122, 45.27435, 45.3499, 45.34897, 45.427890000000005, 45.427890000000005, 45.413129999999995, 45.396840000000005, 45.404509999999995, 45.27535, 45.35245, 45.27793, 45.43481, 45.41298, 45.314479999999996, 45.40328, 45.27412, 45.3537, 45.47128, 45.280559999999994, 45.44525, 45.43652, 45.48108, 45.36672, 45.30624, 45.40818, 45.41172, 45.42955, 45.35583, 45.39888, 45.39966, 45.4353, 45.2857, 45.42899, 45.43334, 45.426970000000004, 45.43585, 45.407, 45.33135, 45.414629999999995, 45.35147, 45.37738, 45.264790000000005, 45.36636, 45.42542, 45.405840000000005, 45.2897, 45.43018, 45.34211, 45.35957, 45.26988, 45.43685, 45.40043, 45.40635, 45.38353, 45.36482, 45.36835, 45.41421, 45.44359, 45.41288, 45.40493, 45.40729, 45.28519, 45.34619, 45.409929999999996, 45.28569, 45.40677, 45.36931, 45.43788, 45.31817, 45.24037, 45.502720000000004, 45.39987, 45.4166, 45.38763, 45.43229, 45.41855, 45.43381, 45.42897, 45.35617, 45.32036, 45.42787, 45.41581, 45.44109, 45.4184, 45.45187, 45.45189, 45.429840000000006, 45.40985, 45.41355, 45.413759999999996, 45.440329999999996, 45.28009, 45.3599, 45.44205, 45.41332, 45.40934, 45.40348, 45.49005, 45.43827, 45.41318, 45.40101, 45.41165, 45.40883, 45.3653, 45.332770000000004, 45.40197, 45.42903, 45.28648, 45.31313, 45.51571, 45.428490000000004, 45.364779999999996, 45.36853, 45.40266, 45.27874, 45.37305, 45.35658, 45.48707, 45.37793, 45.41297, 45.25526, 45.38199, 45.47902, 45.40398, 45.34917, 45.38482, 45.42555, 45.38282, 45.39244, 45.39325, 45.428309999999996, 45.27548, 45.46096, 45.45874, 45.33012, 45.42817, 45.43057, 45.41062, 45.3732, 45.41135, 45.370979999999996, 45.43128, 45.39329, 45.43533, 45.39562, 45.34802, 45.409490000000005, 45.34346, 45.42677, 45.36673, 45.39544, 45.3489, 45.45686, 45.28829, 45.43698, 45.427890000000005, 45.42977, 45.43309, 45.38342, 45.377790000000005, 45.22484, 45.38208, 45.440509999999996, 45.41251, 45.223240000000004, 45.394420000000004, 45.39399, 45.22425, 45.22198, 45.44433, 45.429359999999996, 45.32692, 45.43418, 45.41817, 45.376059999999995, 45.44486, 45.4055, 45.393209999999996, 45.39878, 45.419909999999994, 45.427890000000005, 45.31966, 45.41253, 45.36424, 45.43588, 45.43136, 45.391000000000005, 45.40441, 45.36766, 45.39808, 45.4385, 45.26706, 45.40448, 45.42651, 45.37941, 45.41852, 45.39294, 45.42944, 45.42364, 45.35629, 45.39754, 45.39864, 45.2945, 45.27574, 45.39767, 45.44631, 45.43327, 45.41302, 45.47914, 45.32486, 45.3268, 45.44597, 45.429320000000004, 45.35885, 45.40068, 45.43046, 45.43396, 45.40351, 45.43476, 45.39978, 45.41561, 45.40643, 45.26404, 45.44021, 45.444309999999994, 45.35754, 45.42672, 45.29307, 45.34737, 45.34737, 45.31112, 45.48851, 45.432109999999994, 45.31678, 45.4302, 45.47092, 45.431909999999995, 45.4015, 45.416509999999995, 45.26892, 45.325179999999996, 45.41791, 45.360859999999995, 45.425709999999995, 45.31678, 45.40531, 45.426590000000004, 45.43088, 45.24478, 45.41964, 45.33698, 45.3422, 45.45663, 45.402159999999995, 45.43479, 45.40453, 45.42993, 45.358129999999996, 45.31941, 45.40627, 45.359590000000004, 45.3881, 45.32874, 45.39195, 45.411590000000004, 45.411770000000004, 45.43418, 45.31734, 45.41902, 45.31868, 45.40894, 45.434490000000004, 45.457, 45.341, 45.42865, 45.42628, 45.384409999999995, 45.407920000000004, 45.3971, 45.40514, 45.41704, 45.43355, 45.44141, 45.433240000000005, 45.26554, 45.5146, 45.25628, 45.39033, 45.44997, 45.432159999999996, 45.27678, 45.414559999999994, 45.43115, 45.412079999999996, 45.28565, 45.443220000000004, 45.416000000000004, 45.42648, 45.400079999999996, 45.36136, 45.37644, 45.24832, 45.372040000000005, 45.30985, 45.39555, 45.24792, 45.376059999999995, 45.37777, 45.405609999999996, 45.27697, 45.39646, 45.43853, 45.428999999999995, 45.4142, 45.4316, 45.41063, 45.41451, 45.439370000000004, 45.4142, 45.41316, 45.427890000000005, 45.4315, 45.36209, 45.26083, 45.26245, 45.26126, 45.36189, 45.3518, 45.358909999999995, 45.394529999999996, 45.41172, 45.35759, 45.40582, 45.41963, 45.32463, 45.41337, 45.48165, 45.36691, 45.40077, 45.398109999999996, 45.377159999999996, 45.43332, 45.42645, 45.43346, 45.39911, 45.350559999999994, 45.427609999999994, 45.439609999999995, 45.43907, 45.43351, 45.34332, 45.37842, 45.44642, 45.41499, 45.34489, 45.368840000000006, 45.25332, 45.27563, 45.47354, 45.44253, 45.3826, 45.42758, 45.41445, 45.41753, 45.42968, 45.37218, 45.45195, 45.4345, 45.391040000000004, 45.316359999999996, 45.42536, 45.32119, 45.31608, 45.41415, 45.47579, 45.27713, 45.43425, 45.26427, 45.405609999999996, 45.43756, 45.38586, 45.35289, 45.42311, 45.41097, 45.27827, 45.40569, 45.39825, 45.428740000000005, 45.27686, 45.28117, 45.36225, 45.42407, 45.35184, 45.27584, 45.39922, 45.23968, 45.43743, 45.36691, 45.447309999999995, 45.36306, 45.44135, 45.23125, 45.419270000000004, 45.41832, 45.40729, 45.40198, 45.40385, 45.40314, 45.40998, 45.401740000000004, 45.40072, 45.41567, 45.39243, 45.39771, 45.3288, 45.34945, 45.3917, 45.35962, 45.36125, 45.39117, 45.37186, 45.394490000000005, 45.412079999999996, 45.470040000000004, 45.355709999999995, 45.43438, 45.334559999999996, 45.39565, 45.35419, 45.48818, 45.40752, 45.4649, 45.43213, 45.34362, 45.31478, 45.43063, 45.42777, 45.40124, 45.45628, 45.384209999999996, 45.34795, 45.4371, 45.39243, 45.41851, 45.410340000000005, 45.42366, 45.43781, 45.44447, 45.11005, 45.39128, 45.41166, 45.43453, 45.34059, 45.364740000000005, 45.42767, 45.44395, 45.44257, 45.265679999999996, 45.34795, 45.408, 45.34795, 45.343309999999995, 45.40477, 45.39921, 45.43088, 45.35286, 45.39033, 45.247009999999996, 45.40287, 45.41575, 45.34937, 45.30594, 45.35855, 45.35602, 45.35495, 45.426809999999996, 45.4305, 45.24923, 45.368190000000006, 45.36646, 45.40011, 45.43825, 45.41448, 45.232859999999995, 45.44168, 45.28471, 45.46201, 45.41707, 45.431909999999995, 45.333940000000005, 45.427, 45.40293, 45.42607, 45.40787, 45.40538, 45.36137, 45.438759999999995, 45.28593, 45.33755, 45.40795, 45.146570000000004, 45.3769, 45.27609, 45.42955, 45.41883, 45.433170000000004, 45.27752, 45.27165, 45.43843, 45.42735, 45.43593, 45.43199, 45.44396, 45.34698, 45.346000000000004, 45.4427, 45.28332, 45.41783, 45.44014, 45.35131, 45.353429999999996, 45.35288, 45.38581, 45.321740000000005, 45.43783, 45.42197, 45.42115, 45.468779999999995, 45.37102, 45.24487, 45.40752, 45.316590000000005, 45.35311, 45.353429999999996, 45.35226, 45.36555, 45.42601, 45.43528, 45.39119, 45.397690000000004, 45.3934, 45.472970000000004, 45.420159999999996, 45.10303, 45.24579, 45.34989, 45.39812, 45.36799, 45.34751, 45.496109999999994, 45.428059999999995, 45.426629999999996, 45.24495, 45.24443, 45.51248, 45.425990000000006, 45.472559999999994, 45.3729, 45.26531, 45.28965, 45.37232, 45.42608, 45.31476, 45.31607, 45.343790000000006, 45.4892, 45.42942, 45.39369, 45.43063, 45.431340000000006, 45.34511, 45.43193, 45.43269, 45.39366, 45.432140000000004, 45.4318, 45.427659999999996, 45.43193, 45.397240000000004, 45.39284, 45.405190000000005, 45.27301, 45.3723, 45.068909999999995, 45.39374, 45.44037, 45.452690000000004, 45.411, 45.361940000000004, 45.40248, 45.39823, 45.41216, 45.402190000000004, 45.394940000000005, 45.48135, 45.364670000000004, 45.37526, 45.315459999999995, 45.31413, 45.315290000000005, 45.31595, 45.31414, 45.3156, 45.31405, 45.392109999999995, 45.4195, 45.36895, 45.36019, 45.370870000000004, 45.30975, 45.4107, 45.32761, 45.27619, 45.451440000000005, 45.40234, 45.31536, 45.423120000000004, 45.42592, 45.276709999999994, 45.35372, 45.44662, 45.42817, 45.46059, 45.411570000000005, 45.35505, 45.35457, 45.35326, 45.41305, 45.42799, 45.40767, 45.40619, 45.41321, 45.441759999999995, 45.37085, 45.40772, 45.40684, 45.333909999999996, 45.34901, 45.346309999999995, 45.34584, 45.42844, 45.44228, 44.98927, 45.41442, 45.42559, 45.36371, 45.43224, 45.430890000000005, 45.45272, 45.43528, 45.40296, 45.40671, 45.43143, 45.36483, 45.27845, 45.279270000000004, 45.38487, 45.38155, 45.26848, 45.41571, 45.37229, 45.39476, 45.425709999999995, 45.43356, 45.30975, 45.31093, 45.30924, 45.38262, 45.23584, 45.43362, 45.43257, 45.43257, 45.43257, 45.43257, 45.27659, 45.2801, 45.42344, 45.36756, 45.4815, 45.40232, 45.259840000000004, 45.435520000000004, 45.41162, 45.41367, 45.31512, 45.36768, 45.39355, 45.43143, 45.435970000000005, 45.28743, 45.38115, 45.394890000000004, 45.33911, 45.44058, 45.408159999999995, 45.25326, 45.37143, 45.3647, 45.36437, 45.41345, 45.40737, 45.44778, 45.43043, 45.31452, 45.43097, 45.432970000000005, 45.3462, 45.43515, 45.379740000000005, 45.41138, 45.27515, 45.43773, 45.40874, 45.42719, 45.457679999999996, 45.32203, 45.40594, 45.431909999999995, 45.31112, 45.41109, 45.34813, 45.31261, 45.39375, 45.3685, 45.4183, 45.40178, 45.48995, 45.31055, 45.35181, 45.42688, 45.41388, 45.483959999999996, 45.432190000000006, 45.323, 45.42525, 45.3542, 45.42694, 45.427640000000004, 45.42824, 45.42702, 45.426390000000005, 45.35752, 45.36499, 45.40667, 45.41254, 45.32526, 45.32277, 45.413909999999994, 45.27731, 45.39539, 45.412490000000005, 45.43105, 45.240109999999994, 45.43537, 45.43462, 45.34755, 45.45048, 45.455870000000004, 45.3523, 45.27852, 45.452090000000005, 45.353190000000005, 45.43619, 45.344879999999996, 45.36809, 45.351279999999996, 45.42729, 45.41424, 45.46735, 45.40262, 45.3169, 45.31559, 45.41502, 45.43436, 45.40291, 45.28513, 45.255959999999995, 45.39991, 45.37341, 45.41082, 45.4071, 45.2733, 45.41877, 45.431909999999995, 45.26635, 45.431909999999995, 45.46346, 45.431909999999995, 45.4282, 45.44258, 45.14112, 45.41989, 45.36515, 45.428059999999995, 45.2672, 45.43007, 45.13003, 45.12899, 45.12899, 45.12899, 45.3998, 45.43919, 45.44513, 45.4408, 45.30917, 45.35256, 45.33938, 45.42985, 45.44027, 45.424409999999995, 45.45715, 45.50326, 45.25691, 45.12899, 45.44894, 45.42625, 45.336659999999995, 45.4283, 45.28669, 45.28008, 45.444379999999995, 45.439370000000004, 45.38749, 45.4142, 45.41579, 45.43215, 45.349270000000004, 45.43374, 45.35986, 45.35633, 45.427, 45.35951, 45.3752, 45.4479, 45.255140000000004, 45.28066, 45.358909999999995, 45.39745, 45.36345, 45.4049, 45.40276, 45.34813, 45.34704, 45.34626, 45.347409999999996, 45.40221, 45.40956, 45.27681, 45.23421, 45.420759999999994, 45.4088, 45.37855, 45.39945, 45.42525, 45.415409999999994, 45.42355, 45.36946, 45.426970000000004, 45.40045, 45.4318, 45.4206, 45.28123, 45.34977, 45.349740000000004, 45.41539, 45.375209999999996, 45.4175, 45.39454, 45.37162, 45.349109999999996, 45.399429999999995, 45.28897, 45.412209999999995, 45.39631, 45.40147, 45.269290000000005, 45.4102, 45.43264, 45.28739, 45.43291, 45.26825, 45.42042, 45.43509, 45.41372, 45.43438, 45.402570000000004, 45.43441, 45.431909999999995, 45.39947, 45.392140000000005, 45.40653, 45.36518, 45.31091, 45.39389, 45.40387, 45.396190000000004, 45.42577, 45.425259999999994, 45.40059, 45.36197, 45.427859999999995, 45.27772, 45.43893, 45.43051, 45.31986, 45.42515, 45.26589, 45.34949, 45.43213, 45.34882, 45.42569, 45.42713, 45.42686, 45.4136, 45.43136, 45.431779999999996, 45.29329, 45.41025, 45.43278, 45.28062, 45.28123, 45.341359999999995, 45.43804, 45.42352, 45.42352, 45.2798, 45.092620000000004, 45.40439, 45.41021, 45.42432, 45.31297, 45.42605, 45.43013, 45.42998, 45.42671, 45.18039, 45.274359999999994, 45.320879999999995, 45.245979999999996, 45.317859999999996, 45.41107, 45.32425, 45.44885, 45.24635, 45.24524, 45.4161, 45.275909999999996, 45.2758, 45.43055, 45.36545, 45.40423, 45.27742, 45.425940000000004, 45.42239, 45.419909999999994, 45.396879999999996, 45.36258, 45.28083, 45.38479, 45.43013, 45.425909999999995, 45.3464, 45.4294, 45.42269, 45.32144, 45.2657, 45.266459999999995, 45.373329999999996, 45.28669, 45.42776, 45.3618, 45.27957, 45.420609999999996, 45.31288, 45.40752, 45.476409999999994, 45.41921, 45.40618, 45.31017, 45.47413, 45.4097, 45.31042, 45.43213, 45.4055, 45.41437, 45.43936, 45.410959999999996, 45.434979999999996, 45.24823, 45.43242, 45.41854, 45.39139, 45.4427, 45.38732, 45.45962, 45.44127, 45.3737, 45.37339, 45.26818, 45.43049, 45.244859999999996, 45.38712, 45.40031, 45.41594, 45.40905, 45.37777, 45.43905, 45.272220000000004, 45.40067, 45.43097, 45.31837, 45.31681, 45.26777, 45.41008, 45.26165, 45.40807, 45.48921, 45.3424, 45.35346, 45.36703, 45.307140000000004, 45.262679999999996, 45.41707, 45.45521, 45.40825, 45.40677, 45.44126, 45.49389, 45.35802, 45.28577, 45.35674, 45.43781, 45.45827, 45.35298, 45.42429, 45.41342, 45.40491, 45.44677, 45.39087, 45.27147, 45.40018, 45.43242, 45.43381, 45.37927, 45.42633, 45.352759999999996, 45.42487, 45.4189, 45.431670000000004, 45.35877, 45.35986, 45.35398, 45.27367, 45.368, 45.37842, 45.27367, 45.36714, 45.32082, 45.44056, 45.4092, 45.41452, 45.426109999999994, 45.15059, 45.41449, 45.43018, 45.40959, 45.42412, 45.4416, 45.42631, 45.32189, 45.42678, 45.32052, 45.32043, 45.32182, 45.4033, 45.42387, 45.40333, 45.35185, 45.40791, 45.40063, 45.40684, 45.42865, 45.3545, 45.310970000000005, 45.275090000000006, 45.25542, 45.35716, 45.43306, 45.43352, 45.437470000000005, 45.41407, 45.42602, 45.40607, 45.22782, 45.406220000000005, 45.340540000000004, 45.41979, 45.318999999999996, 45.34729, 45.27901, 45.27943, 45.419909999999994, 45.33205, 45.42133, 45.40222, 45.3422, 45.39108, 45.36625, 45.350229999999996, 45.41932, 45.42824, 45.43639, 45.41662, 45.34255, 45.41476, 45.420120000000004, 45.4205, 45.426970000000004, 45.28413, 45.4948, 45.42221, 45.411640000000006, 45.41989, 45.390440000000005, 45.28937, 45.4263, 45.4263, 45.4263, 45.4263, 45.275079999999996, 45.41384, 45.43517, 45.42653, 45.374970000000005, 45.43404, 45.432759999999995, 45.3932, 45.43542, 45.35553, 45.26417, 45.43942, 45.27293, 45.37173, 45.427040000000005, 45.2258, 45.42624, 45.33031, 45.27639, 45.39448, 45.34772, 45.42965, 45.43268, 45.38783, 45.30387, 45.35399, 45.35026, 45.34905, 45.43093, 45.37429, 45.46288, 45.38102, 45.42445, 45.433840000000004, 45.37412, 45.400209999999994, 45.42584, 45.44462, 45.42726, 45.41212, 45.472409999999996, 45.4231, 45.433890000000005, 45.34861, 45.3488, 45.37232, 45.376059999999995, 45.409279999999995, 45.434670000000004, 45.428670000000004, 45.40416, 45.36649, 45.38994, 45.424009999999996, 45.41243, 45.40052, 45.35454, 45.399159999999995, 45.40248, 45.36549, 45.41585, 45.429759999999995, 45.28848, 45.288340000000005, 45.41895, 45.42832, 45.26923, 45.48519, 45.43163, 45.43163, 45.43163, 45.344390000000004, 45.43653, 45.42927, 45.38953, 45.43045, 45.4194, 45.46103, 45.355779999999996, 45.417790000000004, 45.431909999999995, 45.43163, 45.43163, 45.431909999999995, 45.35196, 45.28886, 45.34933, 45.42869, 45.43887, 45.4188, 45.41831, 45.412890000000004, 45.35487, 45.43156, 45.40567, 45.44578, 45.431290000000004, 45.39193, 45.25711, 45.418240000000004, 45.33515, 45.334790000000005, 45.44171, 45.44205, 45.29061, 45.34052, 45.46137, 45.409279999999995, 45.39332, 45.46617, 45.46555, 45.44863, 45.42668, 45.367979999999996, 45.25013, 45.27386, 45.24866, 45.4043, 45.43613, 45.41075, 45.3394, 45.33915, 45.33913, 45.34084, 45.35445, 45.44274, 45.29385, 45.41871, 45.404340000000005, 45.29169, 45.41258, 45.4427, 45.309979999999996, 45.43551, 45.41885, 45.41791, 45.419470000000004, 45.417559999999995, 45.41915, 45.34541, 45.42755, 45.34703, 45.48496, 45.42573, 45.30332, 45.249590000000005, 45.3454, 45.37424, 45.431309999999996, 45.41839, 45.44184, 45.355740000000004, 45.480270000000004, 45.36459, 45.42008, 45.24987, 45.43247, 45.362790000000004, 45.43213, 45.4132, 45.345729999999996, 45.28304, 45.34644, 45.346959999999996, 45.350390000000004, 45.40076, 45.43357, 45.30363, 45.28427, 45.28472, 45.43907, 45.424170000000004, 45.39543, 45.43775, 45.441140000000004, 45.34517, 45.44947, 45.487790000000004, 45.38028, 45.36076, 45.49388, 45.41571, 45.34153, 45.43193, 45.36183, 45.323840000000004, 45.356590000000004, 45.404709999999994, 45.40466, 45.40639, 45.41176, 45.38478, 45.43569, 45.32248, 45.35215, 45.27855, 45.43619, 45.348420000000004, 45.43761, 45.31575, 45.52166, 45.44498, 45.26763, 45.48897, 45.34945, 45.26488, 45.4284, 45.43036, 45.417970000000004, 45.42215, 45.348490000000005, 45.440020000000004, 45.40651, 45.39265, 45.471000000000004, 45.41069, 45.40902, 45.36144, 45.42646, 45.48796, 45.34768, 45.27465, 45.43468, 45.370129999999996, 45.28159, 45.446870000000004, 45.409459999999996, 45.37256, 45.35497, 45.34648, 45.4329, 45.4064, 45.428329999999995, 45.39307, 45.4276, 45.41941, 45.43802, 45.26724, 45.39705, 45.256440000000005, 45.43049, 45.40613, 45.26613, 45.422270000000005, 45.414229999999996, 45.41711, 45.35347, 45.41382, 45.405590000000004, 45.4071, 45.415620000000004, 45.394020000000005, 45.34633, 45.3618, 45.35203, 45.44043, 45.35208, 45.28552, 45.48916, 45.37429, 45.41415, 45.28678, 45.386559999999996, 45.35605, 45.40712, 45.39168, 45.34272, 45.28582, 45.287440000000004, 45.40851, 45.37446, 45.39698, 45.32204, 45.393609999999995, 45.3594, 45.40133, 45.42905, 45.36695, 45.35215, 45.39733, 45.40653, 45.393159999999995, 45.41817, 45.23772, 45.39504, 45.30337, 45.23601, 45.447559999999996, 45.44643, 45.3769, 45.42355, 45.28598, 45.43238, 45.43141, 45.41267, 45.41198, 45.34881, 45.34345, 45.414590000000004, 45.40267, 45.39219, 45.39277, 45.28668, 45.28625, 45.43157, 45.40959, 45.44372, 45.445609999999995, 45.40838, 45.4393, 45.35485, 45.43192, 45.4236, 45.40533, 45.36967, 45.43057, 45.410270000000004, 45.43034, 45.43287, 45.32022, 45.23788, 45.489129999999996, 45.45192, 45.409209999999995, 45.37648, 45.42395, 45.39673, 45.359840000000005, 45.43634, 45.4347, 45.4348, 45.39072, 45.244820000000004, 45.3632, 45.4888, 45.34561, 45.40201, 45.37477, 45.488479999999996, 45.42669, 45.41218, 45.40592, 45.42368, 45.476820000000004, 45.32175, 45.35398, 45.42729, 45.40787, 45.39646, 45.35371, 45.47473, 45.41663, 45.43611, 45.42648, 45.44308, 45.416709999999995, 45.44288, 45.42674, 45.42711, 45.359159999999996, 45.3524, 45.44238, 45.447109999999995, 45.43658, 45.40653, 45.35344, 45.237359999999995, 45.42858, 45.40653, 45.42383, 45.436609999999995, 45.41868, 45.42835, 45.47614, 45.43537, 45.24324, 45.42634, 45.41579, 45.34823, 45.416129999999995, 45.42848, 45.412290000000006, 45.28532, 45.43088, 45.27989, 45.479729999999996, 45.46317, 45.42977, 45.39608, 45.42713, 45.39242, 45.28308, 45.32163, 45.39817, 45.41687, 45.32905, 45.278999999999996, 45.409209999999995, 45.328559999999996, 45.32747, 45.41142, 45.39723, 45.37642, 45.41644, 45.48144, 45.32908, 45.32748, 45.2445, 45.42103, 45.371970000000005, 45.36822, 45.43797, 45.27847, 45.3812, 45.47361, 45.435559999999995, 45.38, 45.30558, 45.41356, 45.41323, 45.412729999999996, 45.41493, 45.41336, 45.43452, 45.42856, 45.42947, 45.26583, 45.42872, 45.42757, 45.40187, 45.42967, 45.412659999999995, 45.40067, 45.40054, 45.41746, 45.38858, 45.36363, 45.48873, 45.46074, 45.47595, 45.45285, 45.28504, 45.40787, 45.388940000000005, 45.27492, 45.27035, 45.41741, 45.43057, 45.29571, 45.43253, 45.3581, 45.423770000000005, 45.391909999999996, 45.39467, 45.3502, 45.386590000000005, 45.29055, 45.33251, 45.4317, 45.42669, 45.28187, 45.42958, 45.427659999999996, 45.42841, 45.442679999999996, 45.34721, 45.43373, 45.31599, 45.42592, 45.42785, 45.33493, 45.27001, 45.468379999999996, 45.39867, 45.41538, 45.42539, 45.38381, 45.35096, 45.34887, 45.335609999999996, 45.18714, 45.42238, 45.40341, 45.2828, 45.43457, 45.43586, 45.42832, 45.42985, 45.43056, 45.41742, 45.42885, 45.27298, 45.35607, 45.339059999999996, 45.43568, 45.41494, 45.424459999999996, 45.40339, 45.28781, 45.42304, 45.42982, 45.41752, 45.4182, 45.34234, 45.40144, 45.42805, 45.438959999999994, 45.419270000000004, 45.420809999999996, 45.442240000000005, 45.42872, 45.419959999999996, 45.28392, 45.392540000000004, 45.40508, 45.39552, 45.36254, 45.40255, 45.40117, 45.42945, 45.40867, 45.42521, 45.430859999999996, 45.43591, 45.40037, 45.43152, 45.41642, 45.422340000000005, 45.30684, 45.41199, 45.40533, 45.422470000000004, 45.4391, 45.428779999999996, 45.40804, 45.41218, 45.43761, 45.42382, 45.424040000000005, 45.42364, 45.355540000000005, 45.38708, 45.34133, 45.4421, 45.49702, 45.14812, 45.40501, 45.42725, 45.41675, 45.42735, 45.35132, 45.45748, 45.4021, 45.43081, 45.39425, 45.43047, 45.43118, 45.3937, 45.39663, 45.30486, 45.425990000000006, 45.35198, 45.43421, 45.42795, 45.429140000000004, 45.38844, 45.413090000000004, 45.35052, 45.39841, 45.43097, 45.2547, 45.45361, 45.4231, 45.36034, 45.40887, 45.42933, 45.38005, 45.4426, 45.35376, 45.3926, 45.37743, 45.426320000000004, 45.34975, 45.047709999999995, 45.43593, 45.278890000000004, 45.410709999999995, 45.430640000000004, 45.42212, 45.43515, 45.43093, 45.4243, 45.250659999999996, 45.3501, 45.373459999999994, 45.416340000000005, 45.391090000000005, 45.4182, 45.40788, 45.47487, 45.284009999999995, 45.35543, 45.39853, 45.28353, 45.41837, 45.43199, 45.34153, 45.44228, 45.43291, 45.43821, 45.27613, 45.39645, 45.39454, 45.401709999999994, 45.48265, 45.351690000000005, 45.354279999999996, 45.3443, 45.34946, 45.34758, 45.32566, 45.40785, 45.43827, 45.34903, 45.40116, 45.430679999999995, 45.37141, 45.32689, 45.40198, 45.26854, 45.4081, 45.4291, 45.4011, 45.27796, 45.430409999999995, 45.42787, 45.24507, 45.39675, 45.39928, 45.412440000000004, 45.35393, 45.28075, 45.268409999999996, 45.36813, 45.47508, 45.32489, 45.364740000000005, 45.34547, 45.34602, 45.38615, 45.40205, 45.31175, 45.40807, 45.361540000000005, 45.39935, 45.35999, 45.297979999999995, 45.4051, 45.40318, 45.09197, 45.36351, 45.41923, 45.420390000000005, 45.418659999999996, 45.42796, 45.44551, 45.35927, 45.42739, 45.27724, 45.35856, 45.3578, 45.35954, 45.42953, 45.42922, 45.42729, 45.414190000000005, 45.41446, 45.41393, 45.41265, 45.413920000000005, 45.41431, 45.422540000000005, 45.42993, 45.43273, 45.4333, 45.434540000000005, 45.43416, 45.43177, 45.43233, 45.431909999999995, 45.43161, 45.43016, 45.43016, 45.430820000000004, 45.43186, 45.430620000000005, 45.4415, 45.36501, 45.42355, 45.426590000000004, 45.41468, 45.37879, 45.45636, 45.42857, 45.39802, 45.42337, 45.35801, 45.4349, 45.43391, 45.401270000000004, 45.44239, 45.475, 45.419740000000004, 45.32792, 45.43084, 45.43257, 45.432790000000004, 45.43783, 45.43916, 45.4391, 45.43916, 45.43796, 45.4088, 45.35487, 45.3461, 45.36473, 45.28167, 45.43403, 45.36414, 45.41315, 45.40133, 45.3578, 45.359140000000004, 45.396570000000004, 45.40549, 45.32797, 45.33217, 45.42407, 45.40605, 45.41588, 45.43207, 45.426320000000004, 45.25385, 45.438320000000004, 45.32242, 45.34233, 45.137, 45.419740000000004, 45.414770000000004, 45.405809999999995, 45.414640000000006, 45.42855, 45.412279999999996, 45.43179, 45.35822, 45.25378, 45.36101, 45.43277, 45.4162, 45.40345, 45.4335, 45.44823, 45.43855, 45.43322, 45.34587, 45.45064, 45.449040000000004, 45.396809999999995, 45.43932, 45.437129999999996, 45.44015, 45.44073, 45.40835, 45.41356, 45.4247, 45.43419, 45.40299, 45.34602, 45.43049, 45.41348, 45.346509999999995, 45.34737, 45.40808, 45.41455, 45.26039, 45.422670000000004, 45.42773, 45.3471, 45.42468, 45.412420000000004, 45.42111, 45.40896, 45.4097, 45.43882, 45.41537, 45.42634, 45.34322, 45.44278, 45.4082, 45.4158, 45.423840000000006, 45.42214, 45.42223, 45.47372, 45.36315, 45.42415, 45.41303, 45.36705, 45.26122, 45.350390000000004, 45.252590000000005, 45.44252, 45.35054, 45.432520000000004, 45.28198, 45.43505, 45.4031, 45.4127, 45.41431, 45.42814, 45.2787, 45.343509999999995, 45.27924, 45.401579999999996, 45.431305690379936], \"legendgroup\": \"\", \"lon\": [-75.679, -75.74679, -75.80314, -75.69941, -75.75496, -75.70551, -75.6928, -75.69105, -75.67695, -75.72269, -75.69908000000001, -75.73023, -75.73203000000001, -75.72498, -75.68606, -75.69176, -75.69298, -75.69505, -75.69575, -75.69629, -75.65653, -75.71027, -75.70138, -75.7276, -75.6834, -75.78425, -75.71410999999999, -75.69143000000001, -75.68775, -75.72633, -75.69189, -75.73402, -75.79754, -75.69981, -75.7125, -75.60155, -75.71491, -75.60068000000001, -75.71759, -75.70581, -75.74489, -75.68608, -75.7582, -75.48810999999999, -75.67624, -75.78495, -75.69181, -75.66556, -75.67288, -75.70045999999999, -75.73097, -75.68802, -75.69637, -75.67849, -75.79366999999999, -75.6501, -75.65477, -75.74582, -75.68242, -75.65508, -75.71139000000001, -75.78034, -75.695, -75.69131999999999, -75.67043000000001, -75.68902, -75.69736, -75.72837, -75.67775999999999, -75.69699, -75.47551, -75.7023, -75.44541, -75.65701999999999, -75.66988, -75.69011, -75.70101, -75.75779, -75.51104000000001, -75.67851, -75.57077, -75.65661, -75.51856, -75.72001999999999, -75.65765, -75.68746999999999, -75.68489, -75.71993, -75.7188, -75.51754, -75.74141, -75.75684, -75.68836999999999, -75.63046999999999, -75.65684, -75.69625, -75.72184, -75.6931, -75.51848000000001, -75.67909, -75.67909, -75.6958, -75.66565, -75.6746, -75.67799000000001, -75.52946999999999, -75.67576, -75.69819, -75.71243, -75.69326, -75.65403, -76.05273000000001, -75.7051, -75.73640999999999, -75.73805, -75.68928000000001, -75.64161, -75.62764, -75.66587, -75.7055, -75.72884, -75.89463, -75.71717, -75.81931999999999, -75.70317, -75.6931, -75.52779, -75.73168000000001, -75.86228, -75.69637, -76.07842, -75.66620999999999, -75.75967, -75.75963, -75.69166, -75.64548, -75.68628000000001, -75.66197, -76.20004, -75.67608, -75.73643, -75.84078000000001, -75.6821, -75.67596999999999, -75.63174000000001, -75.764, -75.60975, -75.67628, -75.6957, -75.69594000000001, -75.63034, -75.71125, -75.71806, -76.03690999999999, -75.61997, -75.53288, -75.69561999999999, -75.69213, -75.70178, -75.67617, -75.69206, -75.67388000000001, -75.70245, -75.71169, -75.69255, -75.694, -75.69354, -76.06401, -75.72334000000001, -75.72746, -75.99824, -75.70876, -75.68836999999999, -75.67448, -75.63376, -75.69497, -75.53381, -75.72009, -75.68555, -75.67594, -75.80006999999999, -75.78714000000001, -75.78976999999999, -75.57003, -75.70773, -75.70415, -76.21016999999999, -75.95661, -75.72492, -75.71651, -75.53565, -75.84517, -75.71923000000001, -75.78181, -75.72855, -75.64935, -75.62818, -75.67049, -75.73535, -75.68916, -75.70271, -75.60471, -75.45924000000001, -75.45953, -75.51544, -75.67891, -75.65923000000001, -75.84278, -75.77053000000001, -75.69219, -75.47535, -75.68697, -75.70272, -75.68723, -75.8333, -75.67237, -75.47901999999999, -75.66204, -75.70564, -75.7218, -75.70272, -75.72241, -75.62386, -75.67679, -75.68395, -75.72168, -75.68765, -75.67824, -75.68807, -75.65692, -75.74240999999999, -75.69485999999999, -75.62687, -75.75662, -75.67805, -75.83063, -75.67708, -75.70272, -75.62298, -75.6351, -75.62298, -75.69972, -75.67076999999999, -75.65548000000001, -75.6983, -75.69896999999999, -75.8977, -75.67984, -75.69394, -75.47740999999999, -75.66554000000001, -75.47824, -75.71549, -75.63414, -75.66196, -75.65446, -75.69662, -75.74722, -75.67783, -75.77532, -75.68836999999999, -75.68687, -75.45394, -75.96455, -75.73023, -75.69491, -76.07575, -75.68484000000001, -75.65148, -75.69265, -75.60018000000001, -75.68015, -75.79184000000001, -75.61756, -75.68496, -75.72605, -75.89152, -75.68547, -75.62984, -75.61804000000001, -75.67971999999999, -75.65397, -75.70311, -75.74259, -75.78548, -75.6202, -75.68916, -75.64927, -75.68304, -75.73100000000001, -75.69795, -75.71365, -76.09653, -75.73933000000001, -75.75567, -75.66788000000001, -75.69038, -75.54781, -75.69898, -75.66145999999999, -75.69919, -75.63311, -75.75218000000001, -75.69903000000001, -75.71279, -75.67107, -75.68905, -75.68711, -75.73571, -75.69485999999999, -75.69192, -75.73593000000001, -75.69965, -75.70997, -75.52192, -75.71816, -75.72726, -75.70801, -75.41716, -75.74252, -75.70272, -75.6275, -75.64024, -75.68563, -75.69974, -75.67361, -75.64803, -75.88618000000001, -75.75188, -75.67215, -75.63059, -75.6861, -75.66673, -75.66919, -75.6544, -75.67353, -75.8486, -75.74750999999999, -75.74319, -75.34671, -75.7438, -75.74338, -75.73115, -75.74869, -75.90768, -75.64071, -75.43786, -75.79399000000001, -75.70969000000001, -75.71509, -75.7443, -75.63176999999999, -75.73561, -75.69411, -75.63847, -75.6899, -75.63116, -75.91878, -75.65855, -75.60891, -75.91895, -75.75798, -75.7296, -75.468, -75.67363, -75.46774, -75.67595, -75.63705, -75.71175, -75.69485, -75.71783, -75.67201, -75.79845999999999, -75.47534, -75.59399, -75.69394, -75.68818, -75.6807, -75.69965, -75.6799, -75.69411, -75.72606999999999, -75.68128, -75.73443, -75.6792, -75.73155, -75.72785999999999, -75.71669, -75.6899, -75.68694, -75.60197, -75.67609, -75.82576999999999, -75.70269, -75.69227, -75.7348, -75.68564, -76.21172, -75.62651, -75.70663, -75.64225, -75.67355, -75.64378, -75.71431, -75.67363, -75.67397, -75.78903000000001, -75.73024000000001, -75.72539, -75.73196999999999, -75.7866, -75.69263000000001, -75.68814, -75.93276, -75.71843, -75.71871999999999, -75.71967, -75.69525, -75.69073, -75.69968, -75.60224000000001, -75.69481999999999, -75.67399, -75.70239000000001, -75.69408, -75.68548, -75.84238, -75.67318, -75.65642, -75.72765, -75.71537, -75.70631, -75.68865, -75.74418, -75.75886, -75.69842, -75.68265, -75.67272, -75.67389, -75.70272, -75.79091, -75.67841, -75.68047, -75.67548000000001, -76.11064, -75.68567, -75.7579, -75.66293, -75.68273, -75.73318, -75.62151999999999, -75.67461999999999, -75.67886999999999, -75.70087, -75.48931999999999, -75.85731, -75.67614, -75.62737, -75.63521, -75.84189, -75.51469, -75.58327, -75.71225, -75.65605, -76.07635, -75.63577, -75.67437, -75.63641, -75.90626, -75.70773, -75.73371, -75.69025, -75.62499, -75.72695, -75.67385, -75.75818000000001, -75.66988, -75.68819, -75.69712, -75.66117, -75.68995, -75.70055, -75.68605, -75.80998000000001, -75.68547, -75.69491, -75.79588000000001, -75.70496, -75.65796999999999, -75.7024, -75.6309, -75.56178, -75.7024, -75.7024, -75.69174, -75.60091, -75.67584000000001, -75.67366, -75.7083, -75.72679000000001, -75.69054, -75.68396, -75.85665999999999, -75.6489, -75.74555, -75.68574, -75.67609, -75.67434, -75.67211, -75.69243, -75.66835, -75.65818, -75.68474, -75.67277, -75.67348, -75.72537, -75.52769, -75.52718, -75.52718, -75.62448, -75.60483, -75.76115, -75.73491999999999, -75.68569000000001, -75.69447, -75.67926999999999, -75.62648, -75.69398000000001, -75.70636999999999, -75.7542, -75.78283, -75.66006999999999, -75.69866, -75.62907, -75.91165, -75.91234, -75.70969000000001, -75.73795, -75.67759000000001, -75.71784, -75.67765, -75.46969, -75.69254000000001, -75.96696, -75.68782, -75.68368000000001, -75.73666, -75.47232, -75.65502, -75.6451, -75.6858, -75.72221, -75.65511, -75.72936999999999, -75.8927, -75.74157, -75.70042, -75.69184, -75.68363000000001, -75.63179000000001, -75.5169, -76.07645, -75.90105, -75.79296, -75.68554, -75.6799, -75.68974, -75.77518, -75.70745, -75.61966, -75.67428000000001, -75.60792, -75.67265, -75.67758, -75.8886, -75.73516, -75.61023, -75.56860999999999, -75.5285, -75.72838, -75.67931, -75.72301, -75.75369, -75.48338000000001, -75.66833000000001, -75.67426999999999, -75.68794, -75.68295, -75.67553000000001, -75.77341, -75.85453000000001, -75.78846, -75.71474, -76.21656, -75.6297, -75.93433, -75.47794, -75.68959, -75.66579, -75.69946999999999, -75.70366999999999, -75.65469, -75.88563, -75.69816, -75.67385, -75.68138, -75.66427, -75.55205, -75.67879, -75.66865, -75.55229, -75.69879, -75.70008, -75.70664000000001, -75.74535999999999, -75.66906999999999, -75.69077, -75.67174, -75.60121, -75.56679, -75.56781, -75.56868, -75.66168, -75.74497, -75.77741, -75.69794, -75.70051, -75.67537, -75.69296999999999, -75.34655, -75.67988000000001, -75.72953000000001, -75.47129, -75.65826, -75.74461, -75.67174, -75.67881, -75.71115999999999, -75.67907, -75.67425, -75.74280999999999, -75.65728, -75.62809, -75.68771, -75.72546, -75.72858000000001, -75.63238, -75.37393, -75.75168000000001, -75.78914, -75.3737, -75.68348, -75.47151, -75.70241999999999, -75.6137, -75.67699, -75.68698, -75.70761999999999, -75.72048000000001, -75.71775, -75.79653, -75.79744000000001, -75.68819, -75.68819, -75.6944, -75.75717, -75.72953000000001, -75.8701, -75.77198, -75.86958, -75.67791, -75.69006, -75.61649, -75.6997, -75.93434, -75.91911, -75.47649, -75.87051, -75.47691999999999, -75.6268, -75.54446, -75.67755, -76.07491, -75.69331, -75.68174, -75.68354000000001, -75.79354000000001, -75.69169000000001, -75.69084000000001, -75.67922, -75.73778, -75.6897, -75.6994, -75.68135, -75.66519, -75.72806, -75.75891, -75.6885, -75.80243, -75.60257, -75.93058, -75.6797, -75.65911, -75.67783, -75.73994, -75.66348, -75.74084, -75.70971, -75.76369, -75.66551, -75.72856999999999, -75.72306, -75.67029000000001, -75.67984, -75.66078, -75.70317, -75.66736999999999, -75.6849, -75.70145, -75.71198000000001, -75.71573000000001, -75.77931, -75.69629, -75.92362, -75.70115, -75.73510999999999, -75.65264, -75.83074, -75.73853000000001, -76.08165, -75.75061, -75.70567, -75.64364, -75.69348000000001, -75.6883, -75.64475999999999, -75.68262, -75.70255999999999, -75.71486, -75.68459, -75.68048, -75.66679, -75.69187, -75.59861, -75.60011999999999, -75.57203, -75.70196, -75.68699000000001, -75.69038, -75.66728, -75.71265, -75.78121999999999, -75.66999, -75.71085, -75.69393000000001, -75.74633, -75.47144, -75.61978, -75.69502, -75.72135, -75.67713, -75.71129, -75.67942, -75.74675, -75.71669, -75.68796999999999, -75.88611, -75.60648, -75.40666, -75.6804, -75.7233, -75.62805999999999, -75.72367, -75.84567, -75.78178, -75.79718000000001, -76.0488, -75.72905, -75.70276, -75.72967, -75.64504000000001, -75.46774, -75.67494, -75.67998, -75.66793, -75.67416999999999, -75.67572, -75.68395, -75.74879, -75.68694, -75.74253, -75.61046, -75.6124, -75.8983, -75.68646, -75.68799, -75.67846, -75.6193, -75.6786, -75.73644, -75.63563, -75.74521999999999, -75.66741, -75.71734000000001, -75.6577, -75.69911, -75.83468, -75.682, -75.74355, -75.68538000000001, -75.45727, -75.47755, -75.92363, -75.68053, -75.68819, -75.6944, -75.69453, -75.74938, -75.72849000000001, -75.67339, -75.72537, -75.6625, -75.70606, -75.67203, -76.18655, -75.63744, -75.67151, -75.67114000000001, -75.62701, -75.56774, -75.76100000000001, -75.68956, -75.60282, -75.73033000000001, -75.53809, -75.70770999999999, -75.63577, -75.69311, -75.69896999999999, -75.68819, -75.92698, -75.6962, -75.79227, -75.66006, -75.63698000000001, -75.68106, -75.71692, -75.75447, -75.63034, -75.68188, -75.69981999999999, -75.72612, -75.69039000000001, -75.73640999999999, -75.69435, -75.68755, -75.68315, -75.64737, -75.74148000000001, -75.68668000000001, -75.68387, -75.69733000000001, -75.84514, -75.72971, -75.54, -75.63449, -75.70984, -75.46783, -75.76132, -75.76122, -75.47787, -75.68285, -75.72958, -75.69024, -75.67896999999999, -75.68934, -75.68765, -75.69237, -75.68952, -75.68632, -75.67459000000001, -75.93202, -75.66826999999999, -75.64724, -75.78128000000001, -75.67644, -75.74367, -75.942, -75.94366, -75.92964, -76.07204, -75.64443, -75.5953, -75.66603, -75.5311, -75.69277, -75.73443, -75.70609, -75.69128, -75.76213, -75.64426999999999, -75.64163, -75.6596, -75.5953, -75.72755, -75.68377, -75.65899999999999, -75.58098000000001, -75.67461, -75.98753, -75.70115, -75.47233, -75.68316, -75.68786999999999, -75.62903, -75.65571, -75.79599, -75.93097, -75.71413000000001, -75.68457, -75.75114, -75.59069000000001, -75.6119, -75.6775, -75.70038000000001, -75.68956, -75.60199, -75.6849, -75.90785, -75.66257, -75.6429, -75.47202, -75.73644, -75.63233000000001, -75.62675, -75.75113, -75.69664, -75.6766, -75.67548000000001, -75.69993000000001, -75.66335, -75.67825, -75.65689, -75.82415999999999, -75.40604, -76.06258000000001, -75.72583, -75.46733, -75.64638000000001, -75.70778, -75.68401999999999, -75.67769, -75.69536, -75.92374000000001, -75.66803, -75.68663000000001, -75.61086, -75.7405, -75.71045, -75.73671999999999, -75.74084, -75.71015, -75.89914, -75.69668, -75.74125, -75.7365, -75.73455, -75.64211999999999, -75.83929, -75.71275, -75.66628, -75.66769000000001, -75.69646999999999, -75.69488, -75.69031, -75.69626, -75.68117, -75.69654, -75.68196999999999, -75.68826999999999, -75.67912, -75.64616, -75.72339000000001, -75.72391, -75.7223, -75.71769, -75.76982, -75.64095, -75.67711, -75.69682, -75.80643, -75.71948, -75.69959, -75.76288000000001, -75.69206, -76.07386, -75.70066, -75.71708000000001, -75.61224, -75.72174, -75.69377, -75.68606, -75.69248, -75.74264000000001, -75.83556999999999, -75.63233000000001, -75.56868, -75.66295, -75.67487, -75.76408, -75.66099, -75.62787, -75.67076999999999, -75.62894, -75.70166, -75.72787, -75.67824, -75.45439, -75.66718, -75.72585, -75.68847, -75.71007, -75.66741, -75.65478, -75.77356999999999, -75.49091, -75.69124000000001, -75.74939, -75.60063000000001, -75.69060999999999, -75.9298, -75.60163, -75.69270999999999, -75.5521, -75.83884, -75.67497, -75.75545, -75.70633000000001, -75.66108, -75.64480999999999, -75.92963, -75.67532, -75.69767, -75.8411, -75.72734, -75.68774, -75.69309, -75.84281, -75.85297, -75.71099, -75.66118, -75.70845, -75.84223, -75.66031, -75.73705, -75.66114, -75.73761, -75.47352, -75.75019, -75.67345999999999, -75.68411, -75.6928, -75.63064, -75.70174, -75.68633, -75.67441, -75.70241999999999, -75.68777, -75.68417, -75.68411, -75.6869, -75.72974, -75.72763, -75.75889000000001, -75.93916999999999, -75.73069, -75.79494, -75.67485, -75.74194, -75.94399, -75.64792, -75.69578, -75.46814, -75.93765, -75.68928000000001, -75.79489000000001, -75.67886, -75.93953, -75.49022, -75.67843, -75.52901999999999, -75.67591999999999, -75.76513, -75.5909, -75.68047, -75.64438, -75.67514, -75.52702, -75.63971, -75.68524000000001, -75.63889, -75.74439, -75.74455, -75.69861, -75.67883, -75.66098000000001, -75.68314000000001, -75.62305, -75.67924000000001, -75.69960999999999, -75.68182, -75.67013, -75.6335, -75.6536, -75.48281, -75.66861999999999, -75.7648, -75.68524000000001, -75.7004, -75.68524000000001, -75.76439, -75.72636999999999, -75.70956, -75.69604, -75.93564, -75.74474000000001, -75.73724, -75.72495, -75.70476, -75.94619, -75.87966999999999, -75.79199, -75.6608, -75.66037, -75.68196, -75.63718, -75.73595999999999, -75.63020999999999, -75.63051999999999, -75.68435, -75.63284, -75.69854000000001, -75.68013, -75.68481, -75.71648, -75.44991, -75.69341, -75.63691999999999, -75.79643, -75.65281999999999, -75.68333, -75.67968, -75.70116999999999, -75.68975, -75.6344, -75.65388, -75.92876, -75.89675, -75.69067, -75.60313000000001, -75.75963, -75.73351, -75.68354000000001, -75.69094, -75.69181999999999, -75.73186, -75.69269, -75.66786, -75.65145, -75.6939, -75.63765, -75.65659000000001, -75.63665999999999, -75.63756, -75.60226, -75.92712, -75.64067, -75.48796999999999, -75.926, -75.9261, -75.92605999999999, -75.72941999999999, -75.73911, -75.66283, -75.67463000000001, -75.67371, -75.47919, -75.68721, -75.73352, -75.67843, -75.94103, -75.92541, -75.92452, -75.92611, -75.74205, -75.68516, -75.67676999999999, -75.63084, -75.75824, -75.75685, -75.47576, -75.67396, -75.79308, -75.73751999999999, -75.67854, -75.71053, -75.62942, -75.63775, -76.09662, -75.6518, -75.68069, -75.58098000000001, -75.57978, -75.45727, -75.67231, -75.47549000000001, -75.75561, -75.76418000000001, -75.91884, -75.7562, -75.60101, -75.93394, -75.93298, -75.80117, -75.47480999999999, -75.69168, -75.75992, -75.678, -75.69126, -75.65683, -75.6916, -75.69171999999999, -75.66965, -75.69237, -75.69065, -75.69389, -75.68894, -75.63494, -75.67094, -75.64669, -75.71556, -75.6203, -75.64949, -75.61135999999999, -75.59873, -75.47381999999999, -75.6976, -75.78474, -75.68839, -75.62729, -75.69312, -75.67137, -75.72464000000001, -75.52313000000001, -75.79061999999999, -75.73989, -75.90306, -75.90218, -75.90264, -75.90258, -75.90375999999999, -75.90306, -75.90378, -75.61239, -75.689, -75.63994, -75.71372, -75.71146999999999, -75.82731, -75.69306999999999, -75.89156, -75.84235, -75.63306999999999, -75.68892, -75.8316, -75.60618000000001, -75.61239, -75.84302, -75.7089, -75.46768, -75.68887, -75.51395, -75.6953, -75.93751999999999, -75.9366, -75.93334, -75.6993, -75.68211, -75.69919, -75.64131, -75.68383, -75.68868, -75.76777, -75.69959, -75.64924, -75.723, -75.94081, -75.78729, -75.94069, -75.6833, -75.68811, -75.77496, -75.68663000000001, -75.6005, -75.93073000000001, -75.69323, -75.69353000000001, -75.61943000000001, -75.67676999999999, -75.69032, -75.72751, -75.69145, -75.75324, -75.88162, -75.88358000000001, -75.66248, -75.72869, -75.77865, -75.6705, -75.66832, -75.69444, -75.67384, -75.69434, -75.82699000000001, -75.82924, -75.82715, -75.72883, -75.46888, -75.66558, -75.66594, -75.66594, -75.66594, -75.66594, -75.85993, -75.74775, -75.67605, -75.74154, -75.46414, -75.71828000000001, -75.92118, -75.67905, -75.71168, -75.6778, -75.93295, -75.6709, -75.7585, -75.68096, -75.67728000000001, -75.57457, -75.66534, -75.7592, -75.74775, -75.68903, -75.70255999999999, -75.7277, -75.70949, -75.753, -75.75349, -75.68308, -75.68991, -75.62796999999999, -75.6912, -75.92968, -75.67758, -75.67629000000001, -75.77019, -75.66986, -75.77266, -75.70498, -75.86666, -75.65916999999999, -75.71169, -75.69091999999999, -75.51571, -75.73980999999999, -75.69792, -75.69601, -75.92936999999999, -75.7114, -75.73774, -75.93015, -75.62633000000001, -75.68545999999999, -75.69399, -75.63087, -75.50019, -75.92291999999999, -75.67593000000001, -75.68983, -75.68401, -75.50909, -75.67693, -75.59872, -75.66034, -75.67101, -75.68981, -75.68989, -75.69063, -75.68897, -75.68942, -75.73447, -75.73695, -75.69837, -75.69802, -75.5958, -75.5976, -75.68173, -75.84181, -75.68214, -75.6963, -75.63438000000001, -75.73281, -75.68993, -75.69008000000001, -75.68583000000001, -75.47354, -75.60628, -75.64226, -75.92974, -75.6528, -75.61775, -75.67079, -75.93749, -75.7638, -75.67509, -75.67529, -75.7009, -75.54078, -75.73118000000001, -75.93327, -75.93159, -75.68323000000001, -75.64551, -75.72388000000001, -75.85661999999999, -75.74486999999999, -75.6842, -75.73849, -75.70043000000001, -75.7266, -75.91459, -75.69275, -75.69601, -75.88724, -75.69601, -75.9737, -75.69601, -75.69057, -75.65682, -75.94951, -75.69908000000001, -75.7106, -75.68953, -75.88539, -75.688, -75.67746, -75.67851, -75.67851, -75.67851, -75.62864, -76.28678000000001, -76.05373, -75.67701, -75.82905, -75.91982, -75.63414, -75.68498000000001, -75.66081, -75.67505, -75.5139, -75.45430999999999, -75.73265, -75.67851, -75.63656999999999, -75.67990999999999, -75.79274000000001, -75.69048000000001, -75.85627, -75.83991, -75.6661, -75.67574, -75.66233000000001, -75.685, -75.70321, -75.65581, -75.78216, -75.65202, -75.63274, -75.80091999999999, -75.69325, -75.74603, -75.72916, -75.98383000000001, -75.60963000000001, -75.88101, -75.80497, -75.75591999999999, -75.67881, -75.71256, -75.73063, -75.77815, -75.77758, -75.76713000000001, -75.76638, -75.73574, -75.695, -75.84326, -75.92056, -75.69717, -75.71323000000001, -75.6761, -75.70824, -75.6641, -75.68445, -75.67918, -75.66521, -75.68952, -75.68715, -75.69673, -75.69939000000001, -75.89529, -75.65015, -75.6497, -75.70245, -75.62017, -75.68969, -75.6793, -75.66955, -75.81804, -75.70924000000001, -75.88078, -75.70752, -75.75818000000001, -75.68838000000001, -75.72673, -75.67703, -75.65696, -75.67926999999999, -75.67942, -75.88574, -75.70089, -75.6934, -75.68453000000001, -75.66911999999999, -75.72371, -75.66277, -75.69601, -75.75662, -75.68939, -75.70982, -75.64083000000001, -75.82834, -75.74335, -75.69252, -75.63566, -75.66224, -75.66171999999999, -75.69938, -75.719, -75.68938, -75.8669, -75.66201, -75.69403, -75.60349000000001, -75.68479, -75.76464, -75.94739, -75.69547, -75.62334, -75.67976, -75.67811999999999, -75.69122, -75.70318, -75.68066, -75.6809, -75.85428, -75.70011, -75.66069, -75.89596999999999, -75.89529, -75.76456999999999, -75.67689, -75.67917, -75.67917, -75.8949, -75.76314, -75.72244, -75.69653000000001, -75.66323, -75.92966, -75.6622, -75.68414, -75.68493000000001, -75.68876999999999, -75.70885, -75.86463, -75.92633000000001, -75.73198000000001, -75.944, -75.69901, -75.89085, -75.6136, -75.73373000000001, -75.73241999999999, -75.69145, -75.73543000000001, -75.7431, -75.68765, -75.78074000000001, -75.72756, -75.73725, -75.67777, -75.61270999999999, -75.69896999999999, -75.6988, -75.64872, -75.89504000000001, -75.64367, -75.69422, -75.61088000000001, -75.81703, -75.56491, -75.6983, -75.58855, -75.82332, -75.8252, -75.6668, -75.91176, -75.64703, -75.76499, -75.89301999999999, -75.68706, -75.91674, -75.67843, -75.49565, -75.69846, -75.67668, -75.82559, -75.47435, -75.69622, -75.82679, -75.69547, -75.72652, -75.69253, -75.67990999999999, -75.69506, -75.64714000000001, -75.73319000000001, -75.678, -75.69193, -75.75988000000001, -75.62798000000001, -75.72538, -75.44998000000001, -75.62653, -75.6081, -75.60969, -75.90475, -75.69598, -75.73235, -75.75264, -75.69256, -75.70355, -75.70531, -75.65254, -75.66575, -75.71121, -75.69849, -75.67933000000001, -75.94331, -75.94425, -75.69256999999999, -75.71051999999999, -75.70851, -75.70198, -75.50142, -75.7513, -75.71419, -75.78594, -75.87993, -75.75721, -75.68722, -75.65437, -75.70146, -75.70192, -75.67838, -75.4688, -75.70562, -75.86378, -75.6494, -75.66326, -75.50463, -75.80424000000001, -75.60961, -75.70182, -75.72114, -75.59841, -75.67419, -75.94788, -75.70966, -75.69385, -75.64661, -75.72238, -75.68791, -75.70837, -75.67661, -75.66913000000001, -75.69249, -75.73662, -75.74658000000001, -75.93956, -75.84595999999999, -75.74165, -75.7419, -75.84454000000001, -75.63529, -75.89366, -75.67129, -75.66156, -75.69933, -75.67656, -75.80251, -75.70419, -75.57077, -75.70522, -75.67477, -75.62425, -75.6759, -75.58924, -75.67688000000001, -75.58841, -75.58821999999999, -75.58971, -75.68675, -75.67804, -75.68607, -75.71826, -75.67701, -75.6861, -75.71198000000001, -75.69521999999999, -75.62550999999999, -75.61593, -75.86437, -76.06151, -75.79499, -75.65316, -75.65216, -75.66935, -75.6912, -75.68738, -75.68628000000001, -75.69239, -75.71016, -75.7967, -75.67448, -75.89331999999999, -75.63771, -75.74592, -75.7398, -75.69896999999999, -75.75363, -75.67288, -75.6742, -75.66405999999999, -75.63501, -75.79821, -75.67405, -75.68779, -75.68508, -75.66283, -75.62495, -75.75064, -75.68516, -75.69391999999999, -75.69408, -75.67811999999999, -75.92477, -76.09425999999999, -75.67694, -75.69523000000001, -75.69908000000001, -75.75918, -75.91586, -75.68849, -75.68849, -75.68904, -75.68849, -75.86851, -75.69117, -75.65511, -75.65581999999999, -75.60788000000001, -75.69014, -75.67527, -75.72965, -75.6892, -75.79469, -75.77504, -75.65595, -75.72691, -75.66530999999999, -75.51788, -75.69169000000001, -75.51838000000001, -75.76183, -75.88178, -75.63167, -75.68162, -75.67745, -75.68472, -75.66289, -75.94018, -75.79355, -75.66089000000001, -75.94136999999999, -75.67926, -75.60169, -75.97355, -75.73264, -75.64435999999999, -75.6927, -75.6619, -75.73045, -75.65588000000001, -75.66609, -75.65621, -75.69981999999999, -75.47561, -75.67517, -75.64636999999999, -75.68039, -75.68231999999999, -75.61269, -75.60338, -75.71763, -75.68855, -75.64202, -75.72548, -75.63190999999999, -75.74325, -75.72371, -75.70615, -75.70928, -75.93604, -75.75224, -75.73151999999999, -75.73595, -75.67130999999999, -75.6779, -75.92300999999999, -75.92241, -75.69841, -75.68812, -75.77951, -75.50469, -75.69575, -75.69575, -75.69575, -75.6299, -75.63967, -75.68921, -75.62225, -75.68983, -75.69303000000001, -75.52954, -75.91745999999999, -75.68942, -75.69601, -75.69575, -75.69575, -75.69601, -75.94706, -75.88016999999999, -75.82678, -75.5241, -75.66588, -75.69561, -75.69434, -75.70701, -75.91659, -75.6964, -75.72615, -75.63309, -75.69216, -75.68444000000001, -75.61182, -75.68681, -75.79649, -75.79436, -75.67815999999999, -75.67795, -75.88398000000001, -75.797, -75.50350999999999, -75.69922, -75.61901999999999, -75.5383, -75.53835, -75.47493, -75.67883, -75.74195999999999, -75.74129, -75.84615, -75.74226999999999, -75.71786999999999, -75.68836999999999, -75.7013, -75.63189, -75.76204, -75.76341, -75.76265, -75.61513000000001, -75.65823, -75.73054, -75.69994, -75.71848, -75.88303, -75.69322, -75.66711, -75.46391, -75.68212, -75.68503, -75.68421, -75.68575, -75.68354000000001, -75.68355, -75.668, -75.68039, -75.66713, -75.52136, -75.68575, -75.93777, -75.74117, -75.66828000000001, -75.66304000000001, -75.68562, -75.6934, -75.6778, -75.9179, -75.48832, -75.71276999999999, -75.69373, -75.74497, -75.68432, -75.74973, -75.6844, -75.70467, -75.81761999999999, -75.98846, -75.66646, -75.63116, -75.80102, -75.70023, -75.68947, -75.93828, -75.89334000000001, -75.89443, -76.11018, -75.65531999999999, -75.66381, -75.65733, -75.68008, -75.66667, -75.59574, -75.47671, -75.67529, -75.85421, -75.4689, -75.69909, -75.75471, -75.65034, -75.85554, -75.74166, -75.80051999999999, -75.72454, -75.72499, -75.72521, -75.69173, -75.64118, -75.65405, -75.92665, -75.62803000000001, -75.88441, -75.66188000000001, -75.94354, -75.66445999999999, -75.59983000000001, -75.3863, -75.63089000000001, -75.93439000000001, -75.47661, -75.94678, -75.59801, -75.68732, -75.6939, -75.69588, -75.69802, -75.94318, -75.67341, -75.70613, -75.63741, -75.48456999999999, -75.69887, -75.69885, -75.78985, -75.69198, -75.47469, -75.94758, -75.86699, -75.65441, -75.68942, -75.88785, -75.5938, -75.69896999999999, -75.66067, -75.72955, -75.66856999999999, -75.69131, -75.70595, -75.68607, -75.63061, -75.68664, -75.69873, -75.65951, -75.6941, -75.73954, -75.93682, -75.6893, -75.72261, -75.70784, -75.65811, -75.70057, -75.68965, -75.93621999999999, -75.68568, -75.70489, -75.70494000000001, -75.69898, -75.75352, -75.67056, -75.85591, -75.92867, -75.67405, -75.74217, -75.6647, -75.47524, -75.65601, -75.69211999999999, -75.664, -75.72675, -75.94221999999999, -75.70483, -75.75173000000001, -75.69076, -75.66413, -75.66521, -75.71195, -75.73617, -75.62825, -75.93415999999999, -75.68004, -75.71198000000001, -75.67241999999999, -75.67939, -75.6385, -75.7425, -75.61599, -75.70076, -75.63731, -75.70024000000001, -75.69989, -75.61771, -75.93902, -75.60670999999999, -75.48846999999999, -75.48879000000001, -75.72839, -75.67461, -76.00054, -75.68594, -75.68757, -75.70317, -75.70438, -75.93467, -75.76501999999999, -75.69530999999999, -75.71804, -75.6901, -75.63349000000001, -75.88112, -75.92933000000001, -75.68911999999999, -75.67942, -75.62993, -75.59262, -75.69809000000001, -75.63231999999999, -75.75776, -75.6907, -75.60693, -75.7142, -75.61572, -75.66694, -75.69792, -75.69113, -75.68955, -75.82103000000001, -75.7354, -75.47515, -75.64902, -75.68652, -75.7302, -75.67426999999999, -75.7571, -75.78808000000001, -75.57219, -75.57172, -75.57194, -75.62411999999999, -75.73357, -75.7459, -75.47661, -75.71166, -75.7001, -75.62012, -75.47674, -75.68726, -75.67345999999999, -75.64090999999999, -75.67921, -75.53523, -75.8304, -75.93826, -75.68856, -75.69781, -75.69811, -75.7447, -75.47548, -75.69451, -75.57186999999999, -75.68709, -75.66892, -75.68721, -75.67494, -75.65723, -75.68514, -75.76331, -75.83527, -75.66747, -75.46191999999999, -75.6758, -75.70076, -75.7258, -75.73396, -75.69289, -75.70076, -75.68607, -75.6782, -75.69333, -75.68513, -75.53548, -75.67815, -75.91254, -75.68412, -75.69743000000001, -75.77091999999999, -75.66895, -75.68634, -75.69464, -75.8938, -75.65765999999999, -75.93175, -75.53629000000001, -75.59699, -75.63238, -75.69946999999999, -75.65921999999999, -75.66875999999999, -75.89515, -75.83032, -75.69633, -75.71303, -75.76585, -75.88433, -75.70468000000001, -75.76782, -75.76816, -75.69119, -75.69764, -75.65011, -75.68766, -75.51585, -75.70299, -75.70376999999999, -75.90695, -75.69801, -75.7577, -75.79904, -75.66735, -75.67853000000001, -75.73917, -75.47669, -75.67966, -75.76626999999999, -75.87935, -75.69207, -75.69254000000001, -75.69398000000001, -75.69405, -75.69254000000001, -75.65834, -75.6872, -75.67465, -75.69533, -75.6944, -75.63736999999999, -75.63280999999999, -75.63175, -75.70267, -75.72707, -75.7278, -75.70393, -75.74201, -75.93073000000001, -75.47689, -75.48141, -75.46897, -75.6068, -75.71513, -75.70385, -75.68594, -75.84302, -75.7794, -75.6914, -75.67742, -75.73206, -75.66649, -75.92785, -75.67488, -75.62613, -75.62888000000001, -75.64412, -75.72655999999999, -75.88902, -75.76163000000001, -75.6796, -75.69134, -75.89232, -75.69063, -75.68512, -75.64135999999999, -75.66423, -75.94321, -75.63833000000001, -75.93406, -75.68648, -75.68503, -75.74416, -75.70929, -75.97823000000001, -75.69173, -75.69894000000001, -75.68639, -75.72505, -75.64404, -75.94346999999999, -75.80329, -75.71154, -75.70615, -75.70314, -75.71699, -75.68884, -75.6893, -75.69055, -75.69181, -75.68996, -75.69154, -75.64826, -76.00625, -75.69261999999999, -76.00326, -75.63675, -75.69043, -75.67828, -75.6846, -75.72402, -75.67987, -75.69176999999999, -75.6927, -75.69155, -75.66341, -75.71885, -75.68579, -75.6617, -75.6996, -75.67781, -75.47872, -75.64294, -75.69415, -75.67721, -75.71972, -75.72140999999999, -75.67893000000001, -75.74558, -75.6848, -75.72631, -75.69018, -75.69644, -75.67851999999999, -75.6869, -75.64783, -75.71279, -75.68715, -75.71408000000001, -75.67831, -75.87825, -75.67567, -75.72544, -75.67997, -75.67254, -75.64287, -75.70559, -75.68981, -75.66511, -75.65434, -75.6784, -75.67588, -75.76265, -75.7258, -75.74667, -75.65545999999999, -76.09878, -75.64445, -75.72587, -75.68881, -75.70826, -75.65576999999999, -75.70823, -75.5262, -75.6994, -75.6884, -75.75898000000001, -75.69165, -75.69021, -75.6845, -75.72892, -75.90861, -75.67922, -75.66898, -75.68938, -75.67934, -75.69013000000001, -75.76003, -75.68621999999999, -75.73959, -75.69875, -75.69117, -75.73394, -75.62968000000001, -75.69648000000001, -75.76476, -75.69795, -75.68964, -75.66866999999999, -75.67629000000001, -75.77568000000001, -75.67383000000001, -75.66013000000001, -75.65828, -75.80176999999999, -75.69236, -75.67605, -75.93414, -75.69708, -75.68984, -75.60465, -75.69268000000001, -75.6913, -75.60618000000001, -75.74181999999999, -75.80009, -75.60951999999999, -75.68573, -75.67284000000001, -75.69422, -75.70769, -75.46687, -75.92616, -75.75496, -75.72499, -75.88279, -75.69114, -75.69344, -75.74234, -75.67501, -75.6378, -75.66014, -75.68479, -75.62295, -75.62288000000001, -75.69924, -75.46621, -75.77264, -75.7756, -75.93685, -75.75686, -75.75904, -75.7661, -75.64716999999999, -75.65408000000001, -75.66354, -75.70026, -75.68584, -75.70299, -75.79229000000001, -75.62861, -75.68433, -75.71061, -75.61964, -75.67376999999999, -75.84040999999999, -75.6738, -75.68198000000001, -75.73406, -75.73324000000001, -75.71242, -75.68588000000001, -75.72606, -75.86171999999999, -75.8802, -75.63096, -75.46478, -75.76731, -75.71248, -75.6308, -75.63065, -75.66853, -75.70319, -75.6149, -75.68661, -75.71882, -75.75104, -75.74540999999999, -75.86973, -75.72126999999999, -75.6999, -75.763, -75.71941, -75.71892, -75.71993, -75.69337, -75.68084, -75.48268, -75.65118000000001, -75.65751, -75.76947, -75.65276999999999, -75.65288000000001, -75.65274000000001, -75.67936999999999, -75.68098, -75.67964, -75.71105, -75.71128, -75.71139000000001, -75.7116, -75.7096, -75.71011, -75.67971, -75.68736, -75.69208, -75.69236, -75.69272, -75.69093000000001, -75.68652, -75.68692, -75.68509, -75.68705, -75.68723, -75.68682, -75.68554, -75.68697, -75.6872, -75.66714, -75.78064, -75.67978000000001, -75.68443, -75.70307, -75.65186, -75.60070999999999, -75.69015, -75.71249, -75.67996, -75.65115, -75.6897, -75.6963, -75.73338000000001, -75.64112, -75.46473, -75.6894, -75.5897, -75.69058000000001, -75.69045, -75.69098000000001, -75.66284, -75.6637, -75.6639, -75.6626, -75.66214000000001, -75.69716, -75.74024, -75.78545, -75.75034000000001, -75.89480999999999, -75.69057, -75.76821, -75.70539000000001, -75.68936, -75.65267, -75.65142, -75.61386999999999, -75.70643000000001, -75.77660999999999, -75.74629, -75.60547, -75.72553, -75.66996, -75.69191, -75.68735, -75.7418, -75.67871, -75.60184, -75.74861, -75.57335, -75.69639000000001, -75.67896999999999, -75.69935, -75.67192, -75.69079, -75.69037, -75.66272, -75.65329, -75.74214, -75.64229, -75.66465, -75.69219, -75.73109000000001, -75.68903, -75.46185, -75.62145, -75.66244, -75.80203, -75.61692, -75.46345, -75.72957, -75.66304000000001, -75.66248, -75.67583, -75.67608, -75.71368000000001, -75.69501, -75.6546, -75.69824, -75.75140999999999, -75.80171, -75.69156, -75.69601, -75.81879, -75.80055, -75.70228, -75.69654, -75.7525, -75.69866, -75.68943, -75.78666, -75.6793, -75.69495, -75.69866, -75.71375, -75.71181, -75.66237, -75.68685, -75.69035, -75.75291999999999, -75.62656, -75.69912, -75.69869, -75.68621999999999, -75.68785, -75.68652, -75.45151, -75.63538, -75.71699, -75.69633, -75.77286, -75.48085, -75.66414, -75.74069, -75.66577, -75.66317, -75.66634, -75.67311, -75.65122, -75.72065, -75.70108, -75.69914, -75.63620999999999, -75.89287, -75.66445999999999, -75.8941, -75.70394, -75.69110007306688], \"marker\": {\"color\": \"#636efa\"}, \"mode\": \"markers\", \"name\": \"\", \"showlegend\": false, \"subplot\": \"mapbox\", \"type\": \"scattermapbox\"}],\n",
              "                        {\"legend\": {\"tracegroupgap\": 0}, \"mapbox\": {\"accesstoken\": \"pk.eyJ1IjoiZG9taW5pa3dvem5pYWsiLCJhIjoiY2thdHQ2NjJvMHdueTJ4b2M3dWNuMWZtNSJ9.MehJGwwh4PZUIVDKZ5xsiQ\", \"center\": {\"lat\": 45.38772721610805, \"lon\": -75.70453509378989}, \"domain\": {\"x\": [0.0, 1.0], \"y\": [0.0, 1.0]}, \"style\": \"open-street-map\", \"zoom\": 3}, \"margin\": {\"b\": 10, \"l\": 10, \"r\": 10, \"t\": 10}, \"template\": {\"data\": {\"bar\": [{\"error_x\": {\"color\": \"#2a3f5f\"}, \"error_y\": {\"color\": \"#2a3f5f\"}, \"marker\": {\"line\": {\"color\": \"#E5ECF6\", \"width\": 0.5}}, \"type\": \"bar\"}], \"barpolar\": [{\"marker\": {\"line\": {\"color\": \"#E5ECF6\", \"width\": 0.5}}, \"type\": \"barpolar\"}], \"carpet\": [{\"aaxis\": {\"endlinecolor\": \"#2a3f5f\", \"gridcolor\": \"white\", \"linecolor\": \"white\", \"minorgridcolor\": \"white\", \"startlinecolor\": \"#2a3f5f\"}, \"baxis\": {\"endlinecolor\": \"#2a3f5f\", \"gridcolor\": \"white\", \"linecolor\": \"white\", \"minorgridcolor\": \"white\", \"startlinecolor\": \"#2a3f5f\"}, \"type\": \"carpet\"}], \"choropleth\": [{\"colorbar\": {\"outlinewidth\": 0, \"ticks\": \"\"}, \"type\": \"choropleth\"}], \"contour\": [{\"colorbar\": {\"outlinewidth\": 0, \"ticks\": \"\"}, \"colorscale\": [[0.0, \"#0d0887\"], [0.1111111111111111, \"#46039f\"], [0.2222222222222222, \"#7201a8\"], [0.3333333333333333, \"#9c179e\"], [0.4444444444444444, \"#bd3786\"], [0.5555555555555556, \"#d8576b\"], [0.6666666666666666, \"#ed7953\"], [0.7777777777777778, \"#fb9f3a\"], [0.8888888888888888, \"#fdca26\"], [1.0, \"#f0f921\"]], \"type\": \"contour\"}], \"contourcarpet\": [{\"colorbar\": {\"outlinewidth\": 0, \"ticks\": \"\"}, \"type\": \"contourcarpet\"}], \"heatmap\": [{\"colorbar\": {\"outlinewidth\": 0, \"ticks\": \"\"}, \"colorscale\": [[0.0, \"#0d0887\"], [0.1111111111111111, \"#46039f\"], [0.2222222222222222, \"#7201a8\"], [0.3333333333333333, \"#9c179e\"], [0.4444444444444444, \"#bd3786\"], [0.5555555555555556, \"#d8576b\"], [0.6666666666666666, \"#ed7953\"], [0.7777777777777778, \"#fb9f3a\"], [0.8888888888888888, \"#fdca26\"], [1.0, \"#f0f921\"]], \"type\": \"heatmap\"}], \"heatmapgl\": [{\"colorbar\": {\"outlinewidth\": 0, \"ticks\": \"\"}, \"colorscale\": [[0.0, \"#0d0887\"], [0.1111111111111111, \"#46039f\"], [0.2222222222222222, \"#7201a8\"], [0.3333333333333333, \"#9c179e\"], [0.4444444444444444, \"#bd3786\"], [0.5555555555555556, \"#d8576b\"], [0.6666666666666666, \"#ed7953\"], [0.7777777777777778, \"#fb9f3a\"], [0.8888888888888888, \"#fdca26\"], [1.0, \"#f0f921\"]], \"type\": \"heatmapgl\"}], \"histogram\": [{\"marker\": {\"colorbar\": {\"outlinewidth\": 0, \"ticks\": \"\"}}, \"type\": \"histogram\"}], \"histogram2d\": [{\"colorbar\": {\"outlinewidth\": 0, \"ticks\": \"\"}, \"colorscale\": [[0.0, \"#0d0887\"], [0.1111111111111111, \"#46039f\"], [0.2222222222222222, \"#7201a8\"], [0.3333333333333333, \"#9c179e\"], [0.4444444444444444, \"#bd3786\"], [0.5555555555555556, \"#d8576b\"], [0.6666666666666666, \"#ed7953\"], [0.7777777777777778, \"#fb9f3a\"], [0.8888888888888888, \"#fdca26\"], [1.0, \"#f0f921\"]], \"type\": \"histogram2d\"}], \"histogram2dcontour\": [{\"colorbar\": {\"outlinewidth\": 0, \"ticks\": \"\"}, \"colorscale\": [[0.0, \"#0d0887\"], [0.1111111111111111, \"#46039f\"], [0.2222222222222222, \"#7201a8\"], [0.3333333333333333, \"#9c179e\"], [0.4444444444444444, \"#bd3786\"], [0.5555555555555556, \"#d8576b\"], [0.6666666666666666, \"#ed7953\"], [0.7777777777777778, \"#fb9f3a\"], [0.8888888888888888, \"#fdca26\"], [1.0, \"#f0f921\"]], \"type\": \"histogram2dcontour\"}], \"mesh3d\": [{\"colorbar\": {\"outlinewidth\": 0, \"ticks\": \"\"}, \"type\": \"mesh3d\"}], \"parcoords\": [{\"line\": {\"colorbar\": {\"outlinewidth\": 0, \"ticks\": \"\"}}, \"type\": \"parcoords\"}], \"pie\": [{\"automargin\": true, \"type\": \"pie\"}], \"scatter\": [{\"marker\": {\"colorbar\": {\"outlinewidth\": 0, \"ticks\": \"\"}}, \"type\": \"scatter\"}], \"scatter3d\": [{\"line\": {\"colorbar\": {\"outlinewidth\": 0, \"ticks\": \"\"}}, \"marker\": {\"colorbar\": {\"outlinewidth\": 0, \"ticks\": \"\"}}, \"type\": \"scatter3d\"}], \"scattercarpet\": [{\"marker\": {\"colorbar\": {\"outlinewidth\": 0, \"ticks\": \"\"}}, \"type\": \"scattercarpet\"}], \"scattergeo\": [{\"marker\": {\"colorbar\": {\"outlinewidth\": 0, \"ticks\": \"\"}}, \"type\": \"scattergeo\"}], \"scattergl\": [{\"marker\": {\"colorbar\": {\"outlinewidth\": 0, \"ticks\": \"\"}}, \"type\": \"scattergl\"}], \"scattermapbox\": [{\"marker\": {\"colorbar\": {\"outlinewidth\": 0, \"ticks\": \"\"}}, \"type\": \"scattermapbox\"}], \"scatterpolar\": [{\"marker\": {\"colorbar\": {\"outlinewidth\": 0, \"ticks\": \"\"}}, \"type\": \"scatterpolar\"}], \"scatterpolargl\": [{\"marker\": {\"colorbar\": {\"outlinewidth\": 0, \"ticks\": \"\"}}, \"type\": \"scatterpolargl\"}], \"scatterternary\": [{\"marker\": {\"colorbar\": {\"outlinewidth\": 0, \"ticks\": \"\"}}, \"type\": \"scatterternary\"}], \"surface\": [{\"colorbar\": {\"outlinewidth\": 0, \"ticks\": \"\"}, \"colorscale\": [[0.0, \"#0d0887\"], [0.1111111111111111, \"#46039f\"], [0.2222222222222222, \"#7201a8\"], [0.3333333333333333, \"#9c179e\"], [0.4444444444444444, \"#bd3786\"], [0.5555555555555556, \"#d8576b\"], [0.6666666666666666, \"#ed7953\"], [0.7777777777777778, \"#fb9f3a\"], [0.8888888888888888, \"#fdca26\"], [1.0, \"#f0f921\"]], \"type\": \"surface\"}], \"table\": [{\"cells\": {\"fill\": {\"color\": \"#EBF0F8\"}, \"line\": {\"color\": \"white\"}}, \"header\": {\"fill\": {\"color\": \"#C8D4E3\"}, \"line\": {\"color\": \"white\"}}, \"type\": \"table\"}]}, \"layout\": {\"annotationdefaults\": {\"arrowcolor\": \"#2a3f5f\", \"arrowhead\": 0, \"arrowwidth\": 1}, \"coloraxis\": {\"colorbar\": {\"outlinewidth\": 0, \"ticks\": \"\"}}, \"colorscale\": {\"diverging\": [[0, \"#8e0152\"], [0.1, \"#c51b7d\"], [0.2, \"#de77ae\"], [0.3, \"#f1b6da\"], [0.4, \"#fde0ef\"], [0.5, \"#f7f7f7\"], [0.6, \"#e6f5d0\"], [0.7, \"#b8e186\"], [0.8, \"#7fbc41\"], [0.9, \"#4d9221\"], [1, \"#276419\"]], \"sequential\": [[0.0, \"#0d0887\"], [0.1111111111111111, \"#46039f\"], [0.2222222222222222, \"#7201a8\"], [0.3333333333333333, \"#9c179e\"], [0.4444444444444444, \"#bd3786\"], [0.5555555555555556, \"#d8576b\"], [0.6666666666666666, \"#ed7953\"], [0.7777777777777778, \"#fb9f3a\"], [0.8888888888888888, \"#fdca26\"], [1.0, \"#f0f921\"]], \"sequentialminus\": [[0.0, \"#0d0887\"], [0.1111111111111111, \"#46039f\"], [0.2222222222222222, \"#7201a8\"], [0.3333333333333333, \"#9c179e\"], [0.4444444444444444, \"#bd3786\"], [0.5555555555555556, \"#d8576b\"], [0.6666666666666666, \"#ed7953\"], [0.7777777777777778, \"#fb9f3a\"], [0.8888888888888888, \"#fdca26\"], [1.0, \"#f0f921\"]]}, \"colorway\": [\"#636efa\", \"#EF553B\", \"#00cc96\", \"#ab63fa\", \"#FFA15A\", \"#19d3f3\", \"#FF6692\", \"#B6E880\", \"#FF97FF\", \"#FECB52\"], \"font\": {\"color\": \"#2a3f5f\"}, \"geo\": {\"bgcolor\": \"white\", \"lakecolor\": \"white\", \"landcolor\": \"#E5ECF6\", \"showlakes\": true, \"showland\": true, \"subunitcolor\": \"white\"}, \"hoverlabel\": {\"align\": \"left\"}, \"hovermode\": \"closest\", \"mapbox\": {\"style\": \"light\"}, \"paper_bgcolor\": \"white\", \"plot_bgcolor\": \"#E5ECF6\", \"polar\": {\"angularaxis\": {\"gridcolor\": \"white\", \"linecolor\": \"white\", \"ticks\": \"\"}, \"bgcolor\": \"#E5ECF6\", \"radialaxis\": {\"gridcolor\": \"white\", \"linecolor\": \"white\", \"ticks\": \"\"}}, \"scene\": {\"xaxis\": {\"backgroundcolor\": \"#E5ECF6\", \"gridcolor\": \"white\", \"gridwidth\": 2, \"linecolor\": \"white\", \"showbackground\": true, \"ticks\": \"\", \"zerolinecolor\": \"white\"}, \"yaxis\": {\"backgroundcolor\": \"#E5ECF6\", \"gridcolor\": \"white\", \"gridwidth\": 2, \"linecolor\": \"white\", \"showbackground\": true, \"ticks\": \"\", \"zerolinecolor\": \"white\"}, \"zaxis\": {\"backgroundcolor\": \"#E5ECF6\", \"gridcolor\": \"white\", \"gridwidth\": 2, \"linecolor\": \"white\", \"showbackground\": true, \"ticks\": \"\", \"zerolinecolor\": \"white\"}}, \"shapedefaults\": {\"line\": {\"color\": \"#2a3f5f\"}}, \"ternary\": {\"aaxis\": {\"gridcolor\": \"white\", \"linecolor\": \"white\", \"ticks\": \"\"}, \"baxis\": {\"gridcolor\": \"white\", \"linecolor\": \"white\", \"ticks\": \"\"}, \"bgcolor\": \"#E5ECF6\", \"caxis\": {\"gridcolor\": \"white\", \"linecolor\": \"white\", \"ticks\": \"\"}}, \"title\": {\"x\": 0.05}, \"xaxis\": {\"automargin\": true, \"gridcolor\": \"white\", \"linecolor\": \"white\", \"ticks\": \"\", \"title\": {\"standoff\": 15}, \"zerolinecolor\": \"white\", \"zerolinewidth\": 2}, \"yaxis\": {\"automargin\": true, \"gridcolor\": \"white\", \"linecolor\": \"white\", \"ticks\": \"\", \"title\": {\"standoff\": 15}, \"zerolinecolor\": \"white\", \"zerolinewidth\": 2}}}},\n",
              "                        {\"responsive\": true}\n",
              "                    ).then(function(){\n",
              "                            \n",
              "var gd = document.getElementById('13cce123-bd1f-40f3-ba44-5cb5154dcaa1');\n",
              "var x = new MutationObserver(function (mutations, observer) {{\n",
              "        var display = window.getComputedStyle(gd).display;\n",
              "        if (!display || display === 'none') {{\n",
              "            console.log([gd, 'removed!']);\n",
              "            Plotly.purge(gd);\n",
              "            observer.disconnect();\n",
              "        }}\n",
              "}});\n",
              "\n",
              "// Listen for the removal of the full notebook cells\n",
              "var notebookContainer = gd.closest('#notebook-container');\n",
              "if (notebookContainer) {{\n",
              "    x.observe(notebookContainer, {childList: true});\n",
              "}}\n",
              "\n",
              "// Listen for the clearing of the current output cell\n",
              "var outputEl = gd.closest('.output');\n",
              "if (outputEl) {{\n",
              "    x.observe(outputEl, {childList: true});\n",
              "}}\n",
              "\n",
              "                        })\n",
              "                };\n",
              "                \n",
              "            </script>\n",
              "        </div>\n",
              "</body>\n",
              "</html>"
            ]
          },
          "metadata": {
            "tags": []
          }
        }
      ]
    },
    {
      "cell_type": "code",
      "metadata": {
        "colab": {
          "base_uri": "https://localhost:8080/",
          "height": 576
        },
        "id": "oxGpb27mlm8T",
        "outputId": "22065816-5591-4621-e9c8-c30a6e407dc6"
      },
      "source": [
        "center = [45.4190489,-75.7146491]\n",
        "\n",
        "plt.figure(figsize=(16,8))\n",
        "plt.plot(coords['longitude'], coords['latitude'], 'x', markersize=2)\n",
        "plt.plot(center[1], center[0], 'ro', markersize=10)\n",
        "plt.title('Przedstawienie danych wraz z centrum miasta')\n",
        "plt.xlabel('Longitude')\n",
        "plt.ylabel('Latitude')\n",
        "plt.legend(loc='upper left')\n",
        "plt.show()"
      ],
      "execution_count": null,
      "outputs": [
        {
          "output_type": "stream",
          "text": [
            "No handles with labels found to put in legend.\n"
          ],
          "name": "stderr"
        },
        {
          "output_type": "display_data",
          "data": {
            "image/png": "[encoded data removed]",
            "text/plain": [
              "<Figure size 1152x576 with 1 Axes>"
            ]
          },
          "metadata": {
            "tags": []
          }
        }
      ]
    },
    {
      "cell_type": "code",
      "metadata": {
        "id": "oG3gji89l7gs"
      },
      "source": [
        "# rozstep międzykwartylowy\n",
        "Q1 = coords.quantile(0.25)\n",
        "Q3 = coords.quantile(0.75)\n",
        "IQR = Q3 - Q1"
      ],
      "execution_count": null,
      "outputs": []
    },
    {
      "cell_type": "code",
      "metadata": {
        "id": "8igtfqPAm4Dz"
      },
      "source": [
        "# IQR jak mocno można odstawać od środka danych\n",
        "thresh = 1.8"
      ],
      "execution_count": null,
      "outputs": []
    },
    {
      "cell_type": "code",
      "metadata": {
        "id": "UrLzEwMQm54E"
      },
      "source": [
        "outliers = ((coords < (Q1 - thresh * IQR)) | (coords > (Q3 + thresh * IQR)))\n",
        "coords_without_outliers = coords[~outliers.any(axis=1)]\n",
        "coords_outliers = coords[outliers.any(axis=1)]"
      ],
      "execution_count": null,
      "outputs": []
    },
    {
      "cell_type": "code",
      "metadata": {
        "colab": {
          "base_uri": "https://localhost:8080/"
        },
        "id": "n7oc3pxQm-9h",
        "outputId": "acf1cb3f-5dd7-43c5-9900-f203b546db4c"
      },
      "source": [
        "print(coords.shape)\n",
        "print(coords_without_outliers.shape)\n",
        "print(coords_outliers.shape)"
      ],
      "execution_count": null,
      "outputs": [
        {
          "output_type": "stream",
          "text": [
            "(2613, 2)\n",
            "(2191, 2)\n",
            "(422, 2)\n"
          ],
          "name": "stdout"
        }
      ]
    },
    {
      "cell_type": "code",
      "metadata": {
        "colab": {
          "base_uri": "https://localhost:8080/",
          "height": 206
        },
        "id": "LO8uHJ1ynDhD",
        "outputId": "2160b6eb-11de-4d7a-8a7c-e537969c0429"
      },
      "source": [
        "coords_without_outliers.head()"
      ],
      "execution_count": null,
      "outputs": [
        {
          "output_type": "execute_result",
          "data": {
            "text/html": [
              "<div>\n",
              "<style scoped>\n",
              "    .dataframe tbody tr th:only-of-type {\n",
              "        vertical-align: middle;\n",
              "    }\n",
              "\n",
              "    .dataframe tbody tr th {\n",
              "        vertical-align: top;\n",
              "    }\n",
              "\n",
              "    .dataframe thead th {\n",
              "        text-align: right;\n",
              "    }\n",
              "</style>\n",
              "<table border=\"1\" class=\"dataframe\">\n",
              "  <thead>\n",
              "    <tr style=\"text-align: right;\">\n",
              "      <th></th>\n",
              "      <th>longitude</th>\n",
              "      <th>latitude</th>\n",
              "    </tr>\n",
              "  </thead>\n",
              "  <tbody>\n",
              "    <tr>\n",
              "      <th>0</th>\n",
              "      <td>-75.67900</td>\n",
              "      <td>45.40924</td>\n",
              "    </tr>\n",
              "    <tr>\n",
              "      <th>1</th>\n",
              "      <td>-75.74679</td>\n",
              "      <td>45.40159</td>\n",
              "    </tr>\n",
              "    <tr>\n",
              "      <th>2</th>\n",
              "      <td>-75.80314</td>\n",
              "      <td>45.35900</td>\n",
              "    </tr>\n",
              "    <tr>\n",
              "      <th>3</th>\n",
              "      <td>-75.69941</td>\n",
              "      <td>45.40248</td>\n",
              "    </tr>\n",
              "    <tr>\n",
              "      <th>4</th>\n",
              "      <td>-75.75496</td>\n",
              "      <td>45.38972</td>\n",
              "    </tr>\n",
              "  </tbody>\n",
              "</table>\n",
              "</div>"
            ],
            "text/plain": [
              "   longitude  latitude\n",
              "0  -75.67900  45.40924\n",
              "1  -75.74679  45.40159\n",
              "2  -75.80314  45.35900\n",
              "3  -75.69941  45.40248\n",
              "4  -75.75496  45.38972"
            ]
          },
          "metadata": {
            "tags": []
          },
          "execution_count": 16
        }
      ]
    },
    {
      "cell_type": "code",
      "metadata": {
        "colab": {
          "base_uri": "https://localhost:8080/",
          "height": 537
        },
        "id": "JDLRb5TznKq4",
        "outputId": "fa3ea661-ed63-45a4-ba59-30239f4afe98"
      },
      "source": [
        "center = [45.4190489,-75.7146491]\n",
        "\n",
        "plt.figure(figsize=(16,8))\n",
        "plt.plot(coords_without_outliers['longitude'], coords_without_outliers['latitude'], 'bo', markersize=3, label='Oczyszczony zbiór danych')\n",
        "plt.plot(coords_outliers['longitude'], coords_outliers['latitude'], 'rx', markersize=2, label='Wartości odstające')\n",
        "plt.plot(center[1], center[0], 'yo', markersize=10, label='Centrum miasta')\n",
        "# plt.title('Przedstawienie danych')\n",
        "plt.xlabel('Longitude')\n",
        "plt.ylabel('Latitude')\n",
        "plt.legend(loc='lower left')\n",
        "plt.show()"
      ],
      "execution_count": null,
      "outputs": [
        {
          "output_type": "display_data",
          "data": {
            "image/png": "[encoded data removed]",
            "text/plain": [
              "<Figure size 1152x576 with 1 Axes>"
            ]
          },
          "metadata": {
            "tags": []
          }
        }
      ]
    },
    {
      "cell_type": "markdown",
      "metadata": {
        "id": "i5eme-LG1MFq"
      },
      "source": [
        "Preprocessing do Analizy Sent"
      ]
    },
    {
      "cell_type": "code",
      "metadata": {
        "colab": {
          "base_uri": "https://localhost:8080/",
          "height": 222
        },
        "id": "2WRJZP6Zt3y-",
        "outputId": "e881bc23-497d-4bcf-a83b-76f26f1749bd"
      },
      "source": [
        "df.loc[df['id'] == 45494801]"
      ],
      "execution_count": null,
      "outputs": [
        {
          "output_type": "execute_result",
          "data": {
            "text/html": [
              "<div>\n",
              "<style scoped>\n",
              "    .dataframe tbody tr th:only-of-type {\n",
              "        vertical-align: middle;\n",
              "    }\n",
              "\n",
              "    .dataframe tbody tr th {\n",
              "        vertical-align: top;\n",
              "    }\n",
              "\n",
              "    .dataframe thead th {\n",
              "        text-align: right;\n",
              "    }\n",
              "</style>\n",
              "<table border=\"1\" class=\"dataframe\">\n",
              "  <thead>\n",
              "    <tr style=\"text-align: right;\">\n",
              "      <th></th>\n",
              "      <th>id</th>\n",
              "      <th>listing_url</th>\n",
              "      <th>scrape_id</th>\n",
              "      <th>last_scraped</th>\n",
              "      <th>name</th>\n",
              "      <th>description</th>\n",
              "      <th>neighborhood_overview</th>\n",
              "      <th>picture_url</th>\n",
              "      <th>host_id</th>\n",
              "      <th>host_url</th>\n",
              "      <th>host_name</th>\n",
              "      <th>host_since</th>\n",
              "      <th>host_location</th>\n",
              "      <th>host_about</th>\n",
              "      <th>host_response_time</th>\n",
              "      <th>host_response_rate</th>\n",
              "      <th>host_acceptance_rate</th>\n",
              "      <th>host_is_superhost</th>\n",
              "      <th>host_thumbnail_url</th>\n",
              "      <th>host_picture_url</th>\n",
              "      <th>host_neighbourhood</th>\n",
              "      <th>host_listings_count</th>\n",
              "      <th>host_total_listings_count</th>\n",
              "      <th>host_verifications</th>\n",
              "      <th>host_has_profile_pic</th>\n",
              "      <th>host_identity_verified</th>\n",
              "      <th>neighbourhood</th>\n",
              "      <th>neighbourhood_cleansed</th>\n",
              "      <th>neighbourhood_group_cleansed</th>\n",
              "      <th>latitude</th>\n",
              "      <th>longitude</th>\n",
              "      <th>property_type</th>\n",
              "      <th>room_type</th>\n",
              "      <th>accommodates</th>\n",
              "      <th>bathrooms</th>\n",
              "      <th>bathrooms_text</th>\n",
              "      <th>bedrooms</th>\n",
              "      <th>beds</th>\n",
              "      <th>amenities</th>\n",
              "      <th>price</th>\n",
              "      <th>minimum_nights</th>\n",
              "      <th>maximum_nights</th>\n",
              "      <th>minimum_minimum_nights</th>\n",
              "      <th>maximum_minimum_nights</th>\n",
              "      <th>minimum_maximum_nights</th>\n",
              "      <th>maximum_maximum_nights</th>\n",
              "      <th>minimum_nights_avg_ntm</th>\n",
              "      <th>maximum_nights_avg_ntm</th>\n",
              "      <th>calendar_updated</th>\n",
              "      <th>has_availability</th>\n",
              "      <th>availability_30</th>\n",
              "      <th>availability_60</th>\n",
              "      <th>availability_90</th>\n",
              "      <th>availability_365</th>\n",
              "      <th>calendar_last_scraped</th>\n",
              "      <th>number_of_reviews</th>\n",
              "      <th>number_of_reviews_ltm</th>\n",
              "      <th>number_of_reviews_l30d</th>\n",
              "      <th>first_review</th>\n",
              "      <th>last_review</th>\n",
              "      <th>review_scores_rating</th>\n",
              "      <th>review_scores_accuracy</th>\n",
              "      <th>review_scores_cleanliness</th>\n",
              "      <th>review_scores_checkin</th>\n",
              "      <th>review_scores_communication</th>\n",
              "      <th>review_scores_location</th>\n",
              "      <th>review_scores_value</th>\n",
              "      <th>license</th>\n",
              "      <th>instant_bookable</th>\n",
              "      <th>calculated_host_listings_count</th>\n",
              "      <th>calculated_host_listings_count_entire_homes</th>\n",
              "      <th>calculated_host_listings_count_private_rooms</th>\n",
              "      <th>calculated_host_listings_count_shared_rooms</th>\n",
              "      <th>reviews_per_month</th>\n",
              "    </tr>\n",
              "  </thead>\n",
              "  <tbody>\n",
              "    <tr>\n",
              "      <th>2528</th>\n",
              "      <td>45494801</td>\n",
              "      <td>https://www.airbnb.com/rooms/45494801</td>\n",
              "      <td>20201021220716</td>\n",
              "      <td>2020-10-24</td>\n",
              "      <td>PRIME Walk Location - Modern Studio Near Bywar...</td>\n",
              "      <td>This modern studio apartment in the heart of t...</td>\n",
              "      <td>The apartment is in the heart of the trendy By...</td>\n",
              "      <td>https://a0.muscache.com/pictures/c40ef387-3588...</td>\n",
              "      <td>57278041</td>\n",
              "      <td>https://www.airbnb.com/users/show/57278041</td>\n",
              "      <td>Carol</td>\n",
              "      <td>2016-02-03</td>\n",
              "      <td>Toronto, Ontario, Canada</td>\n",
              "      <td>NaN</td>\n",
              "      <td>within an hour</td>\n",
              "      <td>100%</td>\n",
              "      <td>100%</td>\n",
              "      <td>f</td>\n",
              "      <td>https://a0.muscache.com/im/pictures/user/acc68...</td>\n",
              "      <td>https://a0.muscache.com/im/pictures/user/acc68...</td>\n",
              "      <td>Yonge Eglinton</td>\n",
              "      <td>1</td>\n",
              "      <td>1</td>\n",
              "      <td>['email', 'phone', 'facebook', 'reviews', 'jum...</td>\n",
              "      <td>t</td>\n",
              "      <td>t</td>\n",
              "      <td>Ottawa, Ontario, Canada</td>\n",
              "      <td>Rideau-Vanier</td>\n",
              "      <td>NaN</td>\n",
              "      <td>45.43207</td>\n",
              "      <td>-75.69191</td>\n",
              "      <td>Entire apartment</td>\n",
              "      <td>Entire home/apt</td>\n",
              "      <td>2</td>\n",
              "      <td>NaN</td>\n",
              "      <td>1 bath</td>\n",
              "      <td>1.0</td>\n",
              "      <td>1.0</td>\n",
              "      <td>[\"Iron\", \"Smoke alarm\", \"Shampoo\", \"Cooking ba...</td>\n",
              "      <td>$69.00</td>\n",
              "      <td>1</td>\n",
              "      <td>365</td>\n",
              "      <td>1</td>\n",
              "      <td>3</td>\n",
              "      <td>365</td>\n",
              "      <td>365</td>\n",
              "      <td>2.7</td>\n",
              "      <td>365.0</td>\n",
              "      <td>NaN</td>\n",
              "      <td>t</td>\n",
              "      <td>26</td>\n",
              "      <td>56</td>\n",
              "      <td>86</td>\n",
              "      <td>361</td>\n",
              "      <td>2020-10-24</td>\n",
              "      <td>4</td>\n",
              "      <td>4</td>\n",
              "      <td>4</td>\n",
              "      <td>2020-10-01</td>\n",
              "      <td>2020-10-21</td>\n",
              "      <td>100.0</td>\n",
              "      <td>10.0</td>\n",
              "      <td>10.0</td>\n",
              "      <td>10.0</td>\n",
              "      <td>10.0</td>\n",
              "      <td>10.0</td>\n",
              "      <td>9.0</td>\n",
              "      <td>NaN</td>\n",
              "      <td>t</td>\n",
              "      <td>10</td>\n",
              "      <td>10</td>\n",
              "      <td>0</td>\n",
              "      <td>0</td>\n",
              "      <td>4.0</td>\n",
              "    </tr>\n",
              "  </tbody>\n",
              "</table>\n",
              "</div>"
            ],
            "text/plain": [
              "            id  ... reviews_per_month\n",
              "2528  45494801  ...               4.0\n",
              "\n",
              "[1 rows x 74 columns]"
            ]
          },
          "metadata": {
            "tags": []
          },
          "execution_count": 23
        }
      ]
    },
    {
      "cell_type": "code",
      "metadata": {
        "id": "k5J7aCMq2rGt"
      },
      "source": [
        "REVIEWS_URL = 'https://ids-storage-football-prediction.s3-eu-west-1.amazonaws.com/data_mmwd/reviews.csv'\n",
        "CALENDAR_URL = 'https://ids-storage-football-prediction.s3-eu-west-1.amazonaws.com/data_mmwd/calendar.csv'\n",
        "LISTINGS_URL = 'https://ids-storage-football-prediction.s3-eu-west-1.amazonaws.com/data_mmwd/listings.csv'"
      ],
      "execution_count": null,
      "outputs": []
    },
    {
      "cell_type": "code",
      "metadata": {
        "id": "c1KO5Cen2SFa"
      },
      "source": [
        "listings = pd.read_csv(LISTINGS_URL)\n",
        "reviews = pd.read_csv(REVIEWS_URL)"
      ],
      "execution_count": null,
      "outputs": []
    },
    {
      "cell_type": "code",
      "metadata": {
        "colab": {
          "base_uri": "https://localhost:8080/",
          "height": 35
        },
        "id": "Ag2zWeTd3NS8",
        "outputId": "cb099c5e-9c19-451f-d3e3-5ab6685d66c2"
      },
      "source": [
        "reviews['comments'][5853]"
      ],
      "execution_count": null,
      "outputs": [
        {
          "output_type": "execute_result",
          "data": {
            "application/vnd.google.colaboratory.intrinsic+json": {
              "type": "string"
            },
            "text/plain": [
              "'房子周围环境很好很安静,适合10人住宿'"
            ]
          },
          "metadata": {
            "tags": []
          },
          "execution_count": 26
        }
      ]
    },
    {
      "cell_type": "code",
      "metadata": {
        "colab": {
          "base_uri": "https://localhost:8080/",
          "height": 372
        },
        "id": "_TFkWsWx2s6R",
        "outputId": "87d24cbd-f28d-4985-ab8f-c0e9fa110427"
      },
      "source": [
        "listings.head(3)"
      ],
      "execution_count": null,
      "outputs": [
        {
          "output_type": "execute_result",
          "data": {
            "text/html": [
              "<div>\n",
              "<style scoped>\n",
              "    .dataframe tbody tr th:only-of-type {\n",
              "        vertical-align: middle;\n",
              "    }\n",
              "\n",
              "    .dataframe tbody tr th {\n",
              "        vertical-align: top;\n",
              "    }\n",
              "\n",
              "    .dataframe thead th {\n",
              "        text-align: right;\n",
              "    }\n",
              "</style>\n",
              "<table border=\"1\" class=\"dataframe\">\n",
              "  <thead>\n",
              "    <tr style=\"text-align: right;\">\n",
              "      <th></th>\n",
              "      <th>id</th>\n",
              "      <th>listing_url</th>\n",
              "      <th>scrape_id</th>\n",
              "      <th>last_scraped</th>\n",
              "      <th>name</th>\n",
              "      <th>description</th>\n",
              "      <th>neighborhood_overview</th>\n",
              "      <th>picture_url</th>\n",
              "      <th>host_id</th>\n",
              "      <th>host_url</th>\n",
              "      <th>host_name</th>\n",
              "      <th>host_since</th>\n",
              "      <th>host_location</th>\n",
              "      <th>host_about</th>\n",
              "      <th>host_response_time</th>\n",
              "      <th>host_response_rate</th>\n",
              "      <th>host_acceptance_rate</th>\n",
              "      <th>host_is_superhost</th>\n",
              "      <th>host_thumbnail_url</th>\n",
              "      <th>host_picture_url</th>\n",
              "      <th>host_neighbourhood</th>\n",
              "      <th>host_listings_count</th>\n",
              "      <th>host_total_listings_count</th>\n",
              "      <th>host_verifications</th>\n",
              "      <th>host_has_profile_pic</th>\n",
              "      <th>host_identity_verified</th>\n",
              "      <th>neighbourhood</th>\n",
              "      <th>neighbourhood_cleansed</th>\n",
              "      <th>neighbourhood_group_cleansed</th>\n",
              "      <th>latitude</th>\n",
              "      <th>longitude</th>\n",
              "      <th>property_type</th>\n",
              "      <th>room_type</th>\n",
              "      <th>accommodates</th>\n",
              "      <th>bathrooms</th>\n",
              "      <th>bathrooms_text</th>\n",
              "      <th>bedrooms</th>\n",
              "      <th>beds</th>\n",
              "      <th>amenities</th>\n",
              "      <th>price</th>\n",
              "      <th>minimum_nights</th>\n",
              "      <th>maximum_nights</th>\n",
              "      <th>minimum_minimum_nights</th>\n",
              "      <th>maximum_minimum_nights</th>\n",
              "      <th>minimum_maximum_nights</th>\n",
              "      <th>maximum_maximum_nights</th>\n",
              "      <th>minimum_nights_avg_ntm</th>\n",
              "      <th>maximum_nights_avg_ntm</th>\n",
              "      <th>calendar_updated</th>\n",
              "      <th>has_availability</th>\n",
              "      <th>availability_30</th>\n",
              "      <th>availability_60</th>\n",
              "      <th>availability_90</th>\n",
              "      <th>availability_365</th>\n",
              "      <th>calendar_last_scraped</th>\n",
              "      <th>number_of_reviews</th>\n",
              "      <th>number_of_reviews_ltm</th>\n",
              "      <th>number_of_reviews_l30d</th>\n",
              "      <th>first_review</th>\n",
              "      <th>last_review</th>\n",
              "      <th>review_scores_rating</th>\n",
              "      <th>review_scores_accuracy</th>\n",
              "      <th>review_scores_cleanliness</th>\n",
              "      <th>review_scores_checkin</th>\n",
              "      <th>review_scores_communication</th>\n",
              "      <th>review_scores_location</th>\n",
              "      <th>review_scores_value</th>\n",
              "      <th>license</th>\n",
              "      <th>instant_bookable</th>\n",
              "      <th>calculated_host_listings_count</th>\n",
              "      <th>calculated_host_listings_count_entire_homes</th>\n",
              "      <th>calculated_host_listings_count_private_rooms</th>\n",
              "      <th>calculated_host_listings_count_shared_rooms</th>\n",
              "      <th>reviews_per_month</th>\n",
              "    </tr>\n",
              "  </thead>\n",
              "  <tbody>\n",
              "    <tr>\n",
              "      <th>0</th>\n",
              "      <td>34220</td>\n",
              "      <td>https://www.airbnb.com/rooms/34220</td>\n",
              "      <td>20201021220716</td>\n",
              "      <td>2020-10-23</td>\n",
              "      <td>Room available</td>\n",
              "      <td>&lt;b&gt;The space&lt;/b&gt;&lt;br /&gt;This room is part of a t...</td>\n",
              "      <td>NaN</td>\n",
              "      <td>https://a0.muscache.com/pictures/192935/3bf5a8...</td>\n",
              "      <td>147438</td>\n",
              "      <td>https://www.airbnb.com/users/show/147438</td>\n",
              "      <td>Mark</td>\n",
              "      <td>2010-06-18</td>\n",
              "      <td>CA</td>\n",
              "      <td>NaN</td>\n",
              "      <td>NaN</td>\n",
              "      <td>NaN</td>\n",
              "      <td>NaN</td>\n",
              "      <td>f</td>\n",
              "      <td>https://a0.muscache.com/defaults/user_pic-50x5...</td>\n",
              "      <td>https://a0.muscache.com/defaults/user_pic-225x...</td>\n",
              "      <td>NaN</td>\n",
              "      <td>1</td>\n",
              "      <td>1</td>\n",
              "      <td>[]</td>\n",
              "      <td>f</td>\n",
              "      <td>f</td>\n",
              "      <td>NaN</td>\n",
              "      <td>Capital</td>\n",
              "      <td>NaN</td>\n",
              "      <td>45.40924</td>\n",
              "      <td>-75.67900</td>\n",
              "      <td>Private room in apartment</td>\n",
              "      <td>Private room</td>\n",
              "      <td>2</td>\n",
              "      <td>NaN</td>\n",
              "      <td>1 bath</td>\n",
              "      <td>1.0</td>\n",
              "      <td>1.0</td>\n",
              "      <td>[\"Wifi\", \"Heating\", \"Free parking on premises\"...</td>\n",
              "      <td>$202.00</td>\n",
              "      <td>7</td>\n",
              "      <td>31</td>\n",
              "      <td>7</td>\n",
              "      <td>7</td>\n",
              "      <td>31</td>\n",
              "      <td>31</td>\n",
              "      <td>7.0</td>\n",
              "      <td>31.0</td>\n",
              "      <td>NaN</td>\n",
              "      <td>t</td>\n",
              "      <td>1</td>\n",
              "      <td>1</td>\n",
              "      <td>1</td>\n",
              "      <td>1</td>\n",
              "      <td>2020-10-23</td>\n",
              "      <td>0</td>\n",
              "      <td>0</td>\n",
              "      <td>0</td>\n",
              "      <td>NaN</td>\n",
              "      <td>NaN</td>\n",
              "      <td>NaN</td>\n",
              "      <td>NaN</td>\n",
              "      <td>NaN</td>\n",
              "      <td>NaN</td>\n",
              "      <td>NaN</td>\n",
              "      <td>NaN</td>\n",
              "      <td>NaN</td>\n",
              "      <td>NaN</td>\n",
              "      <td>f</td>\n",
              "      <td>1</td>\n",
              "      <td>0</td>\n",
              "      <td>1</td>\n",
              "      <td>0</td>\n",
              "      <td>NaN</td>\n",
              "    </tr>\n",
              "    <tr>\n",
              "      <th>1</th>\n",
              "      <td>36642</td>\n",
              "      <td>https://www.airbnb.com/rooms/36642</td>\n",
              "      <td>20201021220716</td>\n",
              "      <td>2020-10-22</td>\n",
              "      <td>City Conveniences A Country Setting</td>\n",
              "      <td>&lt;b&gt;The space&lt;/b&gt;&lt;br /&gt;Are you planning a vacat...</td>\n",
              "      <td>NaN</td>\n",
              "      <td>https://a0.muscache.com/pictures/7542487/52136...</td>\n",
              "      <td>157787</td>\n",
              "      <td>https://www.airbnb.com/users/show/157787</td>\n",
              "      <td>Donna</td>\n",
              "      <td>2010-07-04</td>\n",
              "      <td>Ottawa, Ontario, Canada</td>\n",
              "      <td>I am originally from Nova Scotia but I have li...</td>\n",
              "      <td>NaN</td>\n",
              "      <td>NaN</td>\n",
              "      <td>100%</td>\n",
              "      <td>f</td>\n",
              "      <td>https://a0.muscache.com/im/users/157787/profil...</td>\n",
              "      <td>https://a0.muscache.com/im/users/157787/profil...</td>\n",
              "      <td>NaN</td>\n",
              "      <td>1</td>\n",
              "      <td>1</td>\n",
              "      <td>['email', 'phone', 'facebook', 'reviews']</td>\n",
              "      <td>t</td>\n",
              "      <td>f</td>\n",
              "      <td>NaN</td>\n",
              "      <td>Kitchissippi</td>\n",
              "      <td>NaN</td>\n",
              "      <td>45.40159</td>\n",
              "      <td>-75.74679</td>\n",
              "      <td>Private room in house</td>\n",
              "      <td>Private room</td>\n",
              "      <td>2</td>\n",
              "      <td>NaN</td>\n",
              "      <td>2 baths</td>\n",
              "      <td>1.0</td>\n",
              "      <td>1.0</td>\n",
              "      <td>[\"Essentials\", \"Hot water\", \"Dryer\", \"Extra pi...</td>\n",
              "      <td>$65.00</td>\n",
              "      <td>3</td>\n",
              "      <td>14</td>\n",
              "      <td>3</td>\n",
              "      <td>3</td>\n",
              "      <td>14</td>\n",
              "      <td>14</td>\n",
              "      <td>3.0</td>\n",
              "      <td>14.0</td>\n",
              "      <td>NaN</td>\n",
              "      <td>t</td>\n",
              "      <td>29</td>\n",
              "      <td>59</td>\n",
              "      <td>89</td>\n",
              "      <td>364</td>\n",
              "      <td>2020-10-22</td>\n",
              "      <td>87</td>\n",
              "      <td>1</td>\n",
              "      <td>0</td>\n",
              "      <td>2010-07-11</td>\n",
              "      <td>2020-02-17</td>\n",
              "      <td>94.0</td>\n",
              "      <td>10.0</td>\n",
              "      <td>10.0</td>\n",
              "      <td>10.0</td>\n",
              "      <td>10.0</td>\n",
              "      <td>10.0</td>\n",
              "      <td>9.0</td>\n",
              "      <td>NaN</td>\n",
              "      <td>f</td>\n",
              "      <td>1</td>\n",
              "      <td>0</td>\n",
              "      <td>1</td>\n",
              "      <td>0</td>\n",
              "      <td>0.69</td>\n",
              "    </tr>\n",
              "    <tr>\n",
              "      <th>2</th>\n",
              "      <td>59258</td>\n",
              "      <td>https://www.airbnb.com/rooms/59258</td>\n",
              "      <td>20201021220716</td>\n",
              "      <td>2020-10-22</td>\n",
              "      <td>Lower level of my house to rent</td>\n",
              "      <td>Lower 1/2 of bungalow, a separate entrance, 10...</td>\n",
              "      <td>NaN</td>\n",
              "      <td>https://a0.muscache.com/pictures/359337/5d90d6...</td>\n",
              "      <td>284351</td>\n",
              "      <td>https://www.airbnb.com/users/show/284351</td>\n",
              "      <td>Elena</td>\n",
              "      <td>2010-11-11</td>\n",
              "      <td>Ottawa, Ontario, Canada</td>\n",
              "      <td>Canada rocks!</td>\n",
              "      <td>NaN</td>\n",
              "      <td>NaN</td>\n",
              "      <td>NaN</td>\n",
              "      <td>f</td>\n",
              "      <td>https://a0.muscache.com/im/users/284351/profil...</td>\n",
              "      <td>https://a0.muscache.com/im/users/284351/profil...</td>\n",
              "      <td>NaN</td>\n",
              "      <td>1</td>\n",
              "      <td>1</td>\n",
              "      <td>['email', 'phone', 'reviews', 'offline_governm...</td>\n",
              "      <td>t</td>\n",
              "      <td>t</td>\n",
              "      <td>NaN</td>\n",
              "      <td>Bay</td>\n",
              "      <td>NaN</td>\n",
              "      <td>45.35900</td>\n",
              "      <td>-75.80314</td>\n",
              "      <td>Entire apartment</td>\n",
              "      <td>Entire home/apt</td>\n",
              "      <td>4</td>\n",
              "      <td>NaN</td>\n",
              "      <td>1 bath</td>\n",
              "      <td>1.0</td>\n",
              "      <td>1.0</td>\n",
              "      <td>[\"Wifi\", \"Washer\", \"Dryer\", \"Heating\", \"Free p...</td>\n",
              "      <td>$200.00</td>\n",
              "      <td>3</td>\n",
              "      <td>730</td>\n",
              "      <td>3</td>\n",
              "      <td>3</td>\n",
              "      <td>730</td>\n",
              "      <td>730</td>\n",
              "      <td>3.0</td>\n",
              "      <td>730.0</td>\n",
              "      <td>NaN</td>\n",
              "      <td>t</td>\n",
              "      <td>0</td>\n",
              "      <td>0</td>\n",
              "      <td>0</td>\n",
              "      <td>0</td>\n",
              "      <td>2020-10-22</td>\n",
              "      <td>1</td>\n",
              "      <td>0</td>\n",
              "      <td>0</td>\n",
              "      <td>2011-07-04</td>\n",
              "      <td>2011-07-04</td>\n",
              "      <td>100.0</td>\n",
              "      <td>10.0</td>\n",
              "      <td>8.0</td>\n",
              "      <td>10.0</td>\n",
              "      <td>10.0</td>\n",
              "      <td>10.0</td>\n",
              "      <td>10.0</td>\n",
              "      <td>NaN</td>\n",
              "      <td>f</td>\n",
              "      <td>1</td>\n",
              "      <td>1</td>\n",
              "      <td>0</td>\n",
              "      <td>0</td>\n",
              "      <td>0.01</td>\n",
              "    </tr>\n",
              "  </tbody>\n",
              "</table>\n",
              "</div>"
            ],
            "text/plain": [
              "      id  ... reviews_per_month\n",
              "0  34220  ...               NaN\n",
              "1  36642  ...              0.69\n",
              "2  59258  ...              0.01\n",
              "\n",
              "[3 rows x 74 columns]"
            ]
          },
          "metadata": {
            "tags": []
          },
          "execution_count": 27
        }
      ]
    },
    {
      "cell_type": "code",
      "metadata": {
        "colab": {
          "base_uri": "https://localhost:8080/"
        },
        "id": "y-Bzqlj-23-k",
        "outputId": "e360a0b1-7c28-4e95-9abf-23af2bdfefba"
      },
      "source": [
        "listings.shape"
      ],
      "execution_count": null,
      "outputs": [
        {
          "output_type": "execute_result",
          "data": {
            "text/plain": [
              "(2613, 74)"
            ]
          },
          "metadata": {
            "tags": []
          },
          "execution_count": 28
        }
      ]
    },
    {
      "cell_type": "code",
      "metadata": {
        "colab": {
          "base_uri": "https://localhost:8080/",
          "height": 144
        },
        "id": "zV3oBPBl2wfn",
        "outputId": "c8cc7964-7f61-4ef4-9786-263e1fb0d940"
      },
      "source": [
        "reviews.head(3)"
      ],
      "execution_count": null,
      "outputs": [
        {
          "output_type": "execute_result",
          "data": {
            "text/html": [
              "<div>\n",
              "<style scoped>\n",
              "    .dataframe tbody tr th:only-of-type {\n",
              "        vertical-align: middle;\n",
              "    }\n",
              "\n",
              "    .dataframe tbody tr th {\n",
              "        vertical-align: top;\n",
              "    }\n",
              "\n",
              "    .dataframe thead th {\n",
              "        text-align: right;\n",
              "    }\n",
              "</style>\n",
              "<table border=\"1\" class=\"dataframe\">\n",
              "  <thead>\n",
              "    <tr style=\"text-align: right;\">\n",
              "      <th></th>\n",
              "      <th>listing_id</th>\n",
              "      <th>id</th>\n",
              "      <th>date</th>\n",
              "      <th>reviewer_id</th>\n",
              "      <th>reviewer_name</th>\n",
              "      <th>comments</th>\n",
              "    </tr>\n",
              "  </thead>\n",
              "  <tbody>\n",
              "    <tr>\n",
              "      <th>0</th>\n",
              "      <td>36642</td>\n",
              "      <td>63694</td>\n",
              "      <td>2010-07-11</td>\n",
              "      <td>126491</td>\n",
              "      <td>Robert</td>\n",
              "      <td>I gave Donna 4 stars only because she is new t...</td>\n",
              "    </tr>\n",
              "    <tr>\n",
              "      <th>1</th>\n",
              "      <td>36642</td>\n",
              "      <td>92464</td>\n",
              "      <td>2010-09-07</td>\n",
              "      <td>204008</td>\n",
              "      <td>Eduardo</td>\n",
              "      <td>Donna is a nice and pleasant person. We enjoye...</td>\n",
              "    </tr>\n",
              "    <tr>\n",
              "      <th>2</th>\n",
              "      <td>36642</td>\n",
              "      <td>100164</td>\n",
              "      <td>2010-09-19</td>\n",
              "      <td>164372</td>\n",
              "      <td>Asha</td>\n",
              "      <td>Our trip was too short in Ottawa, we really wi...</td>\n",
              "    </tr>\n",
              "  </tbody>\n",
              "</table>\n",
              "</div>"
            ],
            "text/plain": [
              "   listing_id  ...                                           comments\n",
              "0       36642  ...  I gave Donna 4 stars only because she is new t...\n",
              "1       36642  ...  Donna is a nice and pleasant person. We enjoye...\n",
              "2       36642  ...  Our trip was too short in Ottawa, we really wi...\n",
              "\n",
              "[3 rows x 6 columns]"
            ]
          },
          "metadata": {
            "tags": []
          },
          "execution_count": 29
        }
      ]
    },
    {
      "cell_type": "code",
      "metadata": {
        "colab": {
          "base_uri": "https://localhost:8080/"
        },
        "id": "ErnMKN-A21Nr",
        "outputId": "5259a29a-32fc-4558-c287-ccdd604b92df"
      },
      "source": [
        "reviews.shape"
      ],
      "execution_count": null,
      "outputs": [
        {
          "output_type": "execute_result",
          "data": {
            "text/plain": [
              "(99694, 6)"
            ]
          },
          "metadata": {
            "tags": []
          },
          "execution_count": 30
        }
      ]
    },
    {
      "cell_type": "markdown",
      "metadata": {
        "id": "udSnhXI33WeN"
      },
      "source": [
        "**Preprocessing reviews do analizy sentencji**\n",
        "\n",
        "Należy zadbać o:\n",
        "* brak pustych wierszy (null)\n",
        "* usuwanie anulowanych przez 'hosta' wierszy\n",
        "* należy usunąć recenzje w nierozpoznanym języku: możemy to osiągnąć za pomocą bibliotetki langedetect służącej do wykrywania języków.\n",
        "\n",
        "\n"
      ]
    },
    {
      "cell_type": "code",
      "metadata": {
        "colab": {
          "base_uri": "https://localhost:8080/"
        },
        "id": "4VQNg4A-276G",
        "outputId": "0248e786-e26d-47bd-a018-425bc4c54146"
      },
      "source": [
        "# liczba komentarzy pustych\n",
        "reviews.isnull().sum()"
      ],
      "execution_count": null,
      "outputs": [
        {
          "output_type": "execute_result",
          "data": {
            "text/plain": [
              "listing_id        0\n",
              "id                0\n",
              "date              0\n",
              "reviewer_id       0\n",
              "reviewer_name     0\n",
              "comments         75\n",
              "dtype: int64"
            ]
          },
          "metadata": {
            "tags": []
          },
          "execution_count": 31
        }
      ]
    },
    {
      "cell_type": "code",
      "metadata": {
        "colab": {
          "base_uri": "https://localhost:8080/"
        },
        "id": "UGEoKVke3pQU",
        "outputId": "a791f9dc-b865-44ef-f4fe-44d72810ad64"
      },
      "source": [
        "# anulowane\n",
        "reviews['comments'].str.match('The host canceled this reservation').sum()"
      ],
      "execution_count": null,
      "outputs": [
        {
          "output_type": "execute_result",
          "data": {
            "text/plain": [
              "483"
            ]
          },
          "metadata": {
            "tags": []
          },
          "execution_count": 32
        }
      ]
    },
    {
      "cell_type": "code",
      "metadata": {
        "id": "SeqmBWE23vaM"
      },
      "source": [
        "reviews.dropna(subset =['comments'], how='any', axis=0, inplace=True)\n",
        "\n",
        "index_canceled = reviews[ reviews['comments'].str.match('The host canceled this reservation')].index\n",
        "reviews.drop(index_canceled, inplace=True)\n",
        "\n",
        "index_dash = reviews[ reviews['comments'].str.match('-')].index\n",
        "reviews.drop(index_dash, inplace=True)\n",
        "\n",
        "alphanumeric = lambda x: re.sub('\\w*\\d\\w*', ' ', x)\n",
        "reviews['comments'] = reviews['comments'].map(alphanumeric)\n"
      ],
      "execution_count": null,
      "outputs": []
    },
    {
      "cell_type": "code",
      "metadata": {
        "id": "PVim_ijA5aY8"
      },
      "source": [
        "reviews.reset_index(inplace=True, drop=True)"
      ],
      "execution_count": null,
      "outputs": []
    },
    {
      "cell_type": "code",
      "metadata": {
        "colab": {
          "base_uri": "https://localhost:8080/"
        },
        "id": "P8SntRuT5dnT",
        "outputId": "68b271f8-7331-4d58-ffde-5dda73db012a"
      },
      "source": [
        "reviews.shape"
      ],
      "execution_count": null,
      "outputs": [
        {
          "output_type": "execute_result",
          "data": {
            "text/plain": [
              "(99111, 6)"
            ]
          },
          "metadata": {
            "tags": []
          },
          "execution_count": 35
        }
      ]
    },
    {
      "cell_type": "code",
      "metadata": {
        "colab": {
          "base_uri": "https://localhost:8080/"
        },
        "id": "dXfDyqtp5erc",
        "outputId": "583fb081-6e95-4306-f594-8d4568f71d49"
      },
      "source": [
        "# wyświetlenie błędów / błędnych komentarzy\n",
        "num_errors = 0\n",
        "err = []\n",
        "\n",
        "for index, row in reviews.iterrows():\n",
        "    try:\n",
        "        language = detect(row['comments']) #(\" \".join(row.split())) # row.strip())\n",
        "    except:\n",
        "        num_errors += 1\n",
        "        err.append(index)\n",
        "        print(\"This row throws an error:\", row['comments'])"
      ],
      "execution_count": null,
      "outputs": [
        {
          "output_type": "stream",
          "text": [
            "This row throws an error: .\n",
            "This row throws an error: .\n",
            "This row throws an error: .\n",
            "This row throws an error:  \n",
            "This row throws an error:  \n",
            "This row throws an error: +\n",
            "This row throws an error: .\n",
            "This row throws an error: :)\n",
            "This row throws an error: .\n",
            "This row throws an error: .\n",
            "This row throws an error: .\n",
            "This row throws an error: :)\n",
            "This row throws an error: .\n",
            "This row throws an error:  / \n",
            "This row throws an error:  / \n",
            "This row throws an error: .\n",
            "This row throws an error: .\n",
            "This row throws an error: ..\n",
            "This row throws an error: !\n",
            "This row throws an error: .\n",
            "This row throws an error: ***\n",
            "This row throws an error: .\n",
            "This row throws an error: .\n",
            "This row throws an error: .\n",
            "This row throws an error: .\n",
            "This row throws an error: .\n",
            "This row throws an error: .\n",
            "This row throws an error: .\n",
            "This row throws an error: .\n",
            "This row throws an error:  \n",
            "This row throws an error: :)\n",
            "This row throws an error:  / \n",
            "This row throws an error:  !\n",
            "This row throws an error: .\n",
            "This row throws an error: .\n",
            "This row throws an error: .\n",
            "This row throws an error:  / \n",
            "This row throws an error: .\n",
            "This row throws an error: ,\n",
            "This row throws an error: .\n",
            "This row throws an error: .\n",
            "This row throws an error: !\n",
            "This row throws an error: .\n",
            "This row throws an error: .\n",
            "This row throws an error: .\n",
            "This row throws an error: .\n",
            "This row throws an error: ..\n",
            "This row throws an error: .\n",
            "This row throws an error: ..\n",
            "This row throws an error: .\n",
            "This row throws an error: .\n",
            "This row throws an error: .\n",
            "This row throws an error: .\n",
            "This row throws an error: .\n",
            "This row throws an error: .\n",
            "This row throws an error: .\n",
            "This row throws an error:  / \n",
            "This row throws an error: .\n",
            "This row throws an error: ...\n",
            "This row throws an error: .\n",
            "This row throws an error:  / \n",
            "This row throws an error: '\n",
            "This row throws an error: . \n",
            "This row throws an error: .\n",
            "This row throws an error: ｡\n",
            "This row throws an error: .\n",
            "This row throws an error: .\n",
            "This row throws an error: ??\n",
            "This row throws an error: .\n",
            "This row throws an error: .\n",
            "This row throws an error: .\n",
            "This row throws an error: .\n",
            "This row throws an error: .\n",
            "This row throws an error: < \n",
            "This row throws an error: .\n",
            "This row throws an error: .\n",
            "This row throws an error: .\n",
            "This row throws an error: .\n",
            "This row throws an error: ...\n",
            "This row throws an error:  / !\n",
            "This row throws an error: :)\n",
            "This row throws an error: .\n",
            "This row throws an error: ..\n",
            "This row throws an error: .\n",
            "This row throws an error: .\n",
            "This row throws an error: .\n",
            "This row throws an error: .\n",
            "This row throws an error: .\n",
            "This row throws an error: ...\n",
            "This row throws an error: .\n",
            "This row throws an error:  \n",
            "This row throws an error: .\n",
            "This row throws an error: .\n",
            "This row throws an error: .\n",
            "This row throws an error: .\n",
            "This row throws an error: .\n",
            "This row throws an error: .\n",
            "This row throws an error:  / \n",
            "This row throws an error: .\n",
            "This row throws an error: .\n",
            "This row throws an error: ❤️\n",
            "This row throws an error: .\n",
            "This row throws an error: .\n",
            "This row throws an error: .\n",
            "This row throws an error: ⭐⭐⭐⭐⭐\n",
            "This row throws an error: .\n",
            "This row throws an error: /\n",
            "This row throws an error: .\n",
            "This row throws an error: .\n",
            "This row throws an error: .\n",
            "This row throws an error: .\n",
            "This row throws an error: .\n",
            "This row throws an error:  \n",
            "This row throws an error: .\n",
            "This row throws an error: .\n",
            "This row throws an error: .\n",
            "This row throws an error: .\n",
            "This row throws an error: .\n",
            "This row throws an error: :)\n",
            "This row throws an error:  \n",
            "This row throws an error: .\n",
            "This row throws an error:  / \n",
            "This row throws an error: .\n",
            "This row throws an error: .\n",
            "This row throws an error: .\n",
            "This row throws an error: .\n",
            "This row throws an error:  \n",
            "This row throws an error: .\n",
            "This row throws an error: .\n",
            "This row throws an error: .\n",
            "This row throws an error: :)\n",
            "This row throws an error: ...\n",
            "This row throws an error: ,\n",
            "This row throws an error: .\n",
            "This row throws an error: .\n",
            "This row throws an error: .\n",
            "This row throws an error: .\n",
            "This row throws an error: ~\n",
            "This row throws an error:  / \n",
            "This row throws an error: .\n",
            "This row throws an error: .\n",
            "This row throws an error: ;\n",
            "This row throws an error: .\n",
            "This row throws an error: .\n",
            "This row throws an error: .\n",
            "This row throws an error: .\n",
            "This row throws an error:  / \n",
            "This row throws an error:  / \n",
            "This row throws an error: .\n",
            "This row throws an error:  / \n",
            "This row throws an error: ...\n",
            "This row throws an error: .\n",
            "This row throws an error:  \n",
            "This row throws an error: .\n",
            "This row throws an error: .\n",
            "This row throws an error:  / \n",
            "This row throws an error: .\n",
            "This row throws an error: .\n",
            "This row throws an error: ✌\n",
            "This row throws an error: .\n",
            "This row throws an error: .\n",
            "This row throws an error: :)\n",
            "This row throws an error: .\n",
            "This row throws an error: .\n",
            "This row throws an error: ..\n",
            "This row throws an error: .\n",
            "This row throws an error: .\n",
            "This row throws an error: ｡\n",
            "This row throws an error: :)\n",
            "This row throws an error: .\n",
            "This row throws an error: .\n",
            "This row throws an error: .\n",
            "This row throws an error: .\n",
            "This row throws an error: :)\n",
            "This row throws an error:  / \n",
            "This row throws an error: ;)\n",
            "This row throws an error: .\n",
            "This row throws an error: ...\n",
            "This row throws an error: .\n",
            "This row throws an error: .\n",
            "This row throws an error: :)\n",
            "This row throws an error: .\n",
            "This row throws an error: .\n",
            "This row throws an error: .\n",
            "This row throws an error: .\n",
            "This row throws an error: ;\n",
            "This row throws an error: ⭐️⭐️⭐️⭐️⭐️\n",
            "This row throws an error:  // \n",
            "This row throws an error: ☺️\n",
            "This row throws an error: .\n",
            "This row throws an error: .\n"
          ],
          "name": "stdout"
        }
      ]
    },
    {
      "cell_type": "code",
      "metadata": {
        "colab": {
          "base_uri": "https://localhost:8080/"
        },
        "id": "9-5iPgqw586G",
        "outputId": "15cb0360-7639-4843-9099-0775c5902a61"
      },
      "source": [
        "print('Procent wpisów genrujących błędy - {:.2f}%'.format(num_errors/reviews['comments'].shape[0] * 100))"
      ],
      "execution_count": null,
      "outputs": [
        {
          "output_type": "stream",
          "text": [
            "Procent wpisów genrujących błędy - 0.19%\n"
          ],
          "name": "stdout"
        }
      ]
    },
    {
      "cell_type": "code",
      "metadata": {
        "colab": {
          "base_uri": "https://localhost:8080/"
        },
        "id": "G2KNQDmZ8Adg",
        "outputId": "ac9ff057-690f-4cc2-9d46-9b865d5befba"
      },
      "source": [
        "print(err) # indeksy wywołujące błędy"
      ],
      "execution_count": null,
      "outputs": [
        {
          "output_type": "stream",
          "text": [
            "[2475, 6458, 6984, 8137, 9051, 10028, 10446, 10562, 14577, 14958, 16181, 16399, 16963, 17482, 18330, 18473, 18492, 18743, 19131, 19218, 19237, 19343, 20584, 20731, 20747, 23222, 23774, 23992, 24749, 25066, 26076, 26376, 26582, 26962, 27630, 28069, 28506, 28763, 30505, 30730, 30927, 31207, 31782, 31878, 32925, 32974, 33023, 33156, 33916, 34202, 38423, 39398, 39573, 39903, 40323, 40577, 40587, 40890, 40910, 41237, 41393, 43594, 43816, 43823, 44428, 45186, 45408, 45966, 46948, 47681, 48412, 48492, 50270, 51782, 52229, 53533, 53600, 54832, 55260, 55519, 55529, 55724, 55805, 56692, 57381, 58298, 59246, 60373, 61154, 61231, 61469, 61757, 63040, 63147, 63148, 63260, 63295, 63585, 63824, 64003, 64393, 65139, 65956, 66533, 66534, 66812, 66843, 68077, 68728, 68975, 69216, 69361, 69442, 69641, 70549, 70905, 71014, 71302, 71674, 71702, 71762, 71966, 72685, 72880, 74963, 75011, 75090, 76054, 76222, 76620, 77424, 78065, 78398, 79275, 79355, 79647, 79798, 79934, 80631, 81070, 81139, 81455, 82624, 82894, 83729, 84968, 84991, 85370, 85646, 86064, 86272, 86345, 87643, 89743, 90192, 90362, 90521, 91126, 91712, 92366, 92367, 92557, 92648, 92772, 92804, 93342, 93477, 93502, 93558, 93797, 94280, 94438, 95188, 95449, 95564, 95583, 95672, 96161, 96268, 96276, 96337, 96998, 97414, 97576, 97655, 97670, 97947, 97979, 98509, 98543, 98949]\n"
          ],
          "name": "stdout"
        }
      ]
    },
    {
      "cell_type": "code",
      "metadata": {
        "id": "qttqmo8w8DNy"
      },
      "source": [
        "# wyrzucenie ze zbioru danych\n",
        "reviews.drop(err, axis=0, inplace=True)"
      ],
      "execution_count": null,
      "outputs": []
    },
    {
      "cell_type": "code",
      "metadata": {
        "id": "YH41YBg-8Q0O"
      },
      "source": [
        "reviews.reset_index(inplace=True, drop=True)"
      ],
      "execution_count": null,
      "outputs": []
    },
    {
      "cell_type": "code",
      "metadata": {
        "colab": {
          "base_uri": "https://localhost:8080/"
        },
        "id": "sY_lqGzc8UPw",
        "outputId": "95188a67-1888-4cce-d920-f546e88fc956"
      },
      "source": [
        "reviews.shape"
      ],
      "execution_count": null,
      "outputs": [
        {
          "output_type": "execute_result",
          "data": {
            "text/plain": [
              "(98920, 6)"
            ]
          },
          "metadata": {
            "tags": []
          },
          "execution_count": 41
        }
      ]
    },
    {
      "cell_type": "code",
      "metadata": {
        "id": "DFrunFEd8Vwm"
      },
      "source": [
        "# dodanie kolumny informującej o języku \"language\"\n",
        "reviews['language'] = reviews['comments'].apply(detect)"
      ],
      "execution_count": null,
      "outputs": []
    },
    {
      "cell_type": "code",
      "metadata": {
        "colab": {
          "base_uri": "https://localhost:8080/",
          "height": 144
        },
        "id": "6bw5DPBE8juV",
        "outputId": "f132e670-6f84-46be-b478-d7a3a475b8af"
      },
      "source": [
        "reviews.head(3)"
      ],
      "execution_count": null,
      "outputs": [
        {
          "output_type": "execute_result",
          "data": {
            "text/html": [
              "<div>\n",
              "<style scoped>\n",
              "    .dataframe tbody tr th:only-of-type {\n",
              "        vertical-align: middle;\n",
              "    }\n",
              "\n",
              "    .dataframe tbody tr th {\n",
              "        vertical-align: top;\n",
              "    }\n",
              "\n",
              "    .dataframe thead th {\n",
              "        text-align: right;\n",
              "    }\n",
              "</style>\n",
              "<table border=\"1\" class=\"dataframe\">\n",
              "  <thead>\n",
              "    <tr style=\"text-align: right;\">\n",
              "      <th></th>\n",
              "      <th>listing_id</th>\n",
              "      <th>id</th>\n",
              "      <th>date</th>\n",
              "      <th>reviewer_id</th>\n",
              "      <th>reviewer_name</th>\n",
              "      <th>comments</th>\n",
              "      <th>language</th>\n",
              "    </tr>\n",
              "  </thead>\n",
              "  <tbody>\n",
              "    <tr>\n",
              "      <th>0</th>\n",
              "      <td>36642</td>\n",
              "      <td>63694</td>\n",
              "      <td>2010-07-11</td>\n",
              "      <td>126491</td>\n",
              "      <td>Robert</td>\n",
              "      <td>I gave Donna   stars only because she is new t...</td>\n",
              "      <td>en</td>\n",
              "    </tr>\n",
              "    <tr>\n",
              "      <th>1</th>\n",
              "      <td>36642</td>\n",
              "      <td>92464</td>\n",
              "      <td>2010-09-07</td>\n",
              "      <td>204008</td>\n",
              "      <td>Eduardo</td>\n",
              "      <td>Donna is a nice and pleasant person. We enjoye...</td>\n",
              "      <td>en</td>\n",
              "    </tr>\n",
              "    <tr>\n",
              "      <th>2</th>\n",
              "      <td>36642</td>\n",
              "      <td>100164</td>\n",
              "      <td>2010-09-19</td>\n",
              "      <td>164372</td>\n",
              "      <td>Asha</td>\n",
              "      <td>Our trip was too short in Ottawa, we really wi...</td>\n",
              "      <td>en</td>\n",
              "    </tr>\n",
              "  </tbody>\n",
              "</table>\n",
              "</div>"
            ],
            "text/plain": [
              "   listing_id  ...  language\n",
              "0       36642  ...        en\n",
              "1       36642  ...        en\n",
              "2       36642  ...        en\n",
              "\n",
              "[3 rows x 7 columns]"
            ]
          },
          "metadata": {
            "tags": []
          },
          "execution_count": 43
        }
      ]
    },
    {
      "cell_type": "code",
      "metadata": {
        "colab": {
          "base_uri": "https://localhost:8080/",
          "height": 306
        },
        "id": "aypXNxaN8k4o",
        "outputId": "2198ed58-e579-4fc2-d1be-bab6e5acfc55"
      },
      "source": [
        "# rozkład wykrytych języków\n",
        "reviews['language'].value_counts().plot.bar();"
      ],
      "execution_count": null,
      "outputs": [
        {
          "output_type": "display_data",
          "data": {
            "image/png": "[encoded data removed]",
            "text/plain": [
              "<Figure size 432x288 with 1 Axes>"
            ]
          },
          "metadata": {
            "tags": []
          }
        }
      ]
    },
    {
      "cell_type": "code",
      "metadata": {
        "colab": {
          "base_uri": "https://localhost:8080/"
        },
        "id": "2YZWHsVeAAaX",
        "outputId": "588fca4e-2974-4d47-fc4d-f2eae1fc45ac"
      },
      "source": [
        "# kopia reviews z językami\n",
        "reviews_en = reviews.copy(deep=True)\n",
        "\n",
        "# odrzucenie null'i\n",
        "index_nonen = reviews_en[~reviews_en['language'].str.match('en')].index\n",
        "\n",
        "print('Procent reviews nie anglojęzycznych {:.2f}%'.format(len(index_nonen)/reviews_en.shape[0]))"
      ],
      "execution_count": null,
      "outputs": [
        {
          "output_type": "stream",
          "text": [
            "Procent reviews nie anglojęzycznych 0.11%\n"
          ],
          "name": "stdout"
        }
      ]
    },
    {
      "cell_type": "code",
      "metadata": {
        "id": "_WvZ9TGZAFrB"
      },
      "source": [
        "# drop\n",
        "reviews_en.drop(index_nonen, inplace=True)"
      ],
      "execution_count": null,
      "outputs": []
    },
    {
      "cell_type": "markdown",
      "metadata": {
        "id": "fhhQ6JBwECU6"
      },
      "source": [
        "**Simplifying Sentiment Analysis using VADER in Python (on Social Media Text)**\n",
        "\n",
        "VADER (Valence Aware Dictionary and sEntiment Reasoner) jest to narzędzie do analizy nastrojów, VADER jest dostosowany do analizy opinii wyrażonych w mediach. \n",
        "\n",
        "VADER okazał się całkiem skuteczny w przypadku tekstów w mediach społecznościowych, artykułów redakcyjnych NY Times, recenzji filmów i recenzji produktów. Dzieje się tak, ponieważ VADER nie tylko mówi o wynikach Pozytywności i Negatywności, ale także mówi nam, jak pozytywne lub negatywne są sentymenty.\n",
        "\n",
        "Vader dodaje wartościowość do słów pisanych wielkimi literami, z interpunkcją (ex złożony wynik rośnie wraz z liczbą wykrzykników!), Z modiferes (np. Bardzo dobry vs dobry), emoji i obsługuje spójniki (... ale ... -> przesuwa w polaryzacji uczuć)"
      ]
    },
    {
      "cell_type": "code",
      "metadata": {
        "colab": {
          "base_uri": "https://localhost:8080/"
        },
        "id": "IoO5gzD0BsBa",
        "outputId": "37591556-cb83-4017-8425-b20cbafadf37"
      },
      "source": [
        "import nltk\n",
        "nltk.download('vader_lexicon')"
      ],
      "execution_count": null,
      "outputs": [
        {
          "output_type": "stream",
          "text": [
            "[nltk_data] Downloading package vader_lexicon to /root/nltk_data...\n"
          ],
          "name": "stdout"
        },
        {
          "output_type": "execute_result",
          "data": {
            "text/plain": [
              "True"
            ]
          },
          "metadata": {
            "tags": []
          },
          "execution_count": 47
        }
      ]
    },
    {
      "cell_type": "code",
      "metadata": {
        "id": "Lmmbi4eJElO9"
      },
      "source": [
        "analyzer = SentimentIntensityAnalyzer()"
      ],
      "execution_count": null,
      "outputs": []
    },
    {
      "cell_type": "code",
      "metadata": {
        "colab": {
          "base_uri": "https://localhost:8080/",
          "height": 175
        },
        "id": "I4iHqBCXEbwO",
        "outputId": "0021b08b-a6d3-4647-c549-63f375fdf72e"
      },
      "source": [
        "# test działania\n",
        "\n",
        "def sentiment_analyzer_scores(comment):\n",
        "    score = analyzer.polarity_scores(comment)\n",
        "    return(pd.DataFrame.from_dict(score, orient='index'))\n",
        "\n",
        "sentiment_analyzer_scores(reviews_en['comments'][0])"
      ],
      "execution_count": null,
      "outputs": [
        {
          "output_type": "execute_result",
          "data": {
            "text/html": [
              "<div>\n",
              "<style scoped>\n",
              "    .dataframe tbody tr th:only-of-type {\n",
              "        vertical-align: middle;\n",
              "    }\n",
              "\n",
              "    .dataframe tbody tr th {\n",
              "        vertical-align: top;\n",
              "    }\n",
              "\n",
              "    .dataframe thead th {\n",
              "        text-align: right;\n",
              "    }\n",
              "</style>\n",
              "<table border=\"1\" class=\"dataframe\">\n",
              "  <thead>\n",
              "    <tr style=\"text-align: right;\">\n",
              "      <th></th>\n",
              "      <th>0</th>\n",
              "    </tr>\n",
              "  </thead>\n",
              "  <tbody>\n",
              "    <tr>\n",
              "      <th>neg</th>\n",
              "      <td>0.000</td>\n",
              "    </tr>\n",
              "    <tr>\n",
              "      <th>neu</th>\n",
              "      <td>0.832</td>\n",
              "    </tr>\n",
              "    <tr>\n",
              "      <th>pos</th>\n",
              "      <td>0.168</td>\n",
              "    </tr>\n",
              "    <tr>\n",
              "      <th>compound</th>\n",
              "      <td>0.807</td>\n",
              "    </tr>\n",
              "  </tbody>\n",
              "</table>\n",
              "</div>"
            ],
            "text/plain": [
              "              0\n",
              "neg       0.000\n",
              "neu       0.832\n",
              "pos       0.168\n",
              "compound  0.807"
            ]
          },
          "metadata": {
            "tags": []
          },
          "execution_count": 49
        }
      ]
    },
    {
      "cell_type": "code",
      "metadata": {
        "id": "Q7zXBefzEh8S"
      },
      "source": [
        "# pożadamy jednego ogólnego wyniku \"polarity\", więc spójrzmy tylko na wynik „compound”\n",
        "polarity_compound = lambda s: (analyzer.polarity_scores(s))['compound']"
      ],
      "execution_count": null,
      "outputs": []
    },
    {
      "cell_type": "code",
      "metadata": {
        "id": "Ce9tvBeeHlSK"
      },
      "source": [
        "reviews_en['polarity'] = reviews_en.comments.map(polarity_compound)"
      ],
      "execution_count": null,
      "outputs": []
    },
    {
      "cell_type": "code",
      "metadata": {
        "colab": {
          "base_uri": "https://localhost:8080/",
          "height": 199
        },
        "id": "l2Sd70FdHp4a",
        "outputId": "47d0a6df-c645-4c02-ff8b-cb7df169268d"
      },
      "source": [
        "# pierwsze 5 wyników\n",
        "reviews_en[:5].style.bar(subset=['polarity'], align='mid', color=['#d65f5f', '#5fba7d'])"
      ],
      "execution_count": null,
      "outputs": [
        {
          "output_type": "execute_result",
          "data": {
            "text/html": [
              "<style  type=\"text/css\" >\n",
              "#T_9858b3d8_3178_11eb_84d1_0242ac1c0002row0_col7{\n",
              "            width:  10em;\n",
              "             height:  80%;\n",
              "            background:  linear-gradient(90deg,#5fba7d 81.9%, transparent 81.9%);\n",
              "        }#T_9858b3d8_3178_11eb_84d1_0242ac1c0002row1_col7{\n",
              "            width:  10em;\n",
              "             height:  80%;\n",
              "            background:  linear-gradient(90deg,#5fba7d 100.0%, transparent 100.0%);\n",
              "        }#T_9858b3d8_3178_11eb_84d1_0242ac1c0002row2_col7{\n",
              "            width:  10em;\n",
              "             height:  80%;\n",
              "            background:  linear-gradient(90deg,#5fba7d 75.4%, transparent 75.4%);\n",
              "        }#T_9858b3d8_3178_11eb_84d1_0242ac1c0002row3_col7{\n",
              "            width:  10em;\n",
              "             height:  80%;\n",
              "            background:  linear-gradient(90deg,#5fba7d 84.3%, transparent 84.3%);\n",
              "        }#T_9858b3d8_3178_11eb_84d1_0242ac1c0002row4_col7{\n",
              "            width:  10em;\n",
              "             height:  80%;\n",
              "            background:  linear-gradient(90deg,#5fba7d 96.8%, transparent 96.8%);\n",
              "        }</style><table id=\"T_9858b3d8_3178_11eb_84d1_0242ac1c0002\" ><thead>    <tr>        <th class=\"blank level0\" ></th>        <th class=\"col_heading level0 col0\" >listing_id</th>        <th class=\"col_heading level0 col1\" >id</th>        <th class=\"col_heading level0 col2\" >date</th>        <th class=\"col_heading level0 col3\" >reviewer_id</th>        <th class=\"col_heading level0 col4\" >reviewer_name</th>        <th class=\"col_heading level0 col5\" >comments</th>        <th class=\"col_heading level0 col6\" >language</th>        <th class=\"col_heading level0 col7\" >polarity</th>    </tr></thead><tbody>\n",
              "                <tr>\n",
              "                        <th id=\"T_9858b3d8_3178_11eb_84d1_0242ac1c0002level0_row0\" class=\"row_heading level0 row0\" >0</th>\n",
              "                        <td id=\"T_9858b3d8_3178_11eb_84d1_0242ac1c0002row0_col0\" class=\"data row0 col0\" >36642</td>\n",
              "                        <td id=\"T_9858b3d8_3178_11eb_84d1_0242ac1c0002row0_col1\" class=\"data row0 col1\" >63694</td>\n",
              "                        <td id=\"T_9858b3d8_3178_11eb_84d1_0242ac1c0002row0_col2\" class=\"data row0 col2\" >2010-07-11</td>\n",
              "                        <td id=\"T_9858b3d8_3178_11eb_84d1_0242ac1c0002row0_col3\" class=\"data row0 col3\" >126491</td>\n",
              "                        <td id=\"T_9858b3d8_3178_11eb_84d1_0242ac1c0002row0_col4\" class=\"data row0 col4\" >Robert</td>\n",
              "                        <td id=\"T_9858b3d8_3178_11eb_84d1_0242ac1c0002row0_col5\" class=\"data row0 col5\" >I gave Donna   stars only because she is new to doing this....her house and garden are superb and her hospitality very welcoming. I will be returning soon. The location is quite central to the downtown area, shopping malls, and Quebec.</td>\n",
              "                        <td id=\"T_9858b3d8_3178_11eb_84d1_0242ac1c0002row0_col6\" class=\"data row0 col6\" >en</td>\n",
              "                        <td id=\"T_9858b3d8_3178_11eb_84d1_0242ac1c0002row0_col7\" class=\"data row0 col7\" >0.807000</td>\n",
              "            </tr>\n",
              "            <tr>\n",
              "                        <th id=\"T_9858b3d8_3178_11eb_84d1_0242ac1c0002level0_row1\" class=\"row_heading level0 row1\" >1</th>\n",
              "                        <td id=\"T_9858b3d8_3178_11eb_84d1_0242ac1c0002row1_col0\" class=\"data row1 col0\" >36642</td>\n",
              "                        <td id=\"T_9858b3d8_3178_11eb_84d1_0242ac1c0002row1_col1\" class=\"data row1 col1\" >92464</td>\n",
              "                        <td id=\"T_9858b3d8_3178_11eb_84d1_0242ac1c0002row1_col2\" class=\"data row1 col2\" >2010-09-07</td>\n",
              "                        <td id=\"T_9858b3d8_3178_11eb_84d1_0242ac1c0002row1_col3\" class=\"data row1 col3\" >204008</td>\n",
              "                        <td id=\"T_9858b3d8_3178_11eb_84d1_0242ac1c0002row1_col4\" class=\"data row1 col4\" >Eduardo</td>\n",
              "                        <td id=\"T_9858b3d8_3178_11eb_84d1_0242ac1c0002row1_col5\" class=\"data row1 col5\" >Donna is a nice and pleasant person. We enjoyed our short stay at her home. She has a wonderful house with a fantastic garden in a safe and peaceful place. The room was comfortable and very clean. \r\n",
              "\r\n",
              "We are grateful to Donna for accommodate us.\r\n",
              "</td>\n",
              "                        <td id=\"T_9858b3d8_3178_11eb_84d1_0242ac1c0002row1_col6\" class=\"data row1 col6\" >en</td>\n",
              "                        <td id=\"T_9858b3d8_3178_11eb_84d1_0242ac1c0002row1_col7\" class=\"data row1 col7\" >0.985000</td>\n",
              "            </tr>\n",
              "            <tr>\n",
              "                        <th id=\"T_9858b3d8_3178_11eb_84d1_0242ac1c0002level0_row2\" class=\"row_heading level0 row2\" >2</th>\n",
              "                        <td id=\"T_9858b3d8_3178_11eb_84d1_0242ac1c0002row2_col0\" class=\"data row2 col0\" >36642</td>\n",
              "                        <td id=\"T_9858b3d8_3178_11eb_84d1_0242ac1c0002row2_col1\" class=\"data row2 col1\" >100164</td>\n",
              "                        <td id=\"T_9858b3d8_3178_11eb_84d1_0242ac1c0002row2_col2\" class=\"data row2 col2\" >2010-09-19</td>\n",
              "                        <td id=\"T_9858b3d8_3178_11eb_84d1_0242ac1c0002row2_col3\" class=\"data row2 col3\" >164372</td>\n",
              "                        <td id=\"T_9858b3d8_3178_11eb_84d1_0242ac1c0002row2_col4\" class=\"data row2 col4\" >Asha</td>\n",
              "                        <td id=\"T_9858b3d8_3178_11eb_84d1_0242ac1c0002row2_col5\" class=\"data row2 col5\" >Our trip was too short in Ottawa, we really wished we could have stayed longer because its a beautiful city. Donna was lovely, we didn't have much time to get to know her unfortunately. </td>\n",
              "                        <td id=\"T_9858b3d8_3178_11eb_84d1_0242ac1c0002row2_col6\" class=\"data row2 col6\" >en</td>\n",
              "                        <td id=\"T_9858b3d8_3178_11eb_84d1_0242ac1c0002row2_col7\" class=\"data row2 col7\" >0.743000</td>\n",
              "            </tr>\n",
              "            <tr>\n",
              "                        <th id=\"T_9858b3d8_3178_11eb_84d1_0242ac1c0002level0_row3\" class=\"row_heading level0 row3\" >3</th>\n",
              "                        <td id=\"T_9858b3d8_3178_11eb_84d1_0242ac1c0002row3_col0\" class=\"data row3 col0\" >36642</td>\n",
              "                        <td id=\"T_9858b3d8_3178_11eb_84d1_0242ac1c0002row3_col1\" class=\"data row3 col1\" >262662</td>\n",
              "                        <td id=\"T_9858b3d8_3178_11eb_84d1_0242ac1c0002row3_col2\" class=\"data row3 col2\" >2011-05-14</td>\n",
              "                        <td id=\"T_9858b3d8_3178_11eb_84d1_0242ac1c0002row3_col3\" class=\"data row3 col3\" >414166</td>\n",
              "                        <td id=\"T_9858b3d8_3178_11eb_84d1_0242ac1c0002row3_col4\" class=\"data row3 col4\" >Emie</td>\n",
              "                        <td id=\"T_9858b3d8_3178_11eb_84d1_0242ac1c0002row3_col5\" class=\"data row3 col5\" >Donna is a nice person. I had a short stay at her home.The room was comfortable,nice and very clean I wish I could have stayed longer.The location is quite central to the downtown area, shopping malls, and the train station.  Emie</td>\n",
              "                        <td id=\"T_9858b3d8_3178_11eb_84d1_0242ac1c0002row3_col6\" class=\"data row3 col6\" >en</td>\n",
              "                        <td id=\"T_9858b3d8_3178_11eb_84d1_0242ac1c0002row3_col7\" class=\"data row3 col7\" >0.830400</td>\n",
              "            </tr>\n",
              "            <tr>\n",
              "                        <th id=\"T_9858b3d8_3178_11eb_84d1_0242ac1c0002level0_row4\" class=\"row_heading level0 row4\" >4</th>\n",
              "                        <td id=\"T_9858b3d8_3178_11eb_84d1_0242ac1c0002row4_col0\" class=\"data row4 col0\" >36642</td>\n",
              "                        <td id=\"T_9858b3d8_3178_11eb_84d1_0242ac1c0002row4_col1\" class=\"data row4 col1\" >266613</td>\n",
              "                        <td id=\"T_9858b3d8_3178_11eb_84d1_0242ac1c0002row4_col2\" class=\"data row4 col2\" >2011-05-16</td>\n",
              "                        <td id=\"T_9858b3d8_3178_11eb_84d1_0242ac1c0002row4_col3\" class=\"data row4 col3\" >562356</td>\n",
              "                        <td id=\"T_9858b3d8_3178_11eb_84d1_0242ac1c0002row4_col4\" class=\"data row4 col4\" >Deepak</td>\n",
              "                        <td id=\"T_9858b3d8_3178_11eb_84d1_0242ac1c0002row4_col5\" class=\"data row4 col5\" >Our stay at Donna's home was very pleasant. She was kind enough to let us in, late in the night and provided us with fresh coffee early in the morning. The backyard was very impressive and I was blown away to see the well maintained weed free lawn. </td>\n",
              "                        <td id=\"T_9858b3d8_3178_11eb_84d1_0242ac1c0002row4_col6\" class=\"data row4 col6\" >en</td>\n",
              "                        <td id=\"T_9858b3d8_3178_11eb_84d1_0242ac1c0002row4_col7\" class=\"data row4 col7\" >0.953700</td>\n",
              "            </tr>\n",
              "    </tbody></table>"
            ],
            "text/plain": [
              "<pandas.io.formats.style.Styler at 0x7f3f0f26c390>"
            ]
          },
          "metadata": {
            "tags": []
          },
          "execution_count": 52
        }
      ]
    },
    {
      "cell_type": "code",
      "metadata": {
        "colab": {
          "base_uri": "https://localhost:8080/",
          "height": 234
        },
        "id": "NKWsYUkqHsVC",
        "outputId": "ff626b62-0272-471f-e3b9-67f56cb8caae"
      },
      "source": [
        "# pierwsze 5 wyników < 0\n",
        "reviews_en[reviews_en['polarity']<0][:5].style.bar(subset=['polarity'], align='mid', color=['#d65f5f', '#5fba7d'])"
      ],
      "execution_count": null,
      "outputs": [
        {
          "output_type": "execute_result",
          "data": {
            "text/html": [
              "<style  type=\"text/css\" >\n",
              "#T_985c121c_3178_11eb_84d1_0242ac1c0002row0_col7{\n",
              "            width:  10em;\n",
              "             height:  80%;\n",
              "            background:  linear-gradient(90deg,#d65f5f 100.0%, transparent 100.0%);\n",
              "        }#T_985c121c_3178_11eb_84d1_0242ac1c0002row1_col7{\n",
              "            width:  10em;\n",
              "             height:  80%;\n",
              "            background:  linear-gradient(90deg, transparent 65.1%, #d65f5f 65.1%, #d65f5f 100.0%, transparent 100.0%);\n",
              "        }#T_985c121c_3178_11eb_84d1_0242ac1c0002row2_col7{\n",
              "            width:  10em;\n",
              "             height:  80%;\n",
              "            background:  linear-gradient(90deg, transparent 48.7%, #d65f5f 48.7%, #d65f5f 100.0%, transparent 100.0%);\n",
              "        }#T_985c121c_3178_11eb_84d1_0242ac1c0002row3_col7{\n",
              "            width:  10em;\n",
              "             height:  80%;\n",
              "            background:  linear-gradient(90deg, transparent 21.9%, #d65f5f 21.9%, #d65f5f 100.0%, transparent 100.0%);\n",
              "        }#T_985c121c_3178_11eb_84d1_0242ac1c0002row4_col7{\n",
              "            width:  10em;\n",
              "             height:  80%;\n",
              "            background:  linear-gradient(90deg, transparent 88.2%, #d65f5f 88.2%, #d65f5f 100.0%, transparent 100.0%);\n",
              "        }</style><table id=\"T_985c121c_3178_11eb_84d1_0242ac1c0002\" ><thead>    <tr>        <th class=\"blank level0\" ></th>        <th class=\"col_heading level0 col0\" >listing_id</th>        <th class=\"col_heading level0 col1\" >id</th>        <th class=\"col_heading level0 col2\" >date</th>        <th class=\"col_heading level0 col3\" >reviewer_id</th>        <th class=\"col_heading level0 col4\" >reviewer_name</th>        <th class=\"col_heading level0 col5\" >comments</th>        <th class=\"col_heading level0 col6\" >language</th>        <th class=\"col_heading level0 col7\" >polarity</th>    </tr></thead><tbody>\n",
              "                <tr>\n",
              "                        <th id=\"T_985c121c_3178_11eb_84d1_0242ac1c0002level0_row0\" class=\"row_heading level0 row0\" >154</th>\n",
              "                        <td id=\"T_985c121c_3178_11eb_84d1_0242ac1c0002row0_col0\" class=\"data row0 col0\" >261065</td>\n",
              "                        <td id=\"T_985c121c_3178_11eb_84d1_0242ac1c0002row0_col1\" class=\"data row0 col1\" >558975202</td>\n",
              "                        <td id=\"T_985c121c_3178_11eb_84d1_0242ac1c0002row0_col2\" class=\"data row0 col2\" >2019-11-03</td>\n",
              "                        <td id=\"T_985c121c_3178_11eb_84d1_0242ac1c0002row0_col3\" class=\"data row0 col3\" >41645106</td>\n",
              "                        <td id=\"T_985c121c_3178_11eb_84d1_0242ac1c0002row0_col4\" class=\"data row0 col4\" >Craig</td>\n",
              "                        <td id=\"T_985c121c_3178_11eb_84d1_0242ac1c0002row0_col5\" class=\"data row0 col5\" >Clean, modern apartment in the heart of Westboro. Well-equipped kitchen. Only caution is that the bed is comfortable, but very firm, and the pull-out couch in the office is not great for sleeping on. That said, it was a great base for us, and we're already planning our next visit.</td>\n",
              "                        <td id=\"T_985c121c_3178_11eb_84d1_0242ac1c0002row0_col6\" class=\"data row0 col6\" >en</td>\n",
              "                        <td id=\"T_985c121c_3178_11eb_84d1_0242ac1c0002row0_col7\" class=\"data row0 col7\" >-0.783400</td>\n",
              "            </tr>\n",
              "            <tr>\n",
              "                        <th id=\"T_985c121c_3178_11eb_84d1_0242ac1c0002level0_row1\" class=\"row_heading level0 row1\" >196</th>\n",
              "                        <td id=\"T_985c121c_3178_11eb_84d1_0242ac1c0002row1_col0\" class=\"data row1 col0\" >365499</td>\n",
              "                        <td id=\"T_985c121c_3178_11eb_84d1_0242ac1c0002row1_col1\" class=\"data row1 col1\" >61815681</td>\n",
              "                        <td id=\"T_985c121c_3178_11eb_84d1_0242ac1c0002row1_col2\" class=\"data row1 col2\" >2016-02-08</td>\n",
              "                        <td id=\"T_985c121c_3178_11eb_84d1_0242ac1c0002row1_col3\" class=\"data row1 col3\" >4546957</td>\n",
              "                        <td id=\"T_985c121c_3178_11eb_84d1_0242ac1c0002row1_col4\" class=\"data row1 col4\" >Joyce</td>\n",
              "                        <td id=\"T_985c121c_3178_11eb_84d1_0242ac1c0002row1_col5\" class=\"data row1 col5\" >Anna was easy to coordinate with. My only concern was that there was no lock on the front door. I understand that Ottawa is a relatively safe place but still made me uncomfortable. </td>\n",
              "                        <td id=\"T_985c121c_3178_11eb_84d1_0242ac1c0002row1_col6\" class=\"data row1 col6\" >en</td>\n",
              "                        <td id=\"T_985c121c_3178_11eb_84d1_0242ac1c0002row1_col7\" class=\"data row1 col7\" >-0.273200</td>\n",
              "            </tr>\n",
              "            <tr>\n",
              "                        <th id=\"T_985c121c_3178_11eb_84d1_0242ac1c0002level0_row2\" class=\"row_heading level0 row2\" >321</th>\n",
              "                        <td id=\"T_985c121c_3178_11eb_84d1_0242ac1c0002row2_col0\" class=\"data row2 col0\" >365499</td>\n",
              "                        <td id=\"T_985c121c_3178_11eb_84d1_0242ac1c0002row2_col1\" class=\"data row2 col1\" >614298248</td>\n",
              "                        <td id=\"T_985c121c_3178_11eb_84d1_0242ac1c0002row2_col2\" class=\"data row2 col2\" >2020-03-04</td>\n",
              "                        <td id=\"T_985c121c_3178_11eb_84d1_0242ac1c0002row2_col3\" class=\"data row2 col3\" >6155201</td>\n",
              "                        <td id=\"T_985c121c_3178_11eb_84d1_0242ac1c0002row2_col4\" class=\"data row2 col4\" >James</td>\n",
              "                        <td id=\"T_985c121c_3178_11eb_84d1_0242ac1c0002row2_col5\" class=\"data row2 col5\" >You won't find a better stay in the heart of the Glebe!</td>\n",
              "                        <td id=\"T_985c121c_3178_11eb_84d1_0242ac1c0002row2_col6\" class=\"data row2 col6\" >en</td>\n",
              "                        <td id=\"T_985c121c_3178_11eb_84d1_0242ac1c0002row2_col7\" class=\"data row2 col7\" >-0.401500</td>\n",
              "            </tr>\n",
              "            <tr>\n",
              "                        <th id=\"T_985c121c_3178_11eb_84d1_0242ac1c0002level0_row3\" class=\"row_heading level0 row3\" >553</th>\n",
              "                        <td id=\"T_985c121c_3178_11eb_84d1_0242ac1c0002row3_col0\" class=\"data row3 col0\" >682632</td>\n",
              "                        <td id=\"T_985c121c_3178_11eb_84d1_0242ac1c0002row3_col1\" class=\"data row3 col1\" >59208844</td>\n",
              "                        <td id=\"T_985c121c_3178_11eb_84d1_0242ac1c0002row3_col2\" class=\"data row3 col2\" >2016-01-08</td>\n",
              "                        <td id=\"T_985c121c_3178_11eb_84d1_0242ac1c0002row3_col3\" class=\"data row3 col3\" >7860537</td>\n",
              "                        <td id=\"T_985c121c_3178_11eb_84d1_0242ac1c0002row3_col4\" class=\"data row3 col4\" >Keely</td>\n",
              "                        <td id=\"T_985c121c_3178_11eb_84d1_0242ac1c0002row3_col5\" class=\"data row3 col5\" >Surprise goodies made my arrival special. The house was warm and accommodating in January, with a convenient location for foodies. The kitchen is equipped with quality equipment, which makes staying in for the odd meal a pleasure. \r\n",
              "\r\n",
              "If you have limited mobility, there are a few stairs at the entry,  especially problematic as you use both hands to battle the electronic lock on the door that never works the first or second time, with luggage sliding down the stairs. A minor annoyance at -  but a problem if you aren't fully able bodied.\r\n",
              "</td>\n",
              "                        <td id=\"T_985c121c_3178_11eb_84d1_0242ac1c0002row3_col6\" class=\"data row3 col6\" >en</td>\n",
              "                        <td id=\"T_985c121c_3178_11eb_84d1_0242ac1c0002row3_col7\" class=\"data row3 col7\" >-0.611900</td>\n",
              "            </tr>\n",
              "            <tr>\n",
              "                        <th id=\"T_985c121c_3178_11eb_84d1_0242ac1c0002level0_row4\" class=\"row_heading level0 row4\" >605</th>\n",
              "                        <td id=\"T_985c121c_3178_11eb_84d1_0242ac1c0002row4_col0\" class=\"data row4 col0\" >793593</td>\n",
              "                        <td id=\"T_985c121c_3178_11eb_84d1_0242ac1c0002row4_col1\" class=\"data row4 col1\" >4710767</td>\n",
              "                        <td id=\"T_985c121c_3178_11eb_84d1_0242ac1c0002row4_col2\" class=\"data row4 col2\" >2013-05-21</td>\n",
              "                        <td id=\"T_985c121c_3178_11eb_84d1_0242ac1c0002row4_col3\" class=\"data row4 col3\" >2556963</td>\n",
              "                        <td id=\"T_985c121c_3178_11eb_84d1_0242ac1c0002row4_col4\" class=\"data row4 col4\" >Aleya</td>\n",
              "                        <td id=\"T_985c121c_3178_11eb_84d1_0242ac1c0002row4_col5\" class=\"data row4 col5\" >The location is great and it's only   mints walk to downtown. There is a convenient store right at the corner of the street. All the museums are   to   mints drive.  \r\n",
              "\r\n",
              "The house is not child friendly though. The flooring needs to be done because the (really) squeaky floor always woke my baby up. My toddler also fell from the stairs though we blocked the stairs with the chair. Lynda was Out of country and the manager was out of town so we sorted out our things on our own so no extra bed was available and no child safety gate was provided. There were rules pasted all over the house and we followed them strictly.  Other then these things it's an ok place. </td>\n",
              "                        <td id=\"T_985c121c_3178_11eb_84d1_0242ac1c0002row4_col6\" class=\"data row4 col6\" >en</td>\n",
              "                        <td id=\"T_985c121c_3178_11eb_84d1_0242ac1c0002row4_col7\" class=\"data row4 col7\" >-0.092700</td>\n",
              "            </tr>\n",
              "    </tbody></table>"
            ],
            "text/plain": [
              "<pandas.io.formats.style.Styler at 0x7f3f0eab8400>"
            ]
          },
          "metadata": {
            "tags": []
          },
          "execution_count": 53
        }
      ]
    },
    {
      "cell_type": "code",
      "metadata": {
        "colab": {
          "base_uri": "https://localhost:8080/",
          "height": 397
        },
        "id": "74EwkqQTIE8B",
        "outputId": "844a862f-016b-46b3-af21-bf16304f961b"
      },
      "source": [
        "# jak widzimy mamy rozkład bardzo bliski 1 (pozytywnych) -> zwykle opinie są pozytywne\n",
        "sns.distplot(reviews_en['polarity'], norm_hist=True, color='g')\n",
        "plt.title('Rozkład \"sentiment polarity\"');"
      ],
      "execution_count": null,
      "outputs": [
        {
          "output_type": "stream",
          "text": [
            "/usr/local/lib/python3.6/dist-packages/seaborn/distributions.py:2551: FutureWarning:\n",
            "\n",
            "`distplot` is a deprecated function and will be removed in a future version. Please adapt your code to use either `displot` (a figure-level function with similar flexibility) or `histplot` (an axes-level function for histograms).\n",
            "\n"
          ],
          "name": "stderr"
        },
        {
          "output_type": "display_data",
          "data": {
            "image/png": "[encoded data removed]",
            "text/plain": [
              "<Figure size 432x288 with 1 Axes>"
            ]
          },
          "metadata": {
            "tags": []
          }
        }
      ]
    },
    {
      "cell_type": "code",
      "metadata": {
        "id": "670gQxt6IsG1"
      },
      "source": [
        "# przeniesienie rozszerzonego datasetu do pliku csv\n",
        "reviews_en.to_csv('reviews_en_polarity.csv', index=False)"
      ],
      "execution_count": null,
      "outputs": []
    },
    {
      "cell_type": "markdown",
      "metadata": {
        "id": "r5QTigDEKwIy"
      },
      "source": [
        "**Eksploracja danych oraz ich korelacja**"
      ]
    },
    {
      "cell_type": "markdown",
      "metadata": {
        "id": "S6THdR1RlSjG"
      },
      "source": [
        "Wybranie z listings.csv wszystkich kolumn z indywidualnymi (dokładność, czystość, zameldowanie, komunikacja, lokalizacja i wartość) i ogólnymi (ocena) wynikami. Uwzględienie kolumny „id”, aby scalić ją z innymi ramkami danych i otoczeniem do późniejszej analizy."
      ]
    },
    {
      "cell_type": "code",
      "metadata": {
        "id": "7OZ6aivPKvuB"
      },
      "source": [
        "sel_listings = listings[['id', 'number_of_reviews', 'review_scores_rating', 'review_scores_accuracy', \n",
        "                         'review_scores_cleanliness', 'review_scores_checkin', \n",
        "                         'review_scores_communication', 'review_scores_location', 'review_scores_value',\n",
        "                         'neighbourhood_cleansed']]\n",
        "\n",
        "sel_reviews = reviews_en[['listing_id', 'reviewer_id', 'comments', 'polarity']]"
      ],
      "execution_count": null,
      "outputs": []
    },
    {
      "cell_type": "code",
      "metadata": {
        "colab": {
          "base_uri": "https://localhost:8080/",
          "height": 144
        },
        "id": "HCmaeUEjI4O1",
        "outputId": "5e6c139b-3d51-4634-c39a-ac96824b5601"
      },
      "source": [
        "sel_listings.head(3)"
      ],
      "execution_count": null,
      "outputs": [
        {
          "output_type": "execute_result",
          "data": {
            "text/html": [
              "<div>\n",
              "<style scoped>\n",
              "    .dataframe tbody tr th:only-of-type {\n",
              "        vertical-align: middle;\n",
              "    }\n",
              "\n",
              "    .dataframe tbody tr th {\n",
              "        vertical-align: top;\n",
              "    }\n",
              "\n",
              "    .dataframe thead th {\n",
              "        text-align: right;\n",
              "    }\n",
              "</style>\n",
              "<table border=\"1\" class=\"dataframe\">\n",
              "  <thead>\n",
              "    <tr style=\"text-align: right;\">\n",
              "      <th></th>\n",
              "      <th>id</th>\n",
              "      <th>number_of_reviews</th>\n",
              "      <th>review_scores_rating</th>\n",
              "      <th>review_scores_accuracy</th>\n",
              "      <th>review_scores_cleanliness</th>\n",
              "      <th>review_scores_checkin</th>\n",
              "      <th>review_scores_communication</th>\n",
              "      <th>review_scores_location</th>\n",
              "      <th>review_scores_value</th>\n",
              "      <th>neighbourhood_cleansed</th>\n",
              "    </tr>\n",
              "  </thead>\n",
              "  <tbody>\n",
              "    <tr>\n",
              "      <th>0</th>\n",
              "      <td>34220</td>\n",
              "      <td>0</td>\n",
              "      <td>NaN</td>\n",
              "      <td>NaN</td>\n",
              "      <td>NaN</td>\n",
              "      <td>NaN</td>\n",
              "      <td>NaN</td>\n",
              "      <td>NaN</td>\n",
              "      <td>NaN</td>\n",
              "      <td>Capital</td>\n",
              "    </tr>\n",
              "    <tr>\n",
              "      <th>1</th>\n",
              "      <td>36642</td>\n",
              "      <td>87</td>\n",
              "      <td>94.0</td>\n",
              "      <td>10.0</td>\n",
              "      <td>10.0</td>\n",
              "      <td>10.0</td>\n",
              "      <td>10.0</td>\n",
              "      <td>10.0</td>\n",
              "      <td>9.0</td>\n",
              "      <td>Kitchissippi</td>\n",
              "    </tr>\n",
              "    <tr>\n",
              "      <th>2</th>\n",
              "      <td>59258</td>\n",
              "      <td>1</td>\n",
              "      <td>100.0</td>\n",
              "      <td>10.0</td>\n",
              "      <td>8.0</td>\n",
              "      <td>10.0</td>\n",
              "      <td>10.0</td>\n",
              "      <td>10.0</td>\n",
              "      <td>10.0</td>\n",
              "      <td>Bay</td>\n",
              "    </tr>\n",
              "  </tbody>\n",
              "</table>\n",
              "</div>"
            ],
            "text/plain": [
              "      id  number_of_reviews  ...  review_scores_value  neighbourhood_cleansed\n",
              "0  34220                  0  ...                  NaN                 Capital\n",
              "1  36642                 87  ...                  9.0            Kitchissippi\n",
              "2  59258                  1  ...                 10.0                     Bay\n",
              "\n",
              "[3 rows x 10 columns]"
            ]
          },
          "metadata": {
            "tags": []
          },
          "execution_count": 57
        }
      ]
    },
    {
      "cell_type": "code",
      "metadata": {
        "colab": {
          "base_uri": "https://localhost:8080/",
          "height": 144
        },
        "id": "di2jKVpGK-OS",
        "outputId": "9d77c82f-562a-451f-c7bc-9c2350551767"
      },
      "source": [
        "sel_reviews.head(3)"
      ],
      "execution_count": null,
      "outputs": [
        {
          "output_type": "execute_result",
          "data": {
            "text/html": [
              "<div>\n",
              "<style scoped>\n",
              "    .dataframe tbody tr th:only-of-type {\n",
              "        vertical-align: middle;\n",
              "    }\n",
              "\n",
              "    .dataframe tbody tr th {\n",
              "        vertical-align: top;\n",
              "    }\n",
              "\n",
              "    .dataframe thead th {\n",
              "        text-align: right;\n",
              "    }\n",
              "</style>\n",
              "<table border=\"1\" class=\"dataframe\">\n",
              "  <thead>\n",
              "    <tr style=\"text-align: right;\">\n",
              "      <th></th>\n",
              "      <th>listing_id</th>\n",
              "      <th>reviewer_id</th>\n",
              "      <th>comments</th>\n",
              "      <th>polarity</th>\n",
              "    </tr>\n",
              "  </thead>\n",
              "  <tbody>\n",
              "    <tr>\n",
              "      <th>0</th>\n",
              "      <td>36642</td>\n",
              "      <td>126491</td>\n",
              "      <td>I gave Donna   stars only because she is new t...</td>\n",
              "      <td>0.807</td>\n",
              "    </tr>\n",
              "    <tr>\n",
              "      <th>1</th>\n",
              "      <td>36642</td>\n",
              "      <td>204008</td>\n",
              "      <td>Donna is a nice and pleasant person. We enjoye...</td>\n",
              "      <td>0.985</td>\n",
              "    </tr>\n",
              "    <tr>\n",
              "      <th>2</th>\n",
              "      <td>36642</td>\n",
              "      <td>164372</td>\n",
              "      <td>Our trip was too short in Ottawa, we really wi...</td>\n",
              "      <td>0.743</td>\n",
              "    </tr>\n",
              "  </tbody>\n",
              "</table>\n",
              "</div>"
            ],
            "text/plain": [
              "   listing_id  ...  polarity\n",
              "0       36642  ...     0.807\n",
              "1       36642  ...     0.985\n",
              "2       36642  ...     0.743\n",
              "\n",
              "[3 rows x 4 columns]"
            ]
          },
          "metadata": {
            "tags": []
          },
          "execution_count": 58
        }
      ]
    },
    {
      "cell_type": "code",
      "metadata": {
        "id": "_uycO_uGLZ7Z"
      },
      "source": [
        "list_pol = pd.DataFrame(sel_reviews.groupby(['listing_id']).mean()['polarity'])"
      ],
      "execution_count": null,
      "outputs": []
    },
    {
      "cell_type": "code",
      "metadata": {
        "id": "VgZ_vj3xLfuh"
      },
      "source": [
        "full = pd.merge(sel_listings, list_pol, left_on='id', right_on='listing_id', how='left')"
      ],
      "execution_count": null,
      "outputs": []
    },
    {
      "cell_type": "code",
      "metadata": {
        "colab": {
          "base_uri": "https://localhost:8080/",
          "height": 144
        },
        "id": "4zJJZlv9Liuo",
        "outputId": "95f539a6-7bf4-4ecc-e098-7722e190d4f0"
      },
      "source": [
        "full.head(3)"
      ],
      "execution_count": null,
      "outputs": [
        {
          "output_type": "execute_result",
          "data": {
            "text/html": [
              "<div>\n",
              "<style scoped>\n",
              "    .dataframe tbody tr th:only-of-type {\n",
              "        vertical-align: middle;\n",
              "    }\n",
              "\n",
              "    .dataframe tbody tr th {\n",
              "        vertical-align: top;\n",
              "    }\n",
              "\n",
              "    .dataframe thead th {\n",
              "        text-align: right;\n",
              "    }\n",
              "</style>\n",
              "<table border=\"1\" class=\"dataframe\">\n",
              "  <thead>\n",
              "    <tr style=\"text-align: right;\">\n",
              "      <th></th>\n",
              "      <th>id</th>\n",
              "      <th>number_of_reviews</th>\n",
              "      <th>review_scores_rating</th>\n",
              "      <th>review_scores_accuracy</th>\n",
              "      <th>review_scores_cleanliness</th>\n",
              "      <th>review_scores_checkin</th>\n",
              "      <th>review_scores_communication</th>\n",
              "      <th>review_scores_location</th>\n",
              "      <th>review_scores_value</th>\n",
              "      <th>neighbourhood_cleansed</th>\n",
              "      <th>polarity</th>\n",
              "    </tr>\n",
              "  </thead>\n",
              "  <tbody>\n",
              "    <tr>\n",
              "      <th>0</th>\n",
              "      <td>34220</td>\n",
              "      <td>0</td>\n",
              "      <td>NaN</td>\n",
              "      <td>NaN</td>\n",
              "      <td>NaN</td>\n",
              "      <td>NaN</td>\n",
              "      <td>NaN</td>\n",
              "      <td>NaN</td>\n",
              "      <td>NaN</td>\n",
              "      <td>Capital</td>\n",
              "      <td>NaN</td>\n",
              "    </tr>\n",
              "    <tr>\n",
              "      <th>1</th>\n",
              "      <td>36642</td>\n",
              "      <td>87</td>\n",
              "      <td>94.0</td>\n",
              "      <td>10.0</td>\n",
              "      <td>10.0</td>\n",
              "      <td>10.0</td>\n",
              "      <td>10.0</td>\n",
              "      <td>10.0</td>\n",
              "      <td>9.0</td>\n",
              "      <td>Kitchissippi</td>\n",
              "      <td>0.874996</td>\n",
              "    </tr>\n",
              "    <tr>\n",
              "      <th>2</th>\n",
              "      <td>59258</td>\n",
              "      <td>1</td>\n",
              "      <td>100.0</td>\n",
              "      <td>10.0</td>\n",
              "      <td>8.0</td>\n",
              "      <td>10.0</td>\n",
              "      <td>10.0</td>\n",
              "      <td>10.0</td>\n",
              "      <td>10.0</td>\n",
              "      <td>Bay</td>\n",
              "      <td>0.972800</td>\n",
              "    </tr>\n",
              "  </tbody>\n",
              "</table>\n",
              "</div>"
            ],
            "text/plain": [
              "      id  number_of_reviews  ...  neighbourhood_cleansed  polarity\n",
              "0  34220                  0  ...                 Capital       NaN\n",
              "1  36642                 87  ...            Kitchissippi  0.874996\n",
              "2  59258                  1  ...                     Bay  0.972800\n",
              "\n",
              "[3 rows x 11 columns]"
            ]
          },
          "metadata": {
            "tags": []
          },
          "execution_count": 61
        }
      ]
    },
    {
      "cell_type": "code",
      "metadata": {
        "colab": {
          "base_uri": "https://localhost:8080/",
          "height": 503
        },
        "id": "IjtS0bxYLoq_",
        "outputId": "2c0c7a61-57e3-4870-fa1b-fa22b846595c"
      },
      "source": [
        "review_scores = ['review_scores_rating', 'review_scores_accuracy', 'review_scores_cleanliness', \n",
        "                 'review_scores_checkin', 'review_scores_communication', 'review_scores_location', \n",
        "                 'review_scores_value', 'polarity']\n",
        "\n",
        "corr = full[review_scores].corr()\n",
        "\n",
        "sns.heatmap(corr, annot=True)\n",
        "plt.title('Korelacja Pearsona między cechami oceny a biegunowością');"
      ],
      "execution_count": null,
      "outputs": [
        {
          "output_type": "display_data",
          "data": {
            "image/png": "[encoded data removed]",
            "text/plain": [
              "<Figure size 432x288 with 2 Axes>"
            ]
          },
          "metadata": {
            "tags": []
          }
        }
      ]
    },
    {
      "cell_type": "code",
      "metadata": {
        "colab": {
          "base_uri": "https://localhost:8080/",
          "height": 282
        },
        "id": "NZSAT5BMMwWw",
        "outputId": "587d20e2-7280-45a2-d018-a8a6119999e3"
      },
      "source": [
        "full['review_scores_rating'].hist();"
      ],
      "execution_count": null,
      "outputs": [
        {
          "output_type": "display_data",
          "data": {
            "image/png": "[encoded data removed]",
            "text/plain": [
              "<Figure size 432x288 with 1 Axes>"
            ]
          },
          "metadata": {
            "tags": []
          }
        }
      ]
    },
    {
      "cell_type": "code",
      "metadata": {
        "colab": {
          "base_uri": "https://localhost:8080/",
          "height": 282
        },
        "id": "Lyx4LW91M1R1",
        "outputId": "a7ee615a-a79b-4079-8903-6eb5ecb5f172"
      },
      "source": [
        "full['polarity'].hist();"
      ],
      "execution_count": null,
      "outputs": [
        {
          "output_type": "display_data",
          "data": {
            "image/png": "[encoded data removed]",
            "text/plain": [
              "<Figure size 432x288 with 1 Axes>"
            ]
          },
          "metadata": {
            "tags": []
          }
        }
      ]
    },
    {
      "cell_type": "code",
      "metadata": {
        "id": "oXCTJB82M5rq"
      },
      "source": [
        "listings_neighb = pd.DataFrame(full.groupby(['neighbourhood_cleansed']).mean())\n",
        "listings_neighb.drop(['id'], axis=1, inplace=True)"
      ],
      "execution_count": null,
      "outputs": []
    },
    {
      "cell_type": "code",
      "metadata": {
        "colab": {
          "base_uri": "https://localhost:8080/",
          "height": 238
        },
        "id": "nTvfweqANuj9",
        "outputId": "8a32aab7-3c97-4c3d-8c64-e13819cf6cb5"
      },
      "source": [
        "listings_neighb.head()"
      ],
      "execution_count": null,
      "outputs": [
        {
          "output_type": "execute_result",
          "data": {
            "text/html": [
              "<div>\n",
              "<style scoped>\n",
              "    .dataframe tbody tr th:only-of-type {\n",
              "        vertical-align: middle;\n",
              "    }\n",
              "\n",
              "    .dataframe tbody tr th {\n",
              "        vertical-align: top;\n",
              "    }\n",
              "\n",
              "    .dataframe thead th {\n",
              "        text-align: right;\n",
              "    }\n",
              "</style>\n",
              "<table border=\"1\" class=\"dataframe\">\n",
              "  <thead>\n",
              "    <tr style=\"text-align: right;\">\n",
              "      <th></th>\n",
              "      <th>number_of_reviews</th>\n",
              "      <th>review_scores_rating</th>\n",
              "      <th>review_scores_accuracy</th>\n",
              "      <th>review_scores_cleanliness</th>\n",
              "      <th>review_scores_checkin</th>\n",
              "      <th>review_scores_communication</th>\n",
              "      <th>review_scores_location</th>\n",
              "      <th>review_scores_value</th>\n",
              "      <th>polarity</th>\n",
              "    </tr>\n",
              "    <tr>\n",
              "      <th>neighbourhood_cleansed</th>\n",
              "      <th></th>\n",
              "      <th></th>\n",
              "      <th></th>\n",
              "      <th></th>\n",
              "      <th></th>\n",
              "      <th></th>\n",
              "      <th></th>\n",
              "      <th></th>\n",
              "      <th></th>\n",
              "    </tr>\n",
              "  </thead>\n",
              "  <tbody>\n",
              "    <tr>\n",
              "      <th>Alta Vista</th>\n",
              "      <td>32.777778</td>\n",
              "      <td>95.511905</td>\n",
              "      <td>9.678571</td>\n",
              "      <td>9.619048</td>\n",
              "      <td>9.892857</td>\n",
              "      <td>9.833333</td>\n",
              "      <td>9.785714</td>\n",
              "      <td>9.642857</td>\n",
              "      <td>0.793706</td>\n",
              "    </tr>\n",
              "    <tr>\n",
              "      <th>Barrhaven</th>\n",
              "      <td>18.587302</td>\n",
              "      <td>95.018519</td>\n",
              "      <td>9.759259</td>\n",
              "      <td>9.574074</td>\n",
              "      <td>9.740741</td>\n",
              "      <td>9.722222</td>\n",
              "      <td>9.500000</td>\n",
              "      <td>9.537037</td>\n",
              "      <td>0.801598</td>\n",
              "    </tr>\n",
              "    <tr>\n",
              "      <th>Bay</th>\n",
              "      <td>24.760000</td>\n",
              "      <td>95.333333</td>\n",
              "      <td>9.807018</td>\n",
              "      <td>9.631579</td>\n",
              "      <td>9.842105</td>\n",
              "      <td>9.877193</td>\n",
              "      <td>9.736842</td>\n",
              "      <td>9.543860</td>\n",
              "      <td>0.801972</td>\n",
              "    </tr>\n",
              "    <tr>\n",
              "      <th>Beacon Hill-Cyrville</th>\n",
              "      <td>24.327586</td>\n",
              "      <td>93.041667</td>\n",
              "      <td>9.479167</td>\n",
              "      <td>9.125000</td>\n",
              "      <td>9.583333</td>\n",
              "      <td>9.625000</td>\n",
              "      <td>9.583333</td>\n",
              "      <td>9.270833</td>\n",
              "      <td>0.758306</td>\n",
              "    </tr>\n",
              "    <tr>\n",
              "      <th>Capital</th>\n",
              "      <td>49.758427</td>\n",
              "      <td>96.246667</td>\n",
              "      <td>9.840000</td>\n",
              "      <td>9.666667</td>\n",
              "      <td>9.913333</td>\n",
              "      <td>9.926667</td>\n",
              "      <td>9.893333</td>\n",
              "      <td>9.646667</td>\n",
              "      <td>0.841659</td>\n",
              "    </tr>\n",
              "  </tbody>\n",
              "</table>\n",
              "</div>"
            ],
            "text/plain": [
              "                        number_of_reviews  ...  polarity\n",
              "neighbourhood_cleansed                     ...          \n",
              "Alta Vista                      32.777778  ...  0.793706\n",
              "Barrhaven                       18.587302  ...  0.801598\n",
              "Bay                             24.760000  ...  0.801972\n",
              "Beacon Hill-Cyrville            24.327586  ...  0.758306\n",
              "Capital                         49.758427  ...  0.841659\n",
              "\n",
              "[5 rows x 9 columns]"
            ]
          },
          "metadata": {
            "tags": []
          },
          "execution_count": 66
        }
      ]
    },
    {
      "cell_type": "code",
      "metadata": {
        "colab": {
          "base_uri": "https://localhost:8080/",
          "height": 175
        },
        "id": "P6MREi2INx46",
        "outputId": "b9c72c49-219e-46a1-b389-817010a5a57e"
      },
      "source": [
        "listings_neighb.sort_values(['polarity'], ascending=False).head(3)"
      ],
      "execution_count": null,
      "outputs": [
        {
          "output_type": "execute_result",
          "data": {
            "text/html": [
              "<div>\n",
              "<style scoped>\n",
              "    .dataframe tbody tr th:only-of-type {\n",
              "        vertical-align: middle;\n",
              "    }\n",
              "\n",
              "    .dataframe tbody tr th {\n",
              "        vertical-align: top;\n",
              "    }\n",
              "\n",
              "    .dataframe thead th {\n",
              "        text-align: right;\n",
              "    }\n",
              "</style>\n",
              "<table border=\"1\" class=\"dataframe\">\n",
              "  <thead>\n",
              "    <tr style=\"text-align: right;\">\n",
              "      <th></th>\n",
              "      <th>number_of_reviews</th>\n",
              "      <th>review_scores_rating</th>\n",
              "      <th>review_scores_accuracy</th>\n",
              "      <th>review_scores_cleanliness</th>\n",
              "      <th>review_scores_checkin</th>\n",
              "      <th>review_scores_communication</th>\n",
              "      <th>review_scores_location</th>\n",
              "      <th>review_scores_value</th>\n",
              "      <th>polarity</th>\n",
              "    </tr>\n",
              "    <tr>\n",
              "      <th>neighbourhood_cleansed</th>\n",
              "      <th></th>\n",
              "      <th></th>\n",
              "      <th></th>\n",
              "      <th></th>\n",
              "      <th></th>\n",
              "      <th></th>\n",
              "      <th></th>\n",
              "      <th></th>\n",
              "      <th></th>\n",
              "    </tr>\n",
              "  </thead>\n",
              "  <tbody>\n",
              "    <tr>\n",
              "      <th>Kitchissippi</th>\n",
              "      <td>38.382857</td>\n",
              "      <td>96.065789</td>\n",
              "      <td>9.794702</td>\n",
              "      <td>9.688742</td>\n",
              "      <td>9.874172</td>\n",
              "      <td>9.827815</td>\n",
              "      <td>9.900662</td>\n",
              "      <td>9.615894</td>\n",
              "      <td>0.850783</td>\n",
              "    </tr>\n",
              "    <tr>\n",
              "      <th>West Carleton-March</th>\n",
              "      <td>34.400000</td>\n",
              "      <td>96.250000</td>\n",
              "      <td>9.800000</td>\n",
              "      <td>9.725000</td>\n",
              "      <td>9.975000</td>\n",
              "      <td>9.850000</td>\n",
              "      <td>9.675000</td>\n",
              "      <td>9.600000</td>\n",
              "      <td>0.848120</td>\n",
              "    </tr>\n",
              "    <tr>\n",
              "      <th>Capital</th>\n",
              "      <td>49.758427</td>\n",
              "      <td>96.246667</td>\n",
              "      <td>9.840000</td>\n",
              "      <td>9.666667</td>\n",
              "      <td>9.913333</td>\n",
              "      <td>9.926667</td>\n",
              "      <td>9.893333</td>\n",
              "      <td>9.646667</td>\n",
              "      <td>0.841659</td>\n",
              "    </tr>\n",
              "  </tbody>\n",
              "</table>\n",
              "</div>"
            ],
            "text/plain": [
              "                        number_of_reviews  ...  polarity\n",
              "neighbourhood_cleansed                     ...          \n",
              "Kitchissippi                    38.382857  ...  0.850783\n",
              "West Carleton-March             34.400000  ...  0.848120\n",
              "Capital                         49.758427  ...  0.841659\n",
              "\n",
              "[3 rows x 9 columns]"
            ]
          },
          "metadata": {
            "tags": []
          },
          "execution_count": 67
        }
      ]
    },
    {
      "cell_type": "code",
      "metadata": {
        "colab": {
          "base_uri": "https://localhost:8080/",
          "height": 175
        },
        "id": "PpXYMX-tN6O3",
        "outputId": "315ce765-37a3-40d4-e659-d9fcb5163941"
      },
      "source": [
        "listings_neighb.sort_values(['review_scores_location'], ascending=False).head(3)"
      ],
      "execution_count": null,
      "outputs": [
        {
          "output_type": "execute_result",
          "data": {
            "text/html": [
              "<div>\n",
              "<style scoped>\n",
              "    .dataframe tbody tr th:only-of-type {\n",
              "        vertical-align: middle;\n",
              "    }\n",
              "\n",
              "    .dataframe tbody tr th {\n",
              "        vertical-align: top;\n",
              "    }\n",
              "\n",
              "    .dataframe thead th {\n",
              "        text-align: right;\n",
              "    }\n",
              "</style>\n",
              "<table border=\"1\" class=\"dataframe\">\n",
              "  <thead>\n",
              "    <tr style=\"text-align: right;\">\n",
              "      <th></th>\n",
              "      <th>number_of_reviews</th>\n",
              "      <th>review_scores_rating</th>\n",
              "      <th>review_scores_accuracy</th>\n",
              "      <th>review_scores_cleanliness</th>\n",
              "      <th>review_scores_checkin</th>\n",
              "      <th>review_scores_communication</th>\n",
              "      <th>review_scores_location</th>\n",
              "      <th>review_scores_value</th>\n",
              "      <th>polarity</th>\n",
              "    </tr>\n",
              "    <tr>\n",
              "      <th>neighbourhood_cleansed</th>\n",
              "      <th></th>\n",
              "      <th></th>\n",
              "      <th></th>\n",
              "      <th></th>\n",
              "      <th></th>\n",
              "      <th></th>\n",
              "      <th></th>\n",
              "      <th></th>\n",
              "      <th></th>\n",
              "    </tr>\n",
              "  </thead>\n",
              "  <tbody>\n",
              "    <tr>\n",
              "      <th>Kitchissippi</th>\n",
              "      <td>38.382857</td>\n",
              "      <td>96.065789</td>\n",
              "      <td>9.794702</td>\n",
              "      <td>9.688742</td>\n",
              "      <td>9.874172</td>\n",
              "      <td>9.827815</td>\n",
              "      <td>9.900662</td>\n",
              "      <td>9.615894</td>\n",
              "      <td>0.850783</td>\n",
              "    </tr>\n",
              "    <tr>\n",
              "      <th>Capital</th>\n",
              "      <td>49.758427</td>\n",
              "      <td>96.246667</td>\n",
              "      <td>9.840000</td>\n",
              "      <td>9.666667</td>\n",
              "      <td>9.913333</td>\n",
              "      <td>9.926667</td>\n",
              "      <td>9.893333</td>\n",
              "      <td>9.646667</td>\n",
              "      <td>0.841659</td>\n",
              "    </tr>\n",
              "    <tr>\n",
              "      <th>Somerset</th>\n",
              "      <td>59.261456</td>\n",
              "      <td>93.698052</td>\n",
              "      <td>9.594156</td>\n",
              "      <td>9.366883</td>\n",
              "      <td>9.792208</td>\n",
              "      <td>9.750000</td>\n",
              "      <td>9.798701</td>\n",
              "      <td>9.331169</td>\n",
              "      <td>0.785518</td>\n",
              "    </tr>\n",
              "  </tbody>\n",
              "</table>\n",
              "</div>"
            ],
            "text/plain": [
              "                        number_of_reviews  ...  polarity\n",
              "neighbourhood_cleansed                     ...          \n",
              "Kitchissippi                    38.382857  ...  0.850783\n",
              "Capital                         49.758427  ...  0.841659\n",
              "Somerset                        59.261456  ...  0.785518\n",
              "\n",
              "[3 rows x 9 columns]"
            ]
          },
          "metadata": {
            "tags": []
          },
          "execution_count": 68
        }
      ]
    },
    {
      "cell_type": "code",
      "metadata": {
        "id": "lTCLu12nOBvH"
      },
      "source": [
        ""
      ],
      "execution_count": null,
      "outputs": []
    }
  ]
}