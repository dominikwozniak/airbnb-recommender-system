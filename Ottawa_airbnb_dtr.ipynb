{
  "nbformat": 4,
  "nbformat_minor": 0,
  "metadata": {
    "colab": {
      "name": "Ottawa-airbnb-dtr.ipynb",
      "provenance": []
    },
    "kernelspec": {
      "name": "python3",
      "display_name": "Python 3"
    }
  },
  "cells": [
    {
      "cell_type": "code",
      "metadata": {
        "id": "Xfy3TGsUjM_6"
      },
      "source": [
        "import numpy as np\n",
        "import pandas as pd\n",
        "import plotly.express as px\n",
        "import plotly.graph_objects as go\n",
        "from sklearn.tree import DecisionTreeRegressor\n",
        "from sklearn.datasets import make_regression\n",
        "from sklearn.metrics import mean_squared_error, mean_absolute_error\n",
        "from sklearn.model_selection import train_test_split\n",
        "from sklearn.preprocessing import scale\n",
        "from sklearn.metrics import accuracy_score\n",
        "import matplotlib.pyplot as plt\n",
        "from sklearn import set_config\n",
        "\n",
        "plt.style.use('fivethirtyeight')"
      ],
      "execution_count": 414,
      "outputs": []
    },
    {
      "cell_type": "code",
      "metadata": {
        "id": "nGEu4KFbjWT0"
      },
      "source": [
        "DATA_URL = 'https://ids-storage-football-prediction.s3-eu-west-1.amazonaws.com/data_mmwd/listings_polarity_distance.csv'\n",
        "SCALED_DATA_URL = 'https://ids-storage-football-prediction.s3-eu-west-1.amazonaws.com/data_mmwd/listings_scalled.csv'"
      ],
      "execution_count": 415,
      "outputs": []
    },
    {
      "cell_type": "code",
      "metadata": {
        "id": "aj7ESXLwjXLz"
      },
      "source": [
        "df = pd.read_csv(SCALED_DATA_URL, index_col='Unnamed: 0')"
      ],
      "execution_count": 416,
      "outputs": []
    },
    {
      "cell_type": "code",
      "metadata": {
        "id": "MtU5MErCp8q2"
      },
      "source": [
        "df['classified'] = 3 * df['scaled_polarity'] + 2 * df['scaled_distance'] + 1 * df['scaled_number_of_reviews']"
      ],
      "execution_count": 417,
      "outputs": []
    },
    {
      "cell_type": "code",
      "metadata": {
        "id": "I9lzoWuyqFSE"
      },
      "source": [
        "from sklearn.preprocessing import MinMaxScaler\n",
        "\n",
        "scaler = MinMaxScaler()\n",
        "df['scaled_classified'] = scaler.fit_transform(df[['classified']])"
      ],
      "execution_count": 418,
      "outputs": []
    },
    {
      "cell_type": "code",
      "metadata": {
        "colab": {
          "base_uri": "https://localhost:8080/",
          "height": 504
        },
        "id": "jUscG4bTjYcs",
        "outputId": "6100ad2c-f784-4d42-8007-adff2bacf757"
      },
      "source": [
        "df.head()"
      ],
      "execution_count": 419,
      "outputs": [
        {
          "output_type": "execute_result",
          "data": {
            "text/html": [
              "<div>\n",
              "<style scoped>\n",
              "    .dataframe tbody tr th:only-of-type {\n",
              "        vertical-align: middle;\n",
              "    }\n",
              "\n",
              "    .dataframe tbody tr th {\n",
              "        vertical-align: top;\n",
              "    }\n",
              "\n",
              "    .dataframe thead th {\n",
              "        text-align: right;\n",
              "    }\n",
              "</style>\n",
              "<table border=\"1\" class=\"dataframe\">\n",
              "  <thead>\n",
              "    <tr style=\"text-align: right;\">\n",
              "      <th></th>\n",
              "      <th>id</th>\n",
              "      <th>name</th>\n",
              "      <th>description</th>\n",
              "      <th>latitude</th>\n",
              "      <th>longitude</th>\n",
              "      <th>room_type</th>\n",
              "      <th>accommodates</th>\n",
              "      <th>bathrooms</th>\n",
              "      <th>bedrooms</th>\n",
              "      <th>beds</th>\n",
              "      <th>price</th>\n",
              "      <th>number_of_reviews</th>\n",
              "      <th>polarity</th>\n",
              "      <th>distance</th>\n",
              "      <th>scaled_distance</th>\n",
              "      <th>scaled_number_of_reviews</th>\n",
              "      <th>scaled_polarity</th>\n",
              "      <th>classified</th>\n",
              "      <th>scaled_classified</th>\n",
              "    </tr>\n",
              "  </thead>\n",
              "  <tbody>\n",
              "    <tr>\n",
              "      <th>0</th>\n",
              "      <td>36642</td>\n",
              "      <td>City Conveniences A Country Setting</td>\n",
              "      <td>&lt;b&gt;The space&lt;/b&gt;&lt;br /&gt;Are you planning a vacat...</td>\n",
              "      <td>45.40159</td>\n",
              "      <td>-75.74679</td>\n",
              "      <td>Private room</td>\n",
              "      <td>2</td>\n",
              "      <td>2</td>\n",
              "      <td>1</td>\n",
              "      <td>1</td>\n",
              "      <td>65.0</td>\n",
              "      <td>87</td>\n",
              "      <td>0.8070</td>\n",
              "      <td>3.177358</td>\n",
              "      <td>0.099113</td>\n",
              "      <td>0.182979</td>\n",
              "      <td>0.892230</td>\n",
              "      <td>3.057894</td>\n",
              "      <td>0.640126</td>\n",
              "    </tr>\n",
              "    <tr>\n",
              "      <th>1</th>\n",
              "      <td>59258</td>\n",
              "      <td>Lower level of my house to rent</td>\n",
              "      <td>Lower 1/2 of bungalow, a separate entrance, 10...</td>\n",
              "      <td>45.35900</td>\n",
              "      <td>-75.80314</td>\n",
              "      <td>Entire home/apt</td>\n",
              "      <td>4</td>\n",
              "      <td>1</td>\n",
              "      <td>1</td>\n",
              "      <td>1</td>\n",
              "      <td>200.0</td>\n",
              "      <td>1</td>\n",
              "      <td>0.9850</td>\n",
              "      <td>9.620935</td>\n",
              "      <td>0.028027</td>\n",
              "      <td>0.000000</td>\n",
              "      <td>0.992090</td>\n",
              "      <td>3.032323</td>\n",
              "      <td>0.634309</td>\n",
              "    </tr>\n",
              "    <tr>\n",
              "      <th>2</th>\n",
              "      <td>158824</td>\n",
              "      <td>DOWNTOWN/GLEBE HOUSE WITH BACKYARD</td>\n",
              "      <td>Big 3 bedroom house with backyard in desirable...</td>\n",
              "      <td>45.40248</td>\n",
              "      <td>-75.69941</td>\n",
              "      <td>Entire home/apt</td>\n",
              "      <td>3</td>\n",
              "      <td>1</td>\n",
              "      <td>2</td>\n",
              "      <td>2</td>\n",
              "      <td>140.0</td>\n",
              "      <td>7</td>\n",
              "      <td>0.7430</td>\n",
              "      <td>2.194104</td>\n",
              "      <td>0.146677</td>\n",
              "      <td>0.012766</td>\n",
              "      <td>0.856325</td>\n",
              "      <td>2.875097</td>\n",
              "      <td>0.598547</td>\n",
              "    </tr>\n",
              "    <tr>\n",
              "      <th>3</th>\n",
              "      <td>261065</td>\n",
              "      <td>Westboro Village Executive Suite</td>\n",
              "      <td>A tastefully decorated and well equipped upper...</td>\n",
              "      <td>45.38972</td>\n",
              "      <td>-75.75496</td>\n",
              "      <td>Entire home/apt</td>\n",
              "      <td>4</td>\n",
              "      <td>1</td>\n",
              "      <td>1</td>\n",
              "      <td>1</td>\n",
              "      <td>150.0</td>\n",
              "      <td>64</td>\n",
              "      <td>0.8304</td>\n",
              "      <td>4.537074</td>\n",
              "      <td>0.067304</td>\n",
              "      <td>0.134043</td>\n",
              "      <td>0.905358</td>\n",
              "      <td>2.984723</td>\n",
              "      <td>0.623482</td>\n",
              "    </tr>\n",
              "    <tr>\n",
              "      <th>4</th>\n",
              "      <td>336692</td>\n",
              "      <td>Quiet Room with a view in the Ottawa Downtown</td>\n",
              "      <td>Renting only to females. Modern condo with pan...</td>\n",
              "      <td>45.41557</td>\n",
              "      <td>-75.70551</td>\n",
              "      <td>Private room</td>\n",
              "      <td>5</td>\n",
              "      <td>1</td>\n",
              "      <td>1</td>\n",
              "      <td>1</td>\n",
              "      <td>69.0</td>\n",
              "      <td>9</td>\n",
              "      <td>0.9537</td>\n",
              "      <td>0.813145</td>\n",
              "      <td>0.407711</td>\n",
              "      <td>0.017021</td>\n",
              "      <td>0.974530</td>\n",
              "      <td>3.756033</td>\n",
              "      <td>0.798923</td>\n",
              "    </tr>\n",
              "  </tbody>\n",
              "</table>\n",
              "</div>"
            ],
            "text/plain": [
              "       id  ... scaled_classified\n",
              "0   36642  ...          0.640126\n",
              "1   59258  ...          0.634309\n",
              "2  158824  ...          0.598547\n",
              "3  261065  ...          0.623482\n",
              "4  336692  ...          0.798923\n",
              "\n",
              "[5 rows x 19 columns]"
            ]
          },
          "metadata": {
            "tags": []
          },
          "execution_count": 419
        }
      ]
    },
    {
      "cell_type": "code",
      "metadata": {
        "id": "XLgRYQo5lYF2"
      },
      "source": [
        "x = df.loc[:, ['scaled_distance', 'scaled_number_of_reviews', 'scaled_polarity']]\n",
        "y = df.loc[:, ['scaled_classified']]"
      ],
      "execution_count": 420,
      "outputs": []
    },
    {
      "cell_type": "code",
      "metadata": {
        "id": "fzFU8uXnnols"
      },
      "source": [
        "xtrain, xtest, ytrain, ytest=train_test_split(x, y, test_size=0.75)"
      ],
      "execution_count": 421,
      "outputs": []
    },
    {
      "cell_type": "code",
      "metadata": {
        "colab": {
          "base_uri": "https://localhost:8080/"
        },
        "id": "s6gJxeHCoJxa",
        "outputId": "7c9dbce5-899b-4bd7-ab43-352a5d3687e5"
      },
      "source": [
        "dtr = DecisionTreeRegressor(max_depth=5, random_state=0, criterion='mae', splitter='best')\n",
        "print(dtr)"
      ],
      "execution_count": 422,
      "outputs": [
        {
          "output_type": "stream",
          "text": [
            "DecisionTreeRegressor(ccp_alpha=0.0, criterion='mae', max_depth=5,\n",
            "                      max_features=None, max_leaf_nodes=None,\n",
            "                      min_impurity_decrease=0.0, min_impurity_split=None,\n",
            "                      min_samples_leaf=1, min_samples_split=2,\n",
            "                      min_weight_fraction_leaf=0.0, presort='deprecated',\n",
            "                      random_state=0, splitter='best')\n"
          ],
          "name": "stdout"
        }
      ]
    },
    {
      "cell_type": "code",
      "metadata": {
        "id": "6z9-ty8MoNjR"
      },
      "source": [
        "dtr.fit(xtrain, ytrain)\n",
        "\n",
        "score = dtr.score(xtrain, ytrain)"
      ],
      "execution_count": 423,
      "outputs": []
    },
    {
      "cell_type": "code",
      "metadata": {
        "colab": {
          "base_uri": "https://localhost:8080/"
        },
        "id": "knB-v_DwoSi4",
        "outputId": "d94bf79e-ae18-4bea-84ad-eedbeb26a8d2"
      },
      "source": [
        "print(\"R-squared:\", score) "
      ],
      "execution_count": 424,
      "outputs": [
        {
          "output_type": "stream",
          "text": [
            "R-squared: 0.9593922625254602\n"
          ],
          "name": "stdout"
        }
      ]
    },
    {
      "cell_type": "code",
      "metadata": {
        "id": "0nogOKTu-VOj"
      },
      "source": [
        "score = dtr.score(xtest, ytest)"
      ],
      "execution_count": 425,
      "outputs": []
    },
    {
      "cell_type": "code",
      "metadata": {
        "colab": {
          "base_uri": "https://localhost:8080/"
        },
        "id": "tmSS_nvr-exM",
        "outputId": "1bd6495a-3733-410a-e95a-386003661328"
      },
      "source": [
        "print(\"R-squared:\", score) "
      ],
      "execution_count": 426,
      "outputs": [
        {
          "output_type": "stream",
          "text": [
            "R-squared: 0.9065679946212866\n"
          ],
          "name": "stdout"
        }
      ]
    },
    {
      "cell_type": "code",
      "metadata": {
        "colab": {
          "base_uri": "https://localhost:8080/"
        },
        "id": "stSzhmzjoUM4",
        "outputId": "9bd26dba-d4c2-4cc7-816d-b9ac49554648"
      },
      "source": [
        "ypred = dtr.predict(xtest)\n",
        "\n",
        "mse = mean_squared_error(ytest, ypred)\n",
        "mae = mean_absolute_error(ytest, ypred)\n",
        "print(\"MSE: \", mse)\n",
        "print(\"MAE: \", mae)\n",
        "print(\"RMSE: \", mse*(1/2.0))"
      ],
      "execution_count": 427,
      "outputs": [
        {
          "output_type": "stream",
          "text": [
            "MSE:  0.0007905519162295807\n",
            "MAE:  0.020047069221999305\n",
            "RMSE:  0.00039527595811479036\n"
          ],
          "name": "stdout"
        }
      ]
    },
    {
      "cell_type": "code",
      "metadata": {
        "colab": {
          "base_uri": "https://localhost:8080/",
          "height": 325
        },
        "id": "vvR7Pq7LoXtx",
        "outputId": "fb2f5b8c-045a-463d-e716-06cb11f5c7a6"
      },
      "source": [
        "x_ax = range(len(ytest))\n",
        "plt.plot(x_ax, ytest, linewidth=1, label=\"original\")\n",
        "plt.plot(x_ax, ypred, linewidth=1.1, label=\"predicted\")\n",
        "plt.title(\"y-test and y-predicted data\")\n",
        "plt.xlabel('X-axis')\n",
        "plt.ylabel('Y-axis')\n",
        "plt.legend(loc='best',fancybox=True, shadow=True)\n",
        "plt.grid(True)\n",
        "plt.show() "
      ],
      "execution_count": 428,
      "outputs": [
        {
          "output_type": "display_data",
          "data": {
            "image/png": "[encoded data removed]",
            "text/plain": [
              "<Figure size 432x288 with 1 Axes>"
            ]
          },
          "metadata": {
            "tags": []
          }
        }
      ]
    },
    {
      "cell_type": "code",
      "metadata": {
        "colab": {
          "base_uri": "https://localhost:8080/",
          "height": 206
        },
        "id": "jtQhxKHYFFEO",
        "outputId": "c86a4930-989d-446e-e28b-e6959d020dfd"
      },
      "source": [
        "ytest.head()"
      ],
      "execution_count": 429,
      "outputs": [
        {
          "output_type": "execute_result",
          "data": {
            "text/html": [
              "<div>\n",
              "<style scoped>\n",
              "    .dataframe tbody tr th:only-of-type {\n",
              "        vertical-align: middle;\n",
              "    }\n",
              "\n",
              "    .dataframe tbody tr th {\n",
              "        vertical-align: top;\n",
              "    }\n",
              "\n",
              "    .dataframe thead th {\n",
              "        text-align: right;\n",
              "    }\n",
              "</style>\n",
              "<table border=\"1\" class=\"dataframe\">\n",
              "  <thead>\n",
              "    <tr style=\"text-align: right;\">\n",
              "      <th></th>\n",
              "      <th>scaled_classified</th>\n",
              "    </tr>\n",
              "  </thead>\n",
              "  <tbody>\n",
              "    <tr>\n",
              "      <th>583</th>\n",
              "      <td>0.637192</td>\n",
              "    </tr>\n",
              "    <tr>\n",
              "      <th>1043</th>\n",
              "      <td>0.607988</td>\n",
              "    </tr>\n",
              "    <tr>\n",
              "      <th>1837</th>\n",
              "      <td>0.636501</td>\n",
              "    </tr>\n",
              "    <tr>\n",
              "      <th>1549</th>\n",
              "      <td>0.678507</td>\n",
              "    </tr>\n",
              "    <tr>\n",
              "      <th>1825</th>\n",
              "      <td>0.590809</td>\n",
              "    </tr>\n",
              "  </tbody>\n",
              "</table>\n",
              "</div>"
            ],
            "text/plain": [
              "      scaled_classified\n",
              "583            0.637192\n",
              "1043           0.607988\n",
              "1837           0.636501\n",
              "1549           0.678507\n",
              "1825           0.590809"
            ]
          },
          "metadata": {
            "tags": []
          },
          "execution_count": 429
        }
      ]
    },
    {
      "cell_type": "code",
      "metadata": {
        "id": "zVNUSXA3HQVs"
      },
      "source": [
        "data_to_merge = pd.DataFrame()"
      ],
      "execution_count": 430,
      "outputs": []
    },
    {
      "cell_type": "code",
      "metadata": {
        "colab": {
          "base_uri": "https://localhost:8080/"
        },
        "id": "Yb3qGfiQFgQg",
        "outputId": "9140c00b-d579-4ab3-efd9-c877d6bb6f84"
      },
      "source": [
        "data_to_merge = ytest\n",
        "data_to_merge['prediction_classified'] = ypred"
      ],
      "execution_count": 431,
      "outputs": [
        {
          "output_type": "stream",
          "text": [
            "/usr/local/lib/python3.6/dist-packages/ipykernel_launcher.py:2: SettingWithCopyWarning:\n",
            "\n",
            "\n",
            "A value is trying to be set on a copy of a slice from a DataFrame.\n",
            "Try using .loc[row_indexer,col_indexer] = value instead\n",
            "\n",
            "See the caveats in the documentation: https://pandas.pydata.org/pandas-docs/stable/user_guide/indexing.html#returning-a-view-versus-a-copy\n",
            "\n"
          ],
          "name": "stderr"
        }
      ]
    },
    {
      "cell_type": "code",
      "metadata": {
        "colab": {
          "base_uri": "https://localhost:8080/"
        },
        "id": "UTE50dYNGQYC",
        "outputId": "9e3eb6d7-610d-4c48-cebf-35e6a0de0f35"
      },
      "source": [
        "data_to_merge['idx'] = data_to_merge.index"
      ],
      "execution_count": 432,
      "outputs": [
        {
          "output_type": "stream",
          "text": [
            "/usr/local/lib/python3.6/dist-packages/ipykernel_launcher.py:1: SettingWithCopyWarning:\n",
            "\n",
            "\n",
            "A value is trying to be set on a copy of a slice from a DataFrame.\n",
            "Try using .loc[row_indexer,col_indexer] = value instead\n",
            "\n",
            "See the caveats in the documentation: https://pandas.pydata.org/pandas-docs/stable/user_guide/indexing.html#returning-a-view-versus-a-copy\n",
            "\n"
          ],
          "name": "stderr"
        }
      ]
    },
    {
      "cell_type": "code",
      "metadata": {
        "id": "9ay5r8EzGZe0"
      },
      "source": [
        "data_to_merge.reset_index(inplace=True)"
      ],
      "execution_count": 433,
      "outputs": []
    },
    {
      "cell_type": "code",
      "metadata": {
        "id": "K6xDNfIwGjWL"
      },
      "source": [
        "data_to_merge = data_to_merge.drop(['scaled_classified'], axis=1)"
      ],
      "execution_count": 434,
      "outputs": []
    },
    {
      "cell_type": "code",
      "metadata": {
        "id": "7iri3SMwHctb"
      },
      "source": [
        "data_to_merge = data_to_merge.drop(['index'], axis=1)"
      ],
      "execution_count": 435,
      "outputs": []
    },
    {
      "cell_type": "code",
      "metadata": {
        "colab": {
          "base_uri": "https://localhost:8080/",
          "height": 206
        },
        "id": "cWmcecHrF0wJ",
        "outputId": "c4573ff4-afe2-40af-f8a0-1c1952db27cc"
      },
      "source": [
        "data_to_merge.head()"
      ],
      "execution_count": 436,
      "outputs": [
        {
          "output_type": "execute_result",
          "data": {
            "text/html": [
              "<div>\n",
              "<style scoped>\n",
              "    .dataframe tbody tr th:only-of-type {\n",
              "        vertical-align: middle;\n",
              "    }\n",
              "\n",
              "    .dataframe tbody tr th {\n",
              "        vertical-align: top;\n",
              "    }\n",
              "\n",
              "    .dataframe thead th {\n",
              "        text-align: right;\n",
              "    }\n",
              "</style>\n",
              "<table border=\"1\" class=\"dataframe\">\n",
              "  <thead>\n",
              "    <tr style=\"text-align: right;\">\n",
              "      <th></th>\n",
              "      <th>prediction_classified</th>\n",
              "      <th>idx</th>\n",
              "    </tr>\n",
              "  </thead>\n",
              "  <tbody>\n",
              "    <tr>\n",
              "      <th>0</th>\n",
              "      <td>0.626373</td>\n",
              "      <td>583</td>\n",
              "    </tr>\n",
              "    <tr>\n",
              "      <th>1</th>\n",
              "      <td>0.626373</td>\n",
              "      <td>1043</td>\n",
              "    </tr>\n",
              "    <tr>\n",
              "      <th>2</th>\n",
              "      <td>0.626373</td>\n",
              "      <td>1837</td>\n",
              "    </tr>\n",
              "    <tr>\n",
              "      <th>3</th>\n",
              "      <td>0.687619</td>\n",
              "      <td>1549</td>\n",
              "    </tr>\n",
              "    <tr>\n",
              "      <th>4</th>\n",
              "      <td>0.646464</td>\n",
              "      <td>1825</td>\n",
              "    </tr>\n",
              "  </tbody>\n",
              "</table>\n",
              "</div>"
            ],
            "text/plain": [
              "   prediction_classified   idx\n",
              "0               0.626373   583\n",
              "1               0.626373  1043\n",
              "2               0.626373  1837\n",
              "3               0.687619  1549\n",
              "4               0.646464  1825"
            ]
          },
          "metadata": {
            "tags": []
          },
          "execution_count": 436
        }
      ]
    },
    {
      "cell_type": "code",
      "metadata": {
        "colab": {
          "base_uri": "https://localhost:8080/",
          "height": 300
        },
        "id": "1LkDq8XJJ2-Q",
        "outputId": "08bbd1ee-ce6c-4c74-cb66-5cb545a5dc71"
      },
      "source": [
        "data_to_merge.describe()"
      ],
      "execution_count": 405,
      "outputs": [
        {
          "output_type": "execute_result",
          "data": {
            "text/html": [
              "<div>\n",
              "<style scoped>\n",
              "    .dataframe tbody tr th:only-of-type {\n",
              "        vertical-align: middle;\n",
              "    }\n",
              "\n",
              "    .dataframe tbody tr th {\n",
              "        vertical-align: top;\n",
              "    }\n",
              "\n",
              "    .dataframe thead th {\n",
              "        text-align: right;\n",
              "    }\n",
              "</style>\n",
              "<table border=\"1\" class=\"dataframe\">\n",
              "  <thead>\n",
              "    <tr style=\"text-align: right;\">\n",
              "      <th></th>\n",
              "      <th>prediction_classified</th>\n",
              "      <th>id</th>\n",
              "    </tr>\n",
              "  </thead>\n",
              "  <tbody>\n",
              "    <tr>\n",
              "      <th>count</th>\n",
              "      <td>1486.000000</td>\n",
              "      <td>1486.000000</td>\n",
              "    </tr>\n",
              "    <tr>\n",
              "      <th>mean</th>\n",
              "      <td>0.634216</td>\n",
              "      <td>994.618439</td>\n",
              "    </tr>\n",
              "    <tr>\n",
              "      <th>std</th>\n",
              "      <td>0.092528</td>\n",
              "      <td>572.140537</td>\n",
              "    </tr>\n",
              "    <tr>\n",
              "      <th>min</th>\n",
              "      <td>0.026078</td>\n",
              "      <td>0.000000</td>\n",
              "    </tr>\n",
              "    <tr>\n",
              "      <th>25%</th>\n",
              "      <td>0.630528</td>\n",
              "      <td>503.250000</td>\n",
              "    </tr>\n",
              "    <tr>\n",
              "      <th>50%</th>\n",
              "      <td>0.630528</td>\n",
              "      <td>1003.500000</td>\n",
              "    </tr>\n",
              "    <tr>\n",
              "      <th>75%</th>\n",
              "      <td>0.688138</td>\n",
              "      <td>1495.750000</td>\n",
              "    </tr>\n",
              "    <tr>\n",
              "      <th>max</th>\n",
              "      <td>0.882697</td>\n",
              "      <td>1979.000000</td>\n",
              "    </tr>\n",
              "  </tbody>\n",
              "</table>\n",
              "</div>"
            ],
            "text/plain": [
              "       prediction_classified           id\n",
              "count            1486.000000  1486.000000\n",
              "mean                0.634216   994.618439\n",
              "std                 0.092528   572.140537\n",
              "min                 0.026078     0.000000\n",
              "25%                 0.630528   503.250000\n",
              "50%                 0.630528  1003.500000\n",
              "75%                 0.688138  1495.750000\n",
              "max                 0.882697  1979.000000"
            ]
          },
          "metadata": {
            "tags": []
          },
          "execution_count": 405
        }
      ]
    },
    {
      "cell_type": "code",
      "metadata": {
        "colab": {
          "base_uri": "https://localhost:8080/"
        },
        "id": "Izd6iOcaHlQy",
        "outputId": "640b8721-9e0d-4a31-dbfa-3b53fb364604"
      },
      "source": [
        "data_to_merge.shape"
      ],
      "execution_count": 377,
      "outputs": [
        {
          "output_type": "execute_result",
          "data": {
            "text/plain": [
              "(1486, 2)"
            ]
          },
          "metadata": {
            "tags": []
          },
          "execution_count": 377
        }
      ]
    },
    {
      "cell_type": "code",
      "metadata": {
        "id": "6-sCI5xdFy9E"
      },
      "source": [
        "df['idx'] = df.index"
      ],
      "execution_count": 437,
      "outputs": []
    },
    {
      "cell_type": "code",
      "metadata": {
        "id": "kT8lTsOUHhHz"
      },
      "source": [
        "df = pd.merge(df, data_to_merge, on='idx')"
      ],
      "execution_count": 438,
      "outputs": []
    },
    {
      "cell_type": "code",
      "metadata": {
        "colab": {
          "base_uri": "https://localhost:8080/"
        },
        "id": "Wp9OJJaOKb0Y",
        "outputId": "94d6818c-80f3-40fa-b2fb-7ecabfc242ff"
      },
      "source": [
        "df.shape"
      ],
      "execution_count": 441,
      "outputs": [
        {
          "output_type": "execute_result",
          "data": {
            "text/plain": [
              "(1486, 21)"
            ]
          },
          "metadata": {
            "tags": []
          },
          "execution_count": 441
        }
      ]
    },
    {
      "cell_type": "code",
      "metadata": {
        "id": "OSiy4BbDKe59"
      },
      "source": [
        "df = df.drop(['idx'], axis=1)"
      ],
      "execution_count": 444,
      "outputs": []
    },
    {
      "cell_type": "code",
      "metadata": {
        "colab": {
          "base_uri": "https://localhost:8080/",
          "height": 504
        },
        "id": "y_aaFRTCKbDA",
        "outputId": "655f8404-d5f6-4a55-e469-0a8f6404d774"
      },
      "source": [
        "df.head()"
      ],
      "execution_count": 445,
      "outputs": [
        {
          "output_type": "execute_result",
          "data": {
            "text/html": [
              "<div>\n",
              "<style scoped>\n",
              "    .dataframe tbody tr th:only-of-type {\n",
              "        vertical-align: middle;\n",
              "    }\n",
              "\n",
              "    .dataframe tbody tr th {\n",
              "        vertical-align: top;\n",
              "    }\n",
              "\n",
              "    .dataframe thead th {\n",
              "        text-align: right;\n",
              "    }\n",
              "</style>\n",
              "<table border=\"1\" class=\"dataframe\">\n",
              "  <thead>\n",
              "    <tr style=\"text-align: right;\">\n",
              "      <th></th>\n",
              "      <th>id</th>\n",
              "      <th>name</th>\n",
              "      <th>description</th>\n",
              "      <th>latitude</th>\n",
              "      <th>longitude</th>\n",
              "      <th>room_type</th>\n",
              "      <th>accommodates</th>\n",
              "      <th>bathrooms</th>\n",
              "      <th>bedrooms</th>\n",
              "      <th>beds</th>\n",
              "      <th>price</th>\n",
              "      <th>number_of_reviews</th>\n",
              "      <th>polarity</th>\n",
              "      <th>distance</th>\n",
              "      <th>scaled_distance</th>\n",
              "      <th>scaled_number_of_reviews</th>\n",
              "      <th>scaled_polarity</th>\n",
              "      <th>classified</th>\n",
              "      <th>scaled_classified</th>\n",
              "      <th>prediction_classified</th>\n",
              "    </tr>\n",
              "  </thead>\n",
              "  <tbody>\n",
              "    <tr>\n",
              "      <th>0</th>\n",
              "      <td>59258</td>\n",
              "      <td>Lower level of my house to rent</td>\n",
              "      <td>Lower 1/2 of bungalow, a separate entrance, 10...</td>\n",
              "      <td>45.35900</td>\n",
              "      <td>-75.80314</td>\n",
              "      <td>Entire home/apt</td>\n",
              "      <td>4</td>\n",
              "      <td>1</td>\n",
              "      <td>1</td>\n",
              "      <td>1</td>\n",
              "      <td>200.0</td>\n",
              "      <td>1</td>\n",
              "      <td>0.9850</td>\n",
              "      <td>9.620935</td>\n",
              "      <td>0.028027</td>\n",
              "      <td>0.000000</td>\n",
              "      <td>0.992090</td>\n",
              "      <td>3.032323</td>\n",
              "      <td>0.634309</td>\n",
              "      <td>0.626373</td>\n",
              "    </tr>\n",
              "    <tr>\n",
              "      <th>1</th>\n",
              "      <td>158824</td>\n",
              "      <td>DOWNTOWN/GLEBE HOUSE WITH BACKYARD</td>\n",
              "      <td>Big 3 bedroom house with backyard in desirable...</td>\n",
              "      <td>45.40248</td>\n",
              "      <td>-75.69941</td>\n",
              "      <td>Entire home/apt</td>\n",
              "      <td>3</td>\n",
              "      <td>1</td>\n",
              "      <td>2</td>\n",
              "      <td>2</td>\n",
              "      <td>140.0</td>\n",
              "      <td>7</td>\n",
              "      <td>0.7430</td>\n",
              "      <td>2.194104</td>\n",
              "      <td>0.146677</td>\n",
              "      <td>0.012766</td>\n",
              "      <td>0.856325</td>\n",
              "      <td>2.875097</td>\n",
              "      <td>0.598547</td>\n",
              "      <td>0.646464</td>\n",
              "    </tr>\n",
              "    <tr>\n",
              "      <th>2</th>\n",
              "      <td>261065</td>\n",
              "      <td>Westboro Village Executive Suite</td>\n",
              "      <td>A tastefully decorated and well equipped upper...</td>\n",
              "      <td>45.38972</td>\n",
              "      <td>-75.75496</td>\n",
              "      <td>Entire home/apt</td>\n",
              "      <td>4</td>\n",
              "      <td>1</td>\n",
              "      <td>1</td>\n",
              "      <td>1</td>\n",
              "      <td>150.0</td>\n",
              "      <td>64</td>\n",
              "      <td>0.8304</td>\n",
              "      <td>4.537074</td>\n",
              "      <td>0.067304</td>\n",
              "      <td>0.134043</td>\n",
              "      <td>0.905358</td>\n",
              "      <td>2.984723</td>\n",
              "      <td>0.623482</td>\n",
              "      <td>0.575555</td>\n",
              "    </tr>\n",
              "    <tr>\n",
              "      <th>3</th>\n",
              "      <td>336692</td>\n",
              "      <td>Quiet Room with a view in the Ottawa Downtown</td>\n",
              "      <td>Renting only to females. Modern condo with pan...</td>\n",
              "      <td>45.41557</td>\n",
              "      <td>-75.70551</td>\n",
              "      <td>Private room</td>\n",
              "      <td>5</td>\n",
              "      <td>1</td>\n",
              "      <td>1</td>\n",
              "      <td>1</td>\n",
              "      <td>69.0</td>\n",
              "      <td>9</td>\n",
              "      <td>0.9537</td>\n",
              "      <td>0.813145</td>\n",
              "      <td>0.407711</td>\n",
              "      <td>0.017021</td>\n",
              "      <td>0.974530</td>\n",
              "      <td>3.756033</td>\n",
              "      <td>0.798923</td>\n",
              "      <td>0.819943</td>\n",
              "    </tr>\n",
              "    <tr>\n",
              "      <th>4</th>\n",
              "      <td>413300</td>\n",
              "      <td>Loft-style 2 BR in ByWard Market</td>\n",
              "      <td>Welcome to your home away from home, 2 bedroom...</td>\n",
              "      <td>45.43399</td>\n",
              "      <td>-75.69105</td>\n",
              "      <td>Entire home/apt</td>\n",
              "      <td>4</td>\n",
              "      <td>1</td>\n",
              "      <td>2</td>\n",
              "      <td>2</td>\n",
              "      <td>90.0</td>\n",
              "      <td>44</td>\n",
              "      <td>0.9599</td>\n",
              "      <td>2.483612</td>\n",
              "      <td>0.128760</td>\n",
              "      <td>0.091489</td>\n",
              "      <td>0.978008</td>\n",
              "      <td>3.283036</td>\n",
              "      <td>0.691336</td>\n",
              "      <td>0.687619</td>\n",
              "    </tr>\n",
              "  </tbody>\n",
              "</table>\n",
              "</div>"
            ],
            "text/plain": [
              "       id  ... prediction_classified\n",
              "0   59258  ...              0.626373\n",
              "1  158824  ...              0.646464\n",
              "2  261065  ...              0.575555\n",
              "3  336692  ...              0.819943\n",
              "4  413300  ...              0.687619\n",
              "\n",
              "[5 rows x 20 columns]"
            ]
          },
          "metadata": {
            "tags": []
          },
          "execution_count": 445
        }
      ]
    },
    {
      "cell_type": "code",
      "metadata": {
        "id": "iefEao3vKmB7"
      },
      "source": [
        "df.to_csv('listing_with_descision_tree_regression.csv')"
      ],
      "execution_count": 446,
      "outputs": []
    },
    {
      "cell_type": "code",
      "metadata": {
        "id": "hWSsb_2KLAXR"
      },
      "source": [
        ""
      ],
      "execution_count": null,
      "outputs": []
    }
  ]
}