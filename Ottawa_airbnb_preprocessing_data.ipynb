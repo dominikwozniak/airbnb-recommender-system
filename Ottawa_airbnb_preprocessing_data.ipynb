{
  "nbformat": 4,
  "nbformat_minor": 0,
  "metadata": {
    "colab": {
      "name": "Ottawa-airbnb-preprocessing-data.ipynb",
      "provenance": []
    },
    "kernelspec": {
      "name": "python3",
      "display_name": "Python 3"
    }
  },
  "cells": [
    {
      "cell_type": "code",
      "metadata": {
        "id": "ZWFDRw4sw_wX"
      },
      "source": [
        "import numpy as np\n",
        "import pandas as pd\n",
        "import matplotlib.pyplot as plt\n",
        "from collections import Counter\n",
        "from scipy import stats\n",
        "import seaborn as sns\n",
        "from scipy.linalg import sqrtm\n",
        "from sklearn.metrics import mean_squared_error\n",
        "from math import sqrt\n",
        "import re\n",
        "\n",
        "plt.style.use('fivethirtyeight')"
      ],
      "execution_count": null,
      "outputs": []
    },
    {
      "cell_type": "code",
      "metadata": {
        "id": "ThInsVVzxJg_"
      },
      "source": [
        "DATA_URL = 'https://ids-storage-football-prediction.s3-eu-west-1.amazonaws.com/data_mmwd/merged_listings_and_polarity.csv'"
      ],
      "execution_count": null,
      "outputs": []
    },
    {
      "cell_type": "code",
      "metadata": {
        "id": "0diHNpcFxjAr"
      },
      "source": [
        "df = pd.read_csv(DATA_URL)"
      ],
      "execution_count": null,
      "outputs": []
    },
    {
      "cell_type": "code",
      "metadata": {
        "colab": {
          "base_uri": "https://localhost:8080/"
        },
        "id": "L-JaUdF0y5nS",
        "outputId": "9088677f-abc8-4051-b482-197e78355bb2"
      },
      "source": [
        "df.shape"
      ],
      "execution_count": null,
      "outputs": [
        {
          "output_type": "execute_result",
          "data": {
            "text/plain": [
              "(1981, 22)"
            ]
          },
          "metadata": {
            "tags": []
          },
          "execution_count": 174
        }
      ]
    },
    {
      "cell_type": "code",
      "metadata": {
        "colab": {
          "base_uri": "https://localhost:8080/",
          "height": 574
        },
        "id": "AFhQWao7xqtj",
        "outputId": "6946fcec-c707-47cc-dac2-f2d373088e32"
      },
      "source": [
        "df.head()"
      ],
      "execution_count": null,
      "outputs": [
        {
          "output_type": "execute_result",
          "data": {
            "text/html": [
              "<div>\n",
              "<style scoped>\n",
              "    .dataframe tbody tr th:only-of-type {\n",
              "        vertical-align: middle;\n",
              "    }\n",
              "\n",
              "    .dataframe tbody tr th {\n",
              "        vertical-align: top;\n",
              "    }\n",
              "\n",
              "    .dataframe thead th {\n",
              "        text-align: right;\n",
              "    }\n",
              "</style>\n",
              "<table border=\"1\" class=\"dataframe\">\n",
              "  <thead>\n",
              "    <tr style=\"text-align: right;\">\n",
              "      <th></th>\n",
              "      <th>Unnamed: 0</th>\n",
              "      <th>index</th>\n",
              "      <th>id</th>\n",
              "      <th>listing_url</th>\n",
              "      <th>scrape_id</th>\n",
              "      <th>last_scraped</th>\n",
              "      <th>name</th>\n",
              "      <th>description</th>\n",
              "      <th>latitude</th>\n",
              "      <th>longitude</th>\n",
              "      <th>property_type</th>\n",
              "      <th>room_type</th>\n",
              "      <th>accommodates</th>\n",
              "      <th>bathrooms_text</th>\n",
              "      <th>bedrooms</th>\n",
              "      <th>beds</th>\n",
              "      <th>amenities</th>\n",
              "      <th>price</th>\n",
              "      <th>number_of_reviews</th>\n",
              "      <th>number_of_reviews_ltm</th>\n",
              "      <th>number_of_reviews_l30d</th>\n",
              "      <th>polarity</th>\n",
              "    </tr>\n",
              "  </thead>\n",
              "  <tbody>\n",
              "    <tr>\n",
              "      <th>0</th>\n",
              "      <td>0</td>\n",
              "      <td>0</td>\n",
              "      <td>36642</td>\n",
              "      <td>https://www.airbnb.com/rooms/36642</td>\n",
              "      <td>20201021220716</td>\n",
              "      <td>2020-10-22</td>\n",
              "      <td>City Conveniences A Country Setting</td>\n",
              "      <td>&lt;b&gt;The space&lt;/b&gt;&lt;br /&gt;Are you planning a vacat...</td>\n",
              "      <td>45.40159</td>\n",
              "      <td>-75.74679</td>\n",
              "      <td>Private room in house</td>\n",
              "      <td>Private room</td>\n",
              "      <td>2</td>\n",
              "      <td>2 baths</td>\n",
              "      <td>1.0</td>\n",
              "      <td>1.0</td>\n",
              "      <td>[\"Essentials\", \"Hot water\", \"Dryer\", \"Extra pi...</td>\n",
              "      <td>$65.00</td>\n",
              "      <td>87</td>\n",
              "      <td>1</td>\n",
              "      <td>0</td>\n",
              "      <td>0.8070</td>\n",
              "    </tr>\n",
              "    <tr>\n",
              "      <th>1</th>\n",
              "      <td>1</td>\n",
              "      <td>1</td>\n",
              "      <td>59258</td>\n",
              "      <td>https://www.airbnb.com/rooms/59258</td>\n",
              "      <td>20201021220716</td>\n",
              "      <td>2020-10-22</td>\n",
              "      <td>Lower level of my house to rent</td>\n",
              "      <td>Lower 1/2 of bungalow, a separate entrance, 10...</td>\n",
              "      <td>45.35900</td>\n",
              "      <td>-75.80314</td>\n",
              "      <td>Entire apartment</td>\n",
              "      <td>Entire home/apt</td>\n",
              "      <td>4</td>\n",
              "      <td>1 bath</td>\n",
              "      <td>1.0</td>\n",
              "      <td>1.0</td>\n",
              "      <td>[\"Wifi\", \"Washer\", \"Dryer\", \"Heating\", \"Free p...</td>\n",
              "      <td>$200.00</td>\n",
              "      <td>1</td>\n",
              "      <td>0</td>\n",
              "      <td>0</td>\n",
              "      <td>0.9850</td>\n",
              "    </tr>\n",
              "    <tr>\n",
              "      <th>2</th>\n",
              "      <td>2</td>\n",
              "      <td>2</td>\n",
              "      <td>158824</td>\n",
              "      <td>https://www.airbnb.com/rooms/158824</td>\n",
              "      <td>20201021220716</td>\n",
              "      <td>2020-10-23</td>\n",
              "      <td>DOWNTOWN/GLEBE HOUSE WITH BACKYARD</td>\n",
              "      <td>Big 3 bedroom house with backyard in desirable...</td>\n",
              "      <td>45.40248</td>\n",
              "      <td>-75.69941</td>\n",
              "      <td>Entire house</td>\n",
              "      <td>Entire home/apt</td>\n",
              "      <td>3</td>\n",
              "      <td>1 bath</td>\n",
              "      <td>2.0</td>\n",
              "      <td>2.0</td>\n",
              "      <td>[\"Wifi\", \"Essentials\", \"Smoke alarm\", \"Washer\"...</td>\n",
              "      <td>$140.00</td>\n",
              "      <td>7</td>\n",
              "      <td>0</td>\n",
              "      <td>0</td>\n",
              "      <td>0.7430</td>\n",
              "    </tr>\n",
              "    <tr>\n",
              "      <th>3</th>\n",
              "      <td>3</td>\n",
              "      <td>3</td>\n",
              "      <td>261065</td>\n",
              "      <td>https://www.airbnb.com/rooms/261065</td>\n",
              "      <td>20201021220716</td>\n",
              "      <td>2020-10-23</td>\n",
              "      <td>Westboro Village Executive Suite</td>\n",
              "      <td>A tastefully decorated and well equipped upper...</td>\n",
              "      <td>45.38972</td>\n",
              "      <td>-75.75496</td>\n",
              "      <td>Entire apartment</td>\n",
              "      <td>Entire home/apt</td>\n",
              "      <td>4</td>\n",
              "      <td>1 bath</td>\n",
              "      <td>1.0</td>\n",
              "      <td>1.0</td>\n",
              "      <td>[\"Essentials\", \"Hot water\", \"Dryer\", \"Stove\", ...</td>\n",
              "      <td>$150.00</td>\n",
              "      <td>64</td>\n",
              "      <td>6</td>\n",
              "      <td>1</td>\n",
              "      <td>0.8304</td>\n",
              "    </tr>\n",
              "    <tr>\n",
              "      <th>4</th>\n",
              "      <td>4</td>\n",
              "      <td>4</td>\n",
              "      <td>336692</td>\n",
              "      <td>https://www.airbnb.com/rooms/336692</td>\n",
              "      <td>20201021220716</td>\n",
              "      <td>2020-10-23</td>\n",
              "      <td>Quiet Room with a view in the Ottawa Downtown</td>\n",
              "      <td>Renting only to females. Modern condo with pan...</td>\n",
              "      <td>45.41557</td>\n",
              "      <td>-75.70551</td>\n",
              "      <td>Private room in apartment</td>\n",
              "      <td>Private room</td>\n",
              "      <td>5</td>\n",
              "      <td>1 shared bath</td>\n",
              "      <td>1.0</td>\n",
              "      <td>1.0</td>\n",
              "      <td>[\"Gym\", \"Luggage dropoff allowed\", \"Essentials...</td>\n",
              "      <td>$69.00</td>\n",
              "      <td>9</td>\n",
              "      <td>0</td>\n",
              "      <td>0</td>\n",
              "      <td>0.9537</td>\n",
              "    </tr>\n",
              "  </tbody>\n",
              "</table>\n",
              "</div>"
            ],
            "text/plain": [
              "   Unnamed: 0  index  ...  number_of_reviews_l30d polarity\n",
              "0           0      0  ...                       0   0.8070\n",
              "1           1      1  ...                       0   0.9850\n",
              "2           2      2  ...                       0   0.7430\n",
              "3           3      3  ...                       1   0.8304\n",
              "4           4      4  ...                       0   0.9537\n",
              "\n",
              "[5 rows x 22 columns]"
            ]
          },
          "metadata": {
            "tags": []
          },
          "execution_count": 175
        }
      ]
    },
    {
      "cell_type": "code",
      "metadata": {
        "id": "0cRSJA-xxrTm"
      },
      "source": [
        "df['price'] = df['price'].str.replace('$', '')\n",
        "df['price'] = df['price'].str.replace(',', '')"
      ],
      "execution_count": null,
      "outputs": []
    },
    {
      "cell_type": "code",
      "metadata": {
        "id": "oUjzNMmuyBjN"
      },
      "source": [
        "df['price'] = df['price'].astype(float)"
      ],
      "execution_count": null,
      "outputs": []
    },
    {
      "cell_type": "code",
      "metadata": {
        "colab": {
          "base_uri": "https://localhost:8080/"
        },
        "id": "msFHVWSCyg1R",
        "outputId": "4fc6aa07-3774-4a12-fb6a-805c230ac9f1"
      },
      "source": [
        "df['price'].describe()"
      ],
      "execution_count": null,
      "outputs": [
        {
          "output_type": "execute_result",
          "data": {
            "text/plain": [
              "count    1981.000000\n",
              "mean      106.856911\n",
              "std        98.878178\n",
              "min         0.000000\n",
              "25%        55.000000\n",
              "50%        85.000000\n",
              "75%       125.000000\n",
              "max      2000.000000\n",
              "Name: price, dtype: float64"
            ]
          },
          "metadata": {
            "tags": []
          },
          "execution_count": 178
        }
      ]
    },
    {
      "cell_type": "code",
      "metadata": {
        "colab": {
          "base_uri": "https://localhost:8080/"
        },
        "id": "l9bl7-Vky2nY",
        "outputId": "6763258c-b659-41ca-bf9f-e589868ba57b"
      },
      "source": [
        "df.columns"
      ],
      "execution_count": null,
      "outputs": [
        {
          "output_type": "execute_result",
          "data": {
            "text/plain": [
              "Index(['Unnamed: 0', 'index', 'id', 'listing_url', 'scrape_id', 'last_scraped',\n",
              "       'name', 'description', 'latitude', 'longitude', 'property_type',\n",
              "       'room_type', 'accommodates', 'bathrooms_text', 'bedrooms', 'beds',\n",
              "       'amenities', 'price', 'number_of_reviews', 'number_of_reviews_ltm',\n",
              "       'number_of_reviews_l30d', 'polarity'],\n",
              "      dtype='object')"
            ]
          },
          "metadata": {
            "tags": []
          },
          "execution_count": 179
        }
      ]
    },
    {
      "cell_type": "code",
      "metadata": {
        "id": "6-GLEw3qzRDq"
      },
      "source": [
        "df = df.drop(['Unnamed: 0', 'index', 'listing_url', 'scrape_id', 'last_scraped', 'property_type', 'amenities', 'number_of_reviews_ltm', 'number_of_reviews_l30d'], axis=1)"
      ],
      "execution_count": null,
      "outputs": []
    },
    {
      "cell_type": "code",
      "metadata": {
        "colab": {
          "base_uri": "https://localhost:8080/"
        },
        "id": "fvS1HfC_zZRx",
        "outputId": "1c0cc855-cde3-412f-ed1c-4b76002c66cc"
      },
      "source": [
        "df['accommodates'].unique()"
      ],
      "execution_count": null,
      "outputs": [
        {
          "output_type": "execute_result",
          "data": {
            "text/plain": [
              "array([ 2,  4,  3,  5,  1,  7,  6,  8, 12, 10, 15,  9, 13, 14, 16, 11])"
            ]
          },
          "metadata": {
            "tags": []
          },
          "execution_count": 181
        }
      ]
    },
    {
      "cell_type": "code",
      "metadata": {
        "id": "p2GE12m30Omb"
      },
      "source": [
        "df.columns = ['id', 'name', 'description', 'latitude', 'longitude', 'room_type',\n",
        "       'accommodates', 'bathrooms', 'bedrooms', 'beds', 'price',\n",
        "       'number_of_reviews', 'polarity']"
      ],
      "execution_count": null,
      "outputs": []
    },
    {
      "cell_type": "code",
      "metadata": {
        "colab": {
          "base_uri": "https://localhost:8080/",
          "height": 504
        },
        "id": "_iT7AnQC0dO-",
        "outputId": "9396205a-94be-4307-f96e-4ccbafa9f27b"
      },
      "source": [
        "df.head()"
      ],
      "execution_count": null,
      "outputs": [
        {
          "output_type": "execute_result",
          "data": {
            "text/html": [
              "<div>\n",
              "<style scoped>\n",
              "    .dataframe tbody tr th:only-of-type {\n",
              "        vertical-align: middle;\n",
              "    }\n",
              "\n",
              "    .dataframe tbody tr th {\n",
              "        vertical-align: top;\n",
              "    }\n",
              "\n",
              "    .dataframe thead th {\n",
              "        text-align: right;\n",
              "    }\n",
              "</style>\n",
              "<table border=\"1\" class=\"dataframe\">\n",
              "  <thead>\n",
              "    <tr style=\"text-align: right;\">\n",
              "      <th></th>\n",
              "      <th>id</th>\n",
              "      <th>name</th>\n",
              "      <th>description</th>\n",
              "      <th>latitude</th>\n",
              "      <th>longitude</th>\n",
              "      <th>room_type</th>\n",
              "      <th>accommodates</th>\n",
              "      <th>bathrooms</th>\n",
              "      <th>bedrooms</th>\n",
              "      <th>beds</th>\n",
              "      <th>price</th>\n",
              "      <th>number_of_reviews</th>\n",
              "      <th>polarity</th>\n",
              "    </tr>\n",
              "  </thead>\n",
              "  <tbody>\n",
              "    <tr>\n",
              "      <th>0</th>\n",
              "      <td>36642</td>\n",
              "      <td>City Conveniences A Country Setting</td>\n",
              "      <td>&lt;b&gt;The space&lt;/b&gt;&lt;br /&gt;Are you planning a vacat...</td>\n",
              "      <td>45.40159</td>\n",
              "      <td>-75.74679</td>\n",
              "      <td>Private room</td>\n",
              "      <td>2</td>\n",
              "      <td>2 baths</td>\n",
              "      <td>1.0</td>\n",
              "      <td>1.0</td>\n",
              "      <td>65.0</td>\n",
              "      <td>87</td>\n",
              "      <td>0.8070</td>\n",
              "    </tr>\n",
              "    <tr>\n",
              "      <th>1</th>\n",
              "      <td>59258</td>\n",
              "      <td>Lower level of my house to rent</td>\n",
              "      <td>Lower 1/2 of bungalow, a separate entrance, 10...</td>\n",
              "      <td>45.35900</td>\n",
              "      <td>-75.80314</td>\n",
              "      <td>Entire home/apt</td>\n",
              "      <td>4</td>\n",
              "      <td>1 bath</td>\n",
              "      <td>1.0</td>\n",
              "      <td>1.0</td>\n",
              "      <td>200.0</td>\n",
              "      <td>1</td>\n",
              "      <td>0.9850</td>\n",
              "    </tr>\n",
              "    <tr>\n",
              "      <th>2</th>\n",
              "      <td>158824</td>\n",
              "      <td>DOWNTOWN/GLEBE HOUSE WITH BACKYARD</td>\n",
              "      <td>Big 3 bedroom house with backyard in desirable...</td>\n",
              "      <td>45.40248</td>\n",
              "      <td>-75.69941</td>\n",
              "      <td>Entire home/apt</td>\n",
              "      <td>3</td>\n",
              "      <td>1 bath</td>\n",
              "      <td>2.0</td>\n",
              "      <td>2.0</td>\n",
              "      <td>140.0</td>\n",
              "      <td>7</td>\n",
              "      <td>0.7430</td>\n",
              "    </tr>\n",
              "    <tr>\n",
              "      <th>3</th>\n",
              "      <td>261065</td>\n",
              "      <td>Westboro Village Executive Suite</td>\n",
              "      <td>A tastefully decorated and well equipped upper...</td>\n",
              "      <td>45.38972</td>\n",
              "      <td>-75.75496</td>\n",
              "      <td>Entire home/apt</td>\n",
              "      <td>4</td>\n",
              "      <td>1 bath</td>\n",
              "      <td>1.0</td>\n",
              "      <td>1.0</td>\n",
              "      <td>150.0</td>\n",
              "      <td>64</td>\n",
              "      <td>0.8304</td>\n",
              "    </tr>\n",
              "    <tr>\n",
              "      <th>4</th>\n",
              "      <td>336692</td>\n",
              "      <td>Quiet Room with a view in the Ottawa Downtown</td>\n",
              "      <td>Renting only to females. Modern condo with pan...</td>\n",
              "      <td>45.41557</td>\n",
              "      <td>-75.70551</td>\n",
              "      <td>Private room</td>\n",
              "      <td>5</td>\n",
              "      <td>1 shared bath</td>\n",
              "      <td>1.0</td>\n",
              "      <td>1.0</td>\n",
              "      <td>69.0</td>\n",
              "      <td>9</td>\n",
              "      <td>0.9537</td>\n",
              "    </tr>\n",
              "  </tbody>\n",
              "</table>\n",
              "</div>"
            ],
            "text/plain": [
              "       id  ... polarity\n",
              "0   36642  ...   0.8070\n",
              "1   59258  ...   0.9850\n",
              "2  158824  ...   0.7430\n",
              "3  261065  ...   0.8304\n",
              "4  336692  ...   0.9537\n",
              "\n",
              "[5 rows x 13 columns]"
            ]
          },
          "metadata": {
            "tags": []
          },
          "execution_count": 183
        }
      ]
    },
    {
      "cell_type": "code",
      "metadata": {
        "colab": {
          "base_uri": "https://localhost:8080/"
        },
        "id": "kQiGqFKv2dUm",
        "outputId": "b31b8e7a-51ba-440d-dc67-f4039a2e7f83"
      },
      "source": [
        "df['bathrooms'].unique()"
      ],
      "execution_count": null,
      "outputs": [
        {
          "output_type": "execute_result",
          "data": {
            "text/plain": [
              "array(['2 baths', '1 bath', '1 shared bath', '1 private bath',\n",
              "       '1.5 baths', '2.5 shared baths', '2.5 baths', '3 baths',\n",
              "       '2 shared baths', '1.5 shared baths', '3.5 baths',\n",
              "       'Private half-bath', '0 baths', '0 shared baths', '4 baths',\n",
              "       '6 baths', '4.5 baths', '3 shared baths', '5.5 baths',\n",
              "       '4 shared baths'], dtype=object)"
            ]
          },
          "metadata": {
            "tags": []
          },
          "execution_count": 184
        }
      ]
    },
    {
      "cell_type": "code",
      "metadata": {
        "id": "Wke0EnPo4Lhf"
      },
      "source": [
        "df['bathrooms'] = df['bathrooms'].replace(',', '.')"
      ],
      "execution_count": null,
      "outputs": []
    },
    {
      "cell_type": "code",
      "metadata": {
        "id": "OS0yQ44-1Ons"
      },
      "source": [
        "df['bathrooms'] = df['bathrooms'].str.replace(r'[^0-9]+', '')"
      ],
      "execution_count": null,
      "outputs": []
    },
    {
      "cell_type": "code",
      "metadata": {
        "colab": {
          "base_uri": "https://localhost:8080/"
        },
        "id": "-uNGVj9D4eBG",
        "outputId": "ec0f3f41-e9a9-4334-b486-a126f9d0179f"
      },
      "source": [
        "df['bathrooms'].unique()"
      ],
      "execution_count": null,
      "outputs": [
        {
          "output_type": "execute_result",
          "data": {
            "text/plain": [
              "array(['2', '1', '15', '25', '3', '35', '', '0', '4', '6', '45', '55'],\n",
              "      dtype=object)"
            ]
          },
          "metadata": {
            "tags": []
          },
          "execution_count": 187
        }
      ]
    },
    {
      "cell_type": "code",
      "metadata": {
        "id": "2660QUWF4WMV"
      },
      "source": [
        "df['bathrooms'] = df['bathrooms'].replace('', '1')"
      ],
      "execution_count": null,
      "outputs": []
    },
    {
      "cell_type": "code",
      "metadata": {
        "colab": {
          "base_uri": "https://localhost:8080/"
        },
        "id": "TnX2r67C3Mf1",
        "outputId": "a37cb1fb-8e42-4d27-8893-998d43ed9efc"
      },
      "source": [
        "df['bathrooms'].unique()"
      ],
      "execution_count": null,
      "outputs": [
        {
          "output_type": "execute_result",
          "data": {
            "text/plain": [
              "array(['2', '1', '15', '25', '3', '35', '0', '4', '6', '45', '55'],\n",
              "      dtype=object)"
            ]
          },
          "metadata": {
            "tags": []
          },
          "execution_count": 189
        }
      ]
    },
    {
      "cell_type": "code",
      "metadata": {
        "id": "6yTjRCFD3O1M"
      },
      "source": [
        "bathrooms = df['bathrooms'].values\n",
        "new_bathrooms = []\n",
        "\n",
        "for bathroom in bathrooms: \n",
        "  if len(bathroom) == 1:\n",
        "    new_bathrooms.append(bathroom[0])\n",
        "  else:\n",
        "    new_bathrooms.append(f'{int(bathroom[0])+1}')"
      ],
      "execution_count": null,
      "outputs": []
    },
    {
      "cell_type": "code",
      "metadata": {
        "id": "bvLo1O-L8gQ4"
      },
      "source": [
        "df['bathrooms'] = new_bathrooms"
      ],
      "execution_count": null,
      "outputs": []
    },
    {
      "cell_type": "code",
      "metadata": {
        "id": "sRRg4yJ1-Kz3"
      },
      "source": [
        "df['bathrooms'] = df['bathrooms'].astype(int)"
      ],
      "execution_count": null,
      "outputs": []
    },
    {
      "cell_type": "code",
      "metadata": {
        "id": "gwhBUim3IFD5"
      },
      "source": [
        "df['bedrooms'] = df['bedrooms'].astype(int)"
      ],
      "execution_count": null,
      "outputs": []
    },
    {
      "cell_type": "code",
      "metadata": {
        "id": "eZ5VeZp1IHpz"
      },
      "source": [
        "df['beds'] = df['beds'].astype(int)"
      ],
      "execution_count": null,
      "outputs": []
    },
    {
      "cell_type": "code",
      "metadata": {
        "colab": {
          "base_uri": "https://localhost:8080/"
        },
        "id": "TKSc_6FPHigq",
        "outputId": "3f94bee9-71ca-4738-d004-cedca05d3763"
      },
      "source": [
        "df['bathrooms'].value_counts()"
      ],
      "execution_count": null,
      "outputs": [
        {
          "output_type": "execute_result",
          "data": {
            "text/plain": [
              "1    1276\n",
              "2     496\n",
              "3     151\n",
              "4      49\n",
              "0       4\n",
              "5       3\n",
              "6       2\n",
              "Name: bathrooms, dtype: int64"
            ]
          },
          "metadata": {
            "tags": []
          },
          "execution_count": 211
        }
      ]
    },
    {
      "cell_type": "code",
      "metadata": {
        "colab": {
          "base_uri": "https://localhost:8080/"
        },
        "id": "OD-I0xI4H6c4",
        "outputId": "38ad0094-0706-4168-87cc-cce0046d95bb"
      },
      "source": [
        "df['bedrooms'].value_counts()"
      ],
      "execution_count": null,
      "outputs": [
        {
          "output_type": "execute_result",
          "data": {
            "text/plain": [
              "1    1215\n",
              "2     377\n",
              "3     261\n",
              "4      96\n",
              "5      19\n",
              "6      11\n",
              "9       1\n",
              "8       1\n",
              "Name: bedrooms, dtype: int64"
            ]
          },
          "metadata": {
            "tags": []
          },
          "execution_count": 212
        }
      ]
    },
    {
      "cell_type": "code",
      "metadata": {
        "colab": {
          "base_uri": "https://localhost:8080/"
        },
        "id": "d8UjYirDH99B",
        "outputId": "f9350c71-2cdb-443c-d267-698df8a79c86"
      },
      "source": [
        "df['beds'].value_counts()"
      ],
      "execution_count": null,
      "outputs": [
        {
          "output_type": "execute_result",
          "data": {
            "text/plain": [
              "1     956\n",
              "2     445\n",
              "3     275\n",
              "4     152\n",
              "0      52\n",
              "5      43\n",
              "6      25\n",
              "7      14\n",
              "8       7\n",
              "9       6\n",
              "12      2\n",
              "10      2\n",
              "16      1\n",
              "13      1\n",
              "Name: beds, dtype: int64"
            ]
          },
          "metadata": {
            "tags": []
          },
          "execution_count": 213
        }
      ]
    },
    {
      "cell_type": "code",
      "metadata": {
        "colab": {
          "base_uri": "https://localhost:8080/",
          "height": 504
        },
        "id": "RG0TzEe_9QAF",
        "outputId": "5769c725-49e8-476b-c7f6-2c850a56b4c0"
      },
      "source": [
        "df.head()"
      ],
      "execution_count": null,
      "outputs": [
        {
          "output_type": "execute_result",
          "data": {
            "text/html": [
              "<div>\n",
              "<style scoped>\n",
              "    .dataframe tbody tr th:only-of-type {\n",
              "        vertical-align: middle;\n",
              "    }\n",
              "\n",
              "    .dataframe tbody tr th {\n",
              "        vertical-align: top;\n",
              "    }\n",
              "\n",
              "    .dataframe thead th {\n",
              "        text-align: right;\n",
              "    }\n",
              "</style>\n",
              "<table border=\"1\" class=\"dataframe\">\n",
              "  <thead>\n",
              "    <tr style=\"text-align: right;\">\n",
              "      <th></th>\n",
              "      <th>id</th>\n",
              "      <th>name</th>\n",
              "      <th>description</th>\n",
              "      <th>latitude</th>\n",
              "      <th>longitude</th>\n",
              "      <th>room_type</th>\n",
              "      <th>accommodates</th>\n",
              "      <th>bathrooms</th>\n",
              "      <th>bedrooms</th>\n",
              "      <th>beds</th>\n",
              "      <th>price</th>\n",
              "      <th>number_of_reviews</th>\n",
              "      <th>polarity</th>\n",
              "    </tr>\n",
              "  </thead>\n",
              "  <tbody>\n",
              "    <tr>\n",
              "      <th>0</th>\n",
              "      <td>36642</td>\n",
              "      <td>City Conveniences A Country Setting</td>\n",
              "      <td>&lt;b&gt;The space&lt;/b&gt;&lt;br /&gt;Are you planning a vacat...</td>\n",
              "      <td>45.40159</td>\n",
              "      <td>-75.74679</td>\n",
              "      <td>Private room</td>\n",
              "      <td>2</td>\n",
              "      <td>2</td>\n",
              "      <td>1</td>\n",
              "      <td>1</td>\n",
              "      <td>65.0</td>\n",
              "      <td>87</td>\n",
              "      <td>0.8070</td>\n",
              "    </tr>\n",
              "    <tr>\n",
              "      <th>1</th>\n",
              "      <td>59258</td>\n",
              "      <td>Lower level of my house to rent</td>\n",
              "      <td>Lower 1/2 of bungalow, a separate entrance, 10...</td>\n",
              "      <td>45.35900</td>\n",
              "      <td>-75.80314</td>\n",
              "      <td>Entire home/apt</td>\n",
              "      <td>4</td>\n",
              "      <td>1</td>\n",
              "      <td>1</td>\n",
              "      <td>1</td>\n",
              "      <td>200.0</td>\n",
              "      <td>1</td>\n",
              "      <td>0.9850</td>\n",
              "    </tr>\n",
              "    <tr>\n",
              "      <th>2</th>\n",
              "      <td>158824</td>\n",
              "      <td>DOWNTOWN/GLEBE HOUSE WITH BACKYARD</td>\n",
              "      <td>Big 3 bedroom house with backyard in desirable...</td>\n",
              "      <td>45.40248</td>\n",
              "      <td>-75.69941</td>\n",
              "      <td>Entire home/apt</td>\n",
              "      <td>3</td>\n",
              "      <td>1</td>\n",
              "      <td>2</td>\n",
              "      <td>2</td>\n",
              "      <td>140.0</td>\n",
              "      <td>7</td>\n",
              "      <td>0.7430</td>\n",
              "    </tr>\n",
              "    <tr>\n",
              "      <th>3</th>\n",
              "      <td>261065</td>\n",
              "      <td>Westboro Village Executive Suite</td>\n",
              "      <td>A tastefully decorated and well equipped upper...</td>\n",
              "      <td>45.38972</td>\n",
              "      <td>-75.75496</td>\n",
              "      <td>Entire home/apt</td>\n",
              "      <td>4</td>\n",
              "      <td>1</td>\n",
              "      <td>1</td>\n",
              "      <td>1</td>\n",
              "      <td>150.0</td>\n",
              "      <td>64</td>\n",
              "      <td>0.8304</td>\n",
              "    </tr>\n",
              "    <tr>\n",
              "      <th>4</th>\n",
              "      <td>336692</td>\n",
              "      <td>Quiet Room with a view in the Ottawa Downtown</td>\n",
              "      <td>Renting only to females. Modern condo with pan...</td>\n",
              "      <td>45.41557</td>\n",
              "      <td>-75.70551</td>\n",
              "      <td>Private room</td>\n",
              "      <td>5</td>\n",
              "      <td>1</td>\n",
              "      <td>1</td>\n",
              "      <td>1</td>\n",
              "      <td>69.0</td>\n",
              "      <td>9</td>\n",
              "      <td>0.9537</td>\n",
              "    </tr>\n",
              "  </tbody>\n",
              "</table>\n",
              "</div>"
            ],
            "text/plain": [
              "       id  ... polarity\n",
              "0   36642  ...   0.8070\n",
              "1   59258  ...   0.9850\n",
              "2  158824  ...   0.7430\n",
              "3  261065  ...   0.8304\n",
              "4  336692  ...   0.9537\n",
              "\n",
              "[5 rows x 13 columns]"
            ]
          },
          "metadata": {
            "tags": []
          },
          "execution_count": 214
        }
      ]
    },
    {
      "cell_type": "code",
      "metadata": {
        "colab": {
          "base_uri": "https://localhost:8080/"
        },
        "id": "4J4-bWR8-fq-",
        "outputId": "a2f980db-a040-458c-b4d7-f9fd3df78fa7"
      },
      "source": [
        "df.info()"
      ],
      "execution_count": null,
      "outputs": [
        {
          "output_type": "stream",
          "text": [
            "<class 'pandas.core.frame.DataFrame'>\n",
            "RangeIndex: 1981 entries, 0 to 1980\n",
            "Data columns (total 13 columns):\n",
            " #   Column             Non-Null Count  Dtype  \n",
            "---  ------             --------------  -----  \n",
            " 0   id                 1981 non-null   int64  \n",
            " 1   name               1981 non-null   object \n",
            " 2   description        1981 non-null   object \n",
            " 3   latitude           1981 non-null   float64\n",
            " 4   longitude          1981 non-null   float64\n",
            " 5   room_type          1981 non-null   object \n",
            " 6   accommodates       1981 non-null   int64  \n",
            " 7   bathrooms          1981 non-null   int64  \n",
            " 8   bedrooms           1981 non-null   int64  \n",
            " 9   beds               1981 non-null   int64  \n",
            " 10  price              1981 non-null   float64\n",
            " 11  number_of_reviews  1981 non-null   int64  \n",
            " 12  polarity           1981 non-null   float64\n",
            "dtypes: float64(4), int64(6), object(3)\n",
            "memory usage: 201.3+ KB\n"
          ],
          "name": "stdout"
        }
      ]
    },
    {
      "cell_type": "code",
      "metadata": {
        "id": "SwdIIw2q-p8Y"
      },
      "source": [
        "df.to_csv('listings_polarity_preprocess.csv', index=False)"
      ],
      "execution_count": null,
      "outputs": []
    },
    {
      "cell_type": "code",
      "metadata": {
        "id": "16LYnGtk-6kH"
      },
      "source": [
        ""
      ],
      "execution_count": null,
      "outputs": []
    }
  ]
}